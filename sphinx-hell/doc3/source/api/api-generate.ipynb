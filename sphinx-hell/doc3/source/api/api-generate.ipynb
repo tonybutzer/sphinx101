{
 "cells": [
  {
   "cell_type": "code",
   "execution_count": 1,
   "metadata": {},
   "outputs": [
    {
     "name": "stdout",
     "output_type": "stream",
     "text": [
      "s3_stuff.rst  save_index.rst\r\n"
     ]
    }
   ],
   "source": [
    "! ls ~/Junk"
   ]
  },
  {
   "cell_type": "code",
   "execution_count": 2,
   "metadata": {},
   "outputs": [
    {
     "name": "stdout",
     "output_type": "stream",
     "text": [
      ".. toctree::\r\n",
      "  :maxdepth: 2\r\n",
      "\r\n",
      "\t    analysis\t\r\n",
      "\t    box_poly\t\r\n",
      "\t    degree_gridmeister\t\r\n",
      "\t    log_logger\t\r\n",
      "\t    optimeister\t\r\n",
      "\t    pathmanager\t\r\n",
      "\t    rastermanager\t\r\n",
      "\t    s3_stuff\t\r\n",
      "\t    vegconfig\t\r\n",
      "\t    veget\r\n"
     ]
    }
   ],
   "source": [
    "! cat /home/jupyter-kagone/Junk/save_index.rst"
   ]
  },
  {
   "cell_type": "code",
   "execution_count": 3,
   "metadata": {},
   "outputs": [],
   "source": [
    "my_stuff = ['analysis',\n",
    "    'box_poly',\n",
    "    'degree_gridmeister',\n",
    "    'log_logger',\n",
    "    'optimeister',\n",
    "    'pathmanager',\n",
    "    'rastermanager',\n",
    "    's3_stuff',\n",
    "    'vegconfig',\n",
    "    'veget',]"
   ]
  },
  {
   "cell_type": "code",
   "execution_count": 4,
   "metadata": {},
   "outputs": [
    {
     "data": {
      "text/plain": [
       "['analysis',\n",
       " 'box_poly',\n",
       " 'degree_gridmeister',\n",
       " 'log_logger',\n",
       " 'optimeister',\n",
       " 'pathmanager',\n",
       " 'rastermanager',\n",
       " 's3_stuff',\n",
       " 'vegconfig',\n",
       " 'veget']"
      ]
     },
     "execution_count": 4,
     "metadata": {},
     "output_type": "execute_result"
    }
   ],
   "source": [
    "my_stuff"
   ]
  },
  {
   "cell_type": "code",
   "execution_count": 5,
   "metadata": {},
   "outputs": [
    {
     "name": "stdout",
     "output_type": "stream",
     "text": [
      "vegetLib.analysis\n",
      "=================\n",
      "\n",
      "    .. automodule:: vegetLib.analysis\n",
      "    :members:\n",
      "    :undoc-members:\n",
      "\n",
      "\n",
      "analysis.rst\n",
      "vegetLib.box_poly\n",
      "=================\n",
      "\n",
      "    .. automodule:: vegetLib.box_poly\n",
      "    :members:\n",
      "    :undoc-members:\n",
      "\n",
      "\n",
      "box_poly.rst\n",
      "vegetLib.degree_gridmeister\n",
      "===========================\n",
      "\n",
      "    .. automodule:: vegetLib.degree_gridmeister\n",
      "    :members:\n",
      "    :undoc-members:\n",
      "\n",
      "\n",
      "degree_gridmeister.rst\n",
      "vegetLib.log_logger\n",
      "===================\n",
      "\n",
      "    .. automodule:: vegetLib.log_logger\n",
      "    :members:\n",
      "    :undoc-members:\n",
      "\n",
      "\n",
      "log_logger.rst\n",
      "vegetLib.optimeister\n",
      "====================\n",
      "\n",
      "    .. automodule:: vegetLib.optimeister\n",
      "    :members:\n",
      "    :undoc-members:\n",
      "\n",
      "\n",
      "optimeister.rst\n",
      "vegetLib.pathmanager\n",
      "====================\n",
      "\n",
      "    .. automodule:: vegetLib.pathmanager\n",
      "    :members:\n",
      "    :undoc-members:\n",
      "\n",
      "\n",
      "pathmanager.rst\n",
      "vegetLib.rastermanager\n",
      "======================\n",
      "\n",
      "    .. automodule:: vegetLib.rastermanager\n",
      "    :members:\n",
      "    :undoc-members:\n",
      "\n",
      "\n",
      "rastermanager.rst\n",
      "vegetLib.s3_stuff\n",
      "=================\n",
      "\n",
      "    .. automodule:: vegetLib.s3_stuff\n",
      "    :members:\n",
      "    :undoc-members:\n",
      "\n",
      "\n",
      "s3_stuff.rst\n",
      "vegetLib.vegconfig\n",
      "==================\n",
      "\n",
      "    .. automodule:: vegetLib.vegconfig\n",
      "    :members:\n",
      "    :undoc-members:\n",
      "\n",
      "\n",
      "vegconfig.rst\n",
      "vegetLib.veget\n",
      "==============\n",
      "\n",
      "    .. automodule:: vegetLib.veget\n",
      "    :members:\n",
      "    :undoc-members:\n",
      "\n",
      "\n",
      "veget.rst\n"
     ]
    }
   ],
   "source": [
    "for module in my_stuff:\n",
    "    #print(module)\n",
    "    full_module = 'vegetLib.'+module\n",
    "    title = 'vegetLib.'+module +'\\n' +'='*(len(module)+len('vegetLib.'))\n",
    "    print(title)\n",
    "    print(f\"\"\"\n",
    "    .. automodule:: {full_module}\n",
    "    :members:\n",
    "    :undoc-members:\"\"\")\n",
    "    print('\\n')\n",
    "    print(module+'.rst')"
   ]
  },
  {
   "cell_type": "code",
   "execution_count": 6,
   "metadata": {},
   "outputs": [
    {
     "name": "stdout",
     "output_type": "stream",
     "text": [
      "mkdir: cannot create directory ‘api’: File exists\r\n"
     ]
    }
   ],
   "source": [
    "! mkdir api"
   ]
  },
  {
   "cell_type": "code",
   "execution_count": 7,
   "metadata": {},
   "outputs": [],
   "source": [
    "def write_rst(module):\n",
    "    filename = 'api/'+module+'.rst'\n",
    "    print(filename)\n",
    "    the_str=''\n",
    "    title = 'vegetLib.'+module +'\\n' +'='*(len(module)+len('vegetLib.'))\n",
    "    print(title)\n",
    "    the_str = the_str+'\\n'+title\n",
    "    body= f\"\"\"\n",
    ".. automodule:: {full_module}\n",
    ":members:\n",
    ":undoc-members:\"\"\"\n",
    "    print(body,'\\n')\n",
    "    the_str = the_str+'\\n'+body\n",
    "    with open(filename, 'w') as a_writer:\n",
    "        a_writer.write(the_str)\n"
   ]
  },
  {
   "cell_type": "code",
   "execution_count": 8,
   "metadata": {},
   "outputs": [
    {
     "name": "stdout",
     "output_type": "stream",
     "text": [
      "analysis\n",
      "api/analysis.rst\n",
      "vegetLib.analysis\n",
      "=================\n",
      "\n",
      ".. automodule:: vegetLib.veget\n",
      ":members:\n",
      ":undoc-members: \n",
      "\n",
      "box_poly\n",
      "api/box_poly.rst\n",
      "vegetLib.box_poly\n",
      "=================\n",
      "\n",
      ".. automodule:: vegetLib.veget\n",
      ":members:\n",
      ":undoc-members: \n",
      "\n",
      "degree_gridmeister\n",
      "api/degree_gridmeister.rst\n",
      "vegetLib.degree_gridmeister\n",
      "===========================\n",
      "\n",
      ".. automodule:: vegetLib.veget\n",
      ":members:\n",
      ":undoc-members: \n",
      "\n",
      "log_logger\n",
      "api/log_logger.rst\n",
      "vegetLib.log_logger\n",
      "===================\n",
      "\n",
      ".. automodule:: vegetLib.veget\n",
      ":members:\n",
      ":undoc-members: \n",
      "\n",
      "optimeister\n",
      "api/optimeister.rst\n",
      "vegetLib.optimeister\n",
      "====================\n",
      "\n",
      ".. automodule:: vegetLib.veget\n",
      ":members:\n",
      ":undoc-members: \n",
      "\n",
      "pathmanager\n",
      "api/pathmanager.rst\n",
      "vegetLib.pathmanager\n",
      "====================\n",
      "\n",
      ".. automodule:: vegetLib.veget\n",
      ":members:\n",
      ":undoc-members: \n",
      "\n",
      "rastermanager\n",
      "api/rastermanager.rst\n",
      "vegetLib.rastermanager\n",
      "======================\n",
      "\n",
      ".. automodule:: vegetLib.veget\n",
      ":members:\n",
      ":undoc-members: \n",
      "\n",
      "s3_stuff\n",
      "api/s3_stuff.rst\n",
      "vegetLib.s3_stuff\n",
      "=================\n",
      "\n",
      ".. automodule:: vegetLib.veget\n",
      ":members:\n",
      ":undoc-members: \n",
      "\n",
      "vegconfig\n",
      "api/vegconfig.rst\n",
      "vegetLib.vegconfig\n",
      "==================\n",
      "\n",
      ".. automodule:: vegetLib.veget\n",
      ":members:\n",
      ":undoc-members: \n",
      "\n",
      "veget\n",
      "api/veget.rst\n",
      "vegetLib.veget\n",
      "==============\n",
      "\n",
      ".. automodule:: vegetLib.veget\n",
      ":members:\n",
      ":undoc-members: \n",
      "\n"
     ]
    }
   ],
   "source": [
    "for module in my_stuff:\n",
    "    print(module)\n",
    "    write_rst(module)"
   ]
  },
  {
   "cell_type": "code",
   "execution_count": 9,
   "metadata": {},
   "outputs": [
    {
     "name": "stdout",
     "output_type": "stream",
     "text": [
      "analysis.rst\t\tlog_logger.rst\t rastermanager.rst  veget.rst\r\n",
      "box_poly.rst\t\toptimeister.rst  s3_stuff.rst\r\n",
      "degree_gridmeister.rst\tpathmanager.rst  vegconfig.rst\r\n"
     ]
    }
   ],
   "source": [
    "! ls api"
   ]
  },
  {
   "cell_type": "code",
   "execution_count": 10,
   "metadata": {},
   "outputs": [
    {
     "name": "stdout",
     "output_type": "stream",
     "text": [
      "\r\n",
      "vegetLib.analysis\r\n",
      "=================\r\n",
      "\r\n",
      ".. automodule:: vegetLib.veget\r\n",
      ":members:\r\n",
      ":undoc-members:\r\n",
      "vegetLib.box_poly\r\n",
      "=================\r\n",
      "\r\n",
      ".. automodule:: vegetLib.veget\r\n",
      ":members:\r\n",
      ":undoc-members:\r\n",
      "vegetLib.degree_gridmeister\r\n",
      "===========================\r\n",
      "\r\n",
      ".. automodule:: vegetLib.veget\r\n",
      ":members:\r\n",
      ":undoc-members:\r\n",
      "vegetLib.log_logger\r\n",
      "===================\r\n",
      "\r\n",
      ".. automodule:: vegetLib.veget\r\n",
      ":members:\r\n",
      ":undoc-members:\r\n",
      "vegetLib.optimeister\r\n",
      "====================\r\n",
      "\r\n",
      ".. automodule:: vegetLib.veget\r\n",
      ":members:\r\n",
      ":undoc-members:\r\n",
      "vegetLib.pathmanager\r\n",
      "====================\r\n",
      "\r\n",
      ".. automodule:: vegetLib.veget\r\n",
      ":members:\r\n",
      ":undoc-members:\r\n",
      "vegetLib.rastermanager\r\n",
      "======================\r\n",
      "\r\n",
      ".. automodule:: vegetLib.veget\r\n",
      ":members:\r\n",
      ":undoc-members:\r\n",
      "vegetLib.s3_stuff\r\n",
      "=================\r\n",
      "\r\n",
      ".. automodule:: vegetLib.veget\r\n",
      ":members:\r\n",
      ":undoc-members:\r\n",
      "vegetLib.vegconfig\r\n",
      "==================\r\n",
      "\r\n",
      ".. automodule:: vegetLib.veget\r\n",
      ":members:\r\n",
      ":undoc-members:\r\n",
      "vegetLib.veget\r\n",
      "==============\r\n",
      "\r\n",
      ".. automodule:: vegetLib.veget\r\n",
      ":members:\r\n",
      ":undoc-members:"
     ]
    }
   ],
   "source": [
    "! cat api/*"
   ]
  },
  {
   "cell_type": "code",
   "execution_count": 11,
   "metadata": {},
   "outputs": [
    {
     "name": "stdout",
     "output_type": "stream",
     "text": [
      "analysis.rst\t\tlog_logger.rst\t rastermanager.rst  veget.rst\r\n",
      "box_poly.rst\t\toptimeister.rst  s3_stuff.rst\r\n",
      "degree_gridmeister.rst\tpathmanager.rst  vegconfig.rst\r\n"
     ]
    }
   ],
   "source": [
    "!ls api"
   ]
  },
  {
   "cell_type": "code",
   "execution_count": null,
   "metadata": {},
   "outputs": [],
   "source": [
    "!cp api* "
   ]
  }
 ],
 "metadata": {
  "kernelspec": {
   "display_name": "Python 3",
   "language": "python",
   "name": "python3"
  },
  "language_info": {
   "codemirror_mode": {
    "name": "ipython",
    "version": 3
   },
   "file_extension": ".py",
   "mimetype": "text/x-python",
   "name": "python",
   "nbconvert_exporter": "python",
   "pygments_lexer": "ipython3",
   "version": "3.7.3"
  }
 },
 "nbformat": 4,
 "nbformat_minor": 4
}
