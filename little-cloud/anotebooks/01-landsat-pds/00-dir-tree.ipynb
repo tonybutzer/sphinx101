{
 "cells": [
  {
   "cell_type": "code",
   "execution_count": 1,
   "metadata": {},
   "outputs": [
    {
     "name": "stdout",
     "output_type": "stream",
     "text": [
      "                           PRE 001/\n",
      "                           PRE 002/\n",
      "                           PRE 003/\n",
      "                           PRE 004/\n",
      "                           PRE 005/\n",
      "                           PRE 006/\n",
      "                           PRE 007/\n",
      "                           PRE 008/\n",
      "                           PRE 009/\n",
      "                           PRE 010/\n",
      "                           PRE 011/\n",
      "                           PRE 012/\n",
      "                           PRE 013/\n",
      "                           PRE 014/\n",
      "                           PRE 015/\n",
      "                           PRE 016/\n",
      "                           PRE 017/\n",
      "                           PRE 018/\n",
      "                           PRE 019/\n",
      "                           PRE 020/\n",
      "                           PRE 021/\n",
      "                           PRE 022/\n",
      "                           PRE 023/\n",
      "                           PRE 024/\n",
      "                           PRE 025/\n",
      "                           PRE 026/\n",
      "                           PRE 027/\n",
      "                           PRE 028/\n",
      "                           PRE 029/\n",
      "                           PRE 030/\n",
      "                           PRE 031/\n",
      "                           PRE 032/\n",
      "                           PRE 033/\n",
      "                           PRE 034/\n",
      "                           PRE 035/\n",
      "                           PRE 036/\n",
      "                           PRE 037/\n",
      "                           PRE 038/\n",
      "                           PRE 039/\n",
      "                           PRE 040/\n",
      "                           PRE 041/\n",
      "                           PRE 042/\n",
      "                           PRE 043/\n",
      "                           PRE 044/\n",
      "                           PRE 045/\n",
      "                           PRE 046/\n",
      "                           PRE 047/\n",
      "                           PRE 048/\n",
      "                           PRE 049/\n",
      "                           PRE 050/\n",
      "                           PRE 051/\n",
      "                           PRE 052/\n",
      "                           PRE 053/\n",
      "                           PRE 054/\n",
      "                           PRE 055/\n",
      "                           PRE 056/\n",
      "                           PRE 057/\n",
      "                           PRE 058/\n",
      "                           PRE 059/\n",
      "                           PRE 060/\n",
      "                           PRE 061/\n",
      "                           PRE 062/\n",
      "                           PRE 063/\n",
      "                           PRE 064/\n",
      "                           PRE 065/\n",
      "                           PRE 066/\n",
      "                           PRE 067/\n",
      "                           PRE 068/\n",
      "                           PRE 069/\n",
      "                           PRE 070/\n",
      "                           PRE 071/\n",
      "                           PRE 072/\n",
      "                           PRE 073/\n",
      "                           PRE 074/\n",
      "                           PRE 075/\n",
      "                           PRE 076/\n",
      "                           PRE 077/\n",
      "                           PRE 078/\n",
      "                           PRE 079/\n",
      "                           PRE 080/\n",
      "                           PRE 081/\n",
      "                           PRE 082/\n",
      "                           PRE 083/\n",
      "                           PRE 084/\n",
      "                           PRE 085/\n",
      "                           PRE 086/\n",
      "                           PRE 087/\n",
      "                           PRE 088/\n",
      "                           PRE 089/\n",
      "                           PRE 090/\n",
      "                           PRE 091/\n",
      "                           PRE 092/\n",
      "                           PRE 093/\n",
      "                           PRE 094/\n",
      "                           PRE 095/\n",
      "                           PRE 096/\n",
      "                           PRE 097/\n",
      "                           PRE 098/\n",
      "                           PRE 099/\n",
      "                           PRE 100/\n",
      "                           PRE 101/\n",
      "                           PRE 102/\n",
      "                           PRE 103/\n",
      "                           PRE 104/\n",
      "                           PRE 105/\n",
      "                           PRE 106/\n",
      "                           PRE 107/\n",
      "                           PRE 108/\n",
      "                           PRE 109/\n",
      "                           PRE 110/\n",
      "                           PRE 111/\n",
      "                           PRE 112/\n",
      "                           PRE 113/\n",
      "                           PRE 114/\n",
      "                           PRE 115/\n",
      "                           PRE 116/\n",
      "                           PRE 117/\n",
      "                           PRE 118/\n",
      "                           PRE 119/\n",
      "                           PRE 120/\n",
      "                           PRE 121/\n",
      "                           PRE 122/\n",
      "                           PRE 123/\n",
      "                           PRE 124/\n",
      "                           PRE 125/\n",
      "                           PRE 126/\n",
      "                           PRE 127/\n",
      "                           PRE 128/\n",
      "                           PRE 129/\n",
      "                           PRE 130/\n",
      "                           PRE 131/\n",
      "                           PRE 132/\n",
      "                           PRE 133/\n",
      "                           PRE 134/\n",
      "                           PRE 135/\n",
      "                           PRE 136/\n",
      "                           PRE 137/\n",
      "                           PRE 138/\n",
      "                           PRE 139/\n",
      "                           PRE 140/\n",
      "                           PRE 141/\n",
      "                           PRE 142/\n",
      "                           PRE 143/\n",
      "                           PRE 144/\n",
      "                           PRE 145/\n",
      "                           PRE 146/\n",
      "                           PRE 147/\n",
      "                           PRE 148/\n",
      "                           PRE 149/\n",
      "                           PRE 150/\n",
      "                           PRE 151/\n",
      "                           PRE 152/\n",
      "                           PRE 153/\n",
      "                           PRE 154/\n",
      "                           PRE 155/\n",
      "                           PRE 156/\n",
      "                           PRE 157/\n",
      "                           PRE 158/\n",
      "                           PRE 159/\n",
      "                           PRE 160/\n",
      "                           PRE 161/\n",
      "                           PRE 162/\n",
      "                           PRE 163/\n",
      "                           PRE 164/\n",
      "                           PRE 165/\n",
      "                           PRE 166/\n",
      "                           PRE 167/\n",
      "                           PRE 168/\n",
      "                           PRE 169/\n",
      "                           PRE 170/\n",
      "                           PRE 171/\n",
      "                           PRE 172/\n",
      "                           PRE 173/\n",
      "                           PRE 174/\n",
      "                           PRE 175/\n",
      "                           PRE 176/\n",
      "                           PRE 177/\n",
      "                           PRE 178/\n",
      "                           PRE 179/\n",
      "                           PRE 180/\n",
      "                           PRE 181/\n",
      "                           PRE 182/\n",
      "                           PRE 183/\n",
      "                           PRE 184/\n",
      "                           PRE 185/\n",
      "                           PRE 186/\n",
      "                           PRE 187/\n",
      "                           PRE 188/\n",
      "                           PRE 189/\n",
      "                           PRE 190/\n",
      "                           PRE 191/\n",
      "                           PRE 192/\n",
      "                           PRE 193/\n",
      "                           PRE 194/\n",
      "                           PRE 195/\n",
      "                           PRE 196/\n",
      "                           PRE 197/\n",
      "                           PRE 198/\n",
      "                           PRE 199/\n",
      "                           PRE 200/\n",
      "                           PRE 201/\n",
      "                           PRE 202/\n",
      "                           PRE 203/\n",
      "                           PRE 204/\n",
      "                           PRE 205/\n",
      "                           PRE 206/\n",
      "                           PRE 207/\n",
      "                           PRE 208/\n",
      "                           PRE 209/\n",
      "                           PRE 210/\n",
      "                           PRE 211/\n",
      "                           PRE 212/\n",
      "                           PRE 213/\n",
      "                           PRE 214/\n",
      "                           PRE 215/\n",
      "                           PRE 216/\n",
      "                           PRE 217/\n",
      "                           PRE 218/\n",
      "                           PRE 219/\n",
      "                           PRE 220/\n",
      "                           PRE 221/\n",
      "                           PRE 222/\n",
      "                           PRE 223/\n",
      "                           PRE 224/\n",
      "                           PRE 225/\n",
      "                           PRE 226/\n",
      "                           PRE 227/\n",
      "                           PRE 228/\n",
      "                           PRE 229/\n",
      "                           PRE 230/\n",
      "                           PRE 231/\n",
      "                           PRE 232/\n",
      "                           PRE 233/\n",
      "2015-06-01 18:16:38       9892 index.html\n"
     ]
    }
   ],
   "source": [
    "! aws s3 ls landsat-pds/L8/"
   ]
  },
  {
   "cell_type": "markdown",
   "metadata": {},
   "source": [
    "# What Path Rows cover south dakota?\n",
    "\n",
    "1. index all path rows in elastic search by centerpoint"
   ]
  },
  {
   "cell_type": "code",
   "execution_count": 2,
   "metadata": {},
   "outputs": [],
   "source": [
    "# ! sudo mkdir -p /data/shape\n",
    "# ! sudo chown tony -R /data\n",
    "# ! wget https://landsat.usgs.gov/sites/default/files/documents/WRS2_descending.zip -O /data/shape/WRS2_descending.zip"
   ]
  },
  {
   "cell_type": "code",
   "execution_count": 3,
   "metadata": {},
   "outputs": [],
   "source": [
    "import geopandas\n",
    "wrs_things = geopandas.read_file(\"zip:/data/shape/WRS2_descending.zip\")"
   ]
  },
  {
   "cell_type": "code",
   "execution_count": 4,
   "metadata": {},
   "outputs": [
    {
     "name": "stdout",
     "output_type": "stream",
     "text": [
      "total 5152\r\n",
      "-rw-rw-r-- 1 tony tony 5268095 Jul 18  2018 \u001b[0m\u001b[01;31mWRS2_descending.zip\u001b[0m\r\n"
     ]
    }
   ],
   "source": [
    "ls -l /data/shape"
   ]
  },
  {
   "cell_type": "code",
   "execution_count": 5,
   "metadata": {},
   "outputs": [
    {
     "data": {
      "text/html": [
       "<div>\n",
       "<style scoped>\n",
       "    .dataframe tbody tr th:only-of-type {\n",
       "        vertical-align: middle;\n",
       "    }\n",
       "\n",
       "    .dataframe tbody tr th {\n",
       "        vertical-align: top;\n",
       "    }\n",
       "\n",
       "    .dataframe thead th {\n",
       "        text-align: right;\n",
       "    }\n",
       "</style>\n",
       "<table border=\"1\" class=\"dataframe\">\n",
       "  <thead>\n",
       "    <tr style=\"text-align: right;\">\n",
       "      <th></th>\n",
       "      <th>AREA</th>\n",
       "      <th>PERIMETER</th>\n",
       "      <th>PR_</th>\n",
       "      <th>PR_ID</th>\n",
       "      <th>RINGS_OK</th>\n",
       "      <th>RINGS_NOK</th>\n",
       "      <th>PATH</th>\n",
       "      <th>ROW</th>\n",
       "      <th>MODE</th>\n",
       "      <th>SEQUENCE</th>\n",
       "      <th>WRSPR</th>\n",
       "      <th>PR</th>\n",
       "      <th>ACQDayL7</th>\n",
       "      <th>ACQDayL8</th>\n",
       "      <th>geometry</th>\n",
       "    </tr>\n",
       "  </thead>\n",
       "  <tbody>\n",
       "    <tr>\n",
       "      <th>0</th>\n",
       "      <td>15.74326</td>\n",
       "      <td>26.98611</td>\n",
       "      <td>1.0</td>\n",
       "      <td>1.0</td>\n",
       "      <td>1</td>\n",
       "      <td>0</td>\n",
       "      <td>13</td>\n",
       "      <td>1</td>\n",
       "      <td>D</td>\n",
       "      <td>2233</td>\n",
       "      <td>013001</td>\n",
       "      <td>013001</td>\n",
       "      <td>1</td>\n",
       "      <td>9</td>\n",
       "      <td>POLYGON ((-10.80341356392465 80.9888, -8.97406...</td>\n",
       "    </tr>\n",
       "    <tr>\n",
       "      <th>1</th>\n",
       "      <td>14.55366</td>\n",
       "      <td>25.84254</td>\n",
       "      <td>2.0</td>\n",
       "      <td>2.0</td>\n",
       "      <td>1</td>\n",
       "      <td>0</td>\n",
       "      <td>13</td>\n",
       "      <td>2</td>\n",
       "      <td>D</td>\n",
       "      <td>2234</td>\n",
       "      <td>013002</td>\n",
       "      <td>013002</td>\n",
       "      <td>1</td>\n",
       "      <td>9</td>\n",
       "      <td>POLYGON ((-29.24250366707619 80.18681161921363...</td>\n",
       "    </tr>\n",
       "    <tr>\n",
       "      <th>2</th>\n",
       "      <td>13.37247</td>\n",
       "      <td>24.20303</td>\n",
       "      <td>3.0</td>\n",
       "      <td>3.0</td>\n",
       "      <td>1</td>\n",
       "      <td>0</td>\n",
       "      <td>13</td>\n",
       "      <td>3</td>\n",
       "      <td>D</td>\n",
       "      <td>2235</td>\n",
       "      <td>013003</td>\n",
       "      <td>013003</td>\n",
       "      <td>1</td>\n",
       "      <td>9</td>\n",
       "      <td>POLYGON ((-24.04205646041896 79.12261247629547...</td>\n",
       "    </tr>\n",
       "    <tr>\n",
       "      <th>3</th>\n",
       "      <td>12.26691</td>\n",
       "      <td>22.40265</td>\n",
       "      <td>4.0</td>\n",
       "      <td>4.0</td>\n",
       "      <td>1</td>\n",
       "      <td>0</td>\n",
       "      <td>13</td>\n",
       "      <td>4</td>\n",
       "      <td>D</td>\n",
       "      <td>2236</td>\n",
       "      <td>013004</td>\n",
       "      <td>013004</td>\n",
       "      <td>1</td>\n",
       "      <td>9</td>\n",
       "      <td>POLYGON ((-36.66813132081753 77.46094098591608...</td>\n",
       "    </tr>\n",
       "    <tr>\n",
       "      <th>4</th>\n",
       "      <td>11.26511</td>\n",
       "      <td>20.64284</td>\n",
       "      <td>5.0</td>\n",
       "      <td>5.0</td>\n",
       "      <td>1</td>\n",
       "      <td>0</td>\n",
       "      <td>13</td>\n",
       "      <td>5</td>\n",
       "      <td>D</td>\n",
       "      <td>2237</td>\n",
       "      <td>013005</td>\n",
       "      <td>013005</td>\n",
       "      <td>1</td>\n",
       "      <td>9</td>\n",
       "      <td>POLYGON ((-44.11209517917457 76.93655561966702...</td>\n",
       "    </tr>\n",
       "  </tbody>\n",
       "</table>\n",
       "</div>"
      ],
      "text/plain": [
       "       AREA  PERIMETER  PR_  PR_ID  RINGS_OK  RINGS_NOK  PATH  ROW MODE  \\\n",
       "0  15.74326   26.98611  1.0    1.0         1          0    13    1    D   \n",
       "1  14.55366   25.84254  2.0    2.0         1          0    13    2    D   \n",
       "2  13.37247   24.20303  3.0    3.0         1          0    13    3    D   \n",
       "3  12.26691   22.40265  4.0    4.0         1          0    13    4    D   \n",
       "4  11.26511   20.64284  5.0    5.0         1          0    13    5    D   \n",
       "\n",
       "   SEQUENCE   WRSPR      PR ACQDayL7 ACQDayL8  \\\n",
       "0      2233  013001  013001        1        9   \n",
       "1      2234  013002  013002        1        9   \n",
       "2      2235  013003  013003        1        9   \n",
       "3      2236  013004  013004        1        9   \n",
       "4      2237  013005  013005        1        9   \n",
       "\n",
       "                                            geometry  \n",
       "0  POLYGON ((-10.80341356392465 80.9888, -8.97406...  \n",
       "1  POLYGON ((-29.24250366707619 80.18681161921363...  \n",
       "2  POLYGON ((-24.04205646041896 79.12261247629547...  \n",
       "3  POLYGON ((-36.66813132081753 77.46094098591608...  \n",
       "4  POLYGON ((-44.11209517917457 76.93655561966702...  "
      ]
     },
     "execution_count": 5,
     "metadata": {},
     "output_type": "execute_result"
    }
   ],
   "source": [
    "wrs_things.head()"
   ]
  },
  {
   "cell_type": "code",
   "execution_count": 6,
   "metadata": {},
   "outputs": [
    {
     "data": {
      "text/plain": [
       "Index(['AREA', 'PERIMETER', 'PR_', 'PR_ID', 'RINGS_OK', 'RINGS_NOK', 'PATH',\n",
       "       'ROW', 'MODE', 'SEQUENCE', 'WRSPR', 'PR', 'ACQDayL7', 'ACQDayL8',\n",
       "       'geometry'],\n",
       "      dtype='object')"
      ]
     },
     "execution_count": 6,
     "metadata": {},
     "output_type": "execute_result"
    }
   ],
   "source": [
    "wrs_things.columns"
   ]
  },
  {
   "cell_type": "code",
   "execution_count": 7,
   "metadata": {},
   "outputs": [],
   "source": [
    "mywrs = wrs_things[['PATH', 'ROW', 'geometry']]\n"
   ]
  },
  {
   "cell_type": "code",
   "execution_count": 8,
   "metadata": {},
   "outputs": [
    {
     "data": {
      "text/plain": [
       "Index(['PATH', 'ROW', 'geometry'], dtype='object')"
      ]
     },
     "execution_count": 8,
     "metadata": {},
     "output_type": "execute_result"
    }
   ],
   "source": [
    "mywrs.columns"
   ]
  },
  {
   "cell_type": "code",
   "execution_count": 9,
   "metadata": {},
   "outputs": [
    {
     "data": {
      "text/html": [
       "<div>\n",
       "<style scoped>\n",
       "    .dataframe tbody tr th:only-of-type {\n",
       "        vertical-align: middle;\n",
       "    }\n",
       "\n",
       "    .dataframe tbody tr th {\n",
       "        vertical-align: top;\n",
       "    }\n",
       "\n",
       "    .dataframe thead th {\n",
       "        text-align: right;\n",
       "    }\n",
       "</style>\n",
       "<table border=\"1\" class=\"dataframe\">\n",
       "  <thead>\n",
       "    <tr style=\"text-align: right;\">\n",
       "      <th></th>\n",
       "      <th>PATH</th>\n",
       "      <th>ROW</th>\n",
       "      <th>geometry</th>\n",
       "    </tr>\n",
       "  </thead>\n",
       "  <tbody>\n",
       "    <tr>\n",
       "      <th>0</th>\n",
       "      <td>13</td>\n",
       "      <td>1</td>\n",
       "      <td>POLYGON ((-10.80341356392465 80.9888, -8.97406...</td>\n",
       "    </tr>\n",
       "    <tr>\n",
       "      <th>1</th>\n",
       "      <td>13</td>\n",
       "      <td>2</td>\n",
       "      <td>POLYGON ((-29.24250366707619 80.18681161921363...</td>\n",
       "    </tr>\n",
       "    <tr>\n",
       "      <th>2</th>\n",
       "      <td>13</td>\n",
       "      <td>3</td>\n",
       "      <td>POLYGON ((-24.04205646041896 79.12261247629547...</td>\n",
       "    </tr>\n",
       "    <tr>\n",
       "      <th>3</th>\n",
       "      <td>13</td>\n",
       "      <td>4</td>\n",
       "      <td>POLYGON ((-36.66813132081753 77.46094098591608...</td>\n",
       "    </tr>\n",
       "    <tr>\n",
       "      <th>4</th>\n",
       "      <td>13</td>\n",
       "      <td>5</td>\n",
       "      <td>POLYGON ((-44.11209517917457 76.93655561966702...</td>\n",
       "    </tr>\n",
       "  </tbody>\n",
       "</table>\n",
       "</div>"
      ],
      "text/plain": [
       "   PATH  ROW                                           geometry\n",
       "0    13    1  POLYGON ((-10.80341356392465 80.9888, -8.97406...\n",
       "1    13    2  POLYGON ((-29.24250366707619 80.18681161921363...\n",
       "2    13    3  POLYGON ((-24.04205646041896 79.12261247629547...\n",
       "3    13    4  POLYGON ((-36.66813132081753 77.46094098591608...\n",
       "4    13    5  POLYGON ((-44.11209517917457 76.93655561966702..."
      ]
     },
     "execution_count": 9,
     "metadata": {},
     "output_type": "execute_result"
    }
   ],
   "source": [
    "mywrs.head()"
   ]
  },
  {
   "cell_type": "code",
   "execution_count": 10,
   "metadata": {},
   "outputs": [
    {
     "data": {
      "text/plain": [
       "array([-180.    ,  -82.6401,  180.    ,   82.6401])"
      ]
     },
     "execution_count": 10,
     "metadata": {},
     "output_type": "execute_result"
    }
   ],
   "source": [
    "mywrs.total_bounds"
   ]
  },
  {
   "cell_type": "code",
   "execution_count": 15,
   "metadata": {},
   "outputs": [],
   "source": [
    "from geopy.geocoders import Nominatim\n",
    "import shapely\n",
    "geolocator = Nominatim(user_agent=\"simple_app1\")\n",
    "location = geolocator.geocode(\"Sioux Falls\")\n",
    "sf_geo = shapely.geometry.point.Point(location.longitude, location.latitude)\n"
   ]
  },
  {
   "cell_type": "code",
   "execution_count": 12,
   "metadata": {},
   "outputs": [],
   "source": [
    "#! pip3 install geopy"
   ]
  },
  {
   "cell_type": "code",
   "execution_count": 17,
   "metadata": {},
   "outputs": [
    {
     "name": "stdout",
     "output_type": "stream",
     "text": [
      "POINT (-96.700327 43.5499749)\n"
     ]
    }
   ],
   "source": [
    "print(sf_geo)"
   ]
  },
  {
   "cell_type": "code",
   "execution_count": 20,
   "metadata": {},
   "outputs": [],
   "source": [
    "gp2 = mywrs[mywrs.contains(sf_geo)]"
   ]
  },
  {
   "cell_type": "code",
   "execution_count": 21,
   "metadata": {},
   "outputs": [
    {
     "data": {
      "text/html": [
       "<div>\n",
       "<style scoped>\n",
       "    .dataframe tbody tr th:only-of-type {\n",
       "        vertical-align: middle;\n",
       "    }\n",
       "\n",
       "    .dataframe tbody tr th {\n",
       "        vertical-align: top;\n",
       "    }\n",
       "\n",
       "    .dataframe thead th {\n",
       "        text-align: right;\n",
       "    }\n",
       "</style>\n",
       "<table border=\"1\" class=\"dataframe\">\n",
       "  <thead>\n",
       "    <tr style=\"text-align: right;\">\n",
       "      <th></th>\n",
       "      <th>PATH</th>\n",
       "      <th>ROW</th>\n",
       "      <th>geometry</th>\n",
       "    </tr>\n",
       "  </thead>\n",
       "  <tbody>\n",
       "    <tr>\n",
       "      <th>153</th>\n",
       "      <td>29</td>\n",
       "      <td>30</td>\n",
       "      <td>POLYGON ((-98.49904088019323 42.59583314011802...</td>\n",
       "    </tr>\n",
       "  </tbody>\n",
       "</table>\n",
       "</div>"
      ],
      "text/plain": [
       "     PATH  ROW                                           geometry\n",
       "153    29   30  POLYGON ((-98.49904088019323 42.59583314011802..."
      ]
     },
     "execution_count": 21,
     "metadata": {},
     "output_type": "execute_result"
    }
   ],
   "source": [
    "gp2"
   ]
  },
  {
   "cell_type": "code",
   "execution_count": 31,
   "metadata": {},
   "outputs": [],
   "source": [
    "path = gp2['PATH'].values[0]"
   ]
  },
  {
   "cell_type": "code",
   "execution_count": 32,
   "metadata": {},
   "outputs": [],
   "source": [
    "row = gp2['ROW'].values[0]"
   ]
  },
  {
   "cell_type": "code",
   "execution_count": 26,
   "metadata": {},
   "outputs": [],
   "source": [
    "location = geolocator.geocode(\"Letcher, SD\")\n",
    "sf_geo = shapely.geometry.point.Point(location.longitude, location.latitude)"
   ]
  },
  {
   "cell_type": "code",
   "execution_count": 27,
   "metadata": {},
   "outputs": [
    {
     "name": "stdout",
     "output_type": "stream",
     "text": [
      "POINT (-98.138694 43.897207)\n"
     ]
    }
   ],
   "source": [
    "print(sf_geo)"
   ]
  },
  {
   "cell_type": "code",
   "execution_count": 28,
   "metadata": {},
   "outputs": [],
   "source": [
    "gp2 = mywrs[mywrs.contains(sf_geo)]"
   ]
  },
  {
   "cell_type": "code",
   "execution_count": 29,
   "metadata": {},
   "outputs": [
    {
     "data": {
      "text/html": [
       "<div>\n",
       "<style scoped>\n",
       "    .dataframe tbody tr th:only-of-type {\n",
       "        vertical-align: middle;\n",
       "    }\n",
       "\n",
       "    .dataframe tbody tr th {\n",
       "        vertical-align: top;\n",
       "    }\n",
       "\n",
       "    .dataframe thead th {\n",
       "        text-align: right;\n",
       "    }\n",
       "</style>\n",
       "<table border=\"1\" class=\"dataframe\">\n",
       "  <thead>\n",
       "    <tr style=\"text-align: right;\">\n",
       "      <th></th>\n",
       "      <th>PATH</th>\n",
       "      <th>ROW</th>\n",
       "      <th>geometry</th>\n",
       "    </tr>\n",
       "  </thead>\n",
       "  <tbody>\n",
       "    <tr>\n",
       "      <th>12800</th>\n",
       "      <td>30</td>\n",
       "      <td>29</td>\n",
       "      <td>POLYGON ((-99.58236395770486 44.02363646091494...</td>\n",
       "    </tr>\n",
       "  </tbody>\n",
       "</table>\n",
       "</div>"
      ],
      "text/plain": [
       "       PATH  ROW                                           geometry\n",
       "12800    30   29  POLYGON ((-99.58236395770486 44.02363646091494..."
      ]
     },
     "execution_count": 29,
     "metadata": {},
     "output_type": "execute_result"
    }
   ],
   "source": [
    "gp2\n",
    "path = gp2['PATH'].values[0]\n",
    "row = gp2['ROW'].values[0]"
   ]
  },
  {
   "cell_type": "code",
   "execution_count": 37,
   "metadata": {},
   "outputs": [],
   "source": [
    "spath = str(path)\n",
    "spath =  (spath.zfill(3))"
   ]
  },
  {
   "cell_type": "code",
   "execution_count": 38,
   "metadata": {},
   "outputs": [
    {
     "data": {
      "text/plain": [
       "'030'"
      ]
     },
     "execution_count": 38,
     "metadata": {},
     "output_type": "execute_result"
    }
   ],
   "source": [
    "spath"
   ]
  },
  {
   "cell_type": "code",
   "execution_count": 39,
   "metadata": {},
   "outputs": [],
   "source": [
    "srow = str(row)\n",
    "srow = srow.zfill(3)"
   ]
  },
  {
   "cell_type": "code",
   "execution_count": 40,
   "metadata": {},
   "outputs": [
    {
     "data": {
      "text/plain": [
       "'029'"
      ]
     },
     "execution_count": 40,
     "metadata": {},
     "output_type": "execute_result"
    }
   ],
   "source": [
    "srow\n"
   ]
  },
  {
   "cell_type": "code",
   "execution_count": 43,
   "metadata": {},
   "outputs": [
    {
     "name": "stdout",
     "output_type": "stream",
     "text": [
      "2016-07-26 05:30:07   51239065 LC80300292013104LGN01_B1.TIF\n",
      "2016-07-26 05:29:49    6907924 LC80300292013104LGN01_B1.TIF.ovr\n",
      "2016-07-26 05:29:50   34713723 LC80300292013104LGN01_B10.TIF\n",
      "2016-07-26 05:29:49    6134228 LC80300292013104LGN01_B10.TIF.ovr\n",
      "2016-07-26 05:29:50      10171 LC80300292013104LGN01_B10_wrk.IMD\n",
      "2016-07-26 05:29:56   34282125 LC80300292013104LGN01_B11.TIF\n",
      "2016-07-26 05:29:55    6055004 LC80300292013104LGN01_B11.TIF.ovr\n",
      "2016-07-26 05:29:55      10171 LC80300292013104LGN01_B11_wrk.IMD\n",
      "2016-07-26 05:29:50      10171 LC80300292013104LGN01_B1_wrk.IMD\n",
      "2016-07-26 05:29:53   48621216 LC80300292013104LGN01_B2.TIF\n",
      "2016-07-26 05:30:04    6928770 LC80300292013104LGN01_B2.TIF.ovr\n",
      "2016-07-26 05:30:06      10171 LC80300292013104LGN01_B2_wrk.IMD\n",
      "2016-07-26 05:30:08   48333623 LC80300292013104LGN01_B3.TIF\n",
      "2016-07-26 05:30:06    6914309 LC80300292013104LGN01_B3.TIF.ovr\n",
      "2016-07-26 05:29:55      10171 LC80300292013104LGN01_B3_wrk.IMD\n",
      "2016-07-26 05:30:05   49477171 LC80300292013104LGN01_B4.TIF\n",
      "2016-07-26 05:29:55    6982048 LC80300292013104LGN01_B4.TIF.ovr\n",
      "2016-07-26 05:29:44      10171 LC80300292013104LGN01_B4_wrk.IMD\n",
      "2016-07-26 05:29:46   50872503 LC80300292013104LGN01_B5.TIF\n",
      "2016-07-26 05:29:49    7055157 LC80300292013104LGN01_B5.TIF.ovr\n",
      "2016-07-26 05:29:51      10171 LC80300292013104LGN01_B5_wrk.IMD\n",
      "2016-07-26 05:29:51   50647046 LC80300292013104LGN01_B6.TIF\n",
      "2016-07-26 05:29:42    7189309 LC80300292013104LGN01_B6.TIF.ovr\n",
      "2016-07-26 05:29:53      10171 LC80300292013104LGN01_B6_wrk.IMD\n",
      "2016-07-26 05:29:45   50524881 LC80300292013104LGN01_B7.TIF\n",
      "2016-07-26 05:29:44    7193023 LC80300292013104LGN01_B7.TIF.ovr\n",
      "2016-07-26 05:29:57      10171 LC80300292013104LGN01_B7_wrk.IMD\n",
      "2016-07-26 05:29:57  205141746 LC80300292013104LGN01_B8.TIF\n",
      "2016-07-26 05:29:48   26115091 LC80300292013104LGN01_B8.TIF.ovr\n",
      "2016-07-26 05:29:55      10171 LC80300292013104LGN01_B8_wrk.IMD\n",
      "2016-07-26 05:29:43   52341946 LC80300292013104LGN01_B9.TIF\n",
      "2016-07-26 05:29:53    7251564 LC80300292013104LGN01_B9.TIF.ovr\n",
      "2016-07-26 05:29:53      10171 LC80300292013104LGN01_B9_wrk.IMD\n",
      "2016-07-26 05:29:57    1173369 LC80300292013104LGN01_BQA.TIF\n",
      "2016-07-26 05:29:55     285357 LC80300292013104LGN01_BQA.TIF.ovr\n",
      "2016-07-26 05:29:57      10171 LC80300292013104LGN01_BQA_wrk.IMD\n",
      "2016-07-26 05:30:17       9240 LC80300292013104LGN01_MTL.json\n",
      "2016-07-26 05:30:08       7618 LC80300292013104LGN01_MTL.txt\n",
      "2016-07-26 05:29:49     115480 LC80300292013104LGN01_thumb_large.jpg\n",
      "2016-07-26 05:29:49       9619 LC80300292013104LGN01_thumb_small.jpg\n",
      "2016-07-26 05:29:55       3768 index.html\n"
     ]
    }
   ],
   "source": [
    "!aws s3 ls landsat-pds/L8/030/029/LC80300292013104LGN01/"
   ]
  },
  {
   "cell_type": "code",
   "execution_count": 45,
   "metadata": {},
   "outputs": [
    {
     "name": "stdout",
     "output_type": "stream",
     "text": [
      "download: s3://landsat-pds/L8/030/029/LC80300292013104LGN01/LC80300292013104LGN01_MTL.json to ./LC80300292013104LGN01_MTL.json\n"
     ]
    }
   ],
   "source": [
    "!aws s3 cp s3://landsat-pds/L8/030/029/LC80300292013104LGN01/LC80300292013104LGN01_MTL.json ."
   ]
  },
  {
   "cell_type": "code",
   "execution_count": 46,
   "metadata": {},
   "outputs": [
    {
     "name": "stdout",
     "output_type": "stream",
     "text": [
      "00-dir-tree.ipynb  LC80300292013104LGN01_MTL.json\n",
      "{\n",
      "    \"L1_METADATA_FILE\": {\n",
      "        \"IMAGE_ATTRIBUTES\": {\n",
      "            \"EARTH_SUN_DISTANCE\": 1.0031792, \n",
      "            \"CLOUD_COVER\": 71.26, \n",
      "            \"IMAGE_QUALITY_TIRS\": 9, \n",
      "            \"SUN_AZIMUTH\": 149.90044773, \n",
      "            \"SUN_ELEVATION\": 51.78273979, \n",
      "            \"TIRS_SSM_POSITION_STATUS\": \"NOMINAL\", \n",
      "            \"ROLL_ANGLE\": -0.001, \n",
      "            \"CLOUD_COVER_LAND\": 71.26, \n",
      "            \"IMAGE_QUALITY_OLI\": 9\n",
      "        }, \n",
      "        \"TIRS_THERMAL_CONSTANTS\": {\n",
      "            \"K2_CONSTANT_BAND_10\": 1321.0789, \n",
      "            \"K2_CONSTANT_BAND_11\": 1201.1442, \n",
      "            \"K1_CONSTANT_BAND_10\": 774.8853, \n",
      "            \"K1_CONSTANT_BAND_11\": 480.8883\n",
      "        }, \n",
      "        \"RADIOMETRIC_RESCALING\": {\n",
      "            \"RADIANCE_MULT_BAND_7\": 0.00050923, \n",
      "            \"RADIANCE_MULT_BAND_6\": 0.0015108, \n",
      "            \"RADIANCE_MULT_BAND_5\": 0.0060752, \n",
      "            \"RADIANCE_MULT_BAND_4\": 0.0099275, \n",
      "            \"RADIANCE_MULT_BAND_3\": 0.011773, \n",
      "            \"RADIANCE_MULT_BAND_2\": 0.012776, \n",
      "            \"RADIANCE_MULT_BAND_1\": 0.012476, \n",
      "            \"RADIANCE_MULT_BAND_9\": 0.0023743, \n",
      "            \"RADIANCE_MULT_BAND_8\": 0.011235, \n",
      "            \"RADIANCE_ADD_BAND_9\": -11.87156, \n",
      "            \"RADIANCE_ADD_BAND_8\": -56.17624, \n",
      "            \"RADIANCE_MULT_BAND_11\": 0.0003342, \n",
      "            \"RADIANCE_MULT_BAND_10\": 0.0003342, \n",
      "            \"REFLECTANCE_ADD_BAND_9\": -0.1, \n",
      "            \"REFLECTANCE_ADD_BAND_8\": -0.1, \n",
      "            \"RADIANCE_ADD_BAND_1\": -62.3815, \n",
      "            \"REFLECTANCE_ADD_BAND_6\": -0.1, \n",
      "            \"RADIANCE_ADD_BAND_3\": -58.86434, \n",
      "            \"RADIANCE_ADD_BAND_2\": -63.87942, \n",
      "            \"RADIANCE_ADD_BAND_5\": -30.37581, \n",
      "            \"RADIANCE_ADD_BAND_4\": -49.63773, \n",
      "            \"RADIANCE_ADD_BAND_7\": -2.54617, \n",
      "            \"RADIANCE_ADD_BAND_6\": -7.55419, \n",
      "            \"REFLECTANCE_MULT_BAND_9\": 2e-05, \n",
      "            \"REFLECTANCE_MULT_BAND_8\": 2e-05, \n",
      "            \"REFLECTANCE_MULT_BAND_1\": 2e-05, \n",
      "            \"REFLECTANCE_MULT_BAND_3\": 2e-05, \n",
      "            \"REFLECTANCE_MULT_BAND_2\": 2e-05, \n",
      "            \"REFLECTANCE_MULT_BAND_5\": 2e-05, \n",
      "            \"REFLECTANCE_MULT_BAND_4\": 2e-05, \n",
      "            \"REFLECTANCE_MULT_BAND_7\": 2e-05, \n",
      "            \"REFLECTANCE_MULT_BAND_6\": 2e-05, \n",
      "            \"REFLECTANCE_ADD_BAND_7\": -0.1, \n",
      "            \"REFLECTANCE_ADD_BAND_5\": -0.1, \n",
      "            \"REFLECTANCE_ADD_BAND_4\": -0.1, \n",
      "            \"RADIANCE_ADD_BAND_11\": 0.1, \n",
      "            \"RADIANCE_ADD_BAND_10\": 0.1, \n",
      "            \"REFLECTANCE_ADD_BAND_3\": -0.1, \n",
      "            \"REFLECTANCE_ADD_BAND_2\": -0.1, \n",
      "            \"REFLECTANCE_ADD_BAND_1\": -0.1\n",
      "        }, \n",
      "        \"PRODUCT_METADATA\": {\n",
      "            \"PANCHROMATIC_LINES\": 14901, \n",
      "            \"NADIR_OFFNADIR\": \"NADIR\", \n",
      "            \"DATA_TYPE\": \"L1GT\", \n",
      "            \"CORNER_LR_LAT_PRODUCT\": 43.57902, \n",
      "            \"SCENE_CENTER_TIME\": \"17:19:22.9776891Z\", \n",
      "            \"CORNER_LR_PROJECTION_Y_PRODUCT\": 4827600.0, \n",
      "            \"CORNER_LL_PROJECTION_X_PRODUCT\": 453000.0, \n",
      "            \"FILE_NAME_BAND_QUALITY\": \"LC80300292013104LGN01_BQA.TIF\", \n",
      "            \"CORNER_UR_PROJECTION_Y_PRODUCT\": 5051100.0, \n",
      "            \"CORNER_LL_PROJECTION_Y_PRODUCT\": 4827600.0, \n",
      "            \"TARGET_WRS_ROW\": 29, \n",
      "            \"BPF_NAME_TIRS\": \"LT8BPF20130414171034_20130414172643.01\", \n",
      "            \"THERMAL_LINES\": 7451, \n",
      "            \"CORNER_LR_PROJECTION_X_PRODUCT\": 682500.0, \n",
      "            \"FILE_NAME_BAND_3\": \"LC80300292013104LGN01_B3.TIF\", \n",
      "            \"CORNER_LL_LAT_PRODUCT\": 43.59989, \n",
      "            \"FILE_NAME_BAND_1\": \"LC80300292013104LGN01_B1.TIF\", \n",
      "            \"REFLECTIVE_LINES\": 7451, \n",
      "            \"FILE_NAME_BAND_7\": \"LC80300292013104LGN01_B7.TIF\", \n",
      "            \"FILE_NAME_BAND_6\": \"LC80300292013104LGN01_B6.TIF\", \n",
      "            \"FILE_NAME_BAND_5\": \"LC80300292013104LGN01_B5.TIF\", \n",
      "            \"FILE_NAME_BAND_4\": \"LC80300292013104LGN01_B4.TIF\", \n",
      "            \"FILE_NAME_BAND_9\": \"LC80300292013104LGN01_B9.TIF\", \n",
      "            \"FILE_NAME_BAND_8\": \"LC80300292013104LGN01_B8.TIF\", \n",
      "            \"SPACECRAFT_ID\": \"LANDSAT_8\", \n",
      "            \"ELEVATION_SOURCE\": \"GLS2000\", \n",
      "            \"CPF_NAME\": \"L8CPF20130401_20130627.08\", \n",
      "            \"CORNER_UR_LON_PRODUCT\": -96.66033, \n",
      "            \"FILE_NAME_BAND_11\": \"LC80300292013104LGN01_B11.TIF\", \n",
      "            \"CORNER_LR_LON_PRODUCT\": -96.73965, \n",
      "            \"CORNER_UL_PROJECTION_X_PRODUCT\": 453000.0, \n",
      "            \"PANCHROMATIC_SAMPLES\": 15301, \n",
      "            \"SENSOR_ID\": \"OLI_TIRS\", \n",
      "            \"FILE_NAME_BAND_2\": \"LC80300292013104LGN01_B2.TIF\", \n",
      "            \"WRS_PATH\": 30, \n",
      "            \"OUTPUT_FORMAT\": \"GEOTIFF\", \n",
      "            \"FILE_NAME_BAND_10\": \"LC80300292013104LGN01_B10.TIF\", \n",
      "            \"WRS_ROW\": 29, \n",
      "            \"CORNER_UL_PROJECTION_Y_PRODUCT\": 5051100.0, \n",
      "            \"BPF_NAME_OLI\": \"LO8BPF20130414171427_20130414172551.01\", \n",
      "            \"TARGET_WRS_PATH\": 30, \n",
      "            \"CORNER_UL_LON_PRODUCT\": -99.60278, \n",
      "            \"THERMAL_SAMPLES\": 7651, \n",
      "            \"METADATA_FILE_NAME\": \"LC80300292013104LGN01_MTL.txt\", \n",
      "            \"REFLECTIVE_SAMPLES\": 7651, \n",
      "            \"CORNER_UR_PROJECTION_X_PRODUCT\": 682500.0, \n",
      "            \"RLUT_FILE_NAME\": \"L8RLUT20130211_20150302v10.h5\", \n",
      "            \"CORNER_UL_LAT_PRODUCT\": 45.61185, \n",
      "            \"CORNER_UR_LAT_PRODUCT\": 45.58948, \n",
      "            \"CORNER_LL_LON_PRODUCT\": -99.58232, \n",
      "            \"DATE_ACQUIRED\": \"2013-04-14\"\n",
      "        }, \n",
      "        \"PROJECTION_PARAMETERS\": {\n",
      "            \"UTM_ZONE\": 14, \n",
      "            \"GRID_CELL_SIZE_REFLECTIVE\": 30.0, \n",
      "            \"MAP_PROJECTION\": \"UTM\", \n",
      "            \"ORIENTATION\": \"NORTH_UP\", \n",
      "            \"ELLIPSOID\": \"WGS84\", \n",
      "            \"GRID_CELL_SIZE_THERMAL\": 30.0, \n",
      "            \"DATUM\": \"WGS84\", \n",
      "            \"GRID_CELL_SIZE_PANCHROMATIC\": 15.0, \n",
      "            \"RESAMPLING_OPTION\": \"CUBIC_CONVOLUTION\"\n",
      "        }, \n",
      "        \"METADATA_FILE_INFO\": {\n",
      "            \"ORIGIN\": \"Image courtesy of the U.S. Geological Survey\", \n",
      "            \"LANDSAT_SCENE_ID\": \"LC80300292013104LGN01\", \n",
      "            \"PROCESSING_SOFTWARE_VERSION\": \"LPGS_2.5.1\", \n",
      "            \"FILE_DATE\": \"2015-05-28T18:55:42Z\", \n",
      "            \"STATION_ID\": \"LGN\", \n",
      "            \"REQUEST_ID\": \"0601505283684_00017\"\n",
      "        }, \n",
      "        \"MIN_MAX_PIXEL_VALUE\": {\n",
      "            \"QUANTIZE_CAL_MAX_BAND_5\": 65535, \n",
      "            \"QUANTIZE_CAL_MAX_BAND_4\": 65535, \n",
      "            \"QUANTIZE_CAL_MAX_BAND_7\": 65535, \n",
      "            \"QUANTIZE_CAL_MAX_BAND_6\": 65535, \n",
      "            \"QUANTIZE_CAL_MAX_BAND_1\": 65535, \n",
      "            \"QUANTIZE_CAL_MAX_BAND_3\": 65535, \n",
      "            \"QUANTIZE_CAL_MAX_BAND_2\": 65535, \n",
      "            \"QUANTIZE_CAL_MAX_BAND_9\": 65535, \n",
      "            \"QUANTIZE_CAL_MAX_BAND_8\": 65535, \n",
      "            \"QUANTIZE_CAL_MIN_BAND_9\": 1, \n",
      "            \"QUANTIZE_CAL_MIN_BAND_8\": 1, \n",
      "            \"QUANTIZE_CAL_MIN_BAND_7\": 1, \n",
      "            \"QUANTIZE_CAL_MIN_BAND_6\": 1, \n",
      "            \"QUANTIZE_CAL_MIN_BAND_5\": 1, \n",
      "            \"QUANTIZE_CAL_MIN_BAND_4\": 1, \n",
      "            \"QUANTIZE_CAL_MIN_BAND_3\": 1, \n",
      "            \"QUANTIZE_CAL_MIN_BAND_2\": 1, \n",
      "            \"QUANTIZE_CAL_MIN_BAND_1\": 1, \n",
      "            \"QUANTIZE_CAL_MIN_BAND_11\": 1, \n",
      "            \"QUANTIZE_CAL_MIN_BAND_10\": 1, \n",
      "            \"QUANTIZE_CAL_MAX_BAND_11\": 65535, \n",
      "            \"QUANTIZE_CAL_MAX_BAND_10\": 65535\n",
      "        }, \n",
      "        \"MIN_MAX_RADIANCE\": {\n",
      "            \"RADIANCE_MINIMUM_BAND_6\": -7.55268, \n",
      "            \"RADIANCE_MINIMUM_BAND_7\": -2.54566, \n",
      "            \"RADIANCE_MINIMUM_BAND_4\": -49.6278, \n",
      "            \"RADIANCE_MINIMUM_BAND_5\": -30.36974, \n",
      "            \"RADIANCE_MINIMUM_BAND_2\": -63.86664, \n",
      "            \"RADIANCE_MINIMUM_BAND_3\": -58.85257, \n",
      "            \"RADIANCE_MINIMUM_BAND_1\": -62.36903, \n",
      "            \"RADIANCE_MINIMUM_BAND_8\": -56.16501, \n",
      "            \"RADIANCE_MINIMUM_BAND_9\": -11.86918, \n",
      "            \"RADIANCE_MINIMUM_BAND_10\": 0.10033, \n",
      "            \"RADIANCE_MINIMUM_BAND_11\": 0.10033, \n",
      "            \"RADIANCE_MAXIMUM_BAND_10\": 22.0018, \n",
      "            \"RADIANCE_MAXIMUM_BAND_11\": 22.0018, \n",
      "            \"RADIANCE_MAXIMUM_BAND_8\": 680.12579, \n",
      "            \"RADIANCE_MAXIMUM_BAND_9\": 143.72893, \n",
      "            \"RADIANCE_MAXIMUM_BAND_1\": 755.25287, \n",
      "            \"RADIANCE_MAXIMUM_BAND_2\": 773.38812, \n",
      "            \"RADIANCE_MAXIMUM_BAND_3\": 712.67053, \n",
      "            \"RADIANCE_MAXIMUM_BAND_4\": 600.96393, \n",
      "            \"RADIANCE_MAXIMUM_BAND_5\": 367.75998, \n",
      "            \"RADIANCE_MAXIMUM_BAND_6\": 91.45856, \n",
      "            \"RADIANCE_MAXIMUM_BAND_7\": 30.82643\n",
      "        }, \n",
      "        \"MIN_MAX_REFLECTANCE\": {\n",
      "            \"REFLECTANCE_MAXIMUM_BAND_8\": 1.2107, \n",
      "            \"REFLECTANCE_MINIMUM_BAND_8\": -0.09998, \n",
      "            \"REFLECTANCE_MAXIMUM_BAND_9\": 1.2107, \n",
      "            \"REFLECTANCE_MINIMUM_BAND_9\": -0.09998, \n",
      "            \"REFLECTANCE_MINIMUM_BAND_4\": -0.09998, \n",
      "            \"REFLECTANCE_MINIMUM_BAND_5\": -0.09998, \n",
      "            \"REFLECTANCE_MINIMUM_BAND_6\": -0.09998, \n",
      "            \"REFLECTANCE_MINIMUM_BAND_7\": -0.09998, \n",
      "            \"REFLECTANCE_MINIMUM_BAND_1\": -0.09998, \n",
      "            \"REFLECTANCE_MINIMUM_BAND_2\": -0.09998, \n",
      "            \"REFLECTANCE_MINIMUM_BAND_3\": -0.09998, \n",
      "            \"REFLECTANCE_MAXIMUM_BAND_6\": 1.2107, \n",
      "            \"REFLECTANCE_MAXIMUM_BAND_7\": 1.2107, \n",
      "            \"REFLECTANCE_MAXIMUM_BAND_4\": 1.2107, \n",
      "            \"REFLECTANCE_MAXIMUM_BAND_5\": 1.2107, \n",
      "            \"REFLECTANCE_MAXIMUM_BAND_2\": 1.2107, \n",
      "            \"REFLECTANCE_MAXIMUM_BAND_3\": 1.2107, \n",
      "            \"REFLECTANCE_MAXIMUM_BAND_1\": 1.2107\n",
      "        }\n",
      "    }\n",
      "}"
     ]
    }
   ],
   "source": [
    "!ls\n",
    "!cat ./LC80300292013104LGN01_MTL.json"
   ]
  },
  {
   "cell_type": "markdown",
   "metadata": {},
   "source": [
    "# is there a STAC catalog for landsat-pds?"
   ]
  },
  {
   "cell_type": "code",
   "execution_count": 48,
   "metadata": {},
   "outputs": [
    {
     "name": "stdout",
     "output_type": "stream",
     "text": [
      "Driver: GTiff/GeoTIFF\r\n",
      "Files: none associated\r\n",
      "Size is 8951, 8961\r\n",
      "Coordinate System is:\r\n",
      "PROJCS[\"PS         WGS84\",\r\n",
      "    GEOGCS[\"WGS 84\",\r\n",
      "        DATUM[\"WGS_1984\",\r\n",
      "            SPHEROID[\"WGS 84\",6378137,298.257223563,\r\n",
      "                AUTHORITY[\"EPSG\",\"7030\"]],\r\n",
      "            AUTHORITY[\"EPSG\",\"6326\"]],\r\n",
      "        PRIMEM[\"Greenwich\",0],\r\n",
      "        UNIT[\"degree\",0.0174532925199433],\r\n",
      "        AUTHORITY[\"EPSG\",\"4326\"]],\r\n",
      "    PROJECTION[\"Polar_Stereographic\"],\r\n",
      "    PARAMETER[\"latitude_of_origin\",-71],\r\n",
      "    PARAMETER[\"central_meridian\",0],\r\n",
      "    PARAMETER[\"scale_factor\",1],\r\n",
      "    PARAMETER[\"false_easting\",0],\r\n",
      "    PARAMETER[\"false_northing\",0],\r\n",
      "    UNIT[\"metre\",1,\r\n",
      "        AUTHORITY[\"EPSG\",\"9001\"]]]\r\n",
      "Origin = (158985.000000000000000,-758385.000000000000000)\r\n",
      "Pixel Size = (30.000000000000000,-30.000000000000000)\r\n",
      "Metadata:\r\n",
      "  AREA_OR_POINT=Point\r\n",
      "Image Structure Metadata:\r\n",
      "  COMPRESSION=DEFLATE\r\n",
      "  INTERLEAVE=BAND\r\n",
      "Corner Coordinates:\r\n",
      "Upper Left  (  158985.000, -758385.000) (168d 9'36.66\"E, 82d52'37.83\"S)\r\n",
      "Lower Left  (  158985.000,-1027215.000) (171d12' 7.12\"E, 80d27'16.36\"S)\r\n",
      "Upper Right (  427515.000, -758385.000) (150d35'21.40\"E, 81d59'59.77\"S)\r\n",
      "Lower Right (  427515.000,-1027215.000) (157d24'12.55\"E, 79d47' 8.88\"S)\r\n",
      "Center      (  293250.000, -892800.000) (161d48'59.99\"E, 81d22' 0.41\"S)\r\n",
      "Band 1 Block=512x512 Type=UInt16, ColorInterp=Gray\r\n"
     ]
    }
   ],
   "source": [
    "!gdalinfo https://landsat-pds.s3.amazonaws.com/c1/L8/038/120/LC08_L1GT_038120_20190218_20190218_01_RT/LC08_L1GT_038120_20190218_20190218_01_RT_B4.TIF"
   ]
  },
  {
   "cell_type": "code",
   "execution_count": null,
   "metadata": {},
   "outputs": [],
   "source": []
  }
 ],
 "metadata": {
  "kernelspec": {
   "display_name": "Python 3",
   "language": "python",
   "name": "python3"
  },
  "language_info": {
   "codemirror_mode": {
    "name": "ipython",
    "version": 3
   },
   "file_extension": ".py",
   "mimetype": "text/x-python",
   "name": "python",
   "nbconvert_exporter": "python",
   "pygments_lexer": "ipython3",
   "version": "3.6.7"
  }
 },
 "nbformat": 4,
 "nbformat_minor": 2
}
