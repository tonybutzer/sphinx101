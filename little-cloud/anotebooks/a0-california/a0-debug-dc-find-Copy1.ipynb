{
 "cells": [
  {
   "cell_type": "markdown",
   "metadata": {},
   "source": [
    "# Example notebook"
   ]
  },
  {
   "cell_type": "code",
   "execution_count": 1,
   "metadata": {},
   "outputs": [
    {
     "name": "stderr",
     "output_type": "stream",
     "text": [
      "Failed to resolve driver datacube.plugins.index::s3aio_index\n"
     ]
    }
   ],
   "source": [
    "from noteLib import *\n",
    "import datacube\n",
    "\n",
    "dc= datacube.Datacube()"
   ]
  },
  {
   "cell_type": "code",
   "execution_count": 2,
   "metadata": {},
   "outputs": [],
   "source": [
    "# dir(dc)"
   ]
  },
  {
   "cell_type": "code",
   "execution_count": 3,
   "metadata": {},
   "outputs": [
    {
     "name": "stdout",
     "output_type": "stream",
     "text": [
      "2019-02-06 18:21:08,108 19399 datacube.drivers.driver_cache \u001b[33mWARNING\u001b[0m Failed to resolve driver datacube.plugins.index::s3aio_index\n",
      "    570    1140   23370\n"
     ]
    }
   ],
   "source": [
    "!datacube dataset search product ='l8_kline' |grep id |wc"
   ]
  },
  {
   "cell_type": "code",
   "execution_count": 4,
   "metadata": {},
   "outputs": [],
   "source": [
    "from datetime import datetime\n",
    "date_range = (\n",
    "        datetime(2014,6,13),\n",
    "        datetime(2014,6,16))\n"
   ]
  },
  {
   "cell_type": "code",
   "execution_count": 5,
   "metadata": {},
   "outputs": [],
   "source": [
    "x_lon_extent = (-119.44,-119.18)\n",
    "y_lat_extent = (36.80,36.96)\n"
   ]
  },
  {
   "cell_type": "code",
   "execution_count": 6,
   "metadata": {},
   "outputs": [],
   "source": [
    "product = 'l8_kline'\n",
    "ds = dc.find_datasets(product=product,\n",
    "             x = x_lon_extent, y =y_lat_extent,\n",
    "             output_crs = 'epsg:32610', resolution = (-30,30), \n",
    "             time = date_range, measurements = ('red', 'green', 'blue','nir') )"
   ]
  },
  {
   "cell_type": "code",
   "execution_count": 7,
   "metadata": {},
   "outputs": [
    {
     "data": {
      "text/plain": [
       "datacube.model.Dataset"
      ]
     },
     "execution_count": 7,
     "metadata": {},
     "output_type": "execute_result"
    }
   ],
   "source": [
    "myds = ds[0]\n",
    "\n",
    "type(myds)"
   ]
  },
  {
   "cell_type": "code",
   "execution_count": 8,
   "metadata": {},
   "outputs": [
    {
     "name": "stdout",
     "output_type": "stream",
     "text": [
      "1\n",
      "Number of Datasets\n"
     ]
    }
   ],
   "source": [
    "print(len(ds))\n",
    "print (\"Number of Datasets\")"
   ]
  },
  {
   "cell_type": "code",
   "execution_count": 9,
   "metadata": {},
   "outputs": [
    {
     "name": "stdout",
     "output_type": "stream",
     "text": [
      "epsg:5072\n"
     ]
    }
   ],
   "source": [
    "print(myds.crs)"
   ]
  },
  {
   "cell_type": "code",
   "execution_count": 10,
   "metadata": {},
   "outputs": [
    {
     "name": "stdout",
     "output_type": "stream",
     "text": [
      "s3://lsaa-staging-cog/L08/2014/043/034/LC08_L2SP_043034_20140615_20171210_01_A1/LC08_L2SP_043034_20140615_20171210_01_A1.json\n"
     ]
    }
   ],
   "source": [
    "for uri in myds.uris:\n",
    "    print(uri)"
   ]
  },
  {
   "cell_type": "code",
   "execution_count": 11,
   "metadata": {},
   "outputs": [
    {
     "name": "stdout",
     "output_type": "stream",
     "text": [
      "Geometry({'type': 'Polygon', 'coordinates': [[(-2257500.0, 1747200.0), (-2257500.0, 2012700.0), (-1998000.0, 2012700.0), (-1998000.0, 1747200.0), (-2257500.0, 1747200.0)]]}, CRS('epsg:5072'))\n"
     ]
    }
   ],
   "source": [
    "print(myds.extent)"
   ]
  },
  {
   "cell_type": "code",
   "execution_count": 12,
   "metadata": {},
   "outputs": [
    {
     "name": "stdout",
     "output_type": "stream",
     "text": [
      "Polygon\n"
     ]
    }
   ],
   "source": [
    "print(myds.extent.type)"
   ]
  },
  {
   "cell_type": "code",
   "execution_count": 13,
   "metadata": {},
   "outputs": [
    {
     "name": "stdout",
     "output_type": "stream",
     "text": [
      "<class 'datacube.utils.geometry.Geometry'>\n"
     ]
    }
   ],
   "source": [
    "print (type(myds.extent))"
   ]
  },
  {
   "cell_type": "code",
   "execution_count": 14,
   "metadata": {},
   "outputs": [
    {
     "name": "stdout",
     "output_type": "stream",
     "text": [
      "<class 'str'>\n"
     ]
    }
   ],
   "source": [
    "print (type(myds.extent.type))"
   ]
  },
  {
   "cell_type": "code",
   "execution_count": 15,
   "metadata": {},
   "outputs": [
    {
     "name": "stdout",
     "output_type": "stream",
     "text": [
      "BoundingBox(left=-2257500.0, bottom=1747200.0, right=-1998000.0, top=2012700.0)\n"
     ]
    }
   ],
   "source": [
    "print (myds.extent.boundingbox)"
   ]
  },
  {
   "cell_type": "code",
   "execution_count": 16,
   "metadata": {},
   "outputs": [
    {
     "name": "stdout",
     "output_type": "stream",
     "text": [
      "68897250000.0\n"
     ]
    }
   ],
   "source": [
    "print (myds.extent.area)"
   ]
  },
  {
   "cell_type": "code",
   "execution_count": 17,
   "metadata": {},
   "outputs": [
    {
     "name": "stdout",
     "output_type": "stream",
     "text": [
      "Geometry({'type': 'LineString', 'coordinates': [(-2257500.0, 1747200.0), (-2257500.0, 2012700.0), (-1998000.0, 2012700.0), (-1998000.0, 1747200.0), (-2257500.0, 1747200.0)]}, CRS('epsg:5072'))\n"
     ]
    }
   ],
   "source": [
    "print (myds.extent.boundary)"
   ]
  },
  {
   "cell_type": "code",
   "execution_count": 18,
   "metadata": {},
   "outputs": [
    {
     "name": "stdout",
     "output_type": "stream",
     "text": [
      "LineString\n"
     ]
    }
   ],
   "source": [
    "print (myds.extent.boundary.type)"
   ]
  },
  {
   "cell_type": "code",
   "execution_count": 19,
   "metadata": {},
   "outputs": [
    {
     "name": "stdout",
     "output_type": "stream",
     "text": [
      "None\n"
     ]
    }
   ],
   "source": [
    "print (myds.extent.coords)"
   ]
  },
  {
   "cell_type": "markdown",
   "metadata": {},
   "source": [
    "# Should be something; I Think? --  Not None.\n",
    "\n",
    "## Lets look at the stack of images - do a dc.load with the same parameters"
   ]
  },
  {
   "cell_type": "code",
   "execution_count": 20,
   "metadata": {},
   "outputs": [],
   "source": [
    "product = 'l8_kline'\n",
    "ds = dc.find_datasets(product=product,\n",
    "             x = x_lon_extent, y =y_lat_extent,\n",
    "             output_crs = 'epsg:32610', resolution = (-30,30), \n",
    "             time = date_range, measurements = ('red') )"
   ]
  },
  {
   "cell_type": "code",
   "execution_count": 21,
   "metadata": {},
   "outputs": [
    {
     "name": "stdout",
     "output_type": "stream",
     "text": [
      "1\n",
      "Number of Datasets\n"
     ]
    }
   ],
   "source": [
    "print(len(ds))\n",
    "print (\"Number of Datasets\")"
   ]
  },
  {
   "cell_type": "code",
   "execution_count": 22,
   "metadata": {},
   "outputs": [
    {
     "data": {
      "text/plain": [
       "datacube.model.Dataset"
      ]
     },
     "execution_count": 22,
     "metadata": {},
     "output_type": "execute_result"
    }
   ],
   "source": [
    "myds = ds[0]\n",
    "\n",
    "type(myds)"
   ]
  },
  {
   "cell_type": "code",
   "execution_count": 23,
   "metadata": {},
   "outputs": [
    {
     "name": "stdout",
     "output_type": "stream",
     "text": [
      "{'nir': {'path': 's3://lsaa-staging-cog/L08/2014/043/034/LC08_L2SP_043034_20140615_20171210_01_A1/LC08_L2SP_043034_20140615_20171210_01_A1_sr_band5.TIF', 'layer': 1}, 'red': {'path': 's3://lsaa-staging-cog/L08/2014/043/034/LC08_L2SP_043034_20140615_20171210_01_A1/LC08_L2SP_043034_20140615_20171210_01_A1_sr_band4.TIF', 'layer': 1}, 'blue': {'path': 's3://lsaa-staging-cog/L08/2014/043/034/LC08_L2SP_043034_20140615_20171210_01_A1/LC08_L2SP_043034_20140615_20171210_01_A1_sr_band2.TIF', 'layer': 1}, 'green': {'path': 's3://lsaa-staging-cog/L08/2014/043/034/LC08_L2SP_043034_20140615_20171210_01_A1/LC08_L2SP_043034_20140615_20171210_01_A1_sr_band3.TIF', 'layer': 1}, 'swir1': {'path': 's3://lsaa-staging-cog/L08/2014/043/034/LC08_L2SP_043034_20140615_20171210_01_A1/LC08_L2SP_043034_20140615_20171210_01_A1_sr_band6.TIF', 'layer': 1}, 'swir2': {'path': 's3://lsaa-staging-cog/L08/2014/043/034/LC08_L2SP_043034_20140615_20171210_01_A1/LC08_L2SP_043034_20140615_20171210_01_A1_sr_band7.TIF', 'layer': 1}, 'therm': {'path': 's3://lsaa-staging-cog/L08/2014/043/034/LC08_L2SP_043034_20140615_20171210_01_A1/LC08_L2SP_043034_20140615_20171210_01_A1_bt_band10.TIF', 'layer': 1}, 'pixel_qa': {'path': 's3://lsaa-staging-cog/L08/2014/043/034/LC08_L2SP_043034_20140615_20171210_01_A1/LC08_L2SP_043034_20140615_20171210_01_A1_pixel_qa.TIF', 'layer': 1}, 'sr_band1': {'path': 's3://lsaa-staging-cog/L08/2014/043/034/LC08_L2SP_043034_20140615_20171210_01_A1/LC08_L2SP_043034_20140615_20171210_01_A1_sr_band1.TIF', 'layer': 1}}\n",
      "---------------------------------------------------------------------------------------------------------\n",
      "---------------------------------------------------------------------------------------------------------\n",
      "aka: band names and band file paths\n"
     ]
    }
   ],
   "source": [
    "print (myds.measurements)\n",
    "print(\"---\" * 35)\n",
    "print(\"---\" * 35)\n",
    "print (\"aka: band names and band file paths\")\n"
   ]
  },
  {
   "cell_type": "code",
   "execution_count": 24,
   "metadata": {},
   "outputs": [
    {
     "name": "stdout",
     "output_type": "stream",
     "text": [
      "{'path': 's3://lsaa-staging-cog/L08/2014/043/034/LC08_L2SP_043034_20140615_20171210_01_A1/LC08_L2SP_043034_20140615_20171210_01_A1_sr_band4.TIF', 'layer': 1}\n"
     ]
    }
   ],
   "source": [
    "print (myds.measurements['red'])"
   ]
  },
  {
   "cell_type": "code",
   "execution_count": 25,
   "metadata": {},
   "outputs": [
    {
     "name": "stdout",
     "output_type": "stream",
     "text": [
      "s3://lsaa-staging-cog/L08/2014/043/034/LC08_L2SP_043034_20140615_20171210_01_A1/LC08_L2SP_043034_20140615_20171210_01_A1_sr_band4.TIF\n"
     ]
    }
   ],
   "source": [
    "print (myds.measurements['red']['path'])"
   ]
  },
  {
   "cell_type": "code",
   "execution_count": 26,
   "metadata": {},
   "outputs": [],
   "source": [
    "def return_path_row(file_path):\n",
    "    # print(file_path)\n",
    "    a = file_path.split('_')\n",
    "    # print(a[0])\n",
    "    print(a[2], a[9])\n",
    "    return(a[2])"
   ]
  },
  {
   "cell_type": "code",
   "execution_count": 27,
   "metadata": {},
   "outputs": [],
   "source": [
    "fp = myds.measurements['red']['path']"
   ]
  },
  {
   "cell_type": "code",
   "execution_count": 28,
   "metadata": {},
   "outputs": [
    {
     "name": "stdout",
     "output_type": "stream",
     "text": [
      "043034 20140615\n"
     ]
    },
    {
     "data": {
      "text/plain": [
       "'043034'"
      ]
     },
     "execution_count": 28,
     "metadata": {},
     "output_type": "execute_result"
    }
   ],
   "source": [
    "return_path_row(fp)\n"
   ]
  },
  {
   "cell_type": "markdown",
   "metadata": {},
   "source": [
    "# Are they different path rows?\n",
    "\n",
    "## Yes"
   ]
  },
  {
   "cell_type": "code",
   "execution_count": 29,
   "metadata": {},
   "outputs": [
    {
     "name": "stdout",
     "output_type": "stream",
     "text": [
      "043034 20140615\n"
     ]
    }
   ],
   "source": [
    "for t in range(0,len(ds)):\n",
    "    myds = ds[t]\n",
    "    fp = myds.measurements['red']['path']\n",
    "    return_path_row(fp)"
   ]
  },
  {
   "cell_type": "code",
   "execution_count": 30,
   "metadata": {},
   "outputs": [
    {
     "name": "stdout",
     "output_type": "stream",
     "text": [
      "BoundingBox(left=-2257500.0, bottom=1747200.0, right=-1998000.0, top=2012700.0)\n"
     ]
    }
   ],
   "source": [
    "myds = ds[0]\n",
    "print(myds.bounds)"
   ]
  },
  {
   "cell_type": "code",
   "execution_count": 31,
   "metadata": {},
   "outputs": [],
   "source": [
    "ulX = myds.bounds.left\n",
    "ulY = myds.bounds.top\n",
    "\n",
    "lrX = myds.bounds.right\n",
    "lrY = myds.bounds.bottom"
   ]
  },
  {
   "cell_type": "code",
   "execution_count": 32,
   "metadata": {},
   "outputs": [],
   "source": [
    "m = aea_base_map(ulX,ulY,lrX,lrY)"
   ]
  },
  {
   "cell_type": "code",
   "execution_count": 33,
   "metadata": {},
   "outputs": [
    {
     "data": {
      "text/html": [
       "<div style=\"width:100%;\"><div style=\"position:relative;width:100%;height:0;padding-bottom:60%;\"><iframe src=\"data:text/html;charset=utf-8;base64,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\" style=\"position:absolute;width:100%;height:100%;left:0;top:0;border:none !important;\" allowfullscreen webkitallowfullscreen mozallowfullscreen></iframe></div></div>"
      ],
      "text/plain": [
       "<folium.folium.Map at 0x7f5791bf9160>"
      ]
     },
     "execution_count": 33,
     "metadata": {},
     "output_type": "execute_result"
    }
   ],
   "source": [
    "aea_display_map(m,ulX,ulY,lrX,lrY)"
   ]
  },
  {
   "cell_type": "code",
   "execution_count": 34,
   "metadata": {},
   "outputs": [],
   "source": [
    "date_range = (\n",
    "        datetime(2014,6,13),\n",
    "        datetime(2014,6,16))\n",
    "\n",
    "x_lon_extent = (-120.0,-119.0)\n",
    "y_lat_extent = (36.,36.96)\n"
   ]
  },
  {
   "cell_type": "markdown",
   "metadata": {},
   "source": [
    "## Why 20140530 - another bug?"
   ]
  },
  {
   "cell_type": "code",
   "execution_count": 35,
   "metadata": {},
   "outputs": [],
   "source": [
    "def display_bound(ds):\n",
    "    \n",
    "    myds = ds[0]\n",
    "\n",
    "    ulX = myds.bounds.left\n",
    "    ulY = myds.bounds.top\n",
    "\n",
    "    lrX = myds.bounds.right\n",
    "    lrY = myds.bounds.bottom\n",
    "    m = aea_base_map(ulX,ulY,lrX,lrY)\n",
    "    \n",
    "    for i in range(0,len(ds)):\n",
    "        myds = ds[i]\n",
    "\n",
    "        ulX = myds.bounds.left\n",
    "        ulY = myds.bounds.top\n",
    "\n",
    "        lrX = myds.bounds.right\n",
    "        lrY = myds.bounds.bottom\n",
    "    \n",
    "        aea_display_map(m,ulX,ulY,lrX,lrY)\n",
    "        \n",
    "    return(m)\n",
    "        \n",
    "        "
   ]
  },
  {
   "cell_type": "code",
   "execution_count": 36,
   "metadata": {},
   "outputs": [],
   "source": [
    "date_range = (\n",
    "        datetime(2014,5,13),\n",
    "        datetime(2014,6,16))\n",
    "\n",
    "x_lon_extent = (-119.44,-119.18)\n",
    "y_lat_extent = (36.80,36.96)\n",
    "\n",
    "product = 'l8_kline'\n",
    "ds = dc.find_datasets(product=product,\n",
    "             x = x_lon_extent, y =y_lat_extent,\n",
    "             output_crs = 'epsg:32610', resolution = (-30,30), \n",
    "             time = date_range, measurements = ('red', 'green', 'blue','nir') )"
   ]
  },
  {
   "cell_type": "code",
   "execution_count": 37,
   "metadata": {},
   "outputs": [
    {
     "data": {
      "text/html": [
       "<div style=\"width:100%;\"><div style=\"position:relative;width:100%;height:0;padding-bottom:60%;\"><iframe src=\"data:text/html;charset=utf-8;base64,PCFET0NUWVBFIGh0bWw+CjxoZWFkPiAgICAKICAgIDxtZXRhIGh0dHAtZXF1aXY9ImNvbnRlbnQtdHlwZSIgY29udGVudD0idGV4dC9odG1sOyBjaGFyc2V0PVVURi04IiAvPgogICAgPHNjcmlwdD5MX1BSRUZFUl9DQU5WQVM9ZmFsc2U7IExfTk9fVE9VQ0g9ZmFsc2U7IExfRElTQUJMRV8zRD1mYWxzZTs8L3NjcmlwdD4KICAgIDxzY3JpcHQgc3JjPSJodHRwczovL2Nkbi5qc2RlbGl2ci5uZXQvbnBtL2xlYWZsZXRAMS4zLjQvZGlzdC9sZWFmbGV0LmpzIj48L3NjcmlwdD4KICAgIDxzY3JpcHQgc3JjPSJodHRwczovL2FqYXguZ29vZ2xlYXBpcy5jb20vYWpheC9saWJzL2pxdWVyeS8xLjExLjEvanF1ZXJ5Lm1pbi5qcyI+PC9zY3JpcHQ+CiAgICA8c2NyaXB0IHNyYz0iaHR0cHM6Ly9tYXhjZG4uYm9vdHN0cmFwY2RuLmNvbS9ib290c3RyYXAvMy4yLjAvanMvYm9vdHN0cmFwLm1pbi5qcyI+PC9zY3JpcHQ+CiAgICA8c2NyaXB0IHNyYz0iaHR0cHM6Ly9jZG5qcy5jbG91ZGZsYXJlLmNvbS9hamF4L2xpYnMvTGVhZmxldC5hd2Vzb21lLW1hcmtlcnMvMi4wLjIvbGVhZmxldC5hd2Vzb21lLW1hcmtlcnMuanMiPjwvc2NyaXB0PgogICAgPGxpbmsgcmVsPSJzdHlsZXNoZWV0IiBocmVmPSJodHRwczovL2Nkbi5qc2RlbGl2ci5uZXQvbnBtL2xlYWZsZXRAMS4zLjQvZGlzdC9sZWFmbGV0LmNzcyIvPgogICAgPGxpbmsgcmVsPSJzdHlsZXNoZWV0IiBocmVmPSJodHRwczovL21heGNkbi5ib290c3RyYXBjZG4uY29tL2Jvb3RzdHJhcC8zLjIuMC9jc3MvYm9vdHN0cmFwLm1pbi5jc3MiLz4KICAgIDxsaW5rIHJlbD0ic3R5bGVzaGVldCIgaHJlZj0iaHR0cHM6Ly9tYXhjZG4uYm9vdHN0cmFwY2RuLmNvbS9ib290c3RyYXAvMy4yLjAvY3NzL2Jvb3RzdHJhcC10aGVtZS5taW4uY3NzIi8+CiAgICA8bGluayByZWw9InN0eWxlc2hlZXQiIGhyZWY9Imh0dHBzOi8vbWF4Y2RuLmJvb3RzdHJhcGNkbi5jb20vZm9udC1hd2Vzb21lLzQuNi4zL2Nzcy9mb250LWF3ZXNvbWUubWluLmNzcyIvPgogICAgPGxpbmsgcmVsPSJzdHlsZXNoZWV0IiBocmVmPSJodHRwczovL2NkbmpzLmNsb3VkZmxhcmUuY29tL2FqYXgvbGlicy9MZWFmbGV0LmF3ZXNvbWUtbWFya2Vycy8yLjAuMi9sZWFmbGV0LmF3ZXNvbWUtbWFya2Vycy5jc3MiLz4KICAgIDxsaW5rIHJlbD0ic3R5bGVzaGVldCIgaHJlZj0iaHR0cHM6Ly9yYXdjZG4uZ2l0aGFjay5jb20vcHl0aG9uLXZpc3VhbGl6YXRpb24vZm9saXVtL21hc3Rlci9mb2xpdW0vdGVtcGxhdGVzL2xlYWZsZXQuYXdlc29tZS5yb3RhdGUuY3NzIi8+CiAgICA8c3R5bGU+aHRtbCwgYm9keSB7d2lkdGg6IDEwMCU7aGVpZ2h0OiAxMDAlO21hcmdpbjogMDtwYWRkaW5nOiAwO308L3N0eWxlPgogICAgPHN0eWxlPiNtYXAge3Bvc2l0aW9uOmFic29sdXRlO3RvcDowO2JvdHRvbTowO3JpZ2h0OjA7bGVmdDowO308L3N0eWxlPgogICAgCiAgICA8bWV0YSBuYW1lPSJ2aWV3cG9ydCIgY29udGVudD0id2lkdGg9ZGV2aWNlLXdpZHRoLAogICAgICAgIGluaXRpYWwtc2NhbGU9MS4wLCBtYXhpbXVtLXNjYWxlPTEuMCwgdXNlci1zY2FsYWJsZT1ubyIgLz4KICAgIDxzdHlsZT4jbWFwXzU2NjM2YTQyYTU5OTQ3NTA5ODg0OTcwZWQyZWRlNzk3IHsKICAgICAgICBwb3NpdGlvbjogcmVsYXRpdmU7CiAgICAgICAgd2lkdGg6IDEwMC4wJTsKICAgICAgICBoZWlnaHQ6IDEwMC4wJTsKICAgICAgICBsZWZ0OiAwLjAlOwogICAgICAgIHRvcDogMC4wJTsKICAgICAgICB9CiAgICA8L3N0eWxlPgo8L2hlYWQ+Cjxib2R5PiAgICAKICAgIAogICAgPGRpdiBjbGFzcz0iZm9saXVtLW1hcCIgaWQ9Im1hcF81NjYzNmE0MmE1OTk0NzUwOTg4NDk3MGVkMmVkZTc5NyIgPjwvZGl2Pgo8L2JvZHk+CjxzY3JpcHQ+ICAgIAogICAgCiAgICAKICAgICAgICB2YXIgYm91bmRzID0gbnVsbDsKICAgIAoKICAgIHZhciBtYXBfNTY2MzZhNDJhNTk5NDc1MDk4ODQ5NzBlZDJlZGU3OTcgPSBMLm1hcCgKICAgICAgICAnbWFwXzU2NjM2YTQyYTU5OTQ3NTA5ODg0OTcwZWQyZWRlNzk3JywgewogICAgICAgIGNlbnRlcjogWzM3LjQ3MDkxNDA0ODMwNDg5LCAtMTE5LjAwMTY2MTM2MjM2Mjk3XSwKICAgICAgICB6b29tOiA3LAogICAgICAgIG1heEJvdW5kczogYm91bmRzLAogICAgICAgIGxheWVyczogW10sCiAgICAgICAgd29ybGRDb3B5SnVtcDogZmFsc2UsCiAgICAgICAgY3JzOiBMLkNSUy5FUFNHMzg1NywKICAgICAgICB6b29tQ29udHJvbDogdHJ1ZSwKICAgICAgICB9KTsKCiAgICAKICAgIAogICAgdmFyIHRpbGVfbGF5ZXJfZGI4YTRhYjk2NmFkNGY1Nzk0YzVmOTdiZWYwOWEzNWUgPSBMLnRpbGVMYXllcigKICAgICAgICAnIGh0dHA6Ly9tdDEuZ29vZ2xlLmNvbS92dC9seXJzPXkmej17en0meD17eH0meT17eX0nLAogICAgICAgIHsKICAgICAgICAiYXR0cmlidXRpb24iOiAiR29vZ2xlIiwKICAgICAgICAiZGV0ZWN0UmV0aW5hIjogZmFsc2UsCiAgICAgICAgIm1heE5hdGl2ZVpvb20iOiAxOCwKICAgICAgICAibWF4Wm9vbSI6IDE4LAogICAgICAgICJtaW5ab29tIjogMCwKICAgICAgICAibm9XcmFwIjogZmFsc2UsCiAgICAgICAgIm9wYWNpdHkiOiAxLAogICAgICAgICJzdWJkb21haW5zIjogImFiYyIsCiAgICAgICAgInRtcyI6IGZhbHNlCn0pLmFkZFRvKG1hcF81NjYzNmE0MmE1OTk0NzUwOTg4NDk3MGVkMmVkZTc5Nyk7CiAgICAKICAgICAgICAgICAgICAgIHZhciBsYXRfbG5nX3BvcHVwXzNhZDY2OTcyYThmYjQ2MDU4Zjc2NmEyMjU1YmFjYzk3ID0gTC5wb3B1cCgpOwogICAgICAgICAgICAgICAgZnVuY3Rpb24gbGF0TG5nUG9wKGUpIHsKICAgICAgICAgICAgICAgICAgICBsYXRfbG5nX3BvcHVwXzNhZDY2OTcyYThmYjQ2MDU4Zjc2NmEyMjU1YmFjYzk3CiAgICAgICAgICAgICAgICAgICAgICAgIC5zZXRMYXRMbmcoZS5sYXRsbmcpCiAgICAgICAgICAgICAgICAgICAgICAgIC5zZXRDb250ZW50KCJMYXRpdHVkZTogIiArIGUubGF0bG5nLmxhdC50b0ZpeGVkKDQpICsKICAgICAgICAgICAgICAgICAgICAgICAgICAgICAgICAgICAgIjxicj5Mb25naXR1ZGU6ICIgKyBlLmxhdGxuZy5sbmcudG9GaXhlZCg0KSkKICAgICAgICAgICAgICAgICAgICAgICAgLm9wZW5PbihtYXBfNTY2MzZhNDJhNTk5NDc1MDk4ODQ5NzBlZDJlZGU3OTcpOwogICAgICAgICAgICAgICAgICAgIH0KICAgICAgICAgICAgICAgIG1hcF81NjYzNmE0MmE1OTk0NzUwOTg4NDk3MGVkMmVkZTc5Ny5vbignY2xpY2snLCBsYXRMbmdQb3ApOwogICAgICAgICAgICAKICAgIAogICAgICAgICAgICAgICAgdmFyIHBvbHlfbGluZV82MzkzNmRiYWExMjU0ZjA3ODdkMjllMmU3OGQ3ZjgxMSA9IEwucG9seWxpbmUoCiAgICAgICAgICAgICAgICAgICAgW1szOC4zMjQ3NjQ3OTIwNjc2MiwgLTEyMC44MTUwMTE2NjY0NjI1XSwgWzM4Ljg4NTY3MTgxNTU0NTk4LCAtMTE3LjkxMDc0NzkxMjM1Nzg4XSwgWzM2LjU5MDQwMDg1Nzc1OTIsIC0xMTcuMjMwMTUzNjI2NDM5OTFdLCBbMzYuMDQ2MTEyMDA3MDEwMjgsIC0xMjAuMDUxNjYzMTQwMTI0MDZdLCBbMzguMzI0NzY0NzkyMDY3NjIsIC0xMjAuODE1MDExNjY2NDYyNV1dLAogICAgICAgICAgICAgICAgICAgIHsKICAiYnViYmxpbmdNb3VzZUV2ZW50cyI6IHRydWUsCiAgImNvbG9yIjogInJlZCIsCiAgImRhc2hBcnJheSI6IG51bGwsCiAgImRhc2hPZmZzZXQiOiBudWxsLAogICJmaWxsIjogZmFsc2UsCiAgImZpbGxDb2xvciI6ICJyZWQiLAogICJmaWxsT3BhY2l0eSI6IDAuMiwKICAiZmlsbFJ1bGUiOiAiZXZlbm9kZCIsCiAgImxpbmVDYXAiOiAicm91bmQiLAogICJsaW5lSm9pbiI6ICJyb3VuZCIsCiAgIm5vQ2xpcCI6IGZhbHNlLAogICJvcGFjaXR5IjogMC44LAogICJzbW9vdGhGYWN0b3IiOiAxLjAsCiAgInN0cm9rZSI6IHRydWUsCiAgIndlaWdodCI6IDMKfQogICAgICAgICAgICAgICAgICAgICkKICAgICAgICAgICAgICAgICAgICAuYWRkVG8obWFwXzU2NjM2YTQyYTU5OTQ3NTA5ODg0OTcwZWQyZWRlNzk3KTsKICAgICAgICAgICAgCiAgICAKICAgICAgICAgICAgICAgIHZhciBsYXRfbG5nX3BvcHVwXzJiOWY2MDVhNWNkNjQzZDU5MTljNTM1ODE4YTIyYmI0ID0gTC5wb3B1cCgpOwogICAgICAgICAgICAgICAgZnVuY3Rpb24gbGF0TG5nUG9wKGUpIHsKICAgICAgICAgICAgICAgICAgICBsYXRfbG5nX3BvcHVwXzJiOWY2MDVhNWNkNjQzZDU5MTljNTM1ODE4YTIyYmI0CiAgICAgICAgICAgICAgICAgICAgICAgIC5zZXRMYXRMbmcoZS5sYXRsbmcpCiAgICAgICAgICAgICAgICAgICAgICAgIC5zZXRDb250ZW50KCJMYXRpdHVkZTogIiArIGUubGF0bG5nLmxhdC50b0ZpeGVkKDQpICsKICAgICAgICAgICAgICAgICAgICAgICAgICAgICAgICAgICAgIjxicj5Mb25naXR1ZGU6ICIgKyBlLmxhdGxuZy5sbmcudG9GaXhlZCg0KSkKICAgICAgICAgICAgICAgICAgICAgICAgLm9wZW5PbihtYXBfNTY2MzZhNDJhNTk5NDc1MDk4ODQ5NzBlZDJlZGU3OTcpOwogICAgICAgICAgICAgICAgICAgIH0KICAgICAgICAgICAgICAgIG1hcF81NjYzNmE0MmE1OTk0NzUwOTg4NDk3MGVkMmVkZTc5Ny5vbignY2xpY2snLCBsYXRMbmdQb3ApOwogICAgICAgICAgICAKICAgIAogICAgICAgICAgICAgICAgdmFyIHBvbHlfbGluZV9lZWUwOGY4ODE5ZjY0ZTQ5YWYxNThjNDkyYTcxOTFkMCA9IEwucG9seWxpbmUoCiAgICAgICAgICAgICAgICAgICAgW1szOC4zMjM4OTQ0NDE3NjIwODYsIC0xMjAuODMyNjM5OTk2NjQ4MDddLCBbMzguODg1MjE4MDE0MTM0MjcsIC0xMTcuOTI4NTM4Mzg5OTczNTVdLCBbMzYuNTkwMDQ0NjA3NDU5MDcsIC0xMTcuMjQ3NDA0NTUwMzI2MDVdLCBbMzYuMDQ1MzUwNDQzNzU2NDc2LCAtMTIwLjA2ODc2OTI1NjE0NzI1XSwgWzM4LjMyMzg5NDQ0MTc2MjA4NiwgLTEyMC44MzI2Mzk5OTY2NDgwN11dLAogICAgICAgICAgICAgICAgICAgIHsKICAiYnViYmxpbmdNb3VzZUV2ZW50cyI6IHRydWUsCiAgImNvbG9yIjogInJlZCIsCiAgImRhc2hBcnJheSI6IG51bGwsCiAgImRhc2hPZmZzZXQiOiBudWxsLAogICJmaWxsIjogZmFsc2UsCiAgImZpbGxDb2xvciI6ICJyZWQiLAogICJmaWxsT3BhY2l0eSI6IDAuMiwKICAiZmlsbFJ1bGUiOiAiZXZlbm9kZCIsCiAgImxpbmVDYXAiOiAicm91bmQiLAogICJsaW5lSm9pbiI6ICJyb3VuZCIsCiAgIm5vQ2xpcCI6IGZhbHNlLAogICJvcGFjaXR5IjogMC44LAogICJzbW9vdGhGYWN0b3IiOiAxLjAsCiAgInN0cm9rZSI6IHRydWUsCiAgIndlaWdodCI6IDMKfQogICAgICAgICAgICAgICAgICAgICkKICAgICAgICAgICAgICAgICAgICAuYWRkVG8obWFwXzU2NjM2YTQyYTU5OTQ3NTA5ODg0OTcwZWQyZWRlNzk3KTsKICAgICAgICAgICAgCiAgICAKICAgICAgICAgICAgICAgIHZhciBsYXRfbG5nX3BvcHVwXzdiZjBjZDYyYjk4MDQyYmRhZTlmNWI5ZWY3ZTQ2ZjBhID0gTC5wb3B1cCgpOwogICAgICAgICAgICAgICAgZnVuY3Rpb24gbGF0TG5nUG9wKGUpIHsKICAgICAgICAgICAgICAgICAgICBsYXRfbG5nX3BvcHVwXzdiZjBjZDYyYjk4MDQyYmRhZTlmNWI5ZWY3ZTQ2ZjBhCiAgICAgICAgICAgICAgICAgICAgICAgIC5zZXRMYXRMbmcoZS5sYXRsbmcpCiAgICAgICAgICAgICAgICAgICAgICAgIC5zZXRDb250ZW50KCJMYXRpdHVkZTogIiArIGUubGF0bG5nLmxhdC50b0ZpeGVkKDQpICsKICAgICAgICAgICAgICAgICAgICAgICAgICAgICAgICAgICAgIjxicj5Mb25naXR1ZGU6ICIgKyBlLmxhdGxuZy5sbmcudG9GaXhlZCg0KSkKICAgICAgICAgICAgICAgICAgICAgICAgLm9wZW5PbihtYXBfNTY2MzZhNDJhNTk5NDc1MDk4ODQ5NzBlZDJlZGU3OTcpOwogICAgICAgICAgICAgICAgICAgIH0KICAgICAgICAgICAgICAgIG1hcF81NjYzNmE0MmE1OTk0NzUwOTg4NDk3MGVkMmVkZTc5Ny5vbignY2xpY2snLCBsYXRMbmdQb3ApOwogICAgICAgICAgICAKICAgIAogICAgICAgICAgICAgICAgdmFyIHBvbHlfbGluZV8yNDEwZTg4YjU0MGY0ZGY1OTVkMjg5MmZhZTk4OGRmYSA9IEwucG9seWxpbmUoCiAgICAgICAgICAgICAgICAgICAgW1szNi44ODkzMjAxNDk3ODcwOTYsIC0xMjEuMjA3NjA4MzUxMTYxODRdLCBbMzcuNDYwMjk1OTU2NTg1NTQsIC0xMTguMzYyMjU0MjI2NTQ0ODhdLCBbMzUuMTYzNTMwOTIyNDE4ODYsIC0xMTcuNjgwMDQxNzMxMjMzMTddLCBbMzQuNjA4NjI2NTc5NjM2NDEsIC0xMjAuNDQ2MDI0NDQ0NTk3NTRdLCBbMzYuODg5MzIwMTQ5Nzg3MDk2LCAtMTIxLjIwNzYwODM1MTE2MTg0XV0sCiAgICAgICAgICAgICAgICAgICAgewogICJidWJibGluZ01vdXNlRXZlbnRzIjogdHJ1ZSwKICAiY29sb3IiOiAicmVkIiwKICAiZGFzaEFycmF5IjogbnVsbCwKICAiZGFzaE9mZnNldCI6IG51bGwsCiAgImZpbGwiOiBmYWxzZSwKICAiZmlsbENvbG9yIjogInJlZCIsCiAgImZpbGxPcGFjaXR5IjogMC4yLAogICJmaWxsUnVsZSI6ICJldmVub2RkIiwKICAibGluZUNhcCI6ICJyb3VuZCIsCiAgImxpbmVKb2luIjogInJvdW5kIiwKICAibm9DbGlwIjogZmFsc2UsCiAgIm9wYWNpdHkiOiAwLjgsCiAgInNtb290aEZhY3RvciI6IDEuMCwKICAic3Ryb2tlIjogdHJ1ZSwKICAid2VpZ2h0IjogMwp9CiAgICAgICAgICAgICAgICAgICAgKQogICAgICAgICAgICAgICAgICAgIC5hZGRUbyhtYXBfNTY2MzZhNDJhNTk5NDc1MDk4ODQ5NzBlZDJlZGU3OTcpOwogICAgICAgICAgICAKICAgIAogICAgICAgICAgICAgICAgdmFyIGxhdF9sbmdfcG9wdXBfOTg5ODQxNTVhNDA5NDFkYzk3YWU2Y2ZmOTcyYmUyZDMgPSBMLnBvcHVwKCk7CiAgICAgICAgICAgICAgICBmdW5jdGlvbiBsYXRMbmdQb3AoZSkgewogICAgICAgICAgICAgICAgICAgIGxhdF9sbmdfcG9wdXBfOTg5ODQxNTVhNDA5NDFkYzk3YWU2Y2ZmOTcyYmUyZDMKICAgICAgICAgICAgICAgICAgICAgICAgLnNldExhdExuZyhlLmxhdGxuZykKICAgICAgICAgICAgICAgICAgICAgICAgLnNldENvbnRlbnQoIkxhdGl0dWRlOiAiICsgZS5sYXRsbmcubGF0LnRvRml4ZWQoNCkgKwogICAgICAgICAgICAgICAgICAgICAgICAgICAgICAgICAgICAiPGJyPkxvbmdpdHVkZTogIiArIGUubGF0bG5nLmxuZy50b0ZpeGVkKDQpKQogICAgICAgICAgICAgICAgICAgICAgICAub3Blbk9uKG1hcF81NjYzNmE0MmE1OTk0NzUwOTg4NDk3MGVkMmVkZTc5Nyk7CiAgICAgICAgICAgICAgICAgICAgfQogICAgICAgICAgICAgICAgbWFwXzU2NjM2YTQyYTU5OTQ3NTA5ODg0OTcwZWQyZWRlNzk3Lm9uKCdjbGljaycsIGxhdExuZ1BvcCk7CiAgICAgICAgICAgIAogICAgCiAgICAgICAgICAgICAgICB2YXIgcG9seV9saW5lXzA1YjU1ZDU0NTNlMDQyNWY5Y2U1ZDllYjMzMzU3NTgyID0gTC5wb2x5bGluZSgKICAgICAgICAgICAgICAgICAgICBbWzM2Ljg4ODM5MzIxMDEzMTA5LCAtMTIxLjIyNDg5Mzk4MjIzMTQ5XSwgWzM3LjQ1OTc3NzMwNzk2NzgyNiwgLTExOC4zNzk3MDA0MDQ5NTg4MV0sIFszNS4xNjMxMDk2MTkxMjU2OCwgLTExNy42OTY5NjkyODU3MjMyNl0sIFszNC42MDc4MDczNzE3NDMyOSwgLTEyMC40NjI4MDgyMTc1MjI2XSwgWzM2Ljg4ODM5MzIxMDEzMTA5LCAtMTIxLjIyNDg5Mzk4MjIzMTQ5XV0sCiAgICAgICAgICAgICAgICAgICAgewogICJidWJibGluZ01vdXNlRXZlbnRzIjogdHJ1ZSwKICAiY29sb3IiOiAicmVkIiwKICAiZGFzaEFycmF5IjogbnVsbCwKICAiZGFzaE9mZnNldCI6IG51bGwsCiAgImZpbGwiOiBmYWxzZSwKICAiZmlsbENvbG9yIjogInJlZCIsCiAgImZpbGxPcGFjaXR5IjogMC4yLAogICJmaWxsUnVsZSI6ICJldmVub2RkIiwKICAibGluZUNhcCI6ICJyb3VuZCIsCiAgImxpbmVKb2luIjogInJvdW5kIiwKICAibm9DbGlwIjogZmFsc2UsCiAgIm9wYWNpdHkiOiAwLjgsCiAgInNtb290aEZhY3RvciI6IDEuMCwKICAic3Ryb2tlIjogdHJ1ZSwKICAid2VpZ2h0IjogMwp9CiAgICAgICAgICAgICAgICAgICAgKQogICAgICAgICAgICAgICAgICAgIC5hZGRUbyhtYXBfNTY2MzZhNDJhNTk5NDc1MDk4ODQ5NzBlZDJlZGU3OTcpOwogICAgICAgICAgICAKICAgIAogICAgICAgICAgICAgICAgdmFyIGxhdF9sbmdfcG9wdXBfNWVjYTRjYzAwMjdiNGM4NThjZmIzZDFjYmUxZDEwOTYgPSBMLnBvcHVwKCk7CiAgICAgICAgICAgICAgICBmdW5jdGlvbiBsYXRMbmdQb3AoZSkgewogICAgICAgICAgICAgICAgICAgIGxhdF9sbmdfcG9wdXBfNWVjYTRjYzAwMjdiNGM4NThjZmIzZDFjYmUxZDEwOTYKICAgICAgICAgICAgICAgICAgICAgICAgLnNldExhdExuZyhlLmxhdGxuZykKICAgICAgICAgICAgICAgICAgICAgICAgLnNldENvbnRlbnQoIkxhdGl0dWRlOiAiICsgZS5sYXRsbmcubGF0LnRvRml4ZWQoNCkgKwogICAgICAgICAgICAgICAgICAgICAgICAgICAgICAgICAgICAiPGJyPkxvbmdpdHVkZTogIiArIGUubGF0bG5nLmxuZy50b0ZpeGVkKDQpKQogICAgICAgICAgICAgICAgICAgICAgICAub3Blbk9uKG1hcF81NjYzNmE0MmE1OTk0NzUwOTg4NDk3MGVkMmVkZTc5Nyk7CiAgICAgICAgICAgICAgICAgICAgfQogICAgICAgICAgICAgICAgbWFwXzU2NjM2YTQyYTU5OTQ3NTA5ODg0OTcwZWQyZWRlNzk3Lm9uKCdjbGljaycsIGxhdExuZ1BvcCk7CiAgICAgICAgICAgIAogICAgCiAgICAgICAgICAgICAgICB2YXIgcG9seV9saW5lXzNlODllMTZhODI0ODQ0Y2E4NjkyMGVlNzYzZWM1ZjA2ID0gTC5wb2x5bGluZSgKICAgICAgICAgICAgICAgICAgICBbWzM4LjMwMzI0NzQwMTEzNzIxLCAtMTIyLjQ0OTY1MTI2NjEzODAzXSwgWzM4LjkwNTMwMDI4OTk4Nzg3LCAtMTE5LjU0NDk1NDQ2NzkxNDk1XSwgWzM2LjYwODk0MTEwMzY4MzMzLCAtMTE4LjgxMTEwMjI3NjE0Mjk4XSwgWzM2LjAyNDcyODM1ODY2MDAyLCAtMTIxLjYzMzgxODUwMDc2NjgxXSwgWzM4LjMwMzI0NzQwMTEzNzIxLCAtMTIyLjQ0OTY1MTI2NjEzODAzXV0sCiAgICAgICAgICAgICAgICAgICAgewogICJidWJibGluZ01vdXNlRXZlbnRzIjogdHJ1ZSwKICAiY29sb3IiOiAicmVkIiwKICAiZGFzaEFycmF5IjogbnVsbCwKICAiZGFzaE9mZnNldCI6IG51bGwsCiAgImZpbGwiOiBmYWxzZSwKICAiZmlsbENvbG9yIjogInJlZCIsCiAgImZpbGxPcGFjaXR5IjogMC4yLAogICJmaWxsUnVsZSI6ICJldmVub2RkIiwKICAibGluZUNhcCI6ICJyb3VuZCIsCiAgImxpbmVKb2luIjogInJvdW5kIiwKICAibm9DbGlwIjogZmFsc2UsCiAgIm9wYWNpdHkiOiAwLjgsCiAgInNtb290aEZhY3RvciI6IDEuMCwKICAic3Ryb2tlIjogdHJ1ZSwKICAid2VpZ2h0IjogMwp9CiAgICAgICAgICAgICAgICAgICAgKQogICAgICAgICAgICAgICAgICAgIC5hZGRUbyhtYXBfNTY2MzZhNDJhNTk5NDc1MDk4ODQ5NzBlZDJlZGU3OTcpOwogICAgICAgICAgICAKICAgIAogICAgICAgICAgICAgICAgdmFyIGxhdF9sbmdfcG9wdXBfNzcwZGMyMjkzZWNhNGVjYTlhMGU3MGU4NWE5YTE5NjYgPSBMLnBvcHVwKCk7CiAgICAgICAgICAgICAgICBmdW5jdGlvbiBsYXRMbmdQb3AoZSkgewogICAgICAgICAgICAgICAgICAgIGxhdF9sbmdfcG9wdXBfNzcwZGMyMjkzZWNhNGVjYTlhMGU3MGU4NWE5YTE5NjYKICAgICAgICAgICAgICAgICAgICAgICAgLnNldExhdExuZyhlLmxhdGxuZykKICAgICAgICAgICAgICAgICAgICAgICAgLnNldENvbnRlbnQoIkxhdGl0dWRlOiAiICsgZS5sYXRsbmcubGF0LnRvRml4ZWQoNCkgKwogICAgICAgICAgICAgICAgICAgICAgICAgICAgICAgICAgICAiPGJyPkxvbmdpdHVkZTogIiArIGUubGF0bG5nLmxuZy50b0ZpeGVkKDQpKQogICAgICAgICAgICAgICAgICAgICAgICAub3Blbk9uKG1hcF81NjYzNmE0MmE1OTk0NzUwOTg4NDk3MGVkMmVkZTc5Nyk7CiAgICAgICAgICAgICAgICAgICAgfQogICAgICAgICAgICAgICAgbWFwXzU2NjM2YTQyYTU5OTQ3NTA5ODg0OTcwZWQyZWRlNzk3Lm9uKCdjbGljaycsIGxhdExuZ1BvcCk7CiAgICAgICAgICAgIAogICAgCiAgICAgICAgICAgICAgICB2YXIgcG9seV9saW5lXzUwYTRkMjFmZmJhYTRhNmU5YjI5ZmJlMjg0MDgyYjg4ID0gTC5wb2x5bGluZSgKICAgICAgICAgICAgICAgICAgICBbWzM4LjMwNjU0NTcyMjM3Mjk1LCAtMTIyLjM5Njg0NDYxNjM3MTgxXSwgWzM4LjkwNzM0OTg0MDQ5Nzg3LCAtMTE5LjQ5MTYwNTE2NTYwMDM1XSwgWzM2LjYwODA3NDU1MDIzMTI1LCAtMTE4Ljc1ODU2MTg4MzU1NTczXSwgWzM2LjAyNTA5Njc2OTYzNzYxLCAtMTIxLjU4MTY3MzQ2OTY5MTg5XSwgWzM4LjMwNjU0NTcyMjM3Mjk1LCAtMTIyLjM5Njg0NDYxNjM3MTgxXV0sCiAgICAgICAgICAgICAgICAgICAgewogICJidWJibGluZ01vdXNlRXZlbnRzIjogdHJ1ZSwKICAiY29sb3IiOiAicmVkIiwKICAiZGFzaEFycmF5IjogbnVsbCwKICAiZGFzaE9mZnNldCI6IG51bGwsCiAgImZpbGwiOiBmYWxzZSwKICAiZmlsbENvbG9yIjogInJlZCIsCiAgImZpbGxPcGFjaXR5IjogMC4yLAogICJmaWxsUnVsZSI6ICJldmVub2RkIiwKICAibGluZUNhcCI6ICJyb3VuZCIsCiAgImxpbmVKb2luIjogInJvdW5kIiwKICAibm9DbGlwIjogZmFsc2UsCiAgIm9wYWNpdHkiOiAwLjgsCiAgInNtb290aEZhY3RvciI6IDEuMCwKICAic3Ryb2tlIjogdHJ1ZSwKICAid2VpZ2h0IjogMwp9CiAgICAgICAgICAgICAgICAgICAgKQogICAgICAgICAgICAgICAgICAgIC5hZGRUbyhtYXBfNTY2MzZhNDJhNTk5NDc1MDk4ODQ5NzBlZDJlZGU3OTcpOwogICAgICAgICAgICAKICAgIAogICAgICAgICAgICAgICAgdmFyIGxhdF9sbmdfcG9wdXBfN2FkNDkwZjhhY2EwNDQ1NGE1MGY4MWNkYzA3ZjVmNWYgPSBMLnBvcHVwKCk7CiAgICAgICAgICAgICAgICBmdW5jdGlvbiBsYXRMbmdQb3AoZSkgewogICAgICAgICAgICAgICAgICAgIGxhdF9sbmdfcG9wdXBfN2FkNDkwZjhhY2EwNDQ1NGE1MGY4MWNkYzA3ZjVmNWYKICAgICAgICAgICAgICAgICAgICAgICAgLnNldExhdExuZyhlLmxhdGxuZykKICAgICAgICAgICAgICAgICAgICAgICAgLnNldENvbnRlbnQoIkxhdGl0dWRlOiAiICsgZS5sYXRsbmcubGF0LnRvRml4ZWQoNCkgKwogICAgICAgICAgICAgICAgICAgICAgICAgICAgICAgICAgICAiPGJyPkxvbmdpdHVkZTogIiArIGUubGF0bG5nLmxuZy50b0ZpeGVkKDQpKQogICAgICAgICAgICAgICAgICAgICAgICAub3Blbk9uKG1hcF81NjYzNmE0MmE1OTk0NzUwOTg4NDk3MGVkMmVkZTc5Nyk7CiAgICAgICAgICAgICAgICAgICAgfQogICAgICAgICAgICAgICAgbWFwXzU2NjM2YTQyYTU5OTQ3NTA5ODg0OTcwZWQyZWRlNzk3Lm9uKCdjbGljaycsIGxhdExuZ1BvcCk7CiAgICAgICAgICAgIAogICAgCiAgICAgICAgICAgICAgICB2YXIgcG9seV9saW5lX2E3M2E1YWVkOTQzYTRiNDFiM2U0YmY4M2EwNzBlZTMwID0gTC5wb2x5bGluZSgKICAgICAgICAgICAgICAgICAgICBbWzM4LjMwNTgxMTc2MDQ4NjUxLCAtMTIyLjQwMDE3NTI0NjI4MzE3XSwgWzM4LjkwNjY5NDg4MTAwMzExLCAtMTE5LjQ5NDk5MDk2ODk1MDI1XSwgWzM2LjYwNzQzOTMwNjk1MTU1NSwgLTExOC43NjE4NTAzODg4MTQ1NV0sIFszNi4wMjQzODQyNzAyMTczOTYsIC0xMjEuNTg0OTExNTY2NDczMTVdLCBbMzguMzA1ODExNzYwNDg2NTEsIC0xMjIuNDAwMTc1MjQ2MjgzMTddXSwKICAgICAgICAgICAgICAgICAgICB7CiAgImJ1YmJsaW5nTW91c2VFdmVudHMiOiB0cnVlLAogICJjb2xvciI6ICJyZWQiLAogICJkYXNoQXJyYXkiOiBudWxsLAogICJkYXNoT2Zmc2V0IjogbnVsbCwKICAiZmlsbCI6IGZhbHNlLAogICJmaWxsQ29sb3IiOiAicmVkIiwKICAiZmlsbE9wYWNpdHkiOiAwLjIsCiAgImZpbGxSdWxlIjogImV2ZW5vZGQiLAogICJsaW5lQ2FwIjogInJvdW5kIiwKICAibGluZUpvaW4iOiAicm91bmQiLAogICJub0NsaXAiOiBmYWxzZSwKICAib3BhY2l0eSI6IDAuOCwKICAic21vb3RoRmFjdG9yIjogMS4wLAogICJzdHJva2UiOiB0cnVlLAogICJ3ZWlnaHQiOiAzCn0KICAgICAgICAgICAgICAgICAgICApCiAgICAgICAgICAgICAgICAgICAgLmFkZFRvKG1hcF81NjYzNmE0MmE1OTk0NzUwOTg4NDk3MGVkMmVkZTc5Nyk7CiAgICAgICAgICAgIAogICAgCiAgICAgICAgICAgICAgICB2YXIgbGF0X2xuZ19wb3B1cF8yNGNlMzFlMzEwNTI0NGM5YWQxZWE2MTA5NWVkNjk3MiA9IEwucG9wdXAoKTsKICAgICAgICAgICAgICAgIGZ1bmN0aW9uIGxhdExuZ1BvcChlKSB7CiAgICAgICAgICAgICAgICAgICAgbGF0X2xuZ19wb3B1cF8yNGNlMzFlMzEwNTI0NGM5YWQxZWE2MTA5NWVkNjk3MgogICAgICAgICAgICAgICAgICAgICAgICAuc2V0TGF0TG5nKGUubGF0bG5nKQogICAgICAgICAgICAgICAgICAgICAgICAuc2V0Q29udGVudCgiTGF0aXR1ZGU6ICIgKyBlLmxhdGxuZy5sYXQudG9GaXhlZCg0KSArCiAgICAgICAgICAgICAgICAgICAgICAgICAgICAgICAgICAgICI8YnI+TG9uZ2l0dWRlOiAiICsgZS5sYXRsbmcubG5nLnRvRml4ZWQoNCkpCiAgICAgICAgICAgICAgICAgICAgICAgIC5vcGVuT24obWFwXzU2NjM2YTQyYTU5OTQ3NTA5ODg0OTcwZWQyZWRlNzk3KTsKICAgICAgICAgICAgICAgICAgICB9CiAgICAgICAgICAgICAgICBtYXBfNTY2MzZhNDJhNTk5NDc1MDk4ODQ5NzBlZDJlZGU3OTcub24oJ2NsaWNrJywgbGF0TG5nUG9wKTsKICAgICAgICAgICAgCjwvc2NyaXB0Pg==\" style=\"position:absolute;width:100%;height:100%;left:0;top:0;border:none !important;\" allowfullscreen webkitallowfullscreen mozallowfullscreen></iframe></div></div>"
      ],
      "text/plain": [
       "<folium.folium.Map at 0x7f5791ba82b0>"
      ]
     },
     "execution_count": 37,
     "metadata": {},
     "output_type": "execute_result"
    }
   ],
   "source": [
    "m1 = display_bound(ds)\n",
    "m1"
   ]
  },
  {
   "cell_type": "code",
   "execution_count": 38,
   "metadata": {},
   "outputs": [
    {
     "name": "stdout",
     "output_type": "stream",
     "text": [
      "042034 20140523\n",
      "042034 20140608\n",
      "042035 20140523\n",
      "042035 20140608\n",
      "043034 20140514\n",
      "043034 20140530\n",
      "043034 20140615\n"
     ]
    }
   ],
   "source": [
    "for t in range(0,len(ds)):\n",
    "    myds = ds[t]\n",
    "    fp = myds.measurements['red']['path']\n",
    "    return_path_row(fp)"
   ]
  },
  {
   "cell_type": "code",
   "execution_count": 39,
   "metadata": {},
   "outputs": [],
   "source": [
    "import prepare"
   ]
  },
  {
   "cell_type": "code",
   "execution_count": 40,
   "metadata": {},
   "outputs": [],
   "source": [
    "ul_lon = x_lon_extent[0]\n",
    "ul_lat = y_lat_extent[1]\n",
    "\n",
    "lr_lon = x_lon_extent[1]\n",
    "lr_lat = y_lat_extent[0]"
   ]
  },
  {
   "cell_type": "code",
   "execution_count": 41,
   "metadata": {},
   "outputs": [
    {
     "name": "stdout",
     "output_type": "stream",
     "text": [
      "36.96 -119.44\n",
      "-2046688.6812870034 1799970.259821642\n",
      "-2046688.6812870034 1799970.259821642\n"
     ]
    }
   ],
   "source": [
    "from prepare import *\n",
    "ulx,uly = ge_translate(ul_lat,ul_lon)\n",
    "\n",
    "print(ulx,uly)"
   ]
  },
  {
   "cell_type": "code",
   "execution_count": 42,
   "metadata": {},
   "outputs": [
    {
     "name": "stdout",
     "output_type": "stream",
     "text": [
      "36.8 -119.18\n",
      "-2028770.5147079313 1777004.978578157\n"
     ]
    }
   ],
   "source": [
    "lrx,lry = ge_translate(lr_lat,lr_lon)\n"
   ]
  },
  {
   "cell_type": "code",
   "execution_count": 43,
   "metadata": {},
   "outputs": [],
   "source": [
    "m = aea_base_map(ulx,uly,lrx,lry)"
   ]
  },
  {
   "cell_type": "code",
   "execution_count": 44,
   "metadata": {},
   "outputs": [
    {
     "data": {
      "text/html": [
       "<div style=\"width:100%;\"><div style=\"position:relative;width:100%;height:0;padding-bottom:60%;\"><iframe src=\"data:text/html;charset=utf-8;base64,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\" style=\"position:absolute;width:100%;height:100%;left:0;top:0;border:none !important;\" allowfullscreen webkitallowfullscreen mozallowfullscreen></iframe></div></div>"
      ],
      "text/plain": [
       "<folium.folium.Map at 0x7f5791bcf8d0>"
      ]
     },
     "execution_count": 44,
     "metadata": {},
     "output_type": "execute_result"
    }
   ],
   "source": [
    " aea_display_map(m,ulx,uly,lrx,lry)"
   ]
  },
  {
   "cell_type": "code",
   "execution_count": 45,
   "metadata": {},
   "outputs": [
    {
     "data": {
      "text/html": [
       "<div style=\"width:100%;\"><div style=\"position:relative;width:100%;height:0;padding-bottom:60%;\"><iframe src=\"data:text/html;charset=utf-8;base64,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\" style=\"position:absolute;width:100%;height:100%;left:0;top:0;border:none !important;\" allowfullscreen webkitallowfullscreen mozallowfullscreen></iframe></div></div>"
      ],
      "text/plain": [
       "<folium.folium.Map at 0x7f5791bcf8d0>"
      ]
     },
     "execution_count": 45,
     "metadata": {},
     "output_type": "execute_result"
    }
   ],
   "source": [
    "aea_display_map(m,ulX,ulY,lrX,lrY, color='pink')"
   ]
  },
  {
   "cell_type": "markdown",
   "metadata": {},
   "source": [
    "- UL Corner Lat dec: 38.52658\n",
    "- UL Corner Long dec: -121.36464\n",
    "- UR Corner Lat dec: 38.12722\n",
    "- UR Corner Long dec: -119.2449\n",
    "\n",
    "- LR Corner Lat dec: 36.4083\n",
    "- LR Corner Long dec: -119.78328\n",
    "- LL Corner Lat dec: 36.80638\n",
    "- LL Corner Long dec: -121.85497"
   ]
  },
  {
   "cell_type": "code",
   "execution_count": 46,
   "metadata": {},
   "outputs": [],
   "source": [
    "ee_foot_ulg_lat = 38.52658\n",
    "ee_foot_ulg_lon = -121.36464\n",
    "\n",
    "ee_foot_urg_lat = 38.12722\n",
    "ee_foot_urg_lon = -119.2449\n",
    "\n",
    "ee_foot_lrg_lat = 36.4083\n",
    "ee_foot_lrg_lon = -119.78328\n",
    "\n",
    "ee_foot_llg_lat = 36.80638\n",
    "ee_foot_llg_lon = -121.85497\n",
    "\n"
   ]
  },
  {
   "cell_type": "code",
   "execution_count": 47,
   "metadata": {},
   "outputs": [
    {
     "name": "stdout",
     "output_type": "stream",
     "text": [
      "38.52658 -121.36464\n",
      "-2164581.489788618 2012440.4580529404\n"
     ]
    }
   ],
   "source": [
    "\n",
    "ulx,uly = ge_translate(ee_foot_ulg_lat,ee_foot_ulg_lon)\n"
   ]
  },
  {
   "cell_type": "code",
   "execution_count": 48,
   "metadata": {},
   "outputs": [
    {
     "name": "stdout",
     "output_type": "stream",
     "text": [
      "36.4083 -119.78328\n",
      "-2091345.9964462908 1747534.2183623333\n"
     ]
    }
   ],
   "source": [
    "lrx,lry = ge_translate(ee_foot_lrg_lat,ee_foot_lrg_lon)"
   ]
  },
  {
   "cell_type": "code",
   "execution_count": 49,
   "metadata": {},
   "outputs": [
    {
     "data": {
      "text/html": [
       "<div style=\"width:100%;\"><div style=\"position:relative;width:100%;height:0;padding-bottom:60%;\"><iframe src=\"data:text/html;charset=utf-8;base64,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\" style=\"position:absolute;width:100%;height:100%;left:0;top:0;border:none !important;\" allowfullscreen webkitallowfullscreen mozallowfullscreen></iframe></div></div>"
      ],
      "text/plain": [
       "<folium.folium.Map at 0x7f5791bcf8d0>"
      ]
     },
     "execution_count": 49,
     "metadata": {},
     "output_type": "execute_result"
    }
   ],
   "source": [
    "aea_display_map(m,ulx,uly,lrx,lry, color='blue')"
   ]
  },
  {
   "cell_type": "markdown",
   "metadata": {},
   "source": [
    "## yellow is the ee foot print\n",
    "\n",
    "## Green is the extent from the metadata\n",
    "\n",
    "##"
   ]
  },
  {
   "cell_type": "code",
   "execution_count": 50,
   "metadata": {},
   "outputs": [
    {
     "data": {
      "text/html": [
       "<div style=\"width:100%;\"><div style=\"position:relative;width:100%;height:0;padding-bottom:60%;\"><iframe src=\"data:text/html;charset=utf-8;base64,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\" style=\"position:absolute;width:100%;height:100%;left:0;top:0;border:none !important;\" allowfullscreen webkitallowfullscreen mozallowfullscreen></iframe></div></div>"
      ],
      "text/plain": [
       "<folium.folium.Map at 0x7f5791bcf8d0>"
      ]
     },
     "execution_count": 50,
     "metadata": {},
     "output_type": "execute_result"
    }
   ],
   "source": [
    "\n",
    "geo_display_map(m, ee_foot_ulg_lat, ee_foot_ulg_lon,\n",
    "               ee_foot_urg_lat, ee_foot_urg_lon,\n",
    "               ee_foot_lrg_lat, ee_foot_lrg_lon,\n",
    "               ee_foot_llg_lat, ee_foot_llg_lon)\n",
    "\n"
   ]
  },
  {
   "cell_type": "code",
   "execution_count": 51,
   "metadata": {},
   "outputs": [
    {
     "name": "stdout",
     "output_type": "stream",
     "text": [
      "2018-08-14 21:30:38      26793 LC08_L2SP_043034_20140615_20171210_01_A1.json\r\n"
     ]
    }
   ],
   "source": [
    "! aws s3 ls lsaa-staging-cog/L08/2014/043/034/LC08_L2SP_043034_20140615_20171210_01_A1/LC08_L2SP_043034_20140615_20171210_01_A1.json"
   ]
  },
  {
   "cell_type": "code",
   "execution_count": 52,
   "metadata": {},
   "outputs": [
    {
     "name": "stdout",
     "output_type": "stream",
     "text": [
      "{\r\n",
      "  \"espa_metadata\": {\r\n",
      "    \"@version\": \"2.0\",\r\n",
      "    \"@xmlns\": \"http://espa.cr.usgs.gov/v2\",\r\n",
      "    \"@xmlns:xsi\": \"http://www.w3.org/2001/XMLSchema-instance\",\r\n",
      "    \"@xsi:schemaLocation\": \"http://espa.cr.usgs.gov/v2 http://espa.cr.usgs.gov/schema/espa_internal_metadata_v2_0.xsd\",\r\n",
      "    \"global_metadata\": {\r\n",
      "      \"data_provider\": \"USGS/EROS\",\r\n",
      "      \"satellite\": \"LANDSAT_8\",\r\n",
      "      \"instrument\": \"OLI_TIRS\",\r\n",
      "      \"acquisition_date\": \"2014-06-15\",\r\n",
      "      \"scene_center_time\": \"18:39:36.4523780Z\",\r\n",
      "      \"level1_production_date\": \"2017-03-05T02:44:04Z\",\r\n",
      "      \"solar_angles\": {\r\n",
      "        \"@zenith\": \"22.750229\",\r\n",
      "        \"@azimuth\": \"122.556496\",\r\n",
      "        \"@units\": \"degrees\"\r\n",
      "      },\r\n",
      "      \"earth_sun_distance\": \"1.015752\",\r\n",
      "      \"wrs\": {\r\n",
      "        \"@system\": \"2\",\r\n",
      "        \"@path\": \"43\",\r\n",
      "        \"@row\": \"34\"\r\n",
      "      },\r\n",
      "      \"product_id\": \"LC08_L2SP_043034_20140615_20171210_01_A1\",\r\n",
      "      \"lpgs_metadata_file\": \"LC08_L1TP_043034_20140615_20170305_01_A1_MTL.txt\",\r\n",
      "      \"corner\": [\r\n",
      "        {\r\n",
      "          \"@location\": \"UL\",\r\n",
      "          \"@latitude\": \"38.305810\",\r\n",
      "          \"@longitude\": \"-122.400180\"\r\n",
      "        },\r\n",
      "        {\r\n",
      "          \"@location\": \"LR\",\r\n",
      "          \"@latitude\": \"36.607440\",\r\n",
      "          \"@longitude\": \"-118.761850\"\r\n",
      "        }\r\n",
      "      ],\r\n",
      "      \"bounding_coordinates\": {\r\n",
      "        \"west\": \"-122.400391\",\r\n",
      "        \"east\": \"-118.761646\",\r\n",
      "        \"north\": \"38.906857\",\r\n",
      "        \"south\": \"36.024220\"\r\n",
      "      },\r\n",
      "      \"projection_information\": {\r\n",
      "        \"@projection\": \"ALBERS\",\r\n",
      "        \"@datum\": \"WGS84\",\r\n",
      "        \"@units\": \"meters\",\r\n",
      "        \"corner_point\": [\r\n",
      "          {\r\n",
      "            \"@location\": \"UL\",\r\n",
      "            \"@x\": \"-2257500.000000\",\r\n",
      "            \"@y\": \"2012700.000000\"\r\n",
      "          },\r\n",
      "          {\r\n",
      "            \"@location\": \"LR\",\r\n",
      "            \"@x\": \"-1998000.000000\",\r\n",
      "            \"@y\": \"1747200.000000\"\r\n",
      "          }\r\n",
      "        ],\r\n",
      "        \"grid_origin\": \"CENTER\",\r\n",
      "        \"albers_proj_params\": {\r\n",
      "          \"standard_parallel1\": \"29.500000\",\r\n",
      "          \"standard_parallel2\": \"45.500000\",\r\n",
      "          \"central_meridian\": \"-96.000000\",\r\n",
      "          \"origin_latitude\": \"23.000000\",\r\n",
      "          \"false_easting\": \"0.000000\",\r\n",
      "          \"false_northing\": \"0.000000\"\r\n",
      "        }\r\n",
      "      },\r\n",
      "      \"orientation_angle\": \"0.000000\"\r\n",
      "    },\r\n",
      "    \"bands\": {\r\n",
      "      \"band\": [\r\n",
      "        {\r\n",
      "          \"@product\": \"level2_qa\",\r\n",
      "          \"@source\": \"level1\",\r\n",
      "          \"@name\": \"pixel_qa\",\r\n",
      "          \"@category\": \"qa\",\r\n",
      "          \"@data_type\": \"UINT16\",\r\n",
      "          \"@nlines\": \"8851\",\r\n",
      "          \"@nsamps\": \"8651\",\r\n",
      "          \"@fill_value\": \"1\",\r\n",
      "          \"short_name\": \"LC08PQA\",\r\n",
      "          \"long_name\": \"level-2 pixel quality band\",\r\n",
      "          \"file_name\": \"LC08_L2SP_043034_20140615_20171210_01_A1_pixel_qa.tif\",\r\n",
      "          \"pixel_size\": {\r\n",
      "            \"@x\": \"30\",\r\n",
      "            \"@y\": \"30\",\r\n",
      "            \"@units\": \"meters\"\r\n",
      "          },\r\n",
      "          \"resample_method\": \"none\",\r\n",
      "          \"data_units\": \"quality/feature classification\",\r\n",
      "          \"bitmap_description\": {\r\n",
      "            \"bit\": [\r\n",
      "              {\r\n",
      "                \"@num\": \"0\",\r\n",
      "                \"#text\": \"fill\"\r\n",
      "              },\r\n",
      "              {\r\n",
      "                \"@num\": \"1\",\r\n",
      "                \"#text\": \"clear\"\r\n",
      "              },\r\n",
      "              {\r\n",
      "                \"@num\": \"2\",\r\n",
      "                \"#text\": \"water\"\r\n",
      "              },\r\n",
      "              {\r\n",
      "                \"@num\": \"3\",\r\n",
      "                \"#text\": \"cloud shadow\"\r\n",
      "              },\r\n",
      "              {\r\n",
      "                \"@num\": \"4\",\r\n",
      "                \"#text\": \"snow\"\r\n",
      "              },\r\n",
      "              {\r\n",
      "                \"@num\": \"5\",\r\n",
      "                \"#text\": \"cloud\"\r\n",
      "              },\r\n",
      "              {\r\n",
      "                \"@num\": \"6\",\r\n",
      "                \"#text\": \"cloud confidence\"\r\n",
      "              },\r\n",
      "              {\r\n",
      "                \"@num\": \"7\",\r\n",
      "                \"#text\": \"cloud confidence\"\r\n",
      "              },\r\n",
      "              {\r\n",
      "                \"@num\": \"8\",\r\n",
      "                \"#text\": \"cirrus confidence\"\r\n",
      "              },\r\n",
      "              {\r\n",
      "                \"@num\": \"9\",\r\n",
      "                \"#text\": \"cirrus confidence\"\r\n",
      "              },\r\n",
      "              {\r\n",
      "                \"@num\": \"10\",\r\n",
      "                \"#text\": \"terrain occlusion\"\r\n",
      "              },\r\n",
      "              {\r\n",
      "                \"@num\": \"11\",\r\n",
      "                \"#text\": \"unused\"\r\n",
      "              },\r\n",
      "              {\r\n",
      "                \"@num\": \"12\",\r\n",
      "                \"#text\": \"unused\"\r\n",
      "              },\r\n",
      "              {\r\n",
      "                \"@num\": \"13\",\r\n",
      "                \"#text\": \"unused\"\r\n",
      "              },\r\n",
      "              {\r\n",
      "                \"@num\": \"14\",\r\n",
      "                \"#text\": \"unused\"\r\n",
      "              },\r\n",
      "              {\r\n",
      "                \"@num\": \"15\",\r\n",
      "                \"#text\": \"unused\"\r\n",
      "              }\r\n",
      "            ]\r\n",
      "          },\r\n",
      "          \"app_version\": \"generate_pixel_qa_1.6.0\",\r\n",
      "          \"production_date\": \"2017-10-12T23:21:19Z\"\r\n",
      "        },\r\n",
      "        {\r\n",
      "          \"@product\": \"angle_bands\",\r\n",
      "          \"@source\": \"level1\",\r\n",
      "          \"@name\": \"solar_zenith_band4\",\r\n",
      "          \"@category\": \"image\",\r\n",
      "          \"@data_type\": \"INT16\",\r\n",
      "          \"@nlines\": \"8851\",\r\n",
      "          \"@nsamps\": \"8651\",\r\n",
      "          \"@fill_value\": \"-32768\",\r\n",
      "          \"@scale_factor\": \"0.010000\",\r\n",
      "          \"short_name\": \"LC08SOLZEN\",\r\n",
      "          \"long_name\": \"band 4 solar zenith angles\",\r\n",
      "          \"file_name\": \"LC08_L2SP_043034_20140615_20171210_01_A1_solar_zenith_band4.tif\",\r\n",
      "          \"pixel_size\": {\r\n",
      "            \"@x\": \"30\",\r\n",
      "            \"@y\": \"30\",\r\n",
      "            \"@units\": \"meters\"\r\n",
      "          },\r\n",
      "          \"resample_method\": \"none\",\r\n",
      "          \"data_units\": \"degrees\",\r\n",
      "          \"app_version\": \"create_l8_angle_bands_1.13.2.b\",\r\n",
      "          \"production_date\": \"2017-10-12T23:21:38Z\"\r\n",
      "        },\r\n",
      "        {\r\n",
      "          \"@product\": \"angle_bands\",\r\n",
      "          \"@source\": \"level1\",\r\n",
      "          \"@name\": \"solar_azimuth_band4\",\r\n",
      "          \"@category\": \"image\",\r\n",
      "          \"@data_type\": \"INT16\",\r\n",
      "          \"@nlines\": \"8851\",\r\n",
      "          \"@nsamps\": \"8651\",\r\n",
      "          \"@fill_value\": \"-32768\",\r\n",
      "          \"@scale_factor\": \"0.010000\",\r\n",
      "          \"short_name\": \"LC08SOLAZ\",\r\n",
      "          \"long_name\": \"band 4 solar azimuth angles\",\r\n",
      "          \"file_name\": \"LC08_L2SP_043034_20140615_20171210_01_A1_solar_azimuth_band4.tif\",\r\n",
      "          \"pixel_size\": {\r\n",
      "            \"@x\": \"30\",\r\n",
      "            \"@y\": \"30\",\r\n",
      "            \"@units\": \"meters\"\r\n",
      "          },\r\n",
      "          \"resample_method\": \"none\",\r\n",
      "          \"data_units\": \"degrees\",\r\n",
      "          \"app_version\": \"create_l8_angle_bands_1.13.2.b\",\r\n",
      "          \"production_date\": \"2017-10-12T23:21:38Z\"\r\n",
      "        },\r\n",
      "        {\r\n",
      "          \"@product\": \"angle_bands\",\r\n",
      "          \"@source\": \"level1\",\r\n",
      "          \"@name\": \"sensor_zenith_band4\",\r\n",
      "          \"@category\": \"image\",\r\n",
      "          \"@data_type\": \"INT16\",\r\n",
      "          \"@nlines\": \"8851\",\r\n",
      "          \"@nsamps\": \"8651\",\r\n",
      "          \"@fill_value\": \"-32768\",\r\n",
      "          \"@scale_factor\": \"0.010000\",\r\n",
      "          \"short_name\": \"LC08SENZEN\",\r\n",
      "          \"long_name\": \"band 4 sensor zenith angles\",\r\n",
      "          \"file_name\": \"LC08_L2SP_043034_20140615_20171210_01_A1_sensor_zenith_band4.tif\",\r\n",
      "          \"pixel_size\": {\r\n",
      "            \"@x\": \"30\",\r\n",
      "            \"@y\": \"30\",\r\n",
      "            \"@units\": \"meters\"\r\n",
      "          },\r\n",
      "          \"resample_method\": \"none\",\r\n",
      "          \"data_units\": \"degrees\",\r\n",
      "          \"app_version\": \"create_l8_angle_bands_1.13.2.b\",\r\n",
      "          \"production_date\": \"2017-10-12T23:21:38Z\"\r\n",
      "        },\r\n",
      "        {\r\n",
      "          \"@product\": \"angle_bands\",\r\n",
      "          \"@source\": \"level1\",\r\n",
      "          \"@name\": \"sensor_azimuth_band4\",\r\n",
      "          \"@category\": \"image\",\r\n",
      "          \"@data_type\": \"INT16\",\r\n",
      "          \"@nlines\": \"8851\",\r\n",
      "          \"@nsamps\": \"8651\",\r\n",
      "          \"@fill_value\": \"-32768\",\r\n",
      "          \"@scale_factor\": \"0.010000\",\r\n",
      "          \"short_name\": \"LC08SENAZ\",\r\n",
      "          \"long_name\": \"band 4 sensor azimuth angles\",\r\n",
      "          \"file_name\": \"LC08_L2SP_043034_20140615_20171210_01_A1_sensor_azimuth_band4.tif\",\r\n",
      "          \"pixel_size\": {\r\n",
      "            \"@x\": \"30\",\r\n",
      "            \"@y\": \"30\",\r\n",
      "            \"@units\": \"meters\"\r\n",
      "          },\r\n",
      "          \"resample_method\": \"none\",\r\n",
      "          \"data_units\": \"degrees\",\r\n",
      "          \"app_version\": \"create_l8_angle_bands_1.13.2.b\",\r\n",
      "          \"production_date\": \"2017-10-12T23:21:38Z\"\r\n",
      "        },\r\n",
      "        {\r\n",
      "          \"@product\": \"toa_refl\",\r\n",
      "          \"@name\": \"toa_band1\",\r\n",
      "          \"@category\": \"image\",\r\n",
      "          \"@data_type\": \"INT16\",\r\n",
      "          \"@nlines\": \"8851\",\r\n",
      "          \"@nsamps\": \"8651\",\r\n",
      "          \"@fill_value\": \"-9999\",\r\n",
      "          \"@scale_factor\": \"0.000100\",\r\n",
      "          \"short_name\": \"LC08TOA\",\r\n",
      "          \"long_name\": \"band 1 top-of-atmosphere reflectance\",\r\n",
      "          \"file_name\": \"LC08_L2SP_043034_20140615_20171210_01_A1_toa_band1.tif\",\r\n",
      "          \"pixel_size\": {\r\n",
      "            \"@x\": \"30\",\r\n",
      "            \"@y\": \"30\",\r\n",
      "            \"@units\": \"meters\"\r\n",
      "          },\r\n",
      "          \"resample_method\": \"none\",\r\n",
      "          \"data_units\": \"reflectance\",\r\n",
      "          \"valid_range\": {\r\n",
      "            \"@min\": \"-2000.000000\",\r\n",
      "            \"@max\": \"16000.000000\"\r\n",
      "          },\r\n",
      "          \"app_version\": \"LaSRC_1.3.0\",\r\n",
      "          \"production_date\": \"2017-10-12T23:23:38Z\"\r\n",
      "        },\r\n",
      "        {\r\n",
      "          \"@product\": \"toa_refl\",\r\n",
      "          \"@name\": \"toa_band2\",\r\n",
      "          \"@category\": \"image\",\r\n",
      "          \"@data_type\": \"INT16\",\r\n",
      "          \"@nlines\": \"8851\",\r\n",
      "          \"@nsamps\": \"8651\",\r\n",
      "          \"@fill_value\": \"-9999\",\r\n",
      "          \"@scale_factor\": \"0.000100\",\r\n",
      "          \"short_name\": \"LC08TOA\",\r\n",
      "          \"long_name\": \"band 2 top-of-atmosphere reflectance\",\r\n",
      "          \"file_name\": \"LC08_L2SP_043034_20140615_20171210_01_A1_toa_band2.tif\",\r\n",
      "          \"pixel_size\": {\r\n",
      "            \"@x\": \"30\",\r\n",
      "            \"@y\": \"30\",\r\n",
      "            \"@units\": \"meters\"\r\n",
      "          },\r\n",
      "          \"resample_method\": \"none\",\r\n",
      "          \"data_units\": \"reflectance\",\r\n",
      "          \"valid_range\": {\r\n",
      "            \"@min\": \"-2000.000000\",\r\n",
      "            \"@max\": \"16000.000000\"\r\n",
      "          },\r\n",
      "          \"app_version\": \"LaSRC_1.3.0\",\r\n",
      "          \"production_date\": \"2017-10-12T23:23:38Z\"\r\n",
      "        },\r\n",
      "        {\r\n",
      "          \"@product\": \"toa_refl\",\r\n",
      "          \"@name\": \"toa_band3\",\r\n",
      "          \"@category\": \"image\",\r\n",
      "          \"@data_type\": \"INT16\",\r\n",
      "          \"@nlines\": \"8851\",\r\n",
      "          \"@nsamps\": \"8651\",\r\n",
      "          \"@fill_value\": \"-9999\",\r\n",
      "          \"@scale_factor\": \"0.000100\",\r\n",
      "          \"short_name\": \"LC08TOA\",\r\n",
      "          \"long_name\": \"band 3 top-of-atmosphere reflectance\",\r\n",
      "          \"file_name\": \"LC08_L2SP_043034_20140615_20171210_01_A1_toa_band3.tif\",\r\n",
      "          \"pixel_size\": {\r\n",
      "            \"@x\": \"30\",\r\n"
     ]
    },
    {
     "name": "stdout",
     "output_type": "stream",
     "text": [
      "            \"@y\": \"30\",\r\n",
      "            \"@units\": \"meters\"\r\n",
      "          },\r\n",
      "          \"resample_method\": \"none\",\r\n",
      "          \"data_units\": \"reflectance\",\r\n",
      "          \"valid_range\": {\r\n",
      "            \"@min\": \"-2000.000000\",\r\n",
      "            \"@max\": \"16000.000000\"\r\n",
      "          },\r\n",
      "          \"app_version\": \"LaSRC_1.3.0\",\r\n",
      "          \"production_date\": \"2017-10-12T23:23:38Z\"\r\n",
      "        },\r\n",
      "        {\r\n",
      "          \"@product\": \"toa_refl\",\r\n",
      "          \"@name\": \"toa_band4\",\r\n",
      "          \"@category\": \"image\",\r\n",
      "          \"@data_type\": \"INT16\",\r\n",
      "          \"@nlines\": \"8851\",\r\n",
      "          \"@nsamps\": \"8651\",\r\n",
      "          \"@fill_value\": \"-9999\",\r\n",
      "          \"@scale_factor\": \"0.000100\",\r\n",
      "          \"short_name\": \"LC08TOA\",\r\n",
      "          \"long_name\": \"band 4 top-of-atmosphere reflectance\",\r\n",
      "          \"file_name\": \"LC08_L2SP_043034_20140615_20171210_01_A1_toa_band4.tif\",\r\n",
      "          \"pixel_size\": {\r\n",
      "            \"@x\": \"30\",\r\n",
      "            \"@y\": \"30\",\r\n",
      "            \"@units\": \"meters\"\r\n",
      "          },\r\n",
      "          \"resample_method\": \"none\",\r\n",
      "          \"data_units\": \"reflectance\",\r\n",
      "          \"valid_range\": {\r\n",
      "            \"@min\": \"-2000.000000\",\r\n",
      "            \"@max\": \"16000.000000\"\r\n",
      "          },\r\n",
      "          \"app_version\": \"LaSRC_1.3.0\",\r\n",
      "          \"production_date\": \"2017-10-12T23:23:38Z\"\r\n",
      "        },\r\n",
      "        {\r\n",
      "          \"@product\": \"toa_refl\",\r\n",
      "          \"@name\": \"toa_band5\",\r\n",
      "          \"@category\": \"image\",\r\n",
      "          \"@data_type\": \"INT16\",\r\n",
      "          \"@nlines\": \"8851\",\r\n",
      "          \"@nsamps\": \"8651\",\r\n",
      "          \"@fill_value\": \"-9999\",\r\n",
      "          \"@scale_factor\": \"0.000100\",\r\n",
      "          \"short_name\": \"LC08TOA\",\r\n",
      "          \"long_name\": \"band 5 top-of-atmosphere reflectance\",\r\n",
      "          \"file_name\": \"LC08_L2SP_043034_20140615_20171210_01_A1_toa_band5.tif\",\r\n",
      "          \"pixel_size\": {\r\n",
      "            \"@x\": \"30\",\r\n",
      "            \"@y\": \"30\",\r\n",
      "            \"@units\": \"meters\"\r\n",
      "          },\r\n",
      "          \"resample_method\": \"none\",\r\n",
      "          \"data_units\": \"reflectance\",\r\n",
      "          \"valid_range\": {\r\n",
      "            \"@min\": \"-2000.000000\",\r\n",
      "            \"@max\": \"16000.000000\"\r\n",
      "          },\r\n",
      "          \"app_version\": \"LaSRC_1.3.0\",\r\n",
      "          \"production_date\": \"2017-10-12T23:23:38Z\"\r\n",
      "        },\r\n",
      "        {\r\n",
      "          \"@product\": \"toa_refl\",\r\n",
      "          \"@name\": \"toa_band6\",\r\n",
      "          \"@category\": \"image\",\r\n",
      "          \"@data_type\": \"INT16\",\r\n",
      "          \"@nlines\": \"8851\",\r\n",
      "          \"@nsamps\": \"8651\",\r\n",
      "          \"@fill_value\": \"-9999\",\r\n",
      "          \"@scale_factor\": \"0.000100\",\r\n",
      "          \"short_name\": \"LC08TOA\",\r\n",
      "          \"long_name\": \"band 6 top-of-atmosphere reflectance\",\r\n",
      "          \"file_name\": \"LC08_L2SP_043034_20140615_20171210_01_A1_toa_band6.tif\",\r\n",
      "          \"pixel_size\": {\r\n",
      "            \"@x\": \"30\",\r\n",
      "            \"@y\": \"30\",\r\n",
      "            \"@units\": \"meters\"\r\n",
      "          },\r\n",
      "          \"resample_method\": \"none\",\r\n",
      "          \"data_units\": \"reflectance\",\r\n",
      "          \"valid_range\": {\r\n",
      "            \"@min\": \"-2000.000000\",\r\n",
      "            \"@max\": \"16000.000000\"\r\n",
      "          },\r\n",
      "          \"app_version\": \"LaSRC_1.3.0\",\r\n",
      "          \"production_date\": \"2017-10-12T23:23:38Z\"\r\n",
      "        },\r\n",
      "        {\r\n",
      "          \"@product\": \"toa_refl\",\r\n",
      "          \"@name\": \"toa_band7\",\r\n",
      "          \"@category\": \"image\",\r\n",
      "          \"@data_type\": \"INT16\",\r\n",
      "          \"@nlines\": \"8851\",\r\n",
      "          \"@nsamps\": \"8651\",\r\n",
      "          \"@fill_value\": \"-9999\",\r\n",
      "          \"@scale_factor\": \"0.000100\",\r\n",
      "          \"short_name\": \"LC08TOA\",\r\n",
      "          \"long_name\": \"band 7 top-of-atmosphere reflectance\",\r\n",
      "          \"file_name\": \"LC08_L2SP_043034_20140615_20171210_01_A1_toa_band7.tif\",\r\n",
      "          \"pixel_size\": {\r\n",
      "            \"@x\": \"30\",\r\n",
      "            \"@y\": \"30\",\r\n",
      "            \"@units\": \"meters\"\r\n",
      "          },\r\n",
      "          \"resample_method\": \"none\",\r\n",
      "          \"data_units\": \"reflectance\",\r\n",
      "          \"valid_range\": {\r\n",
      "            \"@min\": \"-2000.000000\",\r\n",
      "            \"@max\": \"16000.000000\"\r\n",
      "          },\r\n",
      "          \"app_version\": \"LaSRC_1.3.0\",\r\n",
      "          \"production_date\": \"2017-10-12T23:23:38Z\"\r\n",
      "        },\r\n",
      "        {\r\n",
      "          \"@product\": \"toa_refl\",\r\n",
      "          \"@name\": \"toa_band9\",\r\n",
      "          \"@category\": \"image\",\r\n",
      "          \"@data_type\": \"INT16\",\r\n",
      "          \"@nlines\": \"8851\",\r\n",
      "          \"@nsamps\": \"8651\",\r\n",
      "          \"@fill_value\": \"-9999\",\r\n",
      "          \"@scale_factor\": \"0.000100\",\r\n",
      "          \"short_name\": \"LC08TOA\",\r\n",
      "          \"long_name\": \"band 9 top-of-atmosphere reflectance\",\r\n",
      "          \"file_name\": \"LC08_L2SP_043034_20140615_20171210_01_A1_toa_band9.tif\",\r\n",
      "          \"pixel_size\": {\r\n",
      "            \"@x\": \"30\",\r\n",
      "            \"@y\": \"30\",\r\n",
      "            \"@units\": \"meters\"\r\n",
      "          },\r\n",
      "          \"resample_method\": \"none\",\r\n",
      "          \"data_units\": \"reflectance\",\r\n",
      "          \"valid_range\": {\r\n",
      "            \"@min\": \"-2000.000000\",\r\n",
      "            \"@max\": \"16000.000000\"\r\n",
      "          },\r\n",
      "          \"app_version\": \"LaSRC_1.3.0\",\r\n",
      "          \"production_date\": \"2017-10-12T23:23:38Z\"\r\n",
      "        },\r\n",
      "        {\r\n",
      "          \"@product\": \"toa_bt\",\r\n",
      "          \"@name\": \"bt_band10\",\r\n",
      "          \"@category\": \"image\",\r\n",
      "          \"@data_type\": \"INT16\",\r\n",
      "          \"@nlines\": \"8851\",\r\n",
      "          \"@nsamps\": \"8651\",\r\n",
      "          \"@fill_value\": \"-9999\",\r\n",
      "          \"@scale_factor\": \"0.100000\",\r\n",
      "          \"short_name\": \"LC08BT\",\r\n",
      "          \"long_name\": \"band 10 at-satellite brightness temperature\",\r\n",
      "          \"file_name\": \"LC08_L2SP_043034_20140615_20171210_01_A1_bt_band10.tif\",\r\n",
      "          \"pixel_size\": {\r\n",
      "            \"@x\": \"30\",\r\n",
      "            \"@y\": \"30\",\r\n",
      "            \"@units\": \"meters\"\r\n",
      "          },\r\n",
      "          \"resample_method\": \"none\",\r\n",
      "          \"data_units\": \"temperature (kelvin)\",\r\n",
      "          \"valid_range\": {\r\n",
      "            \"@min\": \"1500.000000\",\r\n",
      "            \"@max\": \"3500.000000\"\r\n",
      "          },\r\n",
      "          \"app_version\": \"LaSRC_1.3.0\",\r\n",
      "          \"production_date\": \"2017-10-12T23:23:38Z\"\r\n",
      "        },\r\n",
      "        {\r\n",
      "          \"@product\": \"toa_bt\",\r\n",
      "          \"@name\": \"bt_band11\",\r\n",
      "          \"@category\": \"image\",\r\n",
      "          \"@data_type\": \"INT16\",\r\n",
      "          \"@nlines\": \"8851\",\r\n",
      "          \"@nsamps\": \"8651\",\r\n",
      "          \"@fill_value\": \"-9999\",\r\n",
      "          \"@scale_factor\": \"0.100000\",\r\n",
      "          \"short_name\": \"LC08BT\",\r\n",
      "          \"long_name\": \"band 11 at-satellite brightness temperature\",\r\n",
      "          \"file_name\": \"LC08_L2SP_043034_20140615_20171210_01_A1_bt_band11.tif\",\r\n",
      "          \"pixel_size\": {\r\n",
      "            \"@x\": \"30\",\r\n",
      "            \"@y\": \"30\",\r\n",
      "            \"@units\": \"meters\"\r\n",
      "          },\r\n",
      "          \"resample_method\": \"none\",\r\n",
      "          \"data_units\": \"temperature (kelvin)\",\r\n",
      "          \"valid_range\": {\r\n",
      "            \"@min\": \"1500.000000\",\r\n",
      "            \"@max\": \"3500.000000\"\r\n",
      "          },\r\n",
      "          \"app_version\": \"LaSRC_1.3.0\",\r\n",
      "          \"production_date\": \"2017-10-12T23:23:38Z\"\r\n",
      "        },\r\n",
      "        {\r\n",
      "          \"@product\": \"toa_refl\",\r\n",
      "          \"@source\": \"level1\",\r\n",
      "          \"@name\": \"radsat_qa\",\r\n",
      "          \"@category\": \"qa\",\r\n",
      "          \"@data_type\": \"UINT16\",\r\n",
      "          \"@nlines\": \"8851\",\r\n",
      "          \"@nsamps\": \"8651\",\r\n",
      "          \"@fill_value\": \"1\",\r\n",
      "          \"short_name\": \"LC08RADSAT\",\r\n",
      "          \"long_name\": \"saturation mask\",\r\n",
      "          \"file_name\": \"LC08_L2SP_043034_20140615_20171210_01_A1_radsat_qa.tif\",\r\n",
      "          \"pixel_size\": {\r\n",
      "            \"@x\": \"30\",\r\n",
      "            \"@y\": \"30\",\r\n",
      "            \"@units\": \"meters\"\r\n",
      "          },\r\n",
      "          \"resample_method\": \"none\",\r\n",
      "          \"data_units\": \"bitmap\",\r\n",
      "          \"bitmap_description\": {\r\n",
      "            \"bit\": [\r\n",
      "              {\r\n",
      "                \"@num\": \"0\",\r\n",
      "                \"#text\": \"Data Fill Flag (0 = valid data, 1 = invalid data)\"\r\n",
      "              },\r\n",
      "              {\r\n",
      "                \"@num\": \"1\",\r\n",
      "                \"#text\": \"Band 1 Data Saturation Flag (0 = valid data, 1 = saturated data)\"\r\n",
      "              },\r\n",
      "              {\r\n",
      "                \"@num\": \"2\",\r\n",
      "                \"#text\": \"Band 2 Data Saturation Flag (0 = valid data, 1 = saturated data)\"\r\n",
      "              },\r\n",
      "              {\r\n",
      "                \"@num\": \"3\",\r\n",
      "                \"#text\": \"Band 3 Data Saturation Flag (0 = valid data, 1 = saturated data)\"\r\n",
      "              },\r\n",
      "              {\r\n",
      "                \"@num\": \"4\",\r\n",
      "                \"#text\": \"Band 4 Data Saturation Flag (0 = valid data, 1 = saturated data)\"\r\n",
      "              },\r\n",
      "              {\r\n",
      "                \"@num\": \"5\",\r\n",
      "                \"#text\": \"Band 5 Data Saturation Flag (0 = valid data, 1 = saturated data)\"\r\n",
      "              },\r\n",
      "              {\r\n",
      "                \"@num\": \"6\",\r\n",
      "                \"#text\": \"Band 6 Data Saturation Flag (0 = valid data, 1 = saturated data)\"\r\n",
      "              },\r\n",
      "              {\r\n",
      "                \"@num\": \"7\",\r\n",
      "                \"#text\": \"Band 7 Data Saturation Flag (0 = valid data, 1 = saturated data)\"\r\n",
      "              },\r\n",
      "              {\r\n",
      "                \"@num\": \"8\",\r\n",
      "                \"#text\": \"N/A\"\r\n",
      "              },\r\n",
      "              {\r\n",
      "                \"@num\": \"9\",\r\n",
      "                \"#text\": \"Band 9 Data Saturation Flag (0 = valid data, 1 = saturated data)\"\r\n",
      "              },\r\n",
      "              {\r\n",
      "                \"@num\": \"10\",\r\n",
      "                \"#text\": \"Band 10 Data Saturation Flag (0 = valid data, 1 = saturated data)\"\r\n",
      "              },\r\n",
      "              {\r\n",
      "                \"@num\": \"11\",\r\n",
      "                \"#text\": \"Band 11 Data Saturation Flag (0 = valid data, 1 = saturated data)\"\r\n",
      "              }\r\n",
      "            ]\r\n",
      "          },\r\n",
      "          \"app_version\": \"LaSRC_1.3.0\",\r\n",
      "          \"production_date\": \"2017-10-12T23:23:40Z\"\r\n",
      "        },\r\n",
      "        {\r\n",
      "          \"@product\": \"sr_refl\",\r\n",
      "          \"@name\": \"sr_band1\",\r\n",
      "          \"@category\": \"image\",\r\n",
      "          \"@data_type\": \"INT16\",\r\n",
      "          \"@nlines\": \"8851\",\r\n",
      "          \"@nsamps\": \"8651\",\r\n",
      "          \"@fill_value\": \"-9999\",\r\n",
      "          \"@scale_factor\": \"0.000100\",\r\n",
      "          \"short_name\": \"LC08SR\",\r\n",
      "          \"long_name\": \"band 1 surface reflectance\",\r\n",
      "          \"file_name\": \"LC08_L2SP_043034_20140615_20171210_01_A1_sr_band1.tif\",\r\n",
      "          \"pixel_size\": {\r\n",
      "            \"@x\": \"30\",\r\n",
      "            \"@y\": \"30\",\r\n",
      "            \"@units\": \"meters\"\r\n",
      "          },\r\n",
      "          \"resample_method\": \"none\",\r\n",
      "          \"data_units\": \"reflectance\",\r\n",
      "          \"valid_range\": {\r\n",
      "            \"@min\": \"-2000.000000\",\r\n",
      "            \"@max\": \"16000.000000\"\r\n",
      "          },\r\n",
      "          \"app_version\": \"LaSRC_1.3.0\",\r\n",
      "          \"production_date\": \"2017-10-12T23:24:44Z\"\r\n",
      "        },\r\n",
      "        {\r\n",
      "          \"@product\": \"sr_refl\",\r\n",
      "          \"@name\": \"sr_band2\",\r\n",
      "          \"@category\": \"image\",\r\n",
      "          \"@data_type\": \"INT16\",\r\n",
      "          \"@nlines\": \"8851\",\r\n",
      "          \"@nsamps\": \"8651\",\r\n",
      "          \"@fill_value\": \"-9999\",\r\n",
      "          \"@scale_factor\": \"0.000100\",\r\n",
      "          \"short_name\": \"LC08SR\",\r\n",
      "          \"long_name\": \"band 2 surface reflectance\",\r\n",
      "          \"file_name\": \"LC08_L2SP_043034_20140615_20171210_01_A1_sr_band2.tif\",\r\n",
      "          \"pixel_size\": {\r\n",
      "            \"@x\": \"30\",\r\n",
      "            \"@y\": \"30\",\r\n",
      "            \"@units\": \"meters\"\r\n",
      "          },\r\n",
      "          \"resample_method\": \"none\",\r\n",
      "          \"data_units\": \"reflectance\",\r\n",
      "          \"valid_range\": {\r\n",
      "            \"@min\": \"-2000.000000\",\r\n",
      "            \"@max\": \"16000.000000\"\r\n",
      "          },\r\n",
      "          \"app_version\": \"LaSRC_1.3.0\",\r\n",
      "          \"production_date\": \"2017-10-12T23:24:44Z\"\r\n",
      "        },\r\n",
      "        {\r\n",
      "          \"@product\": \"sr_refl\",\r\n",
      "          \"@name\": \"sr_band3\",\r\n",
      "          \"@category\": \"image\",\r\n",
      "          \"@data_type\": \"INT16\",\r\n",
      "          \"@nlines\": \"8851\",\r\n",
      "          \"@nsamps\": \"8651\",\r\n",
      "          \"@fill_value\": \"-9999\",\r\n",
      "          \"@scale_factor\": \"0.000100\",\r\n",
      "          \"short_name\": \"LC08SR\",\r\n",
      "          \"long_name\": \"band 3 surface reflectance\",\r\n",
      "          \"file_name\": \"LC08_L2SP_043034_20140615_20171210_01_A1_sr_band3.tif\",\r\n",
      "          \"pixel_size\": {\r\n",
      "            \"@x\": \"30\",\r\n",
      "            \"@y\": \"30\",\r\n",
      "            \"@units\": \"meters\"\r\n",
      "          },\r\n",
      "          \"resample_method\": \"none\",\r\n",
      "          \"data_units\": \"reflectance\",\r\n",
      "          \"valid_range\": {\r\n",
      "            \"@min\": \"-2000.000000\",\r\n",
      "            \"@max\": \"16000.000000\"\r\n",
      "          },\r\n",
      "          \"app_version\": \"LaSRC_1.3.0\",\r\n",
      "          \"production_date\": \"2017-10-12T23:24:44Z\"\r\n",
      "        },\r\n",
      "        {\r\n",
      "          \"@product\": \"sr_refl\",\r\n",
      "          \"@name\": \"sr_band4\",\r\n",
      "          \"@category\": \"image\",\r\n",
      "          \"@data_type\": \"INT16\",\r\n",
      "          \"@nlines\": \"8851\",\r\n",
      "          \"@nsamps\": \"8651\",\r\n",
      "          \"@fill_value\": \"-9999\",\r\n",
      "          \"@scale_factor\": \"0.000100\",\r\n",
      "          \"short_name\": \"LC08SR\",\r\n",
      "          \"long_name\": \"band 4 surface reflectance\",\r\n",
      "          \"file_name\": \"LC08_L2SP_043034_20140615_20171210_01_A1_sr_band4.tif\",\r\n",
      "          \"pixel_size\": {\r\n",
      "            \"@x\": \"30\",\r\n",
      "            \"@y\": \"30\",\r\n",
      "            \"@units\": \"meters\"\r\n",
      "          },\r\n",
      "          \"resample_method\": \"none\",\r\n",
      "          \"data_units\": \"reflectance\",\r\n",
      "          \"valid_range\": {\r\n",
      "            \"@min\": \"-2000.000000\",\r\n",
      "            \"@max\": \"16000.000000\"\r\n",
      "          },\r\n",
      "          \"app_version\": \"LaSRC_1.3.0\",\r\n",
      "          \"production_date\": \"2017-10-12T23:24:44Z\"\r\n",
      "        },\r\n",
      "        {\r\n",
      "          \"@product\": \"sr_refl\",\r\n",
      "          \"@name\": \"sr_band5\",\r\n",
      "          \"@category\": \"image\",\r\n",
      "          \"@data_type\": \"INT16\",\r\n",
      "          \"@nlines\": \"8851\",\r\n",
      "          \"@nsamps\": \"8651\",\r\n",
      "          \"@fill_value\": \"-9999\",\r\n",
      "          \"@scale_factor\": \"0.000100\",\r\n",
      "          \"short_name\": \"LC08SR\",\r\n",
      "          \"long_name\": \"band 5 surface reflectance\",\r\n",
      "          \"file_name\": \"LC08_L2SP_043034_20140615_20171210_01_A1_sr_band5.tif\",\r\n",
      "          \"pixel_size\": {\r\n",
      "            \"@x\": \"30\",\r\n",
      "            \"@y\": \"30\",\r\n",
      "            \"@units\": \"meters\"\r\n",
      "          },\r\n",
      "          \"resample_method\": \"none\",\r\n",
      "          \"data_units\": \"reflectance\",\r\n",
      "          \"valid_range\": {\r\n",
      "            \"@min\": \"-2000.000000\",\r\n",
      "            \"@max\": \"16000.000000\"\r\n",
      "          },\r\n",
      "          \"app_version\": \"LaSRC_1.3.0\",\r\n",
      "          \"production_date\": \"2017-10-12T23:24:44Z\"\r\n",
      "        },\r\n",
      "        {\r\n",
      "          \"@product\": \"sr_refl\",\r\n",
      "          \"@name\": \"sr_band6\",\r\n",
      "          \"@category\": \"image\",\r\n",
      "          \"@data_type\": \"INT16\",\r\n",
      "          \"@nlines\": \"8851\",\r\n",
      "          \"@nsamps\": \"8651\",\r\n",
      "          \"@fill_value\": \"-9999\",\r\n",
      "          \"@scale_factor\": \"0.000100\",\r\n",
      "          \"short_name\": \"LC08SR\",\r\n",
      "          \"long_name\": \"band 6 surface reflectance\",\r\n",
      "          \"file_name\": \"LC08_L2SP_043034_20140615_20171210_01_A1_sr_band6.tif\",\r\n",
      "          \"pixel_size\": {\r\n",
      "            \"@x\": \"30\",\r\n",
      "            \"@y\": \"30\",\r\n",
      "            \"@units\": \"meters\"\r\n",
      "          },\r\n",
      "          \"resample_method\": \"none\",\r\n",
      "          \"data_units\": \"reflectance\",\r\n",
      "          \"valid_range\": {\r\n",
      "            \"@min\": \"-2000.000000\",\r\n",
      "            \"@max\": \"16000.000000\"\r\n",
      "          },\r\n",
      "          \"app_version\": \"LaSRC_1.3.0\",\r\n",
      "          \"production_date\": \"2017-10-12T23:24:44Z\"\r\n",
      "        },\r\n",
      "        {\r\n",
      "          \"@product\": \"sr_refl\",\r\n",
      "          \"@name\": \"sr_band7\",\r\n",
      "          \"@category\": \"image\",\r\n",
      "          \"@data_type\": \"INT16\",\r\n",
      "          \"@nlines\": \"8851\",\r\n",
      "          \"@nsamps\": \"8651\",\r\n",
      "          \"@fill_value\": \"-9999\",\r\n",
      "          \"@scale_factor\": \"0.000100\",\r\n",
      "          \"short_name\": \"LC08SR\",\r\n",
      "          \"long_name\": \"band 7 surface reflectance\",\r\n",
      "          \"file_name\": \"LC08_L2SP_043034_20140615_20171210_01_A1_sr_band7.tif\",\r\n",
      "          \"pixel_size\": {\r\n",
      "            \"@x\": \"30\",\r\n",
      "            \"@y\": \"30\",\r\n",
      "            \"@units\": \"meters\"\r\n",
      "          },\r\n",
      "          \"resample_method\": \"none\",\r\n",
      "          \"data_units\": \"reflectance\",\r\n",
      "          \"valid_range\": {\r\n",
      "            \"@min\": \"-2000.000000\",\r\n",
      "            \"@max\": \"16000.000000\"\r\n",
      "          },\r\n",
      "          \"app_version\": \"LaSRC_1.3.0\",\r\n",
      "          \"production_date\": \"2017-10-12T23:24:44Z\"\r\n",
      "        },\r\n",
      "        {\r\n",
      "          \"@product\": \"sr_refl\",\r\n",
      "          \"@name\": \"sr_aerosol\",\r\n",
      "          \"@category\": \"qa\",\r\n",
      "          \"@data_type\": \"UINT8\",\r\n",
      "          \"@nlines\": \"8851\",\r\n",
      "          \"@nsamps\": \"8651\",\r\n",
      "          \"@fill_value\": \"1\",\r\n",
      "          \"short_name\": \"LC08AERO\",\r\n",
      "          \"long_name\": \"surface reflectance aerosol mask\",\r\n",
      "          \"file_name\": \"LC08_L2SP_043034_20140615_20171210_01_A1_sr_aerosol.tif\",\r\n",
      "          \"pixel_size\": {\r\n",
      "            \"@x\": \"30\",\r\n",
      "            \"@y\": \"30\",\r\n",
      "            \"@units\": \"meters\"\r\n",
      "          },\r\n",
      "          \"resample_method\": \"none\",\r\n",
      "          \"data_units\": \"quality/feature classification\",\r\n",
      "          \"bitmap_description\": {\r\n",
      "            \"bit\": [\r\n",
      "              {\r\n",
      "                \"@num\": \"0\",\r\n",
      "                \"#text\": \"fill\"\r\n",
      "              },\r\n",
      "              {\r\n",
      "                \"@num\": \"1\",\r\n",
      "                \"#text\": \"valid aerosol retrieval (center pixel of NxN window)\"\r\n",
      "              },\r\n",
      "              {\r\n",
      "                \"@num\": \"2\",\r\n",
      "                \"#text\": \"water pixel (or water pixel was used in the fill-the-window interpolation)\"\r\n",
      "              },\r\n",
      "              {\r\n",
      "                \"@num\": \"3\",\r\n",
      "                \"#text\": \"cloud or cirrus\"\r\n",
      "              },\r\n",
      "              {\r\n",
      "                \"@num\": \"4\",\r\n",
      "                \"#text\": \"cloud shadow\"\r\n",
      "              },\r\n",
      "              {\r\n",
      "                \"@num\": \"5\",\r\n",
      "                \"#text\": \"non-center window pixel for which aerosol was interpolated from surrounding NxN center pixels\"\r\n",
      "              },\r\n",
      "              {\r\n",
      "                \"@num\": \"6\",\r\n",
      "                \"#text\": \"aerosol level\"\r\n",
      "              },\r\n",
      "              {\r\n",
      "                \"@num\": \"7\",\r\n",
      "                \"#text\": \"aerosol level\"\r\n",
      "              }\r\n",
      "            ]\r\n",
      "          },\r\n",
      "          \"app_version\": \"LaSRC_1.3.0\",\r\n",
      "          \"production_date\": \"2017-10-12T23:24:44Z\"\r\n",
      "        }\r\n",
      "      ]\r\n",
      "    }\r\n",
      "  }\r\n",
      "}"
     ]
    }
   ],
   "source": [
    "! aws s3 cp s3://lsaa-staging-cog/L08/2014/043/034/LC08_L2SP_043034_20140615_20171210_01_A1/LC08_L2SP_043034_20140615_20171210_01_A1.json -"
   ]
  },
  {
   "cell_type": "markdown",
   "metadata": {},
   "source": [
    "- BoundingBox(left=-2257500.0, bottom=1747200.0, right=-1998000.0, top=2012700.0)"
   ]
  },
  {
   "cell_type": "code",
   "execution_count": 53,
   "metadata": {},
   "outputs": [
    {
     "name": "stdout",
     "output_type": "stream",
     "text": [
      "2018-08-14 21:30:38       9660 LC08_L2SP_043034_20140615_20171210_01_A1_MTL.json\r\n"
     ]
    }
   ],
   "source": [
    "! aws s3 ls lsaa-staging-cog/L08/2014/043/034/LC08_L2SP_043034_20140615_20171210_01_A1/LC08_L2SP_043034_20140615_20171210_01_A1_MTL.json"
   ]
  },
  {
   "cell_type": "code",
   "execution_count": 54,
   "metadata": {
    "scrolled": false
   },
   "outputs": [
    {
     "name": "stdout",
     "output_type": "stream",
     "text": [
      "{\r\n",
      "  \"L1_METADATA_FILE\": {\r\n",
      "    \"METADATA_FILE_INFO\": {\r\n",
      "      \"ORIGIN\": \"Image courtesy of the U.S. Geological Survey\",\r\n",
      "      \"REQUEST_ID\": \"0701703046872_00018\",\r\n",
      "      \"LANDSAT_SCENE_ID\": \"LC80430342014166LGN01\",\r\n",
      "      \"LANDSAT_PRODUCT_ID\": \"LC08_L1TP_043034_20140615_20170305_01_A1\",\r\n",
      "      \"COLLECTION_NUMBER\": \"01\",\r\n",
      "      \"FILE_DATE\": \"2017-03-05T02:44:04Z\",\r\n",
      "      \"STATION_ID\": \"LGN\",\r\n",
      "      \"PROCESSING_SOFTWARE_VERSION\": \"LPGS_2.7.0\"\r\n",
      "    },\r\n",
      "    \"PRODUCT_METADATA\": {\r\n",
      "      \"DATA_TYPE\": \"L1TP\",\r\n",
      "      \"COLLECTION_CATEGORY\": \"A1\",\r\n",
      "      \"ELEVATION_SOURCE\": \"GLS2000\",\r\n",
      "      \"OUTPUT_FORMAT\": \"GEOTIFF\",\r\n",
      "      \"SPACECRAFT_ID\": \"LANDSAT_8\",\r\n",
      "      \"SENSOR_ID\": \"OLI_TIRS\",\r\n",
      "      \"WRS_PATH\": \"43\",\r\n",
      "      \"WRS_ROW\": \"34\",\r\n",
      "      \"NADIR_OFFNADIR\": \"NADIR\",\r\n",
      "      \"TARGET_WRS_PATH\": \"43\",\r\n",
      "      \"TARGET_WRS_ROW\": \"34\",\r\n",
      "      \"DATE_ACQUIRED\": \"2014-06-15\",\r\n",
      "      \"SCENE_CENTER_TIME\": \"18:39:36.4523780Z\",\r\n",
      "      \"CORNER_UL_LAT_PRODUCT\": \"38.30581\",\r\n",
      "      \"CORNER_UL_LON_PRODUCT\": \"-122.40018\",\r\n",
      "      \"CORNER_UR_LAT_PRODUCT\": \"38.90669\",\r\n",
      "      \"CORNER_UR_LON_PRODUCT\": \"-119.49499\",\r\n",
      "      \"CORNER_LL_LAT_PRODUCT\": \"36.02438\",\r\n",
      "      \"CORNER_LL_LON_PRODUCT\": \"-121.58491\",\r\n",
      "      \"CORNER_LR_LAT_PRODUCT\": \"36.60744\",\r\n",
      "      \"CORNER_LR_LON_PRODUCT\": \"-118.76185\",\r\n",
      "      \"CORNER_UL_PROJECTION_X_PRODUCT\": \"-2257500.000\",\r\n",
      "      \"CORNER_UL_PROJECTION_Y_PRODUCT\": \"2012700.000\",\r\n",
      "      \"CORNER_UR_PROJECTION_X_PRODUCT\": \"-1998000.000\",\r\n",
      "      \"CORNER_UR_PROJECTION_Y_PRODUCT\": \"2012700.000\",\r\n",
      "      \"CORNER_LL_PROJECTION_X_PRODUCT\": \"-2257500.000\",\r\n",
      "      \"CORNER_LL_PROJECTION_Y_PRODUCT\": \"1747200.000\",\r\n",
      "      \"CORNER_LR_PROJECTION_X_PRODUCT\": \"-1998000.000\",\r\n",
      "      \"CORNER_LR_PROJECTION_Y_PRODUCT\": \"1747200.000\",\r\n",
      "      \"PANCHROMATIC_LINES\": \"17701\",\r\n",
      "      \"PANCHROMATIC_SAMPLES\": \"17301\",\r\n",
      "      \"REFLECTIVE_LINES\": \"8851\",\r\n",
      "      \"REFLECTIVE_SAMPLES\": \"8651\",\r\n",
      "      \"THERMAL_LINES\": \"8851\",\r\n",
      "      \"THERMAL_SAMPLES\": \"8651\",\r\n",
      "      \"FILE_NAME_BAND_1\": \"LC08_L1TP_043034_20140615_20170305_01_A1_B1.TIF\",\r\n",
      "      \"FILE_NAME_BAND_2\": \"LC08_L1TP_043034_20140615_20170305_01_A1_B2.TIF\",\r\n",
      "      \"FILE_NAME_BAND_3\": \"LC08_L1TP_043034_20140615_20170305_01_A1_B3.TIF\",\r\n",
      "      \"FILE_NAME_BAND_4\": \"LC08_L1TP_043034_20140615_20170305_01_A1_B4.TIF\",\r\n",
      "      \"FILE_NAME_BAND_5\": \"LC08_L1TP_043034_20140615_20170305_01_A1_B5.TIF\",\r\n",
      "      \"FILE_NAME_BAND_6\": \"LC08_L1TP_043034_20140615_20170305_01_A1_B6.TIF\",\r\n",
      "      \"FILE_NAME_BAND_7\": \"LC08_L1TP_043034_20140615_20170305_01_A1_B7.TIF\",\r\n",
      "      \"FILE_NAME_BAND_8\": \"LC08_L1TP_043034_20140615_20170305_01_A1_B8.TIF\",\r\n",
      "      \"FILE_NAME_BAND_9\": \"LC08_L1TP_043034_20140615_20170305_01_A1_B9.TIF\",\r\n",
      "      \"FILE_NAME_BAND_10\": \"LC08_L1TP_043034_20140615_20170305_01_A1_B10.TIF\",\r\n",
      "      \"FILE_NAME_BAND_11\": \"LC08_L1TP_043034_20140615_20170305_01_A1_B11.TIF\",\r\n",
      "      \"FILE_NAME_BAND_QUALITY\": \"LC08_L1TP_043034_20140615_20170305_01_A1_BQA.TIF\",\r\n",
      "      \"ANGLE_COEFFICIENT_FILE_NAME\": \"LC08_L1TP_043034_20140615_20170305_01_A1_ANG.txt\",\r\n",
      "      \"METADATA_FILE_NAME\": \"LC08_L1TP_043034_20140615_20170305_01_A1_MTL.txt\",\r\n",
      "      \"CPF_NAME\": \"LC08CPF_20140401_20140630_01.01\",\r\n",
      "      \"BPF_NAME_OLI\": \"LO8BPF20140615181532_20140615185716.01\",\r\n",
      "      \"BPF_NAME_TIRS\": \"LT8BPF20140615180604_20140615185809.01\",\r\n",
      "      \"RLUT_FILE_NAME\": \"LC08RLUT_20130211_20150302_01_11.h5\"\r\n",
      "    },\r\n",
      "    \"IMAGE_ATTRIBUTES\": {\r\n",
      "      \"CLOUD_COVER\": \"6.87\",\r\n",
      "      \"CLOUD_COVER_LAND\": \"6.83\",\r\n",
      "      \"IMAGE_QUALITY_OLI\": \"9\",\r\n",
      "      \"IMAGE_QUALITY_TIRS\": \"9\",\r\n",
      "      \"TIRS_SSM_MODEL\": \"ACTUAL\",\r\n",
      "      \"TIRS_SSM_POSITION_STATUS\": \"NOMINAL\",\r\n",
      "      \"TIRS_STRAY_LIGHT_CORRECTION_SOURCE\": \"TIRS\",\r\n",
      "      \"ROLL_ANGLE\": \"-0.000\",\r\n",
      "      \"SUN_AZIMUTH\": \"122.55649873\",\r\n",
      "      \"SUN_ELEVATION\": \"67.24976759\",\r\n",
      "      \"EARTH_SUN_DISTANCE\": \"1.0157523\",\r\n",
      "      \"SATURATION_BAND_1\": \"Y\",\r\n",
      "      \"SATURATION_BAND_2\": \"Y\",\r\n",
      "      \"SATURATION_BAND_3\": \"Y\",\r\n",
      "      \"SATURATION_BAND_4\": \"Y\",\r\n",
      "      \"SATURATION_BAND_5\": \"Y\",\r\n",
      "      \"SATURATION_BAND_6\": \"Y\",\r\n",
      "      \"SATURATION_BAND_7\": \"Y\",\r\n",
      "      \"SATURATION_BAND_8\": \"N\",\r\n",
      "      \"SATURATION_BAND_9\": \"N\",\r\n",
      "      \"GROUND_CONTROL_POINTS_VERSION\": \"4\",\r\n",
      "      \"GROUND_CONTROL_POINTS_MODEL\": \"509\",\r\n",
      "      \"GEOMETRIC_RMSE_MODEL\": \"6.271\",\r\n",
      "      \"GEOMETRIC_RMSE_MODEL_Y\": \"4.338\",\r\n",
      "      \"GEOMETRIC_RMSE_MODEL_X\": \"4.529\",\r\n",
      "      \"TRUNCATION_OLI\": \"UPPER\"\r\n",
      "    },\r\n",
      "    \"MIN_MAX_RADIANCE\": {\r\n",
      "      \"RADIANCE_MAXIMUM_BAND_1\": \"736.67139\",\r\n",
      "      \"RADIANCE_MINIMUM_BAND_1\": \"-60.83456\",\r\n",
      "      \"RADIANCE_MAXIMUM_BAND_2\": \"754.36047\",\r\n",
      "      \"RADIANCE_MINIMUM_BAND_2\": \"-62.29533\",\r\n",
      "      \"RADIANCE_MAXIMUM_BAND_3\": \"695.13672\",\r\n",
      "      \"RADIANCE_MINIMUM_BAND_3\": \"-57.40462\",\r\n",
      "      \"RADIANCE_MAXIMUM_BAND_4\": \"586.17847\",\r\n",
      "      \"RADIANCE_MINIMUM_BAND_4\": \"-48.40681\",\r\n",
      "      \"RADIANCE_MAXIMUM_BAND_5\": \"358.71198\",\r\n",
      "      \"RADIANCE_MINIMUM_BAND_5\": \"-29.62255\",\r\n",
      "      \"RADIANCE_MAXIMUM_BAND_6\": \"89.20840\",\r\n",
      "      \"RADIANCE_MINIMUM_BAND_6\": \"-7.36686\",\r\n",
      "      \"RADIANCE_MAXIMUM_BAND_7\": \"30.06801\",\r\n",
      "      \"RADIANCE_MINIMUM_BAND_7\": \"-2.48303\",\r\n",
      "      \"RADIANCE_MAXIMUM_BAND_8\": \"663.39270\",\r\n",
      "      \"RADIANCE_MINIMUM_BAND_8\": \"-54.78318\",\r\n",
      "      \"RADIANCE_MAXIMUM_BAND_9\": \"140.19276\",\r\n",
      "      \"RADIANCE_MINIMUM_BAND_9\": \"-11.57716\",\r\n",
      "      \"RADIANCE_MAXIMUM_BAND_10\": \"22.00180\",\r\n",
      "      \"RADIANCE_MINIMUM_BAND_10\": \"0.10033\",\r\n",
      "      \"RADIANCE_MAXIMUM_BAND_11\": \"22.00180\",\r\n",
      "      \"RADIANCE_MINIMUM_BAND_11\": \"0.10033\"\r\n",
      "    },\r\n",
      "    \"MIN_MAX_REFLECTANCE\": {\r\n",
      "      \"REFLECTANCE_MAXIMUM_BAND_1\": \"1.210700\",\r\n",
      "      \"REFLECTANCE_MINIMUM_BAND_1\": \"-0.099980\",\r\n",
      "      \"REFLECTANCE_MAXIMUM_BAND_2\": \"1.210700\",\r\n",
      "      \"REFLECTANCE_MINIMUM_BAND_2\": \"-0.099980\",\r\n",
      "      \"REFLECTANCE_MAXIMUM_BAND_3\": \"1.210700\",\r\n",
      "      \"REFLECTANCE_MINIMUM_BAND_3\": \"-0.099980\",\r\n",
      "      \"REFLECTANCE_MAXIMUM_BAND_4\": \"1.210700\",\r\n",
      "      \"REFLECTANCE_MINIMUM_BAND_4\": \"-0.099980\",\r\n",
      "      \"REFLECTANCE_MAXIMUM_BAND_5\": \"1.210700\",\r\n",
      "      \"REFLECTANCE_MINIMUM_BAND_5\": \"-0.099980\",\r\n",
      "      \"REFLECTANCE_MAXIMUM_BAND_6\": \"1.210700\",\r\n",
      "      \"REFLECTANCE_MINIMUM_BAND_6\": \"-0.099980\",\r\n",
      "      \"REFLECTANCE_MAXIMUM_BAND_7\": \"1.210700\",\r\n",
      "      \"REFLECTANCE_MINIMUM_BAND_7\": \"-0.099980\",\r\n",
      "      \"REFLECTANCE_MAXIMUM_BAND_8\": \"1.210700\",\r\n",
      "      \"REFLECTANCE_MINIMUM_BAND_8\": \"-0.099980\",\r\n",
      "      \"REFLECTANCE_MAXIMUM_BAND_9\": \"1.210700\",\r\n",
      "      \"REFLECTANCE_MINIMUM_BAND_9\": \"-0.099980\"\r\n",
      "    },\r\n",
      "    \"MIN_MAX_PIXEL_VALUE\": {\r\n",
      "      \"QUANTIZE_CAL_MAX_BAND_1\": \"65535\",\r\n",
      "      \"QUANTIZE_CAL_MIN_BAND_1\": \"1\",\r\n",
      "      \"QUANTIZE_CAL_MAX_BAND_2\": \"65535\",\r\n",
      "      \"QUANTIZE_CAL_MIN_BAND_2\": \"1\",\r\n",
      "      \"QUANTIZE_CAL_MAX_BAND_3\": \"65535\",\r\n",
      "      \"QUANTIZE_CAL_MIN_BAND_3\": \"1\",\r\n",
      "      \"QUANTIZE_CAL_MAX_BAND_4\": \"65535\",\r\n",
      "      \"QUANTIZE_CAL_MIN_BAND_4\": \"1\",\r\n",
      "      \"QUANTIZE_CAL_MAX_BAND_5\": \"65535\",\r\n",
      "      \"QUANTIZE_CAL_MIN_BAND_5\": \"1\",\r\n",
      "      \"QUANTIZE_CAL_MAX_BAND_6\": \"65535\",\r\n",
      "      \"QUANTIZE_CAL_MIN_BAND_6\": \"1\",\r\n",
      "      \"QUANTIZE_CAL_MAX_BAND_7\": \"65535\",\r\n",
      "      \"QUANTIZE_CAL_MIN_BAND_7\": \"1\",\r\n",
      "      \"QUANTIZE_CAL_MAX_BAND_8\": \"65535\",\r\n",
      "      \"QUANTIZE_CAL_MIN_BAND_8\": \"1\",\r\n",
      "      \"QUANTIZE_CAL_MAX_BAND_9\": \"65535\",\r\n",
      "      \"QUANTIZE_CAL_MIN_BAND_9\": \"1\",\r\n",
      "      \"QUANTIZE_CAL_MAX_BAND_10\": \"65535\",\r\n",
      "      \"QUANTIZE_CAL_MIN_BAND_10\": \"1\",\r\n",
      "      \"QUANTIZE_CAL_MAX_BAND_11\": \"65535\",\r\n",
      "      \"QUANTIZE_CAL_MIN_BAND_11\": \"1\"\r\n",
      "    },\r\n",
      "    \"RADIOMETRIC_RESCALING\": {\r\n",
      "      \"RADIANCE_MULT_BAND_1\": \"1.2169E-02\",\r\n",
      "      \"RADIANCE_MULT_BAND_2\": \"1.2462E-02\",\r\n",
      "      \"RADIANCE_MULT_BAND_3\": \"1.1483E-02\",\r\n",
      "      \"RADIANCE_MULT_BAND_4\": \"9.6833E-03\",\r\n",
      "      \"RADIANCE_MULT_BAND_5\": \"5.9257E-03\",\r\n",
      "      \"RADIANCE_MULT_BAND_6\": \"1.4737E-03\",\r\n",
      "      \"RADIANCE_MULT_BAND_7\": \"4.9670E-04\",\r\n",
      "      \"RADIANCE_MULT_BAND_8\": \"1.0959E-02\",\r\n",
      "      \"RADIANCE_MULT_BAND_9\": \"2.3159E-03\",\r\n",
      "      \"RADIANCE_MULT_BAND_10\": \"3.3420E-04\",\r\n",
      "      \"RADIANCE_MULT_BAND_11\": \"3.3420E-04\",\r\n",
      "      \"RADIANCE_ADD_BAND_1\": \"-60.84673\",\r\n",
      "      \"RADIANCE_ADD_BAND_2\": \"-62.30779\",\r\n",
      "      \"RADIANCE_ADD_BAND_3\": \"-57.41610\",\r\n",
      "      \"RADIANCE_ADD_BAND_4\": \"-48.41649\",\r\n",
      "      \"RADIANCE_ADD_BAND_5\": \"-29.62848\",\r\n",
      "      \"RADIANCE_ADD_BAND_6\": \"-7.36833\",\r\n",
      "      \"RADIANCE_ADD_BAND_7\": \"-2.48352\",\r\n",
      "      \"RADIANCE_ADD_BAND_8\": \"-54.79414\",\r\n",
      "      \"RADIANCE_ADD_BAND_9\": \"-11.57948\",\r\n",
      "      \"RADIANCE_ADD_BAND_10\": \"0.10000\",\r\n",
      "      \"RADIANCE_ADD_BAND_11\": \"0.10000\",\r\n",
      "      \"REFLECTANCE_MULT_BAND_1\": \"2.0000E-05\",\r\n",
      "      \"REFLECTANCE_MULT_BAND_2\": \"2.0000E-05\",\r\n",
      "      \"REFLECTANCE_MULT_BAND_3\": \"2.0000E-05\",\r\n",
      "      \"REFLECTANCE_MULT_BAND_4\": \"2.0000E-05\",\r\n",
      "      \"REFLECTANCE_MULT_BAND_5\": \"2.0000E-05\",\r\n",
      "      \"REFLECTANCE_MULT_BAND_6\": \"2.0000E-05\",\r\n",
      "      \"REFLECTANCE_MULT_BAND_7\": \"2.0000E-05\",\r\n",
      "      \"REFLECTANCE_MULT_BAND_8\": \"2.0000E-05\",\r\n",
      "      \"REFLECTANCE_MULT_BAND_9\": \"2.0000E-05\",\r\n",
      "      \"REFLECTANCE_ADD_BAND_1\": \"-0.100000\",\r\n",
      "      \"REFLECTANCE_ADD_BAND_2\": \"-0.100000\",\r\n",
      "      \"REFLECTANCE_ADD_BAND_3\": \"-0.100000\",\r\n",
      "      \"REFLECTANCE_ADD_BAND_4\": \"-0.100000\",\r\n",
      "      \"REFLECTANCE_ADD_BAND_5\": \"-0.100000\",\r\n",
      "      \"REFLECTANCE_ADD_BAND_6\": \"-0.100000\",\r\n",
      "      \"REFLECTANCE_ADD_BAND_7\": \"-0.100000\",\r\n",
      "      \"REFLECTANCE_ADD_BAND_8\": \"-0.100000\",\r\n",
      "      \"REFLECTANCE_ADD_BAND_9\": \"-0.100000\"\r\n",
      "    },\r\n",
      "    \"TIRS_THERMAL_CONSTANTS\": {\r\n",
      "      \"K1_CONSTANT_BAND_10\": \"774.8853\",\r\n",
      "      \"K2_CONSTANT_BAND_10\": \"1321.0789\",\r\n",
      "      \"K1_CONSTANT_BAND_11\": \"480.8883\",\r\n",
      "      \"K2_CONSTANT_BAND_11\": \"1201.1442\"\r\n",
      "    },\r\n",
      "    \"PROJECTION_PARAMETERS\": {\r\n",
      "      \"MAP_PROJECTION\": \"AEA\",\r\n",
      "      \"DATUM\": \"WGS84\",\r\n",
      "      \"ELLIPSOID\": \"WGS84\",\r\n",
      "      \"ORIGIN_LAT\": \"23.00000\",\r\n",
      "      \"CENTRAL_MERIDIAN_LON\": \"-96.00000\",\r\n",
      "      \"STANDARD_PARALLEL_1_LAT\": \"29.50000\",\r\n",
      "      \"STANDARD_PARALLEL_2_LAT\": \"45.50000\",\r\n",
      "      \"FALSE_EASTING\": \"0\",\r\n",
      "      \"FALSE_NORTHING\": \"0\",\r\n",
      "      \"GRID_CELL_SIZE_PANCHROMATIC\": \"15.00\",\r\n",
      "      \"GRID_CELL_SIZE_REFLECTIVE\": \"30.00\",\r\n",
      "      \"GRID_CELL_SIZE_THERMAL\": \"30.00\",\r\n",
      "      \"ORIENTATION\": \"NORTH_UP\",\r\n",
      "      \"RESAMPLING_OPTION\": \"CUBIC_CONVOLUTION\"\r\n",
      "    }\r\n",
      "  }\r\n",
      "}"
     ]
    }
   ],
   "source": [
    "! aws s3 cp s3://lsaa-staging-cog/L08/2014/043/034/LC08_L2SP_043034_20140615_20171210_01_A1/LC08_L2SP_043034_20140615_20171210_01_A1_MTL.json -"
   ]
  },
  {
   "cell_type": "markdown",
   "metadata": {},
   "source": [
    "      \"CORNER_UL_LAT_PRODUCT\": \"38.30581\",\n",
    "      \"CORNER_UL_LON_PRODUCT\": \"-122.40018\",\n",
    "      \"CORNER_UR_LAT_PRODUCT\": \"38.90669\",\n",
    "      \"CORNER_UR_LON_PRODUCT\": \"-119.49499\",\n",
    "      \n",
    "      \"CORNER_LL_LAT_PRODUCT\": \"36.02438\",\n",
    "      \"CORNER_LL_LON_PRODUCT\": \"-121.58491\",\n",
    "      \"CORNER_LR_LAT_PRODUCT\": \"36.60744\",\n",
    "      \"CORNER_LR_LON_PRODUCT\": \"-118.76185\",\n",
    "      \n",
    "      \n",
    "      \n",
    "- ee_foot_ulg_lat = 38.52658\n",
    "- ee_foot_ulg_lon = -121.36464\n",
    "\n",
    "- ee_foot_urg_lat = 38.12722\n",
    "- ee_foot_urg_lon = -119.2449\n",
    "\n",
    "- ee_foot_lrg_lat = 36.4083\n",
    "- ee_foot_lrg_lon = -119.78328\n",
    "\n",
    "- ee_foot_llg_lat = 36.80638\n",
    "- ee_foot_llg_lon = -121.85497\n"
   ]
  },
  {
   "cell_type": "code",
   "execution_count": 55,
   "metadata": {},
   "outputs": [
    {
     "name": "stdout",
     "output_type": "stream",
     "text": [
      "2018-08-14 21:30:38      21751 LC08_L1TP_043034_20140615_20170305_01_A1.xml\n",
      "2018-08-14 21:30:38     117413 LC08_L1TP_043034_20140615_20170305_01_A1_ANG.txt\n",
      "2018-08-14 21:30:37       8804 LC08_L1TP_043034_20140615_20170305_01_A1_MTL.txt\n",
      "2018-08-14 21:30:38      26793 LC08_L2SP_043034_20140615_20171210_01_A1.json\n",
      "2018-08-14 21:30:37     146417 LC08_L2SP_043034_20140615_20171210_01_A1_ANG.json\n",
      "2018-08-14 21:30:38       9660 LC08_L2SP_043034_20140615_20171210_01_A1_MTL.json\n",
      "2018-08-14 21:30:37      11776 LC08_L2SP_043034_20140615_20171210_01_A1_bt_band10.IMD\n",
      "2018-08-14 21:30:37   43531802 LC08_L2SP_043034_20140615_20171210_01_A1_bt_band10.TIF\n",
      "2018-08-14 21:30:38   10225802 LC08_L2SP_043034_20140615_20171210_01_A1_bt_band10.TIF.ovr\n",
      "2018-08-14 21:30:37      11776 LC08_L2SP_043034_20140615_20171210_01_A1_bt_band11.IMD\n",
      "2018-08-14 21:30:37   41975896 LC08_L2SP_043034_20140615_20171210_01_A1_bt_band11.TIF\n",
      "2018-08-14 21:30:38    9908214 LC08_L2SP_043034_20140615_20171210_01_A1_bt_band11.TIF.ovr\n",
      "2018-08-14 21:30:38    2190277 LC08_L2SP_043034_20140615_20171210_01_A1_pixel_qa.TIF\n",
      "2018-08-14 21:30:38     930556 LC08_L2SP_043034_20140615_20171210_01_A1_pixel_qa.TIF.ovr\n",
      "2018-08-14 21:30:37     352526 LC08_L2SP_043034_20140615_20171210_01_A1_radsat_qa.TIF\n",
      "2018-08-14 21:30:38      85252 LC08_L2SP_043034_20140615_20171210_01_A1_radsat_qa.TIF.ovr\n",
      "2018-08-14 21:30:38    8146323 LC08_L2SP_043034_20140615_20171210_01_A1_sensor_azimuth_band4.TIF\n",
      "2018-08-14 21:30:38    1931414 LC08_L2SP_043034_20140615_20171210_01_A1_sensor_azimuth_band4.TIF.ovr\n",
      "2018-08-14 21:30:38    2156223 LC08_L2SP_043034_20140615_20171210_01_A1_sensor_zenith_band4.TIF\n",
      "2018-08-14 21:30:37     622137 LC08_L2SP_043034_20140615_20171210_01_A1_sensor_zenith_band4.TIF.ovr\n",
      "2018-08-14 21:30:38    2068808 LC08_L2SP_043034_20140615_20171210_01_A1_solar_azimuth_band4.TIF\n",
      "2018-08-14 21:30:38     582780 LC08_L2SP_043034_20140615_20171210_01_A1_solar_azimuth_band4.TIF.ovr\n",
      "2018-08-14 21:30:37    1366579 LC08_L2SP_043034_20140615_20171210_01_A1_solar_zenith_band4.TIF\n",
      "2018-08-14 21:30:37     384373 LC08_L2SP_043034_20140615_20171210_01_A1_solar_zenith_band4.TIF.ovr\n",
      "2018-08-14 21:30:37    4557057 LC08_L2SP_043034_20140615_20171210_01_A1_sr_aerosol.TIF\n",
      "2018-08-14 21:30:37    1933872 LC08_L2SP_043034_20140615_20171210_01_A1_sr_aerosol.TIF.ovr\n",
      "2018-08-14 21:30:37   71410803 LC08_L2SP_043034_20140615_20171210_01_A1_sr_band1.TIF\n",
      "2018-08-14 21:30:38   14375939 LC08_L2SP_043034_20140615_20171210_01_A1_sr_band1.TIF.ovr\n",
      "2018-08-14 21:30:38   72925651 LC08_L2SP_043034_20140615_20171210_01_A1_sr_band2.TIF\n",
      "2018-08-14 21:30:38   14667971 LC08_L2SP_043034_20140615_20171210_01_A1_sr_band2.TIF.ovr\n",
      "2018-08-14 21:30:38   75100671 LC08_L2SP_043034_20140615_20171210_01_A1_sr_band3.TIF\n",
      "2018-08-14 21:30:37   15080512 LC08_L2SP_043034_20140615_20171210_01_A1_sr_band3.TIF.ovr\n",
      "2018-08-14 21:30:38   78171693 LC08_L2SP_043034_20140615_20171210_01_A1_sr_band4.TIF\n",
      "2018-08-14 21:30:37   15663463 LC08_L2SP_043034_20140615_20171210_01_A1_sr_band4.TIF.ovr\n",
      "2018-08-14 21:30:38   80021802 LC08_L2SP_043034_20140615_20171210_01_A1_sr_band5.TIF\n",
      "2018-08-14 21:30:38   15990552 LC08_L2SP_043034_20140615_20171210_01_A1_sr_band5.TIF.ovr\n",
      "2018-08-14 21:30:38   81755507 LC08_L2SP_043034_20140615_20171210_01_A1_sr_band6.TIF\n",
      "2018-08-14 21:30:37   16360917 LC08_L2SP_043034_20140615_20171210_01_A1_sr_band6.TIF.ovr\n",
      "2018-08-14 21:30:38   80696686 LC08_L2SP_043034_20140615_20171210_01_A1_sr_band7.TIF\n",
      "2018-08-14 21:30:37   16179080 LC08_L2SP_043034_20140615_20171210_01_A1_sr_band7.TIF.ovr\n",
      "2018-08-14 21:30:38   69014510 LC08_L2SP_043034_20140615_20171210_01_A1_toa_band1.TIF\n",
      "2018-08-14 21:30:37   13892894 LC08_L2SP_043034_20140615_20171210_01_A1_toa_band1.TIF.ovr\n",
      "2018-08-14 21:30:37   71406764 LC08_L2SP_043034_20140615_20171210_01_A1_toa_band2.TIF\n",
      "2018-08-14 21:30:38   14352047 LC08_L2SP_043034_20140615_20171210_01_A1_toa_band2.TIF.ovr\n",
      "2018-08-14 21:30:38   73921687 LC08_L2SP_043034_20140615_20171210_01_A1_toa_band3.TIF\n",
      "2018-08-14 21:30:38   14817170 LC08_L2SP_043034_20140615_20171210_01_A1_toa_band3.TIF.ovr\n",
      "2018-08-14 21:30:38   77410371 LC08_L2SP_043034_20140615_20171210_01_A1_toa_band4.TIF\n",
      "2018-08-14 21:30:37   15500702 LC08_L2SP_043034_20140615_20171210_01_A1_toa_band4.TIF.ovr\n",
      "2018-08-14 21:30:38   79893294 LC08_L2SP_043034_20140615_20171210_01_A1_toa_band5.TIF\n",
      "2018-08-14 21:30:38   15963498 LC08_L2SP_043034_20140615_20171210_01_A1_toa_band5.TIF.ovr\n",
      "2018-08-14 21:30:38   81475787 LC08_L2SP_043034_20140615_20171210_01_A1_toa_band6.TIF\n",
      "2018-08-14 21:30:38   16297518 LC08_L2SP_043034_20140615_20171210_01_A1_toa_band6.TIF.ovr\n",
      "2018-08-14 21:30:38   80221637 LC08_L2SP_043034_20140615_20171210_01_A1_toa_band7.TIF\n",
      "2018-08-14 21:30:38   16059203 LC08_L2SP_043034_20140615_20171210_01_A1_toa_band7.TIF.ovr\n",
      "2018-08-14 21:30:38   35519105 LC08_L2SP_043034_20140615_20171210_01_A1_toa_band9.TIF\n",
      "2018-08-14 21:30:38    6367074 LC08_L2SP_043034_20140615_20171210_01_A1_toa_band9.TIF.ovr\n"
     ]
    }
   ],
   "source": [
    "! aws s3 ls lsaa-staging-cog/L08/2014/043/034/LC08_L2SP_043034_20140615_20171210_01_A1/"
   ]
  },
  {
   "cell_type": "code",
   "execution_count": 56,
   "metadata": {},
   "outputs": [
    {
     "name": "stdout",
     "output_type": "stream",
     "text": [
      "2018-08-14 21:30:37       8804 LC08_L1TP_043034_20140615_20170305_01_A1_MTL.txt\r\n"
     ]
    }
   ],
   "source": [
    "! aws s3 ls lsaa-staging-cog/L08/2014/043/034/LC08_L2SP_043034_20140615_20171210_01_A1/LC08_L1TP_043034_20140615_20170305_01_A1_MTL.txt"
   ]
  },
  {
   "cell_type": "code",
   "execution_count": 57,
   "metadata": {},
   "outputs": [
    {
     "name": "stdout",
     "output_type": "stream",
     "text": [
      "GROUP = L1_METADATA_FILE\r\n",
      "  GROUP = METADATA_FILE_INFO\r\n",
      "    ORIGIN = \"Image courtesy of the U.S. Geological Survey\"\r\n",
      "    REQUEST_ID = \"0701703046872_00018\"\r\n",
      "    LANDSAT_SCENE_ID = \"LC80430342014166LGN01\"\r\n",
      "    LANDSAT_PRODUCT_ID = \"LC08_L1TP_043034_20140615_20170305_01_A1\"\r\n",
      "    COLLECTION_NUMBER = 01\r\n",
      "    FILE_DATE = 2017-03-05T02:44:04Z\r\n",
      "    STATION_ID = \"LGN\"\r\n",
      "    PROCESSING_SOFTWARE_VERSION = \"LPGS_2.7.0\"\r\n",
      "  END_GROUP = METADATA_FILE_INFO\r\n",
      "  GROUP = PRODUCT_METADATA\r\n",
      "    DATA_TYPE = \"L1TP\"\r\n",
      "    COLLECTION_CATEGORY = \"A1\"\r\n",
      "    ELEVATION_SOURCE = \"GLS2000\"\r\n",
      "    OUTPUT_FORMAT = \"GEOTIFF\"\r\n",
      "    SPACECRAFT_ID = \"LANDSAT_8\"\r\n",
      "    SENSOR_ID = \"OLI_TIRS\"\r\n",
      "    WRS_PATH = 43\r\n",
      "    WRS_ROW = 34\r\n",
      "    NADIR_OFFNADIR = \"NADIR\"\r\n",
      "    TARGET_WRS_PATH = 43\r\n",
      "    TARGET_WRS_ROW = 34\r\n",
      "    DATE_ACQUIRED = 2014-06-15\r\n",
      "    SCENE_CENTER_TIME = \"18:39:36.4523780Z\"\r\n",
      "    CORNER_UL_LAT_PRODUCT = 38.30581\r\n",
      "    CORNER_UL_LON_PRODUCT = -122.40018\r\n",
      "    CORNER_UR_LAT_PRODUCT = 38.90669\r\n",
      "    CORNER_UR_LON_PRODUCT = -119.49499\r\n",
      "    CORNER_LL_LAT_PRODUCT = 36.02438\r\n",
      "    CORNER_LL_LON_PRODUCT = -121.58491\r\n",
      "    CORNER_LR_LAT_PRODUCT = 36.60744\r\n",
      "    CORNER_LR_LON_PRODUCT = -118.76185\r\n",
      "    CORNER_UL_PROJECTION_X_PRODUCT = -2257500.000\r\n",
      "    CORNER_UL_PROJECTION_Y_PRODUCT = 2012700.000\r\n",
      "    CORNER_UR_PROJECTION_X_PRODUCT = -1998000.000\r\n",
      "    CORNER_UR_PROJECTION_Y_PRODUCT = 2012700.000\r\n",
      "    CORNER_LL_PROJECTION_X_PRODUCT = -2257500.000\r\n",
      "    CORNER_LL_PROJECTION_Y_PRODUCT = 1747200.000\r\n",
      "    CORNER_LR_PROJECTION_X_PRODUCT = -1998000.000\r\n",
      "    CORNER_LR_PROJECTION_Y_PRODUCT = 1747200.000\r\n",
      "    PANCHROMATIC_LINES = 17701\r\n",
      "    PANCHROMATIC_SAMPLES = 17301\r\n",
      "    REFLECTIVE_LINES = 8851\r\n",
      "    REFLECTIVE_SAMPLES = 8651\r\n",
      "    THERMAL_LINES = 8851\r\n",
      "    THERMAL_SAMPLES = 8651\r\n",
      "    FILE_NAME_BAND_1 = \"LC08_L1TP_043034_20140615_20170305_01_A1_B1.TIF\"\r\n",
      "    FILE_NAME_BAND_2 = \"LC08_L1TP_043034_20140615_20170305_01_A1_B2.TIF\"\r\n",
      "    FILE_NAME_BAND_3 = \"LC08_L1TP_043034_20140615_20170305_01_A1_B3.TIF\"\r\n",
      "    FILE_NAME_BAND_4 = \"LC08_L1TP_043034_20140615_20170305_01_A1_B4.TIF\"\r\n",
      "    FILE_NAME_BAND_5 = \"LC08_L1TP_043034_20140615_20170305_01_A1_B5.TIF\"\r\n",
      "    FILE_NAME_BAND_6 = \"LC08_L1TP_043034_20140615_20170305_01_A1_B6.TIF\"\r\n",
      "    FILE_NAME_BAND_7 = \"LC08_L1TP_043034_20140615_20170305_01_A1_B7.TIF\"\r\n",
      "    FILE_NAME_BAND_8 = \"LC08_L1TP_043034_20140615_20170305_01_A1_B8.TIF\"\r\n",
      "    FILE_NAME_BAND_9 = \"LC08_L1TP_043034_20140615_20170305_01_A1_B9.TIF\"\r\n",
      "    FILE_NAME_BAND_10 = \"LC08_L1TP_043034_20140615_20170305_01_A1_B10.TIF\"\r\n",
      "    FILE_NAME_BAND_11 = \"LC08_L1TP_043034_20140615_20170305_01_A1_B11.TIF\"\r\n",
      "    FILE_NAME_BAND_QUALITY = \"LC08_L1TP_043034_20140615_20170305_01_A1_BQA.TIF\"\r\n",
      "    ANGLE_COEFFICIENT_FILE_NAME = \"LC08_L1TP_043034_20140615_20170305_01_A1_ANG.txt\"\r\n",
      "    METADATA_FILE_NAME = \"LC08_L1TP_043034_20140615_20170305_01_A1_MTL.txt\"\r\n",
      "    CPF_NAME = \"LC08CPF_20140401_20140630_01.01\"\r\n",
      "    BPF_NAME_OLI = \"LO8BPF20140615181532_20140615185716.01\"\r\n",
      "    BPF_NAME_TIRS = \"LT8BPF20140615180604_20140615185809.01\"\r\n",
      "    RLUT_FILE_NAME = \"LC08RLUT_20130211_20150302_01_11.h5\"\r\n",
      "  END_GROUP = PRODUCT_METADATA\r\n",
      "  GROUP = IMAGE_ATTRIBUTES\r\n",
      "    CLOUD_COVER = 6.87\r\n",
      "    CLOUD_COVER_LAND = 6.83\r\n",
      "    IMAGE_QUALITY_OLI = 9\r\n",
      "    IMAGE_QUALITY_TIRS = 9\r\n",
      "    TIRS_SSM_MODEL = \"ACTUAL\"\r\n",
      "    TIRS_SSM_POSITION_STATUS = \"NOMINAL\"\r\n",
      "    TIRS_STRAY_LIGHT_CORRECTION_SOURCE = \"TIRS\"\r\n",
      "    ROLL_ANGLE = -0.000\r\n",
      "    SUN_AZIMUTH = 122.55649873\r\n",
      "    SUN_ELEVATION = 67.24976759\r\n",
      "    EARTH_SUN_DISTANCE = 1.0157523\r\n",
      "    SATURATION_BAND_1 = \"Y\"\r\n",
      "    SATURATION_BAND_2 = \"Y\"\r\n",
      "    SATURATION_BAND_3 = \"Y\"\r\n",
      "    SATURATION_BAND_4 = \"Y\"\r\n",
      "    SATURATION_BAND_5 = \"Y\"\r\n",
      "    SATURATION_BAND_6 = \"Y\"\r\n",
      "    SATURATION_BAND_7 = \"Y\"\r\n",
      "    SATURATION_BAND_8 = \"N\"\r\n",
      "    SATURATION_BAND_9 = \"N\"\r\n",
      "    GROUND_CONTROL_POINTS_VERSION = 4\r\n",
      "    GROUND_CONTROL_POINTS_MODEL = 509\r\n",
      "    GEOMETRIC_RMSE_MODEL = 6.271\r\n",
      "    GEOMETRIC_RMSE_MODEL_Y = 4.338\r\n",
      "    GEOMETRIC_RMSE_MODEL_X = 4.529\r\n",
      "    TRUNCATION_OLI = \"UPPER\"\r\n",
      "  END_GROUP = IMAGE_ATTRIBUTES\r\n",
      "  GROUP = MIN_MAX_RADIANCE\r\n",
      "    RADIANCE_MAXIMUM_BAND_1 = 736.67139\r\n",
      "    RADIANCE_MINIMUM_BAND_1 = -60.83456\r\n",
      "    RADIANCE_MAXIMUM_BAND_2 = 754.36047\r\n",
      "    RADIANCE_MINIMUM_BAND_2 = -62.29533\r\n",
      "    RADIANCE_MAXIMUM_BAND_3 = 695.13672\r\n",
      "    RADIANCE_MINIMUM_BAND_3 = -57.40462\r\n",
      "    RADIANCE_MAXIMUM_BAND_4 = 586.17847\r\n",
      "    RADIANCE_MINIMUM_BAND_4 = -48.40681\r\n",
      "    RADIANCE_MAXIMUM_BAND_5 = 358.71198\r\n",
      "    RADIANCE_MINIMUM_BAND_5 = -29.62255\r\n",
      "    RADIANCE_MAXIMUM_BAND_6 = 89.20840\r\n",
      "    RADIANCE_MINIMUM_BAND_6 = -7.36686\r\n",
      "    RADIANCE_MAXIMUM_BAND_7 = 30.06801\r\n",
      "    RADIANCE_MINIMUM_BAND_7 = -2.48303\r\n",
      "    RADIANCE_MAXIMUM_BAND_8 = 663.39270\r\n",
      "    RADIANCE_MINIMUM_BAND_8 = -54.78318\r\n",
      "    RADIANCE_MAXIMUM_BAND_9 = 140.19276\r\n",
      "    RADIANCE_MINIMUM_BAND_9 = -11.57716\r\n",
      "    RADIANCE_MAXIMUM_BAND_10 = 22.00180\r\n",
      "    RADIANCE_MINIMUM_BAND_10 = 0.10033\r\n",
      "    RADIANCE_MAXIMUM_BAND_11 = 22.00180\r\n",
      "    RADIANCE_MINIMUM_BAND_11 = 0.10033\r\n",
      "  END_GROUP = MIN_MAX_RADIANCE\r\n",
      "  GROUP = MIN_MAX_REFLECTANCE\r\n",
      "    REFLECTANCE_MAXIMUM_BAND_1 = 1.210700\r\n",
      "    REFLECTANCE_MINIMUM_BAND_1 = -0.099980\r\n",
      "    REFLECTANCE_MAXIMUM_BAND_2 = 1.210700\r\n",
      "    REFLECTANCE_MINIMUM_BAND_2 = -0.099980\r\n",
      "    REFLECTANCE_MAXIMUM_BAND_3 = 1.210700\r\n",
      "    REFLECTANCE_MINIMUM_BAND_3 = -0.099980\r\n",
      "    REFLECTANCE_MAXIMUM_BAND_4 = 1.210700\r\n",
      "    REFLECTANCE_MINIMUM_BAND_4 = -0.099980\r\n",
      "    REFLECTANCE_MAXIMUM_BAND_5 = 1.210700\r\n",
      "    REFLECTANCE_MINIMUM_BAND_5 = -0.099980\r\n",
      "    REFLECTANCE_MAXIMUM_BAND_6 = 1.210700\r\n",
      "    REFLECTANCE_MINIMUM_BAND_6 = -0.099980\r\n",
      "    REFLECTANCE_MAXIMUM_BAND_7 = 1.210700\r\n",
      "    REFLECTANCE_MINIMUM_BAND_7 = -0.099980\r\n",
      "    REFLECTANCE_MAXIMUM_BAND_8 = 1.210700\r\n",
      "    REFLECTANCE_MINIMUM_BAND_8 = -0.099980\r\n",
      "    REFLECTANCE_MAXIMUM_BAND_9 = 1.210700\r\n",
      "    REFLECTANCE_MINIMUM_BAND_9 = -0.099980\r\n",
      "  END_GROUP = MIN_MAX_REFLECTANCE\r\n",
      "  GROUP = MIN_MAX_PIXEL_VALUE\r\n",
      "    QUANTIZE_CAL_MAX_BAND_1 = 65535\r\n",
      "    QUANTIZE_CAL_MIN_BAND_1 = 1\r\n",
      "    QUANTIZE_CAL_MAX_BAND_2 = 65535\r\n",
      "    QUANTIZE_CAL_MIN_BAND_2 = 1\r\n",
      "    QUANTIZE_CAL_MAX_BAND_3 = 65535\r\n",
      "    QUANTIZE_CAL_MIN_BAND_3 = 1\r\n",
      "    QUANTIZE_CAL_MAX_BAND_4 = 65535\r\n",
      "    QUANTIZE_CAL_MIN_BAND_4 = 1\r\n",
      "    QUANTIZE_CAL_MAX_BAND_5 = 65535\r\n",
      "    QUANTIZE_CAL_MIN_BAND_5 = 1\r\n",
      "    QUANTIZE_CAL_MAX_BAND_6 = 65535\r\n",
      "    QUANTIZE_CAL_MIN_BAND_6 = 1\r\n",
      "    QUANTIZE_CAL_MAX_BAND_7 = 65535\r\n",
      "    QUANTIZE_CAL_MIN_BAND_7 = 1\r\n",
      "    QUANTIZE_CAL_MAX_BAND_8 = 65535\r\n",
      "    QUANTIZE_CAL_MIN_BAND_8 = 1\r\n",
      "    QUANTIZE_CAL_MAX_BAND_9 = 65535\r\n",
      "    QUANTIZE_CAL_MIN_BAND_9 = 1\r\n",
      "    QUANTIZE_CAL_MAX_BAND_10 = 65535\r\n",
      "    QUANTIZE_CAL_MIN_BAND_10 = 1\r\n",
      "    QUANTIZE_CAL_MAX_BAND_11 = 65535\r\n",
      "    QUANTIZE_CAL_MIN_BAND_11 = 1\r\n",
      "  END_GROUP = MIN_MAX_PIXEL_VALUE\r\n",
      "  GROUP = RADIOMETRIC_RESCALING\r\n",
      "    RADIANCE_MULT_BAND_1 = 1.2169E-02\r\n",
      "    RADIANCE_MULT_BAND_2 = 1.2462E-02\r\n",
      "    RADIANCE_MULT_BAND_3 = 1.1483E-02\r\n",
      "    RADIANCE_MULT_BAND_4 = 9.6833E-03\r\n",
      "    RADIANCE_MULT_BAND_5 = 5.9257E-03\r\n",
      "    RADIANCE_MULT_BAND_6 = 1.4737E-03\r\n",
      "    RADIANCE_MULT_BAND_7 = 4.9670E-04\r\n",
      "    RADIANCE_MULT_BAND_8 = 1.0959E-02\r\n",
      "    RADIANCE_MULT_BAND_9 = 2.3159E-03\r\n",
      "    RADIANCE_MULT_BAND_10 = 3.3420E-04\r\n",
      "    RADIANCE_MULT_BAND_11 = 3.3420E-04\r\n",
      "    RADIANCE_ADD_BAND_1 = -60.84673\r\n",
      "    RADIANCE_ADD_BAND_2 = -62.30779\r\n",
      "    RADIANCE_ADD_BAND_3 = -57.41610\r\n",
      "    RADIANCE_ADD_BAND_4 = -48.41649\r\n",
      "    RADIANCE_ADD_BAND_5 = -29.62848\r\n",
      "    RADIANCE_ADD_BAND_6 = -7.36833\r\n",
      "    RADIANCE_ADD_BAND_7 = -2.48352\r\n",
      "    RADIANCE_ADD_BAND_8 = -54.79414\r\n",
      "    RADIANCE_ADD_BAND_9 = -11.57948\r\n",
      "    RADIANCE_ADD_BAND_10 = 0.10000\r\n",
      "    RADIANCE_ADD_BAND_11 = 0.10000\r\n",
      "    REFLECTANCE_MULT_BAND_1 = 2.0000E-05\r\n",
      "    REFLECTANCE_MULT_BAND_2 = 2.0000E-05\r\n",
      "    REFLECTANCE_MULT_BAND_3 = 2.0000E-05\r\n",
      "    REFLECTANCE_MULT_BAND_4 = 2.0000E-05\r\n",
      "    REFLECTANCE_MULT_BAND_5 = 2.0000E-05\r\n",
      "    REFLECTANCE_MULT_BAND_6 = 2.0000E-05\r\n",
      "    REFLECTANCE_MULT_BAND_7 = 2.0000E-05\r\n",
      "    REFLECTANCE_MULT_BAND_8 = 2.0000E-05\r\n",
      "    REFLECTANCE_MULT_BAND_9 = 2.0000E-05\r\n",
      "    REFLECTANCE_ADD_BAND_1 = -0.100000\r\n",
      "    REFLECTANCE_ADD_BAND_2 = -0.100000\r\n",
      "    REFLECTANCE_ADD_BAND_3 = -0.100000\r\n",
      "    REFLECTANCE_ADD_BAND_4 = -0.100000\r\n",
      "    REFLECTANCE_ADD_BAND_5 = -0.100000\r\n",
      "    REFLECTANCE_ADD_BAND_6 = -0.100000\r\n",
      "    REFLECTANCE_ADD_BAND_7 = -0.100000\r\n",
      "    REFLECTANCE_ADD_BAND_8 = -0.100000\r\n",
      "    REFLECTANCE_ADD_BAND_9 = -0.100000\r\n",
      "  END_GROUP = RADIOMETRIC_RESCALING\r\n",
      "  GROUP = TIRS_THERMAL_CONSTANTS\r\n",
      "    K1_CONSTANT_BAND_10 = 774.8853\r\n",
      "    K2_CONSTANT_BAND_10 = 1321.0789\r\n",
      "    K1_CONSTANT_BAND_11 = 480.8883\r\n",
      "    K2_CONSTANT_BAND_11 = 1201.1442\r\n",
      "  END_GROUP = TIRS_THERMAL_CONSTANTS\r\n",
      "  GROUP = PROJECTION_PARAMETERS\r\n",
      "    MAP_PROJECTION = \"AEA\"\r\n",
      "    DATUM = \"WGS84\"\r\n",
      "    ELLIPSOID = \"WGS84\"\r\n",
      "    ORIGIN_LAT = 23.00000\r\n",
      "    CENTRAL_MERIDIAN_LON = -96.00000\r\n",
      "    STANDARD_PARALLEL_1_LAT = 29.50000\r\n",
      "    STANDARD_PARALLEL_2_LAT = 45.50000\r\n",
      "    FALSE_EASTING = 0\r\n",
      "    FALSE_NORTHING = 0\r\n",
      "    GRID_CELL_SIZE_PANCHROMATIC = 15.00\r\n",
      "    GRID_CELL_SIZE_REFLECTIVE = 30.00\r\n",
      "    GRID_CELL_SIZE_THERMAL = 30.00\r\n",
      "    ORIENTATION = \"NORTH_UP\"\r\n",
      "    RESAMPLING_OPTION = \"CUBIC_CONVOLUTION\"\r\n",
      "  END_GROUP = PROJECTION_PARAMETERS\r\n",
      "END_GROUP = L1_METADATA_FILE\r\n",
      "END\r\n"
     ]
    }
   ],
   "source": [
    "! aws s3 cp s3://lsaa-staging-cog/L08/2014/043/034/LC08_L2SP_043034_20140615_20171210_01_A1/LC08_L1TP_043034_20140615_20170305_01_A1_MTL.txt -"
   ]
  },
  {
   "cell_type": "code",
   "execution_count": null,
   "metadata": {},
   "outputs": [],
   "source": []
  }
 ],
 "metadata": {
  "kernelspec": {
   "display_name": "Python 3",
   "language": "python",
   "name": "python3"
  },
  "language_info": {
   "codemirror_mode": {
    "name": "ipython",
    "version": 3
   },
   "file_extension": ".py",
   "mimetype": "text/x-python",
   "name": "python",
   "nbconvert_exporter": "python",
   "pygments_lexer": "ipython3",
   "version": "3.6.7"
  }
 },
 "nbformat": 4,
 "nbformat_minor": 2
}
