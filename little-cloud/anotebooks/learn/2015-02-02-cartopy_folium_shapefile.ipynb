{
 "cells": [
  {
   "cell_type": "code",
   "execution_count": 1,
   "metadata": {},
   "outputs": [],
   "source": [
    "import os\n",
    "from IPython.core.display import HTML\n",
    "\n",
    "# with open('creative_commons.txt', 'r') as f:\n",
    "    #html = f.read()\n",
    "\n",
    "html = \"Use as you wish!\"\n",
    "    \n",
    "name = '2015-02-02-cartopy_folium_shapefile'\n",
    "\n",
    "html = '''\n",
    "<small>\n",
    "<p> This post was written as an IPython notebook.\n",
    " It is available for <a href='https://ocefpaf.github.com/python4oceanographers/downloads/notebooks/%s.ipynb'>download</a>\n",
    " or as a static <a href='https://nbviewer.ipython.org/url/ocefpaf.github.com/python4oceanographers/downloads/notebooks/%s.ipynb'>html</a>.</p>\n",
    "<p></p>\n",
    "%s''' % (name, name, html)\n",
    "\n",
    "%matplotlib inline\n",
    "from matplotlib import style\n",
    "style.use('ggplot')\n",
    "\n",
    "from datetime import datetime\n",
    "\n",
    "title = 'Plotting shapefiles with cartopy and folium'\n",
    "hour = datetime.utcnow().strftime('%H:%M')\n",
    "comments=\"true\"\n",
    "\n",
    "date = '-'.join(name.split('-')[:3])\n",
    "slug = '-'.join(name.split('-')[3:])\n",
    "\n",
    "metadata = dict(title=title,\n",
    "                date=date,\n",
    "                hour=hour,\n",
    "                comments=comments,\n",
    "                slug=slug,\n",
    "                name=name)\n",
    "\n",
    "markdown = \"\"\"Title: {title}\n",
    "date:  {date} {hour}\n",
    "comments: {comments}\n",
    "slug: {slug}\n",
    "\n",
    "{{% notebook {name}.ipynb cells[1:] %}}\n",
    "\"\"\".format(**metadata)\n",
    "\n",
    "content = os.path.abspath(os.path.join(os.getcwd(), os.pardir, os.pardir, '{}.md'.format(name)))\n",
    "with open('{}'.format(content), 'w') as f:\n",
    "    f.writelines(markdown)"
   ]
  },
  {
   "cell_type": "markdown",
   "metadata": {},
   "source": [
    "First we will use cartopy's\n",
    "[shapereader](http://scitools.org.uk/cartopy/docs/latest/tutorials/using_the_shapereader.html) \n",
    "to download (and cache) states shapefile with 50 meters resolution from the \n",
    "[NaturalEarth](http://www.naturalearthdata.com/)."
   ]
  },
  {
   "cell_type": "code",
   "execution_count": 2,
   "metadata": {},
   "outputs": [],
   "source": [
    "from cartopy.io import shapereader\n",
    "\n",
    "\n",
    "kw = dict(resolution='50m', category='cultural',\n",
    "          name='admin_1_states_provinces')\n",
    "\n",
    "states_shp = shapereader.natural_earth(**kw)\n",
    "shp = shapereader.Reader(states_shp)"
   ]
  },
  {
   "cell_type": "markdown",
   "metadata": {},
   "source": [
    "Now let's create a list of a few states that we want to highlight.\n",
    "\n",
    "(The `unicode_literals` is needed to compare the Unicode names with the decoded\n",
    "names from latin-1.  Argh!!! One day all of python will be Python3 and this\n",
    "ordeal will be over.)"
   ]
  },
  {
   "cell_type": "code",
   "execution_count": 3,
   "metadata": {},
   "outputs": [],
   "source": [
    "from __future__ import unicode_literals\n",
    "\n",
    "states = ('Minas Gerais', 'Mato Grosso', 'Goiás',\n",
    "          'Bahia', 'Rio Grande do Sul', 'São Paulo')"
   ]
  },
  {
   "cell_type": "markdown",
   "metadata": {},
   "source": [
    "Let's plot it all with cartopy."
   ]
  },
  {
   "cell_type": "code",
   "execution_count": null,
   "metadata": {},
   "outputs": [],
   "source": [
    "import cartopy.crs as ccrs\n",
    "import matplotlib.pyplot as plt\n",
    "\n",
    "\n",
    "subplot_kw = dict(projection=ccrs.PlateCarree())\n",
    "\n",
    "fig, ax = plt.subplots(figsize=(7, 11),\n",
    "                       subplot_kw=subplot_kw)\n",
    "ax.set_extent([-82, -32, -45, 10])\n",
    "\n",
    "ax.background_patch.set_visible(False)\n",
    "ax.outline_patch.set_visible(False)\n",
    "\n",
    "for record, state in zip(shp.records(), shp.geometries()):\n",
    "    name = record.attributes['name'].decode('latin-1')\n",
    "    if name in states:\n",
    "        facecolor = 'DarkOrange'\n",
    "    else:\n",
    "        facecolor = 'LightGray'\n",
    "    ax.add_geometries([state], ccrs.PlateCarree(),\n",
    "                      facecolor=facecolor, edgecolor='black')"
   ]
  },
  {
   "cell_type": "markdown",
   "metadata": {},
   "source": [
    "Cartopy's maps are great, but they are not interactive.  We can fix that by\n",
    "plotting the same data over a\n",
    "[folium](https://github.com/python-visualization/folium) `Map` instance.\n",
    "\n",
    "The trick is to save the\n",
    "[shapefile](http://en.wikipedia.org/wiki/Shapefile) as a\n",
    "[GeoJSON](http://geojson.org/) and plot it with folium's `.geo_json`."
   ]
  },
  {
   "cell_type": "code",
   "execution_count": null,
   "metadata": {},
   "outputs": [],
   "source": [
    "import os\n",
    "import shapefile\n",
    "from json import dumps\n",
    "\n",
    "\n",
    "def shape2json(fname, outfile=\"states.json\", country='Brazil'):\n",
    "    reader = shapefile.Reader(fname)\n",
    "    fields = reader.fields[1:]\n",
    "    field_names = [field[0] for field in fields]\n",
    "\n",
    "    data = []\n",
    "    for sr in reader.shapeRecords():\n",
    "        atr = dict(zip(field_names, sr.record))\n",
    "        geom = sr.shape.__geo_interface__\n",
    "        if country in sr.record[field_names.index('admin')]:\n",
    "            name = sr.record[field_names.index('name')].decode('latin-1')\n",
    "            if name in states:\n",
    "                data.append(dict(type=\"Feature\", geometry=geom, properties=atr))\n",
    "            \n",
    "    keys = ['abbrev', 'name', 'name_alt']\n",
    "    for b in data:\n",
    "        for key in keys:\n",
    "            b['properties'][key] = b['properties'][key].decode('latin-1')\n",
    "\n",
    "    with open(outfile, \"w\") as geojson:\n",
    "        geojson.write(dumps({\"type\": \"FeatureCollection\",\n",
    "                             \"features\": data}, indent=2) + \"\\n\")\n",
    "\n",
    "\n",
    "shape = '50m_admin_1_states_provinces.shp'\n",
    "cartopy_cache = '.'\n",
    "fname = os.path.join(os.path.expanduser('~'), cartopy_cache, shape)\n",
    "\n",
    "shape2json(fname, outfile=\"states.json\", country='Brazil')"
   ]
  },
  {
   "cell_type": "code",
   "execution_count": null,
   "metadata": {},
   "outputs": [],
   "source": [
    "import folium\n",
    "import numpy as np\n",
    "from IPython.display import IFrame\n",
    "\n",
    "\n",
    "def inline_map(m, width=650, height=500):\n",
    "    \"\"\"Takes a folium instance and embed HTML.\"\"\"\n",
    "    m._build_map()\n",
    "    srcdoc = m.HTML.replace('\"', '&quot;')\n",
    "    embed = HTML('<iframe srcdoc=\"{}\" '\n",
    "                 'style=\"width: {}px; height: {}px; '\n",
    "                 'border: none\"></iframe>'.format(srcdoc, width, height))\n",
    "    return embed\n",
    "\n",
    "bbox = [-82, -32, -45, 10]\n",
    "\n",
    "lon_center, lat_center = np.array(bbox).reshape(2, 2).mean(axis=0)\n",
    "mapa = folium.Map(width=650, height=500, zoom_start=4,\n",
    "                  location=[-15, -50])\n",
    "\n",
    "mapa.geo_json(geo_path='states.json', fill_color='none', line_color='Orange')\n",
    "inline_map(mapa)"
   ]
  },
  {
   "cell_type": "markdown",
   "metadata": {},
   "source": [
    "That was easy!  Check\n",
    "[here](http://folium.readthedocs.org/en/latest/#data-mapping-geojson-and-topojson)\n",
    "to learn more about GeoJSONs plotting with folium."
   ]
  },
  {
   "cell_type": "code",
   "execution_count": null,
   "metadata": {},
   "outputs": [],
   "source": [
    "HTML(html)"
   ]
  }
 ],
 "metadata": {
  "kernelspec": {
   "display_name": "Python 3",
   "language": "python",
   "name": "python3"
  },
  "language_info": {
   "codemirror_mode": {
    "name": "ipython",
    "version": 3
   },
   "file_extension": ".py",
   "mimetype": "text/x-python",
   "name": "python",
   "nbconvert_exporter": "python",
   "pygments_lexer": "ipython3",
   "version": "3.5.2"
  }
 },
 "nbformat": 4,
 "nbformat_minor": 1
}
