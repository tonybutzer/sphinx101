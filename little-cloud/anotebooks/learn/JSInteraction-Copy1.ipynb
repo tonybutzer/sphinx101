{
 "cells": [
  {
   "cell_type": "markdown",
   "metadata": {},
   "source": [
    "Examining the code, we see that\n",
    "when the button is clicked, the ``set_value()`` function is called, which\n",
    "constructs a simple Python statement\n",
    "assigning ``var_value`` to the variable given by ``var_name``.  As mentioned\n",
    "above, the key to interaction between Javascript and the notebook kernel is to use\n",
    "the ``IPython.notebook.kernel.execute()`` command, passing valid Python\n",
    "code in a string.  We also log the result to the javascript console, which\n",
    "can be helpful for Javascript debugging."
   ]
  },
  {
   "cell_type": "markdown",
   "metadata": {},
   "source": [
    "## Accessing Python Output In Javascript"
   ]
  },
  {
   "cell_type": "markdown",
   "metadata": {},
   "source": [
    "Executing Python statements from Javascript is one thing, but we'd\n",
    "really like to be able to do something with the output.\n",
    "\n",
    "In order to process the output of a Python statement executed in the kernel,\n",
    "we need to add a callback function to the ``execute`` statement.\n",
    "The full extent of callbacks is a bit involved, but the first step is\n",
    "to set a callback which does something with the ``output`` attribute.\n",
    "\n",
    "To set an output, we pass a Javascript callback object to the\n",
    "execute call, looking like this:\n",
    "\n",
    "    var kernel = IPython.notebook.kernel;\n",
    "    function callback(out_type, out_data){\n",
    "        // do_something\n",
    "    }\n",
    "    kernel.execute(command, {\"output\": callback});\n",
    "\n",
    "Using this, we can execute a Python command and do something with\n",
    "the result.  The python command can be as simple as a variable name:\n",
    "in this case, the value returned is simply the value of that variable.\n",
    "\n",
    "To demonstrate this, we'll first import ``pi`` and ``sin``\n",
    "from the ``math`` package in Python:"
   ]
  },
  {
   "cell_type": "code",
   "execution_count": 1,
   "metadata": {},
   "outputs": [],
   "source": [
    "from math import pi, sin"
   ]
  },
  {
   "cell_type": "code",
   "execution_count": 2,
   "metadata": {},
   "outputs": [],
   "source": [
    "from IPython.display import HTML\n"
   ]
  },
  {
   "cell_type": "markdown",
   "metadata": {},
   "source": [
    "And then we'll manipulate this value via Javascript:"
   ]
  },
  {
   "cell_type": "code",
   "execution_count": 3,
   "metadata": {},
   "outputs": [
    {
     "data": {
      "text/html": [
       "\n",
       "<div style=\"background-color:gainsboro; border:solid black; width:600px; padding:20px;\">\n",
       "Code: <input type=\"text\" id=\"code_input\" size=\"50\" height=\"2\" value=\"sin(pi / 2)\"><br>\n",
       "Result: <input type=\"text\" id=\"result_output\" size=\"50\" value=\"1.0\"><br>\n",
       "<button onclick=\"exec_code()\">Execute</button>\n",
       "</div>\n",
       "\n",
       "<script type=\"text/Javascript\">\n",
       "    function handle_output(out_type, out){\n",
       "        console.log(out_type);\n",
       "        console.log(out);\n",
       "        var res = null;\n",
       "         // if output is a print statement\n",
       "        if(out_type == \"stream\"){\n",
       "            res = out.data;\n",
       "        }\n",
       "        // if output is a python object\n",
       "        else if(out_type === \"pyout\"){\n",
       "            res = out.data[\"text/plain\"];\n",
       "        }\n",
       "        // if output is a python error\n",
       "        else if(out_type == \"pyerr\"){\n",
       "            res = out.ename + \": \" + out.evalue;\n",
       "        }\n",
       "        // if output is something we haven't thought of\n",
       "        else{\n",
       "            res = \"[out type not implemented]\";   \n",
       "        }\n",
       "        document.getElementById(\"result_output\").value = res;\n",
       "    }\n",
       "    \n",
       "    function exec_code(){\n",
       "        var code_input = document.getElementById('code_input').value;\n",
       "        var kernel = IPython.notebook.kernel;\n",
       "        var callbacks = {'output' : handle_output};\n",
       "        document.getElementById(\"result_output\").value = \"\";  // clear output box\n",
       "        var msg_id = kernel.execute(code_input, callbacks, {silent:false});\n",
       "        console.log(\"button pressed\");\n",
       "    }\n",
       "</script>\n"
      ],
      "text/plain": [
       "<IPython.core.display.HTML object>"
      ]
     },
     "execution_count": 3,
     "metadata": {},
     "output_type": "execute_result"
    }
   ],
   "source": [
    "# Add an input form similar to what we saw above\n",
    "input_form = \"\"\"\n",
    "<div style=\"background-color:gainsboro; border:solid black; width:600px; padding:20px;\">\n",
    "Code: <input type=\"text\" id=\"code_input\" size=\"50\" height=\"2\" value=\"sin(pi / 2)\"><br>\n",
    "Result: <input type=\"text\" id=\"result_output\" size=\"50\" value=\"1.0\"><br>\n",
    "<button onclick=\"exec_code()\">Execute</button>\n",
    "</div>\n",
    "\"\"\"\n",
    "\n",
    "# here the javascript has a function to execute the code\n",
    "# within the input box, and a callback to handle the output.\n",
    "javascript = \"\"\"\n",
    "<script type=\"text/Javascript\">\n",
    "    function handle_output(out_type, out){\n",
    "        console.log(out_type);\n",
    "        console.log(out);\n",
    "        var res = null;\n",
    "         // if output is a print statement\n",
    "        if(out_type == \"stream\"){\n",
    "            res = out.data;\n",
    "        }\n",
    "        // if output is a python object\n",
    "        else if(out_type === \"pyout\"){\n",
    "            res = out.data[\"text/plain\"];\n",
    "        }\n",
    "        // if output is a python error\n",
    "        else if(out_type == \"pyerr\"){\n",
    "            res = out.ename + \": \" + out.evalue;\n",
    "        }\n",
    "        // if output is something we haven't thought of\n",
    "        else{\n",
    "            res = \"[out type not implemented]\";   \n",
    "        }\n",
    "        document.getElementById(\"result_output\").value = res;\n",
    "    }\n",
    "    \n",
    "    function exec_code(){\n",
    "        var code_input = document.getElementById('code_input').value;\n",
    "        var kernel = IPython.notebook.kernel;\n",
    "        var callbacks = {'output' : handle_output};\n",
    "        document.getElementById(\"result_output\").value = \"\";  // clear output box\n",
    "        var msg_id = kernel.execute(code_input, callbacks, {silent:false});\n",
    "        console.log(\"button pressed\");\n",
    "    }\n",
    "</script>\n",
    "\"\"\"\n",
    "\n",
    "HTML(input_form + javascript)"
   ]
  },
  {
   "cell_type": "markdown",
   "metadata": {},
   "source": [
    "Pressing <button>Execute</button> above will call ``kernel.execute``\n",
    "with the contents of the **Code** box, passing a callback which\n",
    "displays the result in the result box.\n",
    "\n",
    "The reason the callback has so many conditionals is because there are several types\n",
    "of outputs we need to handle.  Note that the output handler is given as the ``output``\n",
    "attribute of a Javascript object, and passed to the ``kernel.execute`` function.\n",
    "Again, we use ``console.log`` to allow us to inspect the objects\n",
    "using the Javascript console."
   ]
  },
  {
   "cell_type": "markdown",
   "metadata": {},
   "source": [
    "## Application: An On-the-fly Matplotlib Animation"
   ]
  },
  {
   "cell_type": "markdown",
   "metadata": {},
   "source": [
    "In a [previous post](http://jakevdp.github.io/blog/2013/05/19/a-javascript-viewer-for-matplotlib-animations/)\n",
    "I introduced a javascript viewer for matplotlib animations. This viewer pre-computes all the matplotlib\n",
    "frames, embeds them in the notebook, and offers some tools to view them.\n",
    "\n",
    "Here we'll explore a different strategy: rather than precomputing all the frames before displaying them,\n",
    "we'll use the javascript/python kernel communication and *generate the frames as needed*.\n",
    "\n",
    "Note that if you're viewing this statically (e.g. in nbviewer or on my blog), it will be relatively\n",
    "unexciting: with no IPython kernel available, calls to the kernel will do nothing.\n",
    "To see this in action, please\n",
    "[download](http://jakevdp.github.io/downloads/notebooks/JSInteraction.ipynb) the notebook and open it with a running IPython notebook instance."
   ]
  },
  {
   "cell_type": "code",
   "execution_count": 4,
   "metadata": {},
   "outputs": [
    {
     "name": "stdout",
     "output_type": "stream",
     "text": [
      "Populating the interactive namespace from numpy and matplotlib\n"
     ]
    },
    {
     "name": "stderr",
     "output_type": "stream",
     "text": [
      "/usr/local/lib/python3.5/dist-packages/IPython/core/magics/pylab.py:160: UserWarning: pylab import has clobbered these variables: ['pi', 'sin']\n",
      "`%matplotlib` prevents importing * from pylab and numpy\n",
      "  \"\\n`%matplotlib` prevents importing * from pylab and numpy\"\n"
     ]
    }
   ],
   "source": [
    "%pylab inline"
   ]
  },
  {
   "cell_type": "code",
   "execution_count": 5,
   "metadata": {},
   "outputs": [],
   "source": [
    "from IPython.display import HTML\n",
    "#from cStringIO import StringIO\n",
    "from io import StringIO\n",
    "\n",
    "# We'll use HTML to create a control panel with an\n",
    "# empty image and a number of navigation buttons.\n",
    "\n",
    "disp_html = \"\"\"\n",
    "<div class=\"animation\" align=\"center\">\n",
    "<img id=\"anim_frame\" src=\"\"><br>\n",
    "<button onclick=\"prevFrame()\">Prev Frame</button>\n",
    "<button onclick=\"reverse()\">Reverse</button>\n",
    "<button onclick=\"pause()\">Pause</button>\n",
    "<button onclick=\"play()\">Play</button>\n",
    "<button onclick=\"nextFrame()\">Next Frame</button>\n",
    "</div>\n",
    "\"\"\"\n",
    "\n",
    "# now the javascript to drive it.  The nextFrame() and prevFrame()\n",
    "# functions will call the kernel and pull-down the frame which\n",
    "# is generated.  The play() and reverse() functions use timeouts\n",
    "# to repeatedly call nextFrame() and prevFrame().\n",
    "\n",
    "javascript = \"\"\"\n",
    "<script type=\"text/Javascript\">\n",
    "var count = -1;  // keep track of frame number\n",
    "var animating = 0;  // keep track of animation direction\n",
    "var timer = null;\n",
    "var kernel = IPython.notebook.kernel;\n",
    "\n",
    "function output(out_type, out){\n",
    "    data = out.data[\"text/plain\"];\n",
    "    document.getElementById(\"anim_frame\").src = data.substring(1, data.length - 1);\n",
    "    \n",
    "    if(animating > 0){\n",
    "        timer = setTimeout(nextFrame, 0);\n",
    "    }\n",
    "    else if(animating < 0){\n",
    "        timer = setTimeout(prevFrame, 0);\n",
    "    }\n",
    "}\n",
    "\n",
    "var callbacks = {'output' : output};\n",
    "\n",
    "function pause(){\n",
    "    animating = 0;\n",
    "    if(timer){\n",
    "        clearInterval(timer);\n",
    "        timer = null;\n",
    "    }\n",
    "}\n",
    "\n",
    "function play(){\n",
    "    pause();\n",
    "    animating = +1;\n",
    "    nextFrame();\n",
    "}\n",
    "\n",
    "function reverse(){\n",
    "    pause();\n",
    "    animating = -1;\n",
    "    prevFrame();\n",
    "}\n",
    "\n",
    "function nextFrame(){\n",
    "    count += 1;\n",
    "    var msg_id = kernel.execute(\"disp._get_frame_data(\" + count + \")\", callbacks, {silent:false});\n",
    "}\n",
    "\n",
    "function prevFrame(){\n",
    "    count -= 1;\n",
    "    var msg_id = kernel.execute(\"disp._get_frame_data(\" + count + \")\", callbacks, {silent:false});\n",
    "}\n",
    "\n",
    "// display the first frame\n",
    "setTimeout(nextFrame, 0);\n",
    "\n",
    "</script>\n",
    "\"\"\"\n",
    "\n",
    "# Here we create a class whose HTML representation is the above\n",
    "# HTML and javascript.  Note that we've hard-coded the global\n",
    "# variable name `disp` in the Javascript, so you'll have to assign\n",
    "# the resulting object to this name in order to view it.\n",
    "\n",
    "class DisplayAnimation(object):\n",
    "    def __init__(self, anim):\n",
    "        self.anim = anim\n",
    "        self.fig = anim._fig\n",
    "        plt.close(self.fig)\n",
    "        \n",
    "    def _get_frame_data(self, i):\n",
    "        anim._draw_frame(i)\n",
    "        buffer = StringIO()\n",
    "        fig.savefig(buffer, format='png')\n",
    "        buffer.reset()\n",
    "        data = buffer.read().encode('base64')\n",
    "        return \"data:image/png;base64,{0}\".format(data.replace('\\n', ''))\n",
    "    \n",
    "    def _repr_html_(self):\n",
    "        return disp_html + javascript"
   ]
  },
  {
   "cell_type": "markdown",
   "metadata": {},
   "source": [
    "This code should be considered a proof-of-concept: in particular, it\n",
    "requires the display object to be named ``disp`` in the global namespace.\n",
    "But making it more robust would be a relatively simple process.\n",
    "\n",
    "Here we'll test the result by creating a simple animation and displaying it dynamically:"
   ]
  },
  {
   "cell_type": "code",
   "execution_count": 6,
   "metadata": {},
   "outputs": [
    {
     "data": {
      "text/html": [
       "\n",
       "<div class=\"animation\" align=\"center\">\n",
       "<img id=\"anim_frame\" src=\"\"><br>\n",
       "<button onclick=\"prevFrame()\">Prev Frame</button>\n",
       "<button onclick=\"reverse()\">Reverse</button>\n",
       "<button onclick=\"pause()\">Pause</button>\n",
       "<button onclick=\"play()\">Play</button>\n",
       "<button onclick=\"nextFrame()\">Next Frame</button>\n",
       "</div>\n",
       "\n",
       "<script type=\"text/Javascript\">\n",
       "var count = -1;  // keep track of frame number\n",
       "var animating = 0;  // keep track of animation direction\n",
       "var timer = null;\n",
       "var kernel = IPython.notebook.kernel;\n",
       "\n",
       "function output(out_type, out){\n",
       "    data = out.data[\"text/plain\"];\n",
       "    document.getElementById(\"anim_frame\").src = data.substring(1, data.length - 1);\n",
       "    \n",
       "    if(animating > 0){\n",
       "        timer = setTimeout(nextFrame, 0);\n",
       "    }\n",
       "    else if(animating < 0){\n",
       "        timer = setTimeout(prevFrame, 0);\n",
       "    }\n",
       "}\n",
       "\n",
       "var callbacks = {'output' : output};\n",
       "\n",
       "function pause(){\n",
       "    animating = 0;\n",
       "    if(timer){\n",
       "        clearInterval(timer);\n",
       "        timer = null;\n",
       "    }\n",
       "}\n",
       "\n",
       "function play(){\n",
       "    pause();\n",
       "    animating = +1;\n",
       "    nextFrame();\n",
       "}\n",
       "\n",
       "function reverse(){\n",
       "    pause();\n",
       "    animating = -1;\n",
       "    prevFrame();\n",
       "}\n",
       "\n",
       "function nextFrame(){\n",
       "    count += 1;\n",
       "    var msg_id = kernel.execute(\"disp._get_frame_data(\" + count + \")\", callbacks, {silent:false});\n",
       "}\n",
       "\n",
       "function prevFrame(){\n",
       "    count -= 1;\n",
       "    var msg_id = kernel.execute(\"disp._get_frame_data(\" + count + \")\", callbacks, {silent:false});\n",
       "}\n",
       "\n",
       "// display the first frame\n",
       "setTimeout(nextFrame, 0);\n",
       "\n",
       "</script>\n"
      ],
      "text/plain": [
       "<__main__.DisplayAnimation at 0x7fb49fbb75c0>"
      ]
     },
     "execution_count": 6,
     "metadata": {},
     "output_type": "execute_result"
    }
   ],
   "source": [
    "from matplotlib import animation\n",
    "\n",
    "fig = plt.figure()\n",
    "ax = plt.axes(xlim=(0, 10), ylim=(-2, 2))\n",
    "line, = ax.plot([], [], lw=2)\n",
    "\n",
    "def init():\n",
    "    line.set_data([], [])\n",
    "    return line,\n",
    "\n",
    "def animate(i):\n",
    "    x = np.linspace(0, 10, 1000)\n",
    "    y = np.cos(i * 0.02 * np.pi) * np.sin(x - i * 0.02 * np.pi)\n",
    "    line.set_data(x, y)\n",
    "    return line,\n",
    "\n",
    "anim = animation.FuncAnimation(fig, animate, init_func=init,\n",
    "                               frames=100, interval=30)\n",
    "\n",
    "# For now, we need to name this `disp` for it to work\n",
    "disp = DisplayAnimation(anim)\n",
    "disp"
   ]
  },
  {
   "cell_type": "markdown",
   "metadata": {},
   "source": [
    "Once again, if you're viewing this statically, you'll see nothing above\n",
    "the buttons.  The kernel needs to be running in order to see this: you can\n",
    "[download the notebook](http://jakevdp.github.io/downloads/notebooks/JSInteraction.ipynb) and run it to see the results (To see a\n",
    "statically-viewable version of the animation, refer to the\n",
    "[previous post](http://jakevdp.github.io/blog/2013/05/19/a-javascript-viewer-for-matplotlib-animations/)).\n",
    "But I assure you,\n",
    "it works!  We've created an animation viewer which uses bi-directional\n",
    "communication between javascript and matplotlib to generate the frames in\n",
    "real-time.\n",
    "\n",
    "Note that this is still rather limited, and should be considered a proof-of-concept\n",
    "more than a finished result.  In particular, on my four-year-old linux box, I\n",
    "can only achieve a frame-rate of about 10 frames/sec.\n",
    "Part of this is due to the reliance on png images saved within matplotlib,\n",
    "as we can see by profiling the function:"
   ]
  },
  {
   "cell_type": "code",
   "execution_count": 7,
   "metadata": {},
   "outputs": [
    {
     "data": {
      "text/plain": [
       "[<matplotlib.lines.Line2D at 0x7fb4a1bda400>]"
      ]
     },
     "execution_count": 7,
     "metadata": {},
     "output_type": "execute_result"
    },
    {
     "data": {
      "image/png": "[encoded data removed]",
      "text/plain": [
       "<Figure size 432x288 with 1 Axes>"
      ]
     },
     "metadata": {
      "needs_background": "light"
     },
     "output_type": "display_data"
    }
   ],
   "source": [
    "def save_to_mem(fig):\n",
    "    buffer = StringIO()\n",
    "    fig.savefig(buffer, format='png')\n",
    "    buffer.reset()\n",
    "    data = buffer.read().encode('base64')\n",
    "    return \"data:image/png;base64,{0}\".format(data.replace('\\n', ''))\n",
    "\n",
    "fig, ax = plt.subplots()\n",
    "ax.plot(rand(200))"
   ]
  },
  {
   "cell_type": "code",
   "execution_count": 8,
   "metadata": {},
   "outputs": [
    {
     "ename": "TypeError",
     "evalue": "string argument expected, got 'bytes'",
     "output_type": "error",
     "traceback": [
      "\u001b[0;31m---------------------------------------------------------------------------\u001b[0m",
      "\u001b[0;31mTypeError\u001b[0m                                 Traceback (most recent call last)",
      "\u001b[0;32m<ipython-input-8-4963c2059883>\u001b[0m in \u001b[0;36m<module>\u001b[0;34m\u001b[0m\n\u001b[0;32m----> 1\u001b[0;31m \u001b[0mget_ipython\u001b[0m\u001b[0;34m(\u001b[0m\u001b[0;34m)\u001b[0m\u001b[0;34m.\u001b[0m\u001b[0mrun_line_magic\u001b[0m\u001b[0;34m(\u001b[0m\u001b[0;34m'timeit'\u001b[0m\u001b[0;34m,\u001b[0m \u001b[0;34m'save_to_mem(fig)'\u001b[0m\u001b[0;34m)\u001b[0m\u001b[0;34m\u001b[0m\u001b[0m\n\u001b[0m",
      "\u001b[0;32m/usr/local/lib/python3.5/dist-packages/IPython/core/interactiveshell.py\u001b[0m in \u001b[0;36mrun_line_magic\u001b[0;34m(self, magic_name, line, _stack_depth)\u001b[0m\n\u001b[1;32m   2285\u001b[0m                 \u001b[0mkwargs\u001b[0m\u001b[0;34m[\u001b[0m\u001b[0;34m'local_ns'\u001b[0m\u001b[0;34m]\u001b[0m \u001b[0;34m=\u001b[0m \u001b[0msys\u001b[0m\u001b[0;34m.\u001b[0m\u001b[0m_getframe\u001b[0m\u001b[0;34m(\u001b[0m\u001b[0mstack_depth\u001b[0m\u001b[0;34m)\u001b[0m\u001b[0;34m.\u001b[0m\u001b[0mf_locals\u001b[0m\u001b[0;34m\u001b[0m\u001b[0m\n\u001b[1;32m   2286\u001b[0m             \u001b[0;32mwith\u001b[0m \u001b[0mself\u001b[0m\u001b[0;34m.\u001b[0m\u001b[0mbuiltin_trap\u001b[0m\u001b[0;34m:\u001b[0m\u001b[0;34m\u001b[0m\u001b[0m\n\u001b[0;32m-> 2287\u001b[0;31m                 \u001b[0mresult\u001b[0m \u001b[0;34m=\u001b[0m \u001b[0mfn\u001b[0m\u001b[0;34m(\u001b[0m\u001b[0;34m*\u001b[0m\u001b[0margs\u001b[0m\u001b[0;34m,\u001b[0m\u001b[0;34m**\u001b[0m\u001b[0mkwargs\u001b[0m\u001b[0;34m)\u001b[0m\u001b[0;34m\u001b[0m\u001b[0m\n\u001b[0m\u001b[1;32m   2288\u001b[0m             \u001b[0;32mreturn\u001b[0m \u001b[0mresult\u001b[0m\u001b[0;34m\u001b[0m\u001b[0m\n\u001b[1;32m   2289\u001b[0m \u001b[0;34m\u001b[0m\u001b[0m\n",
      "\u001b[0;32m<decorator-gen-61>\u001b[0m in \u001b[0;36mtimeit\u001b[0;34m(self, line, cell, local_ns)\u001b[0m\n",
      "\u001b[0;32m/usr/local/lib/python3.5/dist-packages/IPython/core/magic.py\u001b[0m in \u001b[0;36m<lambda>\u001b[0;34m(f, *a, **k)\u001b[0m\n\u001b[1;32m    185\u001b[0m     \u001b[0;31m# but it's overkill for just that one bit of state.\u001b[0m\u001b[0;34m\u001b[0m\u001b[0;34m\u001b[0m\u001b[0m\n\u001b[1;32m    186\u001b[0m     \u001b[0;32mdef\u001b[0m \u001b[0mmagic_deco\u001b[0m\u001b[0;34m(\u001b[0m\u001b[0marg\u001b[0m\u001b[0;34m)\u001b[0m\u001b[0;34m:\u001b[0m\u001b[0;34m\u001b[0m\u001b[0m\n\u001b[0;32m--> 187\u001b[0;31m         \u001b[0mcall\u001b[0m \u001b[0;34m=\u001b[0m \u001b[0;32mlambda\u001b[0m \u001b[0mf\u001b[0m\u001b[0;34m,\u001b[0m \u001b[0;34m*\u001b[0m\u001b[0ma\u001b[0m\u001b[0;34m,\u001b[0m \u001b[0;34m**\u001b[0m\u001b[0mk\u001b[0m\u001b[0;34m:\u001b[0m \u001b[0mf\u001b[0m\u001b[0;34m(\u001b[0m\u001b[0;34m*\u001b[0m\u001b[0ma\u001b[0m\u001b[0;34m,\u001b[0m \u001b[0;34m**\u001b[0m\u001b[0mk\u001b[0m\u001b[0;34m)\u001b[0m\u001b[0;34m\u001b[0m\u001b[0m\n\u001b[0m\u001b[1;32m    188\u001b[0m \u001b[0;34m\u001b[0m\u001b[0m\n\u001b[1;32m    189\u001b[0m         \u001b[0;32mif\u001b[0m \u001b[0mcallable\u001b[0m\u001b[0;34m(\u001b[0m\u001b[0marg\u001b[0m\u001b[0;34m)\u001b[0m\u001b[0;34m:\u001b[0m\u001b[0;34m\u001b[0m\u001b[0m\n",
      "\u001b[0;32m/usr/local/lib/python3.5/dist-packages/IPython/core/magics/execution.py\u001b[0m in \u001b[0;36mtimeit\u001b[0;34m(self, line, cell, local_ns)\u001b[0m\n\u001b[1;32m   1104\u001b[0m             \u001b[0;32mfor\u001b[0m \u001b[0mindex\u001b[0m \u001b[0;32min\u001b[0m \u001b[0mrange\u001b[0m\u001b[0;34m(\u001b[0m\u001b[0;36m0\u001b[0m\u001b[0;34m,\u001b[0m \u001b[0;36m10\u001b[0m\u001b[0;34m)\u001b[0m\u001b[0;34m:\u001b[0m\u001b[0;34m\u001b[0m\u001b[0m\n\u001b[1;32m   1105\u001b[0m                 \u001b[0mnumber\u001b[0m \u001b[0;34m=\u001b[0m \u001b[0;36m10\u001b[0m \u001b[0;34m**\u001b[0m \u001b[0mindex\u001b[0m\u001b[0;34m\u001b[0m\u001b[0m\n\u001b[0;32m-> 1106\u001b[0;31m                 \u001b[0mtime_number\u001b[0m \u001b[0;34m=\u001b[0m \u001b[0mtimer\u001b[0m\u001b[0;34m.\u001b[0m\u001b[0mtimeit\u001b[0m\u001b[0;34m(\u001b[0m\u001b[0mnumber\u001b[0m\u001b[0;34m)\u001b[0m\u001b[0;34m\u001b[0m\u001b[0m\n\u001b[0m\u001b[1;32m   1107\u001b[0m                 \u001b[0;32mif\u001b[0m \u001b[0mtime_number\u001b[0m \u001b[0;34m>=\u001b[0m \u001b[0;36m0.2\u001b[0m\u001b[0;34m:\u001b[0m\u001b[0;34m\u001b[0m\u001b[0m\n\u001b[1;32m   1108\u001b[0m                     \u001b[0;32mbreak\u001b[0m\u001b[0;34m\u001b[0m\u001b[0m\n",
      "\u001b[0;32m/usr/local/lib/python3.5/dist-packages/IPython/core/magics/execution.py\u001b[0m in \u001b[0;36mtimeit\u001b[0;34m(self, number)\u001b[0m\n\u001b[1;32m    158\u001b[0m         \u001b[0mgc\u001b[0m\u001b[0;34m.\u001b[0m\u001b[0mdisable\u001b[0m\u001b[0;34m(\u001b[0m\u001b[0;34m)\u001b[0m\u001b[0;34m\u001b[0m\u001b[0m\n\u001b[1;32m    159\u001b[0m         \u001b[0;32mtry\u001b[0m\u001b[0;34m:\u001b[0m\u001b[0;34m\u001b[0m\u001b[0m\n\u001b[0;32m--> 160\u001b[0;31m             \u001b[0mtiming\u001b[0m \u001b[0;34m=\u001b[0m \u001b[0mself\u001b[0m\u001b[0;34m.\u001b[0m\u001b[0minner\u001b[0m\u001b[0;34m(\u001b[0m\u001b[0mit\u001b[0m\u001b[0;34m,\u001b[0m \u001b[0mself\u001b[0m\u001b[0;34m.\u001b[0m\u001b[0mtimer\u001b[0m\u001b[0;34m)\u001b[0m\u001b[0;34m\u001b[0m\u001b[0m\n\u001b[0m\u001b[1;32m    161\u001b[0m         \u001b[0;32mfinally\u001b[0m\u001b[0;34m:\u001b[0m\u001b[0;34m\u001b[0m\u001b[0m\n\u001b[1;32m    162\u001b[0m             \u001b[0;32mif\u001b[0m \u001b[0mgcold\u001b[0m\u001b[0;34m:\u001b[0m\u001b[0;34m\u001b[0m\u001b[0m\n",
      "\u001b[0;32m<magic-timeit>\u001b[0m in \u001b[0;36minner\u001b[0;34m(_it, _timer)\u001b[0m\n",
      "\u001b[0;32m<ipython-input-7-dfb4663ca454>\u001b[0m in \u001b[0;36msave_to_mem\u001b[0;34m(fig)\u001b[0m\n\u001b[1;32m      1\u001b[0m \u001b[0;32mdef\u001b[0m \u001b[0msave_to_mem\u001b[0m\u001b[0;34m(\u001b[0m\u001b[0mfig\u001b[0m\u001b[0;34m)\u001b[0m\u001b[0;34m:\u001b[0m\u001b[0;34m\u001b[0m\u001b[0m\n\u001b[1;32m      2\u001b[0m     \u001b[0mbuffer\u001b[0m \u001b[0;34m=\u001b[0m \u001b[0mStringIO\u001b[0m\u001b[0;34m(\u001b[0m\u001b[0;34m)\u001b[0m\u001b[0;34m\u001b[0m\u001b[0m\n\u001b[0;32m----> 3\u001b[0;31m     \u001b[0mfig\u001b[0m\u001b[0;34m.\u001b[0m\u001b[0msavefig\u001b[0m\u001b[0;34m(\u001b[0m\u001b[0mbuffer\u001b[0m\u001b[0;34m,\u001b[0m \u001b[0mformat\u001b[0m\u001b[0;34m=\u001b[0m\u001b[0;34m'png'\u001b[0m\u001b[0;34m)\u001b[0m\u001b[0;34m\u001b[0m\u001b[0m\n\u001b[0m\u001b[1;32m      4\u001b[0m     \u001b[0mbuffer\u001b[0m\u001b[0;34m.\u001b[0m\u001b[0mreset\u001b[0m\u001b[0;34m(\u001b[0m\u001b[0;34m)\u001b[0m\u001b[0;34m\u001b[0m\u001b[0m\n\u001b[1;32m      5\u001b[0m     \u001b[0mdata\u001b[0m \u001b[0;34m=\u001b[0m \u001b[0mbuffer\u001b[0m\u001b[0;34m.\u001b[0m\u001b[0mread\u001b[0m\u001b[0;34m(\u001b[0m\u001b[0;34m)\u001b[0m\u001b[0;34m.\u001b[0m\u001b[0mencode\u001b[0m\u001b[0;34m(\u001b[0m\u001b[0;34m'base64'\u001b[0m\u001b[0;34m)\u001b[0m\u001b[0;34m\u001b[0m\u001b[0m\n",
      "\u001b[0;32m/usr/local/lib/python3.5/dist-packages/matplotlib/figure.py\u001b[0m in \u001b[0;36msavefig\u001b[0;34m(self, fname, frameon, transparent, **kwargs)\u001b[0m\n\u001b[1;32m   2092\u001b[0m             \u001b[0mself\u001b[0m\u001b[0;34m.\u001b[0m\u001b[0mset_frameon\u001b[0m\u001b[0;34m(\u001b[0m\u001b[0mframeon\u001b[0m\u001b[0;34m)\u001b[0m\u001b[0;34m\u001b[0m\u001b[0m\n\u001b[1;32m   2093\u001b[0m \u001b[0;34m\u001b[0m\u001b[0m\n\u001b[0;32m-> 2094\u001b[0;31m         \u001b[0mself\u001b[0m\u001b[0;34m.\u001b[0m\u001b[0mcanvas\u001b[0m\u001b[0;34m.\u001b[0m\u001b[0mprint_figure\u001b[0m\u001b[0;34m(\u001b[0m\u001b[0mfname\u001b[0m\u001b[0;34m,\u001b[0m \u001b[0;34m**\u001b[0m\u001b[0mkwargs\u001b[0m\u001b[0;34m)\u001b[0m\u001b[0;34m\u001b[0m\u001b[0m\n\u001b[0m\u001b[1;32m   2095\u001b[0m \u001b[0;34m\u001b[0m\u001b[0m\n\u001b[1;32m   2096\u001b[0m         \u001b[0;32mif\u001b[0m \u001b[0mframeon\u001b[0m\u001b[0;34m:\u001b[0m\u001b[0;34m\u001b[0m\u001b[0m\n",
      "\u001b[0;32m/usr/local/lib/python3.5/dist-packages/matplotlib/backend_bases.py\u001b[0m in \u001b[0;36mprint_figure\u001b[0;34m(self, filename, dpi, facecolor, edgecolor, orientation, format, bbox_inches, **kwargs)\u001b[0m\n\u001b[1;32m   2073\u001b[0m                     \u001b[0morientation\u001b[0m\u001b[0;34m=\u001b[0m\u001b[0morientation\u001b[0m\u001b[0;34m,\u001b[0m\u001b[0;34m\u001b[0m\u001b[0m\n\u001b[1;32m   2074\u001b[0m                     \u001b[0mbbox_inches_restore\u001b[0m\u001b[0;34m=\u001b[0m\u001b[0m_bbox_inches_restore\u001b[0m\u001b[0;34m,\u001b[0m\u001b[0;34m\u001b[0m\u001b[0m\n\u001b[0;32m-> 2075\u001b[0;31m                     **kwargs)\n\u001b[0m\u001b[1;32m   2076\u001b[0m             \u001b[0;32mfinally\u001b[0m\u001b[0;34m:\u001b[0m\u001b[0;34m\u001b[0m\u001b[0m\n\u001b[1;32m   2077\u001b[0m                 \u001b[0;32mif\u001b[0m \u001b[0mbbox_inches\u001b[0m \u001b[0;32mand\u001b[0m \u001b[0mrestore_bbox\u001b[0m\u001b[0;34m:\u001b[0m\u001b[0;34m\u001b[0m\u001b[0m\n",
      "\u001b[0;32m/usr/local/lib/python3.5/dist-packages/matplotlib/backends/backend_agg.py\u001b[0m in \u001b[0;36mprint_png\u001b[0;34m(self, filename_or_obj, *args, **kwargs)\u001b[0m\n\u001b[1;32m    521\u001b[0m                 \u001b[0mcbook\u001b[0m\u001b[0;34m.\u001b[0m\u001b[0mopen_file_cm\u001b[0m\u001b[0;34m(\u001b[0m\u001b[0mfilename_or_obj\u001b[0m\u001b[0;34m,\u001b[0m \u001b[0;34m\"wb\"\u001b[0m\u001b[0;34m)\u001b[0m \u001b[0;32mas\u001b[0m \u001b[0mfh\u001b[0m\u001b[0;34m:\u001b[0m\u001b[0;34m\u001b[0m\u001b[0m\n\u001b[1;32m    522\u001b[0m             _png.write_png(renderer._renderer, fh,\n\u001b[0;32m--> 523\u001b[0;31m                             self.figure.dpi, metadata=metadata)\n\u001b[0m\u001b[1;32m    524\u001b[0m \u001b[0;34m\u001b[0m\u001b[0m\n\u001b[1;32m    525\u001b[0m     \u001b[0;32mdef\u001b[0m \u001b[0mprint_to_buffer\u001b[0m\u001b[0;34m(\u001b[0m\u001b[0mself\u001b[0m\u001b[0;34m)\u001b[0m\u001b[0;34m:\u001b[0m\u001b[0;34m\u001b[0m\u001b[0m\n",
      "\u001b[0;31mTypeError\u001b[0m: string argument expected, got 'bytes'"
     ]
    }
   ],
   "source": [
    "%timeit save_to_mem(fig)"
   ]
  },
  {
   "cell_type": "markdown",
   "metadata": {},
   "source": [
    "That's a cap of about 20 frames per second on matplotlib's end, not including\n",
    "the time required to serialize and send the data,\n",
    "or to render each frame on the page.\n",
    "I'm certain there are much better ways to do this particular application,\n",
    "but they would take a bit more thought."
   ]
  },
  {
   "cell_type": "markdown",
   "metadata": {},
   "source": [
    "I hope this post was helpful to you, as unpolished as the results are, and\n",
    "please let me know if you have ideas about how to do this more effectively!\n",
    "Also, keep in mind that Javascript support should be improving immensely in\n",
    "IPython 2.0, which (according to the [roadmap](https://github.com/ipython/ipython/wiki/Roadmap:-IPython))\n",
    "should be released in December of 2013.  At that point I may have more to say\n",
    "on the subject!"
   ]
  },
  {
   "cell_type": "markdown",
   "metadata": {},
   "source": [
    "*This post was composed entirely in IPython notebook.*\n",
    "*The source notebook can be downloaded*\n",
    "[here](http://jakevdp.github.io/downloads/notebooks/JSInteraction.ipynb)"
   ]
  }
 ],
 "metadata": {
  "anaconda-cloud": {},
  "kernelspec": {
   "display_name": "Python 3",
   "language": "python",
   "name": "python3"
  },
  "language_info": {
   "codemirror_mode": {
    "name": "ipython",
    "version": 3
   },
   "file_extension": ".py",
   "mimetype": "text/x-python",
   "name": "python",
   "nbconvert_exporter": "python",
   "pygments_lexer": "ipython3",
   "version": "3.5.2"
  }
 },
 "nbformat": 4,
 "nbformat_minor": 1
}
