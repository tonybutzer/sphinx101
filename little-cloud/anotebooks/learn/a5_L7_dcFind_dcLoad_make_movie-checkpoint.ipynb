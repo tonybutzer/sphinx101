{
 "cells": [
  {
   "cell_type": "markdown",
   "metadata": {},
   "source": [
    "# Verify jupyter setup by grabbing a few scenes and making a movie\n",
    "\n"
   ]
  },
  {
   "cell_type": "code",
   "execution_count": 1,
   "metadata": {},
   "outputs": [
    {
     "name": "stdout",
     "output_type": "stream",
     "text": [
      "Open Data Cube core, version 1.6rc1\r\n"
     ]
    }
   ],
   "source": [
    "!datacube --version  ## Open Data Cube is a Github Project"
   ]
  },
  {
   "cell_type": "code",
   "execution_count": 2,
   "metadata": {},
   "outputs": [
    {
     "name": "stdout",
     "output_type": "stream",
     "text": [
      "Traceback (most recent call last):\r\n",
      "  File \"/usr/local/bin/datacube\", line 11, in <module>\r\n",
      "    load_entry_point('datacube', 'console_scripts', 'datacube')()\r\n",
      "  File \"/home/ubuntu/.local/lib/python3.5/site-packages/click/core.py\", line 722, in __call__\r\n",
      "    return self.main(*args, **kwargs)\r\n",
      "  File \"/home/ubuntu/.local/lib/python3.5/site-packages/click/core.py\", line 697, in main\r\n",
      "    rv = self.invoke(ctx)\r\n",
      "  File \"/home/ubuntu/.local/lib/python3.5/site-packages/click/core.py\", line 1066, in invoke\r\n",
      "    return _process_result(sub_ctx.command.invoke(sub_ctx))\r\n",
      "  File \"/home/ubuntu/.local/lib/python3.5/site-packages/click/core.py\", line 1066, in invoke\r\n",
      "    return _process_result(sub_ctx.command.invoke(sub_ctx))\r\n",
      "  File \"/home/ubuntu/.local/lib/python3.5/site-packages/click/core.py\", line 895, in invoke\r\n",
      "    return ctx.invoke(self.callback, **ctx.params)\r\n",
      "  File \"/home/ubuntu/.local/lib/python3.5/site-packages/click/core.py\", line 535, in invoke\r\n",
      "    return callback(*args, **kwargs)\r\n",
      "  File \"/opt/EasterBilby/datacube-core-datacube-1.6rc1/datacube/ui/click.py\", line 190, in new_func\r\n",
      "    parsed_config = config.LocalConfig.find(paths=paths, env=specific_environment)\r\n",
      "  File \"/opt/EasterBilby/datacube-core-datacube-1.6rc1/datacube/config.py\", line 116, in find\r\n",
      "    env=env,\r\n",
      "  File \"/opt/EasterBilby/datacube-core-datacube-1.6rc1/datacube/config.py\", line 94, in __init__\r\n",
      "    raise ValueError('No ODC environment, checked configurations for %s' % fallbacks)\r\n",
      "ValueError: No ODC environment, checked configurations for ['default', 'datacube']\r\n"
     ]
    }
   ],
   "source": [
    "!datacube product list   ## I built this cube to have three products/collections/dataset (SETS)"
   ]
  },
  {
   "cell_type": "code",
   "execution_count": null,
   "metadata": {},
   "outputs": [
    {
     "name": "stdout",
     "output_type": "stream",
     "text": [
      "Traceback (most recent call last):\n",
      "  File \"/usr/local/bin/datacube\", line 11, in <module>\n",
      "    load_entry_point('datacube', 'console_scripts', 'datacube')()\n",
      "  File \"/home/ubuntu/.local/lib/python3.5/site-packages/click/core.py\", line 722, in __call__\n",
      "    return self.main(*args, **kwargs)\n",
      "  File \"/home/ubuntu/.local/lib/python3.5/site-packages/click/core.py\", line 697, in main\n",
      "    rv = self.invoke(ctx)\n",
      "  File \"/home/ubuntu/.local/lib/python3.5/site-packages/click/core.py\", line 1066, in invoke\n",
      "    return _process_result(sub_ctx.command.invoke(sub_ctx))\n",
      "  File \"/home/ubuntu/.local/lib/python3.5/site-packages/click/core.py\", line 1066, in invoke\n",
      "    return _process_result(sub_ctx.command.invoke(sub_ctx))\n",
      "  File \"/home/ubuntu/.local/lib/python3.5/site-packages/click/core.py\", line 895, in invoke\n",
      "    return ctx.invoke(self.callback, **ctx.params)\n",
      "  File \"/home/ubuntu/.local/lib/python3.5/site-packages/click/core.py\", line 535, in invoke\n",
      "    return callback(*args, **kwargs)\n",
      "  File \"/opt/EasterBilby/datacube-core-datacube-1.6rc1/datacube/ui/click.py\", line 190, in new_func\n",
      "    parsed_config = config.LocalConfig.find(paths=paths, env=specific_environment)\n",
      "  File \"/opt/EasterBilby/datacube-core-datacube-1.6rc1/datacube/config.py\", line 116, in find\n",
      "    env=env,\n",
      "  File \"/opt/EasterBilby/datacube-core-datacube-1.6rc1/datacube/config.py\", line 94, in __init__\n",
      "    raise ValueError('No ODC environment, checked configurations for %s' % fallbacks)\n",
      "ValueError: No ODC environment, checked configurations for ['default', 'datacube']\n",
      "0\n"
     ]
    }
   ],
   "source": [
    "## aws s3 ls - would tell you the same counts in the bucket ga-odc-usgs-l1til-west h03v03\n",
    "\n",
    "!datacube dataset search product ='landsat_5_USARD' |grep id |wc -l\n",
    "!datacube dataset search product ='landsat_7_USARD' |grep id |wc -l\n",
    "!datacube dataset search product ='landsat_8_USARD' |grep id |wc -l"
   ]
  },
  {
   "cell_type": "markdown",
   "metadata": {},
   "source": [
    "# Fliter by cloud cover\n",
    "\n",
    "- we could also use pixel_qa to do more detailed masking in the xarray below"
   ]
  },
  {
   "cell_type": "code",
   "execution_count": null,
   "metadata": {},
   "outputs": [],
   "source": [
    "import datacube\n",
    "import time\n",
    "\n",
    "from datetime import datetime\n",
    "\n",
    "dc = datacube.Datacube()\n",
    "\n",
    "selected_product = 'landsat_7_USARD'\n",
    "\n",
    "date_range = (\n",
    "        datetime(1984,1,1),\n",
    "        datetime(2018,12,31))\n",
    "dss = dc.find_datasets(product=selected_product, time=date_range, measurements=['red',])\n",
    "\n",
    "clear_datasets = []\n",
    "for item in dss:\n",
    "    \n",
    "    if float(item.metadata_doc['cloud_cover']) < 1.0:\n",
    "        if float(item.metadata_doc['fill']) < 10.0:\n",
    "            clear_datasets.append(item)\n",
    "            \n",
    "print(\"Number of Pretty Scenes\", len(clear_datasets))\n",
    "for citem in clear_datasets:\n",
    "    print(citem.uris)\n",
    "\n",
    "    \n",
    "\n",
    "\n"
   ]
  },
  {
   "cell_type": "code",
   "execution_count": null,
   "metadata": {},
   "outputs": [],
   "source": [
    "Start = time.time()"
   ]
  },
  {
   "cell_type": "code",
   "execution_count": null,
   "metadata": {},
   "outputs": [],
   "source": [
    "! banner Load Images"
   ]
  },
  {
   "cell_type": "code",
   "execution_count": null,
   "metadata": {},
   "outputs": [],
   "source": [
    "ds2 = dc.load(product=selected_product, datasets=clear_datasets, measurements=['red','green','blue'], x = (-122.65,-122.75), y =(45.59,45.65),output_crs = 'epsg:5072', resolution = (-30,30))"
   ]
  },
  {
   "cell_type": "code",
   "execution_count": null,
   "metadata": {},
   "outputs": [],
   "source": [
    "End = time.time()\n",
    "\n",
    "print (\"Load time took seconds = \", End-Start)"
   ]
  },
  {
   "cell_type": "markdown",
   "metadata": {},
   "source": [
    "## Imagine - getting your area of interest (AOI) anywhere in the US in just 2 minutes!"
   ]
  },
  {
   "cell_type": "code",
   "execution_count": null,
   "metadata": {},
   "outputs": [],
   "source": [
    "ds2.all"
   ]
  },
  {
   "cell_type": "code",
   "execution_count": null,
   "metadata": {},
   "outputs": [],
   "source": [
    "from rasterio.plot import show_hist\n",
    "from matplotlib import pyplot\n",
    "%matplotlib inline\n",
    "from utils.utils import threeBandImage\n",
    "from utils.utils import loadConfigExtent\n",
    "def plot_me(ds, time, count):\n",
    "    figsize = [8,8]\n",
    "    \n",
    "    img_toshow = threeBandImage(ds,bands = ['red', 'green', 'blue'], time = time)\n",
    "    fig = pyplot.figure(figsize = figsize)\n",
    "    pyplot.imshow(img_toshow)\n",
    "    ax = pyplot.gca()\n",
    "    title_string = \"IMG \" + str(count)\n",
    "    figName = title_string + '.png'\n",
    "    title_string = title_string + \" --> \" + str(ds.time[time].values).split('T')[0]\n",
    "    time_string = str(ds.time[time].values).split('T')[0]\n",
    "    figName = time_string + '.png'\n",
    "    ax.set_title(title_string, fontweight = 'bold', fontsize = 16)\n",
    "    ax.set_xticklabels(ds.x.values)\n",
    "    ax.set_yticklabels(ds.y.values)\n",
    "    ax.set_xlabel('Easting', fontweight = 'bold')\n",
    "    ax.set_ylabel('Northing', fontweight = 'bold')\n",
    "    pyplot.savefig(figName)\n",
    "    # if you remove the close below the images will display - uses lots of memory though\n",
    "    pyplot.close(fig)\n",
    "    return True"
   ]
  },
  {
   "cell_type": "code",
   "execution_count": null,
   "metadata": {},
   "outputs": [],
   "source": [
    "ntime = len(ds2.time)\n",
    "cnt = 0\n",
    "for t in range (ntime):\n",
    "    # print(\"Hi\",cnt)\n",
    "    cnt = cnt + 1\n",
    "    plot_me(ds2, t, cnt)"
   ]
  },
  {
   "cell_type": "raw",
   "metadata": {},
   "source": []
  },
  {
   "cell_type": "code",
   "execution_count": null,
   "metadata": {},
   "outputs": [],
   "source": [
    "! banner Make Movie"
   ]
  },
  {
   "cell_type": "code",
   "execution_count": null,
   "metadata": {},
   "outputs": [],
   "source": [
    "\n",
    "! convert -delay 100 *.png -loop 10 l7_movie.gif\n",
    "#! scp movie.gif sleepy:.\n",
    "\n",
    "! rm *.png"
   ]
  },
  {
   "cell_type": "code",
   "execution_count": null,
   "metadata": {},
   "outputs": [],
   "source": [
    "! date"
   ]
  },
  {
   "cell_type": "code",
   "execution_count": null,
   "metadata": {},
   "outputs": [],
   "source": [
    "! banner send movie to the cloud\n",
    "! aws s3 cp l7_movie.gif s3://ga-odc-eros-archive-west/"
   ]
  },
  {
   "cell_type": "code",
   "execution_count": null,
   "metadata": {},
   "outputs": [],
   "source": [
    "End2 = time.time()\n",
    "print (\"Movie build time in seconds = \", End2 - End)"
   ]
  },
  {
   "cell_type": "markdown",
   "metadata": {},
   "source": [
    "![run movie](http://ga-odc-eros-archive-west.s3.amazonaws.com/l7_movie.gif)"
   ]
  },
  {
   "cell_type": "code",
   "execution_count": null,
   "metadata": {},
   "outputs": [],
   "source": [
    "! banner \"The End\"\n"
   ]
  },
  {
   "cell_type": "code",
   "execution_count": null,
   "metadata": {},
   "outputs": [],
   "source": [
    "! date"
   ]
  }
 ],
 "metadata": {
  "kernelspec": {
   "display_name": "Python 3",
   "language": "python",
   "name": "python3"
  },
  "language_info": {
   "codemirror_mode": {
    "name": "ipython",
    "version": 3
   },
   "file_extension": ".py",
   "mimetype": "text/x-python",
   "name": "python",
   "nbconvert_exporter": "python",
   "pygments_lexer": "ipython3",
   "version": "3.5.2"
  }
 },
 "nbformat": 4,
 "nbformat_minor": 2
}
