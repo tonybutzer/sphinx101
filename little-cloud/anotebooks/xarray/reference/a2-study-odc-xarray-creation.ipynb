{
 "cells": [
  {
   "cell_type": "markdown",
   "metadata": {},
   "source": [
    "# Xarray study\n",
    "\n",
    "1. put debug statements in datacube load\n",
    "\n",
    "\n",
    "## Hey\n",
    "https://geohackweek.github.io/raster/04-workingwithrasters/"
   ]
  },
  {
   "cell_type": "code",
   "execution_count": 1,
   "metadata": {},
   "outputs": [],
   "source": [
    "#! datacube --help"
   ]
  },
  {
   "cell_type": "code",
   "execution_count": 2,
   "metadata": {},
   "outputs": [],
   "source": [
    "#!datacube product list"
   ]
  },
  {
   "cell_type": "code",
   "execution_count": 3,
   "metadata": {},
   "outputs": [
    {
     "name": "stdout",
     "output_type": "stream",
     "text": [
      "Hello from Datacube init\n"
     ]
    }
   ],
   "source": [
    "import datacube\n",
    "dc= datacube.Datacube()\n"
   ]
  },
  {
   "cell_type": "code",
   "execution_count": 4,
   "metadata": {},
   "outputs": [],
   "source": [
    "#help(dc.load)"
   ]
  },
  {
   "cell_type": "code",
   "execution_count": 5,
   "metadata": {},
   "outputs": [],
   "source": [
    "#dir(dc.load)"
   ]
  },
  {
   "cell_type": "code",
   "execution_count": 6,
   "metadata": {},
   "outputs": [],
   "source": [
    "#!datacube dataset search product ='l8_rwanda' |grep id |wc"
   ]
  },
  {
   "cell_type": "code",
   "execution_count": 7,
   "metadata": {},
   "outputs": [],
   "source": [
    "# dir(dc)"
   ]
  },
  {
   "cell_type": "code",
   "execution_count": 8,
   "metadata": {},
   "outputs": [],
   "source": [
    "# dc.list_measurements()"
   ]
  },
  {
   "cell_type": "code",
   "execution_count": 9,
   "metadata": {},
   "outputs": [],
   "source": [
    "# ! datacube  product list "
   ]
  },
  {
   "cell_type": "code",
   "execution_count": 10,
   "metadata": {},
   "outputs": [],
   "source": [
    "from datetime import datetime\n",
    "date_range = (\n",
    "        datetime(2014,3,20),\n",
    "        datetime(2014,6,30))"
   ]
  },
  {
   "cell_type": "code",
   "execution_count": 11,
   "metadata": {},
   "outputs": [
    {
     "name": "stdout",
     "output_type": "stream",
     "text": [
      "(30.209661, 30.246396) (-2.218817, -2.163926)\n"
     ]
    }
   ],
   "source": [
    "# from bounding box\n",
    "# https://boundingbox.klokantech.com/\n",
    "extent = (30.209661,-2.218817,30.246396,-2.163926)\n",
    "\n",
    "x = (extent[0],extent[2])\n",
    "y = (extent[1],extent[3])\n",
    "\n",
    "print (x,y)\n",
    "\n",
    "aoix = x\n",
    "aoiy = y"
   ]
  },
  {
   "cell_type": "code",
   "execution_count": 12,
   "metadata": {
    "scrolled": false
   },
   "outputs": [
    {
     "name": "stdout",
     "output_type": "stream",
     "text": [
      "TONY product= l8_rwanda\n",
      "TONY create_storage crs: epsg:32636\n",
      "44TONY _read_decimated window ((6502, 6706), (1200, 1337))\n",
      "4TONY _read_decimated window ((1172, 1376), (2320, 2457))\n",
      "444TONY _read_decimated window ((6502, 6706), (1170, 1307))\n",
      "4TONY _read_decimated window ((1172, 1376), (2290, 2427))\n",
      "4TONY _read_decimated window ((6512, 6716), (1180, 1317))\n",
      "4TONY _read_decimated window ((1172, 1376), (2310, 2447))\n",
      "44TONY _read_decimated window ((6512, 6716), (1220, 1357))\n",
      "4TONY _read_decimated window ((1172, 1376), (2360, 2497))\n",
      "4TONY _read_decimated window ((6502, 6706), (1170, 1307))\n",
      "4TONY _read_decimated window ((1172, 1376), (2300, 2437))\n",
      "33TONY _read_decimated window ((6502, 6706), (1200, 1337))\n",
      "3TONY _read_decimated window ((1172, 1376), (2320, 2457))\n",
      "333TONY _read_decimated window ((6502, 6706), (1170, 1307))\n",
      "3TONY _read_decimated window ((1172, 1376), (2290, 2427))\n",
      "3TONY _read_decimated window ((6512, 6716), (1180, 1317))\n",
      "3TONY _read_decimated window ((1172, 1376), (2310, 2447))\n",
      "33TONY _read_decimated window ((6512, 6716), (1220, 1357))\n",
      "3TONY _read_decimated window ((1172, 1376), (2360, 2497))\n",
      "3TONY _read_decimated window ((6502, 6706), (1170, 1307))\n",
      "3TONY _read_decimated window ((1172, 1376), (2300, 2437))\n",
      "22TONY _read_decimated window ((6502, 6706), (1200, 1337))\n",
      "2TONY _read_decimated window ((1172, 1376), (2320, 2457))\n",
      "222TONY _read_decimated window ((6502, 6706), (1170, 1307))\n",
      "2TONY _read_decimated window ((1172, 1376), (2290, 2427))\n",
      "2TONY _read_decimated window ((6512, 6716), (1180, 1317))\n",
      "2TONY _read_decimated window ((1172, 1376), (2310, 2447))\n",
      "22TONY _read_decimated window ((6512, 6716), (1220, 1357))\n",
      "2TONY _read_decimated window ((1172, 1376), (2360, 2497))\n",
      "2TONY _read_decimated window ((6502, 6706), (1170, 1307))\n",
      "2TONY _read_decimated window ((1172, 1376), (2300, 2437))\n",
      "55TONY _read_decimated window ((6502, 6706), (1200, 1337))\n",
      "5TONY _read_decimated window ((1172, 1376), (2320, 2457))\n",
      "555TONY _read_decimated window ((6502, 6706), (1170, 1307))\n",
      "5TONY _read_decimated window ((1172, 1376), (2290, 2427))\n",
      "5TONY _read_decimated window ((6512, 6716), (1180, 1317))\n",
      "5TONY _read_decimated window ((1172, 1376), (2310, 2447))\n",
      "55TONY _read_decimated window ((6512, 6716), (1220, 1357))\n",
      "5TONY _read_decimated window ((1172, 1376), (2360, 2497))\n",
      "5TONY _read_decimated window ((6502, 6706), (1170, 1307))\n",
      "5TONY _read_decimated window ((1172, 1376), (2300, 2437))\n"
     ]
    }
   ],
   "source": [
    "product = 'l8_rwanda'\n",
    "ds = dc.load(product=product,x = x, y = y,\n",
    "             output_crs = 'epsg:32636', resolution = (-30,30), \n",
    "             time = date_range, measurements = ('red', 'green', 'blue','nir') )"
   ]
  },
  {
   "cell_type": "code",
   "execution_count": 13,
   "metadata": {},
   "outputs": [
    {
     "data": {
      "text/plain": [
       "<xarray.Dataset>\n",
       "Dimensions:  (time: 14, x: 137, y: 204)\n",
       "Coordinates:\n",
       "  * time     (time) datetime64[ns] 2014-03-26T08:14:22.169265 ... 2014-06-23T08:08:01.094953\n",
       "  * y        (y) float64 -2.394e+05 -2.395e+05 ... -2.455e+05 -2.455e+05\n",
       "  * x        (x) float64 1.896e+05 1.896e+05 1.897e+05 ... 1.937e+05 1.937e+05\n",
       "Data variables:\n",
       "    red      (time, y, x) int16 -9999 -9999 -9999 -9999 ... 3230 3350 3639 3716\n",
       "    green    (time, y, x) int16 -9999 -9999 -9999 -9999 ... 3100 3281 3568 3678\n",
       "    blue     (time, y, x) int16 -9999 -9999 -9999 -9999 ... 3092 3103 3388 3450\n",
       "    nir      (time, y, x) int16 -9999 -9999 -9999 -9999 ... 4068 4173 4455 4540\n",
       "Attributes:\n",
       "    crs:      epsg:32636"
      ]
     },
     "execution_count": 13,
     "metadata": {},
     "output_type": "execute_result"
    }
   ],
   "source": [
    "ds"
   ]
  },
  {
   "cell_type": "code",
   "execution_count": 14,
   "metadata": {},
   "outputs": [
    {
     "name": "stdout",
     "output_type": "stream",
     "text": [
      "HI\n",
      "HI\n",
      "HI\n",
      "HI\n",
      "HI\n",
      "HI\n",
      "HI\n",
      "HI\n",
      "HI\n",
      "HI\n",
      "HI\n",
      "HI\n",
      "HI\n",
      "HI\n"
     ]
    }
   ],
   "source": [
    "from noteLib import *\n",
    "%matplotlib inline\n",
    "for t in range(0,len(ds.time)):\n",
    "    cnt=t\n",
    "    figsize=[6,6]\n",
    "    print(\"HI\")\n",
    "    #plot_labeled_rgb(ds, t, cnt, figsize=figsize)"
   ]
  },
  {
   "cell_type": "code",
   "execution_count": null,
   "metadata": {},
   "outputs": [],
   "source": []
  },
  {
   "cell_type": "code",
   "execution_count": 15,
   "metadata": {},
   "outputs": [],
   "source": [
    "m = display_map(y,x)"
   ]
  },
  {
   "cell_type": "code",
   "execution_count": 16,
   "metadata": {},
   "outputs": [
    {
     "data": {
      "text/html": [
       "<div style=\"width:100%;\"><div style=\"position:relative;width:100%;height:0;padding-bottom:60%;\"><iframe src=\"data:text/html;charset=utf-8;base64,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\" style=\"position:absolute;width:100%;height:100%;left:0;top:0;border:none !important;\" allowfullscreen webkitallowfullscreen mozallowfullscreen></iframe></div></div>"
      ],
      "text/plain": [
       "<folium.folium.Map at 0x7ff8a6ef37f0>"
      ]
     },
     "execution_count": 16,
     "metadata": {},
     "output_type": "execute_result"
    }
   ],
   "source": [
    "m"
   ]
  },
  {
   "cell_type": "code",
   "execution_count": 17,
   "metadata": {},
   "outputs": [
    {
     "name": "stdout",
     "output_type": "stream",
     "text": [
      "(30.209661, 30.246396)\n",
      "(-2.218817, -2.163926)\n"
     ]
    }
   ],
   "source": [
    "print (aoix)\n",
    "print(aoiy)"
   ]
  },
  {
   "cell_type": "code",
   "execution_count": null,
   "metadata": {},
   "outputs": [],
   "source": []
  }
 ],
 "metadata": {
  "kernelspec": {
   "display_name": "Python 3",
   "language": "python",
   "name": "python3"
  },
  "language_info": {
   "codemirror_mode": {
    "name": "ipython",
    "version": 3
   },
   "file_extension": ".py",
   "mimetype": "text/x-python",
   "name": "python",
   "nbconvert_exporter": "python",
   "pygments_lexer": "ipython3",
   "version": "3.5.2"
  }
 },
 "nbformat": 4,
 "nbformat_minor": 2
}
