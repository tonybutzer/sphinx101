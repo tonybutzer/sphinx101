{
 "cells": [
  {
   "cell_type": "markdown",
   "metadata": {},
   "source": [
    "# Refactor Code\n",
    "\n",
    "## goals\n",
    "\n",
    "1. simplify ODC-lite to work with multiple buckets of differing map projections\n",
    "    - AEA and UTM\n",
    "    - US calif and rwanda\n",
    "\n",
    "\n",
    "### Exercises for the Student\n",
    "\n",
    "1. better handling of skewwed map projections - AEA is harder than utm for the ODC-lite software\n",
    "2. more bands is red green blue - enuf - should I look at more data lakes or focus on the LCMAP question?\n",
    "\n",
    "#### save the current repo - tarball\n",
    "```bash\n",
    "cd lilcubeLib\n",
    "tar *.py > lil.tar\n",
    "mv lil.tar --> pkg\n",
    "cd ~little-cloud\n",
    "vi ReadmeTony.md\n",
    "make\n",
    "```"
   ]
  },
  {
   "cell_type": "markdown",
   "metadata": {},
   "source": [
    "### what is the minimum geometry stuff I need to create an xarray?\n",
    "\n",
    "#### where to store this in Xpart?\n",
    "\n",
    "1. row1, row2, col1, col2\n",
    "    - how to compute this?\n",
    "2. build Xpart\n",
    "    - detail in notebook http://odc18:8888/notebooks/00-prerequisite/a2-xarray-handbook.ipynb\n",
    "    \n",
    "#### can all libraries deal with epsg or epsg-long-list-of-parameters?\n",
    "\n",
    "\n",
    "### GET RID of big geometry.py - just a ball of confusion\n",
    "1. also get rid of AOI_bounding_box"
   ]
  },
  {
   "cell_type": "markdown",
   "metadata": {},
   "source": [
    "# index the bucket\n",
    "1. how?\n"
   ]
  },
  {
   "cell_type": "markdown",
   "metadata": {},
   "source": [
    "# look at datacube xarray\n",
    "\n",
    "1. building the xarray databuffer\n",
    "\n",
    "/opt/build/datacube-core-datacube-1.6rc1/datacube/"
   ]
  }
 ],
 "metadata": {
  "kernelspec": {
   "display_name": "Python 3",
   "language": "python",
   "name": "python3"
  },
  "language_info": {
   "codemirror_mode": {
    "name": "ipython",
    "version": 3
   },
   "file_extension": ".py",
   "mimetype": "text/x-python",
   "name": "python",
   "nbconvert_exporter": "python",
   "pygments_lexer": "ipython3",
   "version": "3.6.7"
  }
 },
 "nbformat": 4,
 "nbformat_minor": 2
}
