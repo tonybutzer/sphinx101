{
 "cells": [
  {
   "cell_type": "markdown",
   "metadata": {},
   "source": [
    "# Elastic Search Handbook\n",
    "\n",
    "### Ideas\n",
    "\n",
    "1. Use this notebook to get polygons correct for California Bucket\n",
    "\n",
    "## lsaa-staging-cog\n",
    "\n",
    "2. grab the latest map.geojson - for example map(2).geojson by create date - python code"
   ]
  },
  {
   "cell_type": "code",
   "execution_count": null,
   "metadata": {},
   "outputs": [],
   "source": []
  },
  {
   "cell_type": "markdown",
   "metadata": {},
   "source": [
    "## elastic search lesson 1\n",
    "\n",
    "#### Two Fake Path Rows\n",
    "\n",
    "save as pr1.geojson and pr2.geojson over fresno\n",
    "\n",
    "\n",
    "[link to geojson](http://geojson.io/#map=10/36.8208/-119.3019)\n",
    "\n",
    "\n"
   ]
  },
  {
   "cell_type": "code",
   "execution_count": 1,
   "metadata": {},
   "outputs": [
    {
     "name": "stdout",
     "output_type": "stream",
     "text": [
      "Now grab a box - ~/Downloads/map.geojson\n"
     ]
    }
   ],
   "source": [
    "#!  http://geojson.io/#map=10/36.8208/-119.3019\n",
    "\n",
    "print(\"Now grab a box - ~/Downloads/map.geojson\")\n",
    "\n"
   ]
  },
  {
   "cell_type": "code",
   "execution_count": 2,
   "metadata": {},
   "outputs": [
    {
     "name": "stdout",
     "output_type": "stream",
     "text": [
      "fake_path_row.geojson                         100%  595   202.1KB/s   00:00    \n",
      "{\n",
      "    \"type\": \"FeatureCollection\",\n",
      "    \"features\": [\n",
      "        {\n",
      "            \"type\": \"Feature\",\n",
      "            \"properties\": {},\n",
      "            \"geometry\": {\n",
      "                \"type\": \"Polygon\",\n",
      "                \"coordinates\": [\n",
      "                    [\n",
      "                        [\n",
      "                            -120.157470703125,\n",
      "                            36.13343831245866\n",
      "                        ],\n",
      "                        [\n",
      "                            -118.9434814453125,\n",
      "                            36.13343831245866\n",
      "                        ],\n",
      "                        [\n",
      "                            -118.9434814453125,\n",
      "                            37.28279464911045\n",
      "                        ],\n",
      "                        [\n",
      "                            -120.157470703125,\n",
      "                            37.28279464911045\n",
      "                        ],\n",
      "                        [\n",
      "                            -120.157470703125,\n",
      "                            36.13343831245866\n",
      "                        ]\n",
      "                    ]\n",
      "                ]\n",
      "            }\n",
      "        },\n",
      "        {\n",
      "            \"type\": \"Feature\",\n",
      "            \"properties\": {},\n",
      "            \"geometry\": {\n",
      "                \"type\": \"Polygon\",\n",
      "                \"coordinates\": [\n",
      "                    [\n",
      "                        [\n",
      "                            -120.75622558593749,\n",
      "                            36.61552763134925\n",
      "                        ],\n",
      "                        [\n",
      "                            -119.498291015625,\n",
      "                            36.61552763134925\n",
      "                        ],\n",
      "                        [\n",
      "                            -119.498291015625,\n",
      "                            37.76637243960179\n",
      "                        ],\n",
      "                        [\n",
      "                            -120.75622558593749,\n",
      "                            37.76637243960179\n",
      "                        ],\n",
      "                        [\n",
      "                            -120.75622558593749,\n",
      "                            36.61552763134925\n",
      "                        ]\n",
      "                    ]\n",
      "                ]\n",
      "            }\n",
      "        }\n",
      "    ]\n",
      "}\n"
     ]
    }
   ],
   "source": [
    "!scp sleepy:~/Downloads/fake_path_row.geojson .\n",
    "! cat fake_path_row.geojson | python3 -m json.tool"
   ]
  },
  {
   "cell_type": "markdown",
   "metadata": {},
   "source": [
    "# path row to elastic search\n",
    "\n",
    "1. \n",
    "\n",
    "\n",
    "### Version\n",
    "\n",
    "[what version am i running click HERE](http://elastic:9200)\n",
    "\n",
    "\n",
    "### References\n",
    "\n",
    "https://blog.benjie.me/geospatial-queries-for-elasticsearch/\n",
    "\n",
    "[Getting started with Elasticsearch in Python](https://towardsdatascience.com/getting-started-with-elasticsearch-in-python-c3598e718380)\n",
    "\n",
    "https://www.elastic.co/assets/bltf3aec2bf05b22820/elasticon18-state-of-geo-in-elasticsearch.pdf\n",
    "\n",
    "\n",
    "### dont forget the awesome google json plugin with the TREE VIEW"
   ]
  },
  {
   "cell_type": "code",
   "execution_count": 3,
   "metadata": {},
   "outputs": [],
   "source": [
    "# %%bash\n",
    "# curl -vX POST elastic:9200/rawgeo/FeatureCollection -d @fake_path_row.geojson \\\n",
    "# --header \"Content-Type: application/json\"\n"
   ]
  },
  {
   "cell_type": "markdown",
   "metadata": {},
   "source": [
    "## Oops - forgot to create type and it looks like I will need two files\n",
    "\n",
    "1. create fake_PR_1.geojson\n",
    "2. fake_PR_2.geojson"
   ]
  },
  {
   "cell_type": "markdown",
   "metadata": {},
   "source": [
    "[link to geojson](http://geojson.io/#map=10/36.8208/-119.3019)"
   ]
  },
  {
   "cell_type": "code",
   "execution_count": 4,
   "metadata": {},
   "outputs": [],
   "source": [
    "#!scp sleepy:~/Downloads/\\*.geojson .\n",
    "#!ls"
   ]
  },
  {
   "cell_type": "code",
   "execution_count": 5,
   "metadata": {},
   "outputs": [],
   "source": [
    "#! mv map.geojson fake_PR_2.geojson\n",
    "#! mv \"map(1).geojson\" fake_PR_1.geojson"
   ]
  },
  {
   "cell_type": "code",
   "execution_count": 6,
   "metadata": {},
   "outputs": [],
   "source": [
    "import logging\n",
    "from elasticsearch import Elasticsearch\n",
    "def connect_elasticsearch():\n",
    "    _es = None\n",
    "    _es = Elasticsearch([{'host': 'elastic', 'port': 9200}])\n",
    "    if _es.ping():\n",
    "        print('Yay Connect')\n",
    "    else:\n",
    "        print('Awww it could not connect!')\n",
    "    return _es\n",
    "\n",
    "if __name__ == '__main__':\n",
    "  logging.basicConfig(level=logging.ERROR)"
   ]
  },
  {
   "cell_type": "code",
   "execution_count": 7,
   "metadata": {},
   "outputs": [],
   "source": [
    "def create_index(es_object, index_name='georaw'):\n",
    "    created = False\n",
    "    # index settings\n",
    "    # index = georaw, type/group = FeatureCollection\n",
    "    #       field name/property name = feastues - cause that is what geojson calls them!\n",
    "    settings = {\n",
    "        \"settings\": {\n",
    "            \"number_of_shards\": 1,\n",
    "            \"number_of_replicas\": 0\n",
    "        },\n",
    "        \"mappings\": {\n",
    "            \"record\": {\n",
    "                \"dynamic\": \"strict\",\n",
    "                \"properties\": {\n",
    "                    \"footprint\": {\n",
    "                        \"type\": \"geo_shape\"\n",
    "                    },\n",
    "                    \"bogus\": {\n",
    "                        \"type\": \"text\"\n",
    "                    }\n",
    "                }\n",
    "            }\n",
    "        }\n",
    "    }\n",
    "\n",
    "    try:\n",
    "        if not es_object.indices.exists(index_name):\n",
    "            # Ignore 400 means to ignore \"Index Already Exist\" error.\n",
    "            es_object.indices.create(index=index_name, ignore=400, body=settings)\n",
    "            print('Created Index')\n",
    "        created = True\n",
    "    except Exception as ex:\n",
    "        print(str(ex))\n",
    "    finally:\n",
    "        return created"
   ]
  },
  {
   "cell_type": "code",
   "execution_count": 8,
   "metadata": {},
   "outputs": [
    {
     "name": "stdout",
     "output_type": "stream",
     "text": [
      "Yay Connect\n",
      "Created Index\n"
     ]
    },
    {
     "data": {
      "text/plain": [
       "True"
      ]
     },
     "execution_count": 8,
     "metadata": {},
     "output_type": "execute_result"
    }
   ],
   "source": [
    "es_conn = connect_elasticsearch()\n",
    "# delete any old indexes - similar to clearing the postgres db\n",
    "es_conn.indices.delete(index='georaw', ignore=[400, 404])\n",
    "\n",
    "create_index(es_conn, index_name='georaw')\n"
   ]
  },
  {
   "cell_type": "code",
   "execution_count": 9,
   "metadata": {},
   "outputs": [],
   "source": [
    "# %%bash\n",
    "# curl -vX POST elastic:9200/rawgeo/FeatureCollection -d @fake_PR_1.geojson \\\n",
    "# --header \"Content-Type: application/json\"\n",
    "\n",
    "# Now add 1 fake Path Row\n",
    "# not quite right - TRY AGAIN!"
   ]
  },
  {
   "cell_type": "code",
   "execution_count": 10,
   "metadata": {},
   "outputs": [
    {
     "name": "stdout",
     "output_type": "stream",
     "text": [
      "date\r\n"
     ]
    }
   ],
   "source": [
    "! echo date"
   ]
  },
  {
   "cell_type": "code",
   "execution_count": 11,
   "metadata": {},
   "outputs": [],
   "source": [
    "import json\n",
    "def create_es_record_from_geojson(geo_file):\n",
    "    print(geo_file)\n",
    "    with open(geo_file, 'r+') as f:\n",
    "        data = json.load(f)\n",
    "        print(data)\n",
    "        print(\"###\"*23)\n",
    "        \n",
    "        #print(json.dump(data, f, indent=4))\n",
    "        #f.seek(0)        # <--- should reset file position to the beginning.\n",
    "        #json.dump(data, f, indent=4)\n",
    "        # f.truncate()     # remove remaining part\n",
    "    return (data)\n"
   ]
  },
  {
   "cell_type": "code",
   "execution_count": 12,
   "metadata": {},
   "outputs": [
    {
     "name": "stdout",
     "output_type": "stream",
     "text": [
      "{\"type\":\"FeatureCollection\",\"features\":[{\"type\":\"Feature\",\"properties\":{},\"geometry\":{\"type\":\"Polygon\",\"coordinates\":[[[-120.157470703125,36.13343831245866],[-118.9434814453125,36.13343831245866],[-118.9434814453125,37.28279464911045],[-120.157470703125,37.28279464911045],[-120.157470703125,36.13343831245866]]]}}]}"
     ]
    }
   ],
   "source": [
    "! cat fake_PR_1.geojson"
   ]
  },
  {
   "cell_type": "code",
   "execution_count": 13,
   "metadata": {},
   "outputs": [
    {
     "name": "stdout",
     "output_type": "stream",
     "text": [
      "fake_PR_1.geojson\n",
      "{'type': 'FeatureCollection', 'features': [{'type': 'Feature', 'properties': {}, 'geometry': {'type': 'Polygon', 'coordinates': [[[-120.157470703125, 36.13343831245866], [-118.9434814453125, 36.13343831245866], [-118.9434814453125, 37.28279464911045], [-120.157470703125, 37.28279464911045], [-120.157470703125, 36.13343831245866]]]}}]}\n",
      "#####################################################################\n"
     ]
    }
   ],
   "source": [
    "es_record = create_es_record_from_geojson(\"fake_PR_1.geojson\")"
   ]
  },
  {
   "cell_type": "code",
   "execution_count": 14,
   "metadata": {},
   "outputs": [
    {
     "name": "stdout",
     "output_type": "stream",
     "text": [
      "{'type': 'FeatureCollection', 'features': [{'type': 'Feature', 'properties': {}, 'geometry': {'type': 'Polygon', 'coordinates': [[[-120.157470703125, 36.13343831245866], [-118.9434814453125, 36.13343831245866], [-118.9434814453125, 37.28279464911045], [-120.157470703125, 37.28279464911045], [-120.157470703125, 36.13343831245866]]]}}]}\n"
     ]
    }
   ],
   "source": [
    "print(es_record)"
   ]
  },
  {
   "cell_type": "code",
   "execution_count": 15,
   "metadata": {},
   "outputs": [
    {
     "name": "stdout",
     "output_type": "stream",
     "text": [
      "/bin/sh: 1: Syntax error: word unexpected (expecting \")\")\r\n"
     ]
    }
   ],
   "source": [
    "! dir(es_record)"
   ]
  },
  {
   "cell_type": "code",
   "execution_count": 16,
   "metadata": {},
   "outputs": [],
   "source": [
    "import pygeoj\n",
    "def geo_walk(geo_file):\n",
    "    testfile = pygeoj.load(geo_file)\n",
    "    for feature in testfile:\n",
    "        print (feature.geometry.type)\n",
    "        print (feature.geometry.coordinates)\n",
    "        foot = {\n",
    "            \"type\": feature.geometry.type,\n",
    "            \"coordinates\": feature.geometry.coordinates\n",
    "        }\n",
    "        return (foot)"
   ]
  },
  {
   "cell_type": "code",
   "execution_count": 17,
   "metadata": {},
   "outputs": [],
   "source": [
    "#! pip3 install pygeoj"
   ]
  },
  {
   "cell_type": "code",
   "execution_count": 18,
   "metadata": {},
   "outputs": [
    {
     "name": "stdout",
     "output_type": "stream",
     "text": [
      "Polygon\n",
      "[[[-120.157470703125, 36.13343831245866], [-118.9434814453125, 36.13343831245866], [-118.9434814453125, 37.28279464911045], [-120.157470703125, 37.28279464911045], [-120.157470703125, 36.13343831245866]]]\n"
     ]
    }
   ],
   "source": [
    "poly = geo_walk(\"fake_PR_1.geojson\")"
   ]
  },
  {
   "cell_type": "code",
   "execution_count": 19,
   "metadata": {},
   "outputs": [
    {
     "data": {
      "text/plain": [
       "{'type': 'Polygon',\n",
       " 'coordinates': [[[-120.157470703125, 36.13343831245866],\n",
       "   [-118.9434814453125, 36.13343831245866],\n",
       "   [-118.9434814453125, 37.28279464911045],\n",
       "   [-120.157470703125, 37.28279464911045],\n",
       "   [-120.157470703125, 36.13343831245866]]]}"
      ]
     },
     "execution_count": 19,
     "metadata": {},
     "output_type": "execute_result"
    }
   ],
   "source": [
    "poly"
   ]
  },
  {
   "cell_type": "code",
   "execution_count": 20,
   "metadata": {},
   "outputs": [],
   "source": [
    "def elastic_flatten_doc(poly):\n",
    "    elastic_doc = {\n",
    "                    'bogus': 'bogusTestTony',\n",
    "                    'footprint': poly\n",
    "                }\n",
    "    return elastic_doc"
   ]
  },
  {
   "cell_type": "code",
   "execution_count": 21,
   "metadata": {},
   "outputs": [
    {
     "name": "stdout",
     "output_type": "stream",
     "text": [
      "{'bogus': 'bogusTestTony', 'footprint': {'type': 'Polygon', 'coordinates': [[[-120.157470703125, 36.13343831245866], [-118.9434814453125, 36.13343831245866], [-118.9434814453125, 37.28279464911045], [-120.157470703125, 37.28279464911045], [-120.157470703125, 36.13343831245866]]]}}\n"
     ]
    }
   ],
   "source": [
    "e_doc = elastic_flatten_doc(poly)\n",
    "print(e_doc)"
   ]
  },
  {
   "cell_type": "code",
   "execution_count": 22,
   "metadata": {},
   "outputs": [],
   "source": [
    "def store_record(elastic_object, index_name, record):\n",
    "    try:\n",
    "        outcome = elastic_object.index(index=index_name, doc_type='record', body=record)\n",
    "    except Exception as ex:\n",
    "        print('Error in indexing data')\n",
    "        print(str(ex))\n"
   ]
  },
  {
   "cell_type": "code",
   "execution_count": 23,
   "metadata": {},
   "outputs": [
    {
     "name": "stdout",
     "output_type": "stream",
     "text": [
      "##########################################################################################\n",
      "('{\"bogus\": \"bogusTestTony\", \"footprint\": {\"type\": \"Polygon\", \"coordinates\": '\n",
      " '[[[-120.157470703125, 36.13343831245866], [-118.9434814453125, '\n",
      " '36.13343831245866], [-118.9434814453125, 37.28279464911045], '\n",
      " '[-120.157470703125, 37.28279464911045], [-120.157470703125, '\n",
      " '36.13343831245866]]]}}')\n"
     ]
    }
   ],
   "source": [
    "import pprint\n",
    "elastic_json_record = json.dumps(e_doc)\n",
    "print(\"###\"*30)\n",
    "pprint.pprint(elastic_json_record)\n",
    "store_record(es_conn,'georaw',elastic_json_record)\n"
   ]
  },
  {
   "cell_type": "markdown",
   "metadata": {},
   "source": [
    "# now do a search with geojson.io\n",
    "\n",
    "[link to geojson](http://geojson.io/#map=10/36.8208/-119.3019)"
   ]
  },
  {
   "cell_type": "code",
   "execution_count": 24,
   "metadata": {},
   "outputs": [],
   "source": [
    "#!scp sleepy:./Downloads/\\*.geojson ."
   ]
  },
  {
   "cell_type": "code",
   "execution_count": 25,
   "metadata": {},
   "outputs": [],
   "source": [
    "#!ls"
   ]
  },
  {
   "cell_type": "code",
   "execution_count": 26,
   "metadata": {},
   "outputs": [],
   "source": [
    "#! cp 'map(2).geojson' search_input.geojson"
   ]
  },
  {
   "cell_type": "code",
   "execution_count": 27,
   "metadata": {},
   "outputs": [
    {
     "name": "stdout",
     "output_type": "stream",
     "text": [
      "Polygon\n",
      "[[[-119.37744140625, 36.81368259124586], [-119.234619140625, 36.81368259124586], [-119.234619140625, 36.92793899776678], [-119.37744140625, 36.92793899776678], [-119.37744140625, 36.81368259124586]]]\n"
     ]
    }
   ],
   "source": [
    "poly_of_interest =  geo_walk(\"search_input.geojson\")"
   ]
  },
  {
   "cell_type": "code",
   "execution_count": 28,
   "metadata": {},
   "outputs": [],
   "source": [
    "# hi"
   ]
  },
  {
   "cell_type": "code",
   "execution_count": 29,
   "metadata": {},
   "outputs": [],
   "source": [
    "def return_geo_query_body(poly):\n",
    "\n",
    "    geo_filter_body = {\"query\": {\n",
    "    \"bool\": {\n",
    "        \"must\": {\n",
    "                \"match_all\": {}\n",
    "            },\n",
    "      \"filter\": [ {\n",
    "      \"geo_shape\": {\n",
    "                    \"footprint\": {\n",
    "                        \"shape\": poly\n",
    "                    }\n",
    "                }\n",
    "      }\n",
    "      ]\n",
    "    }\n",
    "    }}\n",
    "\n",
    "    return geo_filter_body\n"
   ]
  },
  {
   "cell_type": "code",
   "execution_count": null,
   "metadata": {},
   "outputs": [],
   "source": []
  },
  {
   "cell_type": "code",
   "execution_count": 30,
   "metadata": {},
   "outputs": [],
   "source": [
    "my_query = return_geo_query_body(poly_of_interest)"
   ]
  },
  {
   "cell_type": "code",
   "execution_count": 31,
   "metadata": {},
   "outputs": [
    {
     "data": {
      "text/plain": [
       "{'query': {'bool': {'must': {'match_all': {}},\n",
       "   'filter': [{'geo_shape': {'footprint': {'shape': {'type': 'Polygon',\n",
       "        'coordinates': [[[-119.37744140625, 36.81368259124586],\n",
       "          [-119.234619140625, 36.81368259124586],\n",
       "          [-119.234619140625, 36.92793899776678],\n",
       "          [-119.37744140625, 36.92793899776678],\n",
       "          [-119.37744140625, 36.81368259124586]]]}}}}]}}}"
      ]
     },
     "execution_count": 31,
     "metadata": {},
     "output_type": "execute_result"
    }
   ],
   "source": [
    "my_query"
   ]
  },
  {
   "cell_type": "markdown",
   "metadata": {},
   "source": [
    "this does not work yet\n",
    "```\n",
    "GET /datacube/_search\n",
    "\"query\": {\n",
    "        \"bool\": {\n",
    "            \"must\": {\n",
    "                \"match_all\": {}\n",
    "            },\n",
    "            \"filter\": {\n",
    "                \"geo_shape\": {\n",
    "                    \"footprint\": {\n",
    "                        \"shape\": {\n",
    "                            \"type\": \"Polygon\",\n",
    "                            \"coordinates\": \n",
    "                            [[\n",
    "          [-119.37744140625,36.81368259124586],\n",
    "          [-119.234619140625, 36.81368259124586],\n",
    "          [-119.234619140625, 36.92793899776678],\n",
    "          [-119.37744140625, 36.92793899776678],\n",
    "          [-119.37744140625, 36.81368259124586]\n",
    "          ]]\n",
    "                        }\n",
    "                    }\n",
    "                }\n",
    "            }\n",
    "        }\n",
    "    }\n",
    "```\n",
    "\n",
    "```json\n",
    "GET /datacube/_search\n",
    "\"query\": {\n",
    "        \"bool\": {\n",
    "            \"must\": {\n",
    "                \"match_all\": {}\n",
    "            },\n",
    "            \"filter\": {\n",
    "                \"geo_shape\": {\n",
    "                    \"footprint\": {\n",
    "                        \"shape\": {\n",
    "                            \"type\": \"Polygon\",\n",
    "                            \"coordinates\": \n",
    "                            [[\n",
    "          [-119.37744140625,36.81368259124586],\n",
    "          [-119.234619140625, 36.81368259124586],\n",
    "          [-119.234619140625, 36.92793899776678],\n",
    "          [-119.37744140625, 36.92793899776678],\n",
    "          [-119.37744140625, 36.81368259124586]\n",
    "          ]]\n",
    "                        }\n",
    "                    }\n",
    "                }\n",
    "            }\n",
    "        }\n",
    "    }\n",
    "```"
   ]
  },
  {
   "cell_type": "code",
   "execution_count": 32,
   "metadata": {},
   "outputs": [
    {
     "name": "stdout",
     "output_type": "stream",
     "text": [
      "{\n",
      "    \"georaw\": {\n",
      "        \"mappings\": {\n",
      "            \"record\": {\n",
      "                \"dynamic\": \"strict\",\n",
      "                \"properties\": {\n",
      "                    \"bogus\": {\n",
      "                        \"type\": \"text\"\n",
      "                    },\n",
      "                    \"footprint\": {\n",
      "                        \"type\": \"geo_shape\"\n",
      "                    }\n",
      "                }\n",
      "            }\n",
      "        }\n",
      "    }\n",
      "}\n"
     ]
    },
    {
     "name": "stderr",
     "output_type": "stream",
     "text": [
      "Note: Unnecessary use of -X or --request, GET is already inferred.\n",
      "  % Total    % Received % Xferd  Average Speed   Time    Time     Time  Current\n",
      "                                 Dload  Upload   Total   Spent    Left  Speed\n",
      "\r",
      "  0     0    0     0    0     0      0      0 --:--:-- --:--:-- --:--:--     0*   Trying 192.168.1.225...\n",
      "* TCP_NODELAY set\n",
      "* Connected to elastic (192.168.1.225) port 9200 (#0)\n",
      "> GET /georaw/_mapping HTTP/1.1\r\n",
      "> Host: elastic:9200\r\n",
      "> User-Agent: curl/7.58.0\r\n",
      "> Accept: */*\r\n",
      "> \r\n",
      "< HTTP/1.1 200 OK\r\n",
      "< content-type: application/json; charset=UTF-8\r\n",
      "< content-length: 127\r\n",
      "< \r\n",
      "{ [127 bytes data]\n",
      "\r",
      "100   127  100   127    0     0   7470      0 --:--:-- --:--:-- --:--:--  7937\n",
      "* Connection #0 to host elastic left intact\n"
     ]
    }
   ],
   "source": [
    "%%bash\n",
    "curl -vX GET elastic:9200/georaw/_mapping | python3 -m json.tool"
   ]
  },
  {
   "cell_type": "code",
   "execution_count": 33,
   "metadata": {},
   "outputs": [
    {
     "name": "stdout",
     "output_type": "stream",
     "text": [
      "{\n",
      "    \"datacube\": {\n",
      "        \"mappings\": {\n",
      "            \"rwanda\": {\n",
      "                \"dynamic\": \"strict\",\n",
      "                \"properties\": {\n",
      "                    \"blue\": {\n",
      "                        \"type\": \"text\"\n",
      "                    },\n",
      "                    \"creation_dt\": {\n",
      "                        \"type\": \"date\",\n",
      "                        \"format\": \"yyyy-MM-dd||yyyy\"\n",
      "                    },\n",
      "                    \"footprint\": {\n",
      "                        \"type\": \"geo_shape\"\n",
      "                    },\n",
      "                    \"green\": {\n",
      "                        \"type\": \"text\"\n",
      "                    },\n",
      "                    \"nir\": {\n",
      "                        \"type\": \"text\"\n",
      "                    },\n",
      "                    \"pixel_qa\": {\n",
      "                        \"type\": \"text\"\n",
      "                    },\n",
      "                    \"processing_level\": {\n",
      "                        \"type\": \"text\"\n",
      "                    },\n",
      "                    \"red\": {\n",
      "                        \"type\": \"text\"\n",
      "                    },\n",
      "                    \"ul\": {\n",
      "                        \"type\": \"geo_point\"\n",
      "                    }\n",
      "                }\n",
      "            }\n",
      "        }\n",
      "    }\n",
      "}\n"
     ]
    },
    {
     "name": "stderr",
     "output_type": "stream",
     "text": [
      "Note: Unnecessary use of -X or --request, GET is already inferred.\n",
      "  % Total    % Received % Xferd  Average Speed   Time    Time     Time  Current\n",
      "                                 Dload  Upload   Total   Spent    Left  Speed\n",
      "\r",
      "  0     0    0     0    0     0      0      0 --:--:-- --:--:-- --:--:--     0*   Trying 192.168.1.225...\n",
      "* TCP_NODELAY set\n",
      "* Connected to elastic (192.168.1.225) port 9200 (#0)\n",
      "> GET /datacube/_mapping HTTP/1.1\r\n",
      "> Host: elastic:9200\r\n",
      "> User-Agent: curl/7.58.0\r\n",
      "> Accept: */*\r\n",
      "> \r\n",
      "< HTTP/1.1 200 OK\r\n",
      "< content-type: application/json; charset=UTF-8\r\n",
      "< content-length: 342\r\n",
      "< \r\n",
      "{ [342 bytes data]\n",
      "\r",
      "100   342  100   342    0     0  19000      0 --:--:-- --:--:-- --:--:-- 20117\n",
      "* Connection #0 to host elastic left intact\n"
     ]
    }
   ],
   "source": [
    "%%bash\n",
    "curl -vX GET elastic:9200/datacube/_mapping | python3 -m json.tool"
   ]
  },
  {
   "cell_type": "code",
   "execution_count": 34,
   "metadata": {},
   "outputs": [
    {
     "name": "stdout",
     "output_type": "stream",
     "text": [
      "{\"took\":1,\"timed_out\":false,\"_shards\":{\"total\":1,\"successful\":1,\"skipped\":0,\"failed\":0},\"hits\":{\"total\":0,\"max_score\":null,\"hits\":[]}}"
     ]
    },
    {
     "name": "stderr",
     "output_type": "stream",
     "text": [
      "  % Total    % Received % Xferd  Average Speed   Time    Time     Time  Current\n",
      "                                 Dload  Upload   Total   Spent    Left  Speed\n",
      "\r",
      "  0     0    0     0    0     0      0      0 --:--:-- --:--:-- --:--:--     0\r",
      "100   523  100   134  100   389  11166  32416 --:--:-- --:--:-- --:--:-- 43583\n"
     ]
    }
   ],
   "source": [
    "%%bash\n",
    "curl --header 'Content-Type: application/json' -XPOST 'http://elastic:9200/georaw/_search?size=400' -d \\\n",
    "'{\"query\": {\"bool\": {\"must\": {\"match_all\": {}},\n",
    "   \"filter\": [{\"geo_shape\": {\"footprint\": {\"shape\": {\"type\": \"Polygon\",\n",
    "        \"coordinates\": [[[-119.37744140625, 36.81368259124586],\n",
    "          [-119.234619140625, 36.81368259124586],\n",
    "          [-119.234619140625, 36.92793899776678],\n",
    "          [-119.37744140625, 36.92793899776678],\n",
    "          [-119.37744140625, 36.81368259124586]]]}}}}]}}}'"
   ]
  },
  {
   "cell_type": "code",
   "execution_count": 35,
   "metadata": {},
   "outputs": [
    {
     "name": "stdout",
     "output_type": "stream",
     "text": [
      "{\n",
      "    \"query\": {\n",
      "        \"bool\": {\n",
      "            \"must\": {\n",
      "                \"match_all\": {}\n",
      "            },\n",
      "            \"filter\": [\n",
      "                {\n",
      "                    \"geo_shape\": {\n",
      "                        \"footprint\": {\n",
      "                            \"shape\": {\n",
      "                                \"type\": \"Polygon\",\n",
      "                                \"coordinates\": [\n",
      "                                    [\n",
      "                                        [\n",
      "                                            -119.37744140625,\n",
      "                                            36.81368259124586\n",
      "                                        ],\n",
      "                                        [\n",
      "                                            -119.234619140625,\n",
      "                                            36.81368259124586\n",
      "                                        ],\n",
      "                                        [\n",
      "                                            -119.234619140625,\n",
      "                                            36.92793899776678\n",
      "                                        ],\n",
      "                                        [\n",
      "                                            -119.37744140625,\n",
      "                                            36.92793899776678\n",
      "                                        ],\n",
      "                                        [\n",
      "                                            -119.37744140625,\n",
      "                                            36.81368259124586\n",
      "                                        ]\n",
      "                                    ]\n",
      "                                ]\n",
      "                            }\n",
      "                        }\n",
      "                    }\n",
      "                }\n",
      "            ]\n",
      "        }\n",
      "    }\n",
      "}\n"
     ]
    }
   ],
   "source": [
    "%%bash\n",
    "echo '{\"query\": {\"bool\": {\"must\": {\"match_all\": {}},\n",
    "   \"filter\": [{\"geo_shape\": {\"footprint\": {\"shape\": {\"type\": \"Polygon\",\n",
    "        \"coordinates\": [[[-119.37744140625, 36.81368259124586],\n",
    "          [-119.234619140625, 36.81368259124586],\n",
    "          [-119.234619140625, 36.92793899776678],\n",
    "          [-119.37744140625, 36.92793899776678],\n",
    "          [-119.37744140625, 36.81368259124586]]]}}}}]}}}' |python3 -m json.tool"
   ]
  },
  {
   "cell_type": "markdown",
   "metadata": {},
   "source": [
    "# Now lets do this with code python"
   ]
  },
  {
   "cell_type": "code",
   "execution_count": 36,
   "metadata": {},
   "outputs": [],
   "source": [
    "def _local_return_elastic_hits(es_conn, the_query):\n",
    "    \n",
    "   \n",
    "    response = es_conn.search( index=\"georaw\",size=1400, body=the_query)\n",
    "\n",
    "    HIT_LIST = response['hits']['hits']\n",
    "    return HIT_LIST\n"
   ]
  },
  {
   "cell_type": "code",
   "execution_count": 37,
   "metadata": {},
   "outputs": [],
   "source": [
    "hits = _local_return_elastic_hits(es_conn, my_query)"
   ]
  },
  {
   "cell_type": "code",
   "execution_count": 38,
   "metadata": {},
   "outputs": [
    {
     "name": "stdout",
     "output_type": "stream",
     "text": [
      "[{'_id': '1W46zWgBYzFhnv3daI4L',\n",
      "  '_index': 'georaw',\n",
      "  '_score': 1.0,\n",
      "  '_source': {'bogus': 'bogusTestTony',\n",
      "              'footprint': {'coordinates': [[[-120.157470703125,\n",
      "                                              36.13343831245866],\n",
      "                                             [-118.9434814453125,\n",
      "                                              36.13343831245866],\n",
      "                                             [-118.9434814453125,\n",
      "                                              37.28279464911045],\n",
      "                                             [-120.157470703125,\n",
      "                                              37.28279464911045],\n",
      "                                             [-120.157470703125,\n",
      "                                              36.13343831245866]]],\n",
      "                            'type': 'Polygon'}},\n",
      "  '_type': 'record'}]\n"
     ]
    }
   ],
   "source": [
    "pprint.pprint (hits)"
   ]
  },
  {
   "cell_type": "code",
   "execution_count": null,
   "metadata": {},
   "outputs": [],
   "source": []
  }
 ],
 "metadata": {
  "kernelspec": {
   "display_name": "Python 3",
   "language": "python",
   "name": "python3"
  },
  "language_info": {
   "codemirror_mode": {
    "name": "ipython",
    "version": 3
   },
   "file_extension": ".py",
   "mimetype": "text/x-python",
   "name": "python",
   "nbconvert_exporter": "python",
   "pygments_lexer": "ipython3",
   "version": "3.6.7"
  }
 },
 "nbformat": 4,
 "nbformat_minor": 2
}
