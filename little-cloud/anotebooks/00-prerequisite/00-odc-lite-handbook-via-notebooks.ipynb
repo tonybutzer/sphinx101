{
 "cells": [
  {
   "cell_type": "markdown",
   "metadata": {},
   "source": [
    "# ODC Fundamentals\n",
    "\n",
    "This notebook is the main, top-level strategy for the ODC-lite journey\n",
    "\n",
    "topics\n",
    "1. geojson - geojson.io\n",
    "2. elastic search in the context of ODC-lite california"
   ]
  },
  {
   "cell_type": "markdown",
   "metadata": {},
   "source": [
    "## General Todo\n",
    "\n",
    "1. create an ipynb to python script for searching this handbook in practal ways\n",
    "2. create protoLib in a subdir for packaging notebook subroutines as an improvement to the notebooks\n",
    "\n",
    "## Geojson\n",
    "\n",
    "1. create a notebook a0-geojson-handbook.ipynb\n",
    "\n",
    "## elastic search\n",
    "1. create a1-elastic-handbook.ipynb"
   ]
  }
 ],
 "metadata": {
  "kernelspec": {
   "display_name": "Python 3",
   "language": "python",
   "name": "python3"
  },
  "language_info": {
   "codemirror_mode": {
    "name": "ipython",
    "version": 3
   },
   "file_extension": ".py",
   "mimetype": "text/x-python",
   "name": "python",
   "nbconvert_exporter": "python",
   "pygments_lexer": "ipython3",
   "version": "3.6.7"
  }
 },
 "nbformat": 4,
 "nbformat_minor": 2
}
