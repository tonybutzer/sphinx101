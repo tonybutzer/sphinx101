{
 "cells": [
  {
   "cell_type": "markdown",
   "metadata": {},
   "source": [
    "# Managing AOIs across projections\n",
    "\n",
    "grab aoi from geojson.io\n",
    "\n",
    "what pixels should get grabbed from the landsat scene in:\n",
    "1. epsg 32636\n",
    "2. epsg 5072\n",
    "\n",
    "how complicated should this equation be?\n",
    "\n",
    "what does a minimum_rotated_rectangle look like?\n",
    "\n",
    "Can folium project maps in AEA for example? -- how ugly do they look?\n",
    "\n",
    "simple rectangles or more sophisticated linear transforms\n",
    "\n",
    "1. start by displaying the problem with folium\n",
    "2. lc_display"
   ]
  },
  {
   "cell_type": "code",
   "execution_count": 1,
   "metadata": {},
   "outputs": [],
   "source": [
    "from lilcubeLib.lc_display import Ldisplay"
   ]
  },
  {
   "cell_type": "code",
   "execution_count": 2,
   "metadata": {},
   "outputs": [
    {
     "name": "stdout",
     "output_type": "stream",
     "text": [
      "creating Ldisplay class\n"
     ]
    }
   ],
   "source": [
    "ld = Ldisplay()"
   ]
  },
  {
   "cell_type": "code",
   "execution_count": 3,
   "metadata": {},
   "outputs": [
    {
     "name": "stdout",
     "output_type": "stream",
     "text": [
      " 00-odc-lite-handbook-via-notebooks.ipynb   fake_PR_2.geojson\r\n",
      " a0-geojson-handbook.ipynb\t\t   'map(1).geojson'\r\n",
      " a1-elastic-search-handbook.ipynb\t   'map(2).geojson'\r\n",
      " a2-xarray-handbook.ipynb\t\t    map.geojson\r\n",
      " a4-map-projection-handbook.ipynb\t    p1-aoi-map-projection-hell.ipynb\r\n",
      " fake_path_row.geojson\t\t\t    pine_lake.geojson\r\n",
      " fake_PR_1.geojson\t\t\t    search_input.geojson\r\n"
     ]
    }
   ],
   "source": [
    "!ls"
   ]
  },
  {
   "cell_type": "code",
   "execution_count": 4,
   "metadata": {},
   "outputs": [
    {
     "name": "stdout",
     "output_type": "stream",
     "text": [
      "[[[-119.35272216796874, 36.81808022778526], [-119.2510986328125, 36.81808022778526], [-119.2510986328125, 36.91915611148194], [-119.35272216796874, 36.91915611148194], [-119.35272216796874, 36.81808022778526]]]\n",
      "MAP [[-119.35272216796874, 36.81808022778526], [-119.2510986328125, 36.81808022778526], [-119.2510986328125, 36.91915611148194], [-119.35272216796874, 36.91915611148194], [-119.35272216796874, 36.81808022778526]]\n",
      "[-119.35272216796874, 36.81808022778526]\n",
      "(36.81808022778526, -119.35272216796874)\n",
      "[-119.2510986328125, 36.81808022778526]\n",
      "(36.81808022778526, -119.2510986328125)\n",
      "[-119.2510986328125, 36.91915611148194]\n",
      "(36.91915611148194, -119.2510986328125)\n",
      "[-119.35272216796874, 36.91915611148194]\n",
      "(36.91915611148194, -119.35272216796874)\n",
      "[-119.35272216796874, 36.81808022778526]\n",
      "(36.81808022778526, -119.35272216796874)\n"
     ]
    }
   ],
   "source": [
    "my_aoi='pine_lake.geojson'\n",
    "m = ld.map_geojson(my_aoi)"
   ]
  },
  {
   "cell_type": "code",
   "execution_count": 5,
   "metadata": {},
   "outputs": [
    {
     "data": {
      "text/html": [
       "<div style=\"width:100%;\"><div style=\"position:relative;width:100%;height:0;padding-bottom:60%;\"><iframe src=\"data:text/html;charset=utf-8;base64,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\" style=\"position:absolute;width:100%;height:100%;left:0;top:0;border:none !important;\" allowfullscreen webkitallowfullscreen mozallowfullscreen></iframe></div></div>"
      ],
      "text/plain": [
       "<folium.folium.Map at 0x7fddc70b5358>"
      ]
     },
     "execution_count": 5,
     "metadata": {},
     "output_type": "execute_result"
    }
   ],
   "source": [
    "m"
   ]
  },
  {
   "cell_type": "code",
   "execution_count": 6,
   "metadata": {},
   "outputs": [
    {
     "name": "stdout",
     "output_type": "stream",
     "text": [
      "[[[-119.35272216796874, 36.81808022778526], [-119.2510986328125, 36.81808022778526], [-119.2510986328125, 36.91915611148194], [-119.35272216796874, 36.91915611148194], [-119.35272216796874, 36.81808022778526]]]\n",
      "MAP [[-119.35272216796874, 36.81808022778526], [-119.2510986328125, 36.81808022778526], [-119.2510986328125, 36.91915611148194], [-119.35272216796874, 36.91915611148194], [-119.35272216796874, 36.81808022778526]]\n",
      "[-119.35272216796874, 36.81808022778526]\n",
      "(36.81808022778526, -119.35272216796874)\n",
      "[-119.2510986328125, 36.81808022778526]\n",
      "(36.81808022778526, -119.2510986328125)\n",
      "[-119.2510986328125, 36.91915611148194]\n",
      "(36.91915611148194, -119.2510986328125)\n",
      "[-119.35272216796874, 36.91915611148194]\n",
      "(36.91915611148194, -119.35272216796874)\n",
      "[-119.35272216796874, 36.81808022778526]\n",
      "(36.81808022778526, -119.35272216796874)\n",
      "COO: (array('d', [-119.35272216796874, -119.2510986328125, -119.25103002490626, -119.352790775875, -119.35272216796874]), array('d', [36.81808022778527, 36.81808022778527, 36.91915608256794, 36.91915608256791, 36.81808022778527]))\n",
      "POLYGON ((-119.3527221679687 36.81808022778527, -119.2510986328125 36.81808022778527, -119.2510300249063 36.91915608256794, -119.352790775875 36.91915608256791, -119.3527221679687 36.81808022778527))\n",
      "['__and__', '__array_interface__', '__class__', '__del__', '__delattr__', '__dict__', '__dir__', '__doc__', '__eq__', '__format__', '__ge__', '__geo_interface__', '__geom__', '__getattribute__', '__gt__', '__hash__', '__init__', '__init_subclass__', '__le__', '__lt__', '__module__', '__ne__', '__new__', '__or__', '__p__', '__reduce__', '__reduce_ex__', '__repr__', '__setattr__', '__setstate__', '__sizeof__', '__str__', '__sub__', '__subclasshook__', '__weakref__', '__xor__', '_crs', '_ctypes_data', '_exterior', '_geom', '_get_coords', '_interiors', '_is_empty', '_lgeos', '_ndim', '_other_owned', '_repr_svg_', '_set_coords', 'almost_equals', 'area', 'array_interface_base', 'boundary', 'bounds', 'buffer', 'centroid', 'contains', 'convex_hull', 'coords', 'covers', 'crosses', 'ctypes', 'difference', 'disjoint', 'distance', 'empty', 'envelope', 'equals', 'equals_exact', 'exterior', 'from_bounds', 'geom_type', 'geometryType', 'has_z', 'hausdorff_distance', 'impl', 'interiors', 'interpolate', 'intersection', 'intersects', 'is_closed', 'is_empty', 'is_ring', 'is_simple', 'is_valid', 'length', 'minimum_rotated_rectangle', 'overlaps', 'project', 'relate', 'relate_pattern', 'representative_point', 'simplify', 'svg', 'symmetric_difference', 'to_wkb', 'to_wkt', 'touches', 'type', 'union', 'within', 'wkb', 'wkb_hex', 'wkt', 'xy']\n"
     ]
    }
   ],
   "source": [
    "m = ld.map_min_rect(my_aoi)"
   ]
  },
  {
   "cell_type": "code",
   "execution_count": 7,
   "metadata": {},
   "outputs": [
    {
     "data": {
      "text/plain": [
       "'BOMB'"
      ]
     },
     "execution_count": 7,
     "metadata": {},
     "output_type": "execute_result"
    }
   ],
   "source": [
    "m"
   ]
  },
  {
   "cell_type": "code",
   "execution_count": 8,
   "metadata": {},
   "outputs": [
    {
     "name": "stdout",
     "output_type": "stream",
     "text": [
      "Help on module pygeoj:\n",
      "\n",
      "NAME\n",
      "    pygeoj - # PyGeoj\n",
      "\n",
      "DESCRIPTION\n",
      "    PyGeoj is a simple Python GeoJSON file reader and writer intended for end-users.\n",
      "    It exposees dictionary structures as high level objects with convenience methods,\n",
      "    so the user does not have to get caught up in the details of the format specification. \n",
      "    \n",
      "    \n",
      "    ## Platforms\n",
      "    \n",
      "    Python 2 and 3. \n",
      "    \n",
      "    \n",
      "    ## Dependencies\n",
      "    \n",
      "    Pure Python, no dependencies. \n",
      "    \n",
      "    \n",
      "    ## Installing it\n",
      "    \n",
      "    PyGeoj is installed with pip from the commandline:\n",
      "    \n",
      "        pip install pygeoj\n",
      "    \n",
      "    It also works to just place the \"pygeoj\" package folder in an importable location like \n",
      "    \"PythonXX/Lib/site-packages\". \n",
      "    \n",
      "    \n",
      "    ## Example Usage\n",
      "    \n",
      "    Begin by importing the pygeoj module:\n",
      "    \n",
      "        import pygeoj\n",
      "    \n",
      "    ### Reading\n",
      "    \n",
      "    Reading geojson formatted GIS files is a simple one-liner (requires the geojson file to be a\n",
      "    \"FeatureCollection\"):\n",
      "    \n",
      "        testfile = pygeoj.load(filepath=\"testfile.geojson\")\n",
      "        # or\n",
      "        testfile = pygeoj.load(data=dict(...))\n",
      "    \n",
      "    Basic information about the geojson file can then be extracted, such as:\n",
      "    \n",
      "        len(testfile) # the number of features\n",
      "        testfile.bbox # the bounding box region of the entire file\n",
      "        testfile.crs # the coordinate reference system\n",
      "        testfile.all_attributes # retrieves the combined set of all feature attributes\n",
      "        testfile.common_attributes # retrieves only those field attributes that are common to all features\n",
      "    \n",
      "    Individual features can be accessed by their index in the features list:\n",
      "    \n",
      "        testfile[3]\n",
      "        # or\n",
      "        testfile.get_feature(3)\n",
      "    \n",
      "    Or by iterating through all of them:\n",
      "    \n",
      "        for feature in testfile: \n",
      "            # do something\n",
      "    \n",
      "    A feature can be inspected in various ways:\n",
      "    \n",
      "        feature.properties\n",
      "        feature.geometry.type\n",
      "        feature.geometry.coordinates\n",
      "        feature.geometry.bbox\n",
      "    \n",
      "    ### Editing\n",
      "    \n",
      "    The standard Python list operations can be used to edit and swap around the features in a geojson\n",
      "    instance, and then saving to a new geojson file:\n",
      "    \n",
      "        testfile[3] = testfile[8]\n",
      "        # or testfile.replace_feature(3, testfile[8])\n",
      "        del testfile[8]\n",
      "        # or testfile.remove_feature(8)\n",
      "        testfile.save(\"test_edit.geojson\")\n",
      "    \n",
      "    An existing feature can also be tweaked by using simple attribute-setting:\n",
      "    \n",
      "        # set your own properties\n",
      "        feature.properties = {\"newfield1\":\"newvalue1\", \"newfield2\":\"newvalue2\"}\n",
      "    \n",
      "        # borrow the geometry of the 16th feature\n",
      "        feature.geometry = testfile[16].geometry\n",
      "    \n",
      "    Note that when changing geometries or coordinates, you must remember to update\n",
      "    its bbox to clear away any older stored bbox information.\n",
      "    \n",
      "        feature.geometry.update_bbox()\n",
      "    \n",
      "    ### Constructing\n",
      "    \n",
      "    Creating a new geojson file from scratch is also easy:\n",
      "    \n",
      "        newfile = pygeoj.new()\n",
      "    \n",
      "        # The data coordinate system defaults to long/lat WGS84 or can be manually defined:\n",
      "        newfile.define_crs(type=\"link\", link=\"http://spatialreference.org/ref/epsg/26912/esriwkt/\", link_type=\"esriwkt\")\n",
      "    \n",
      "    The new file can then be populated with new features:\n",
      "    \n",
      "        newfile.add_feature(properties={\"country\":\"Norway\"},\n",
      "                            geometry={\"type\":\"Polygon\", \"coordinates\":[[(21,3),(33,11),(44,22)]]} )\n",
      "        newfile.add_feature(properties={\"country\":\"USA\"},\n",
      "                            geometry={\"type\":\"Polygon\", \"coordinates\":[[(11,23),(14,5),(66,31)]]} )\n",
      "    \n",
      "    Finally, some useful additional information can be added to top off the geojson file before saving it to\n",
      "    file:\n",
      "     \n",
      "        newfile.add_all_bboxes()\n",
      "        newfile.update_bbox()\n",
      "        newfile.add_unique_id()\n",
      "        newfile.save(\"test_construct.geojson\")\n",
      "    \n",
      "    \n",
      "    ## More Information:\n",
      "    \n",
      "    - [Home Page](http://github.com/karimbahgat/PyGeoj)\n",
      "    - [API Documentation](http://pythonhosted.org/PyGeoj)\n",
      "    \n",
      "    \n",
      "    ## License:\n",
      "    \n",
      "    This code is free to share, use, reuse,\n",
      "    and modify according to the MIT license, see license.txt\n",
      "    \n",
      "    \n",
      "    ## Credits:\n",
      "    \n",
      "    - Karim Bahgat\n",
      "    - Mec-iS\n",
      "\n",
      "CLASSES\n",
      "    builtins.object\n",
      "        Feature\n",
      "        GeojsonFile\n",
      "        Geometry\n",
      "    \n",
      "    class Feature(builtins.object)\n",
      "     |  A feature instance, as an object representation of GeoJSON's feature dictinoary item,\n",
      "     |  with some convenience methods. \n",
      "     |  \n",
      "     |  Attributes:\n",
      "     |  \n",
      "     |  - **geometry**: A Geometry instance.\n",
      "     |  - **properties**: A properties dictionary\n",
      "     |  \n",
      "     |  Methods defined here:\n",
      "     |  \n",
      "     |  __init__(self, obj=None, geometry=None, properties=None)\n",
      "     |      If obj isn't specified, geometry and properties can be set as arguments directly.\n",
      "     |      \n",
      "     |      Parameters:\n",
      "     |      \n",
      "     |      - **obj**: Another feature instance, an object with the \\_\\_geo_interface__ or a geojson dictionary of the Feature type.\n",
      "     |      - **geometry** (optional): Anything that the Geometry instance can accept.\n",
      "     |      - **properties** (optional): A dictionary of key-value property pairs.\n",
      "     |  \n",
      "     |  __str__(self)\n",
      "     |      Return str(self).\n",
      "     |  \n",
      "     |  validate(self, fixerrors=True)\n",
      "     |      Validates that the feature is correctly formatted.\n",
      "     |      \n",
      "     |      Parameters:\n",
      "     |      \n",
      "     |      - **fixerrors** (optional): Attempts to fix minor errors without raising exceptions (defaults to True)\n",
      "     |      \n",
      "     |      Returns:\n",
      "     |      \n",
      "     |      - True if the feature is valid.\n",
      "     |      \n",
      "     |      Raises:\n",
      "     |      \n",
      "     |      - An Exception if not valid.\n",
      "     |  \n",
      "     |  ----------------------------------------------------------------------\n",
      "     |  Data descriptors defined here:\n",
      "     |  \n",
      "     |  __dict__\n",
      "     |      dictionary for instance variables (if defined)\n",
      "     |  \n",
      "     |  __geo_interface__\n",
      "     |  \n",
      "     |  __weakref__\n",
      "     |      list of weak references to the object (if defined)\n",
      "     |  \n",
      "     |  geometry\n",
      "     |  \n",
      "     |  properties\n",
      "    \n",
      "    class GeojsonFile(builtins.object)\n",
      "     |  An instance of a geojson file. \n",
      "     |  \n",
      "     |  Attributes:\n",
      "     |  \n",
      "     |  - **crs**: The geojson formatted dictionary of the file's coordinate reference system. Read only. Call .define_crs() to change it. \n",
      "     |  - **bbox**: The bounding box surrounding all geometries in the file. Read only. You may need to call .update_bbox() to make sure this one is up-to-date.\n",
      "     |  - **all_attributes**: Collect and return a list of all attributes/properties/fields used in any of the features. Read only. \n",
      "     |  - **common_attributes**: Collects and returns a list of attributes/properties/fields common to all features. Read only.\n",
      "     |  \n",
      "     |  Methods defined here:\n",
      "     |  \n",
      "     |  __delitem__(self, index)\n",
      "     |      Delete a feature based on its index, like del geojfile[7]\n",
      "     |  \n",
      "     |  __getitem__(self, index)\n",
      "     |      Get a feature based on its index, like geojfile[7]\n",
      "     |  \n",
      "     |  __init__(self, filepath=None, data=None, skiperrors=False, fixerrors=True, **kwargs)\n",
      "     |      Can load from data or from a file,\n",
      "     |      which can then be read or edited.\n",
      "     |      Call without any arguments to create an empty geojson file\n",
      "     |      so you can construct it from scratch.\n",
      "     |      \n",
      "     |      In order for a geojson dict to be considered a file,\n",
      "     |      it cannot just be single geometries, so this class always\n",
      "     |      saves them as the toplevel FeatureCollection type,\n",
      "     |      and requires the files it loads to be the same.\n",
      "     |      \n",
      "     |      Parameters:\n",
      "     |      \n",
      "     |      - **filepath** (optional): The path of a geojson file to load.\n",
      "     |      - **data** (optional): A complete geojson dictionary to load.\n",
      "     |      - **skiperrors** (optional): Throws away any features that fail to validate (defaults to False).\n",
      "     |      - **fixerrors** (optional): Attempts to auto fix any minor errors without raising exceptions (defaults to True).\n",
      "     |  \n",
      "     |  __iter__(self)\n",
      "     |      Iterates through and yields each feature in the file.\n",
      "     |  \n",
      "     |  __len__(self)\n",
      "     |  \n",
      "     |  __setitem__(self, index, feature)\n",
      "     |      Replace a feature based on its index with a new one (same requirements as Feature's obj arg),\n",
      "     |      like geojfile[7] = newfeature\n",
      "     |  \n",
      "     |  add_all_bboxes(self)\n",
      "     |      Calculates and adds a bbox attribute to the geojson entry of all feature geometries, updating any existing ones.\n",
      "     |  \n",
      "     |  add_feature(self, obj=None, geometry=None, properties=None)\n",
      "     |      Adds a given feature. If obj isn't specified, geometry and properties can be set as arguments directly.\n",
      "     |      \n",
      "     |      Parameters:\n",
      "     |      \n",
      "     |      - **obj**: Another feature instance, an object with the \\_\\_geo_interface__ or a geojson dictionary of the Feature type.\n",
      "     |      - **geometry** (optional): Anything that the Geometry instance can accept.\n",
      "     |      - **properties** (optional): A dictionary of key-value property pairs.\n",
      "     |  \n",
      "     |  add_unique_id(self)\n",
      "     |      Adds a unique id property to each feature.\n",
      "     |      \n",
      "     |      Raises:\n",
      "     |      \n",
      "     |      - An Exception if any of the features already\n",
      "     |          have an \"id\" field.\n",
      "     |  \n",
      "     |  addfeature(self, feature)\n",
      "     |      Backwards compatible legacy method. WARNING: Will be depreceated.\n",
      "     |  \n",
      "     |  define_crs(self, type, name=None, link=None, link_type=None)\n",
      "     |      Defines the coordinate reference system for the geojson file.\n",
      "     |      For link crs, only online urls are currenlty supported\n",
      "     |      (no auxilliary crs files).\n",
      "     |      \n",
      "     |      Parameters:\n",
      "     |      \n",
      "     |      - **type**: The type of crs, either \"name\" or \"link\".\n",
      "     |      - **name** (optional): The crs name as an OGC formatted crs string (eg \"urn:ogc:def:crs:...\"), required if type is \"name\"\n",
      "     |      - **link**: The crs online url link address, required if type is \"link\".\n",
      "     |      - **link_type**: The type of crs link, optional if type is \"link\".\n",
      "     |  \n",
      "     |  get_feature(self, index)\n",
      "     |      Gets a feature based on its index. Same as feat[index]. \n",
      "     |      \n",
      "     |      Parameters:\n",
      "     |      \n",
      "     |      - **index**: The index position of the feature to get.\n",
      "     |      \n",
      "     |      Returns:\n",
      "     |      \n",
      "     |      - A Feature instance.\n",
      "     |  \n",
      "     |  getfeature(self, index)\n",
      "     |      Backwards compatible legacy method. WARNING: Will be depreceated.\n",
      "     |  \n",
      "     |  remove_feature(oldindex)\n",
      "     |      Removes a feature at a specified index position. \n",
      "     |      \n",
      "     |      Parameters:\n",
      "     |      \n",
      "     |      - **oldindex**: The index position of the feature to be removed.\n",
      "     |  \n",
      "     |  removefeature(oldindex)\n",
      "     |      Backwards compatible legacy method. WARNING: Will be depreceated.\n",
      "     |  \n",
      "     |  replace_feature(self, oldindex, newfeature)\n",
      "     |      Replaces the feature at an index position with another. \n",
      "     |      \n",
      "     |      Parameters:\n",
      "     |      \n",
      "     |      - **oldindex**: The index position of the feature to be replaced. \n",
      "     |      - **newfeature**: Anything that the Feature instance can accept.\n",
      "     |  \n",
      "     |  replacefeature(self, oldindex, newfeature)\n",
      "     |      Backwards compatible legacy method. WARNING: Will be depreceated.\n",
      "     |  \n",
      "     |  save(self, savepath, **kwargs)\n",
      "     |      Saves the geojson instance to file. To save with a different text encoding use the 'encoding' argument.\n",
      "     |      \n",
      "     |      Parameters:\n",
      "     |      \n",
      "     |      - **savepath**: Filepath to save the file.\n",
      "     |  \n",
      "     |  update_bbox(self)\n",
      "     |      Recalculates the bbox region attribute for the entire file.\n",
      "     |      Useful after adding and/or removing features.\n",
      "     |      \n",
      "     |      No need to use this method just for saving, because saving\n",
      "     |      automatically updates the bbox.\n",
      "     |  \n",
      "     |  ----------------------------------------------------------------------\n",
      "     |  Data descriptors defined here:\n",
      "     |  \n",
      "     |  __dict__\n",
      "     |      dictionary for instance variables (if defined)\n",
      "     |  \n",
      "     |  __geo_interface__\n",
      "     |  \n",
      "     |  __weakref__\n",
      "     |      list of weak references to the object (if defined)\n",
      "     |  \n",
      "     |  all_attributes\n",
      "     |      Collect and return a list of all attributes/properties/fields used in any of the features.\n",
      "     |  \n",
      "     |  bbox\n",
      "     |  \n",
      "     |  common_attributes\n",
      "     |      Collect and return a list of attributes/properties/fields common to all features.\n",
      "     |  \n",
      "     |  crs\n",
      "    \n",
      "    class Geometry(builtins.object)\n",
      "     |  A geometry instance, as an object representation of GeoJSON's geometry dictinoary item,\n",
      "     |  with some convenience methods. \n",
      "     |  \n",
      "     |  Attributes:\n",
      "     |  \n",
      "     |  - **type**: As specified when constructed\n",
      "     |  - **coordinates**: As specified when constructed\n",
      "     |  - **bbox**: If the bounding box wasn't specified when constructed then it is calculated on-the-fly.\n",
      "     |  \n",
      "     |  Methods defined here:\n",
      "     |  \n",
      "     |  __init__(self, obj=None, type=None, coordinates=None, bbox=None)\n",
      "     |      Can be created from args, or without any to create an empty one from scratch.\n",
      "     |      If obj isn't specified, type, coordinates, and optionally bbox can be set as arguments\n",
      "     |      \n",
      "     |      Parameters:\n",
      "     |      \n",
      "     |      - **obj**:\n",
      "     |          Another geometry instance, an object with the \\_\\_geo_interface__ or a geojson dictionary of the Geometry type\n",
      "     |      - **type** (optional):\n",
      "     |          The type of geometry. Point, MultiPoint, LineString, MultiLineString,\n",
      "     |          Polygon, or MultiPolygon. \n",
      "     |      - **coordinates** (optional):\n",
      "     |          A sequence of coordinates formatted according to the geometry type. \n",
      "     |      - **bbox** (optional):\n",
      "     |          The bounding box of the geometry as [xmin, ymin, xmax, ymax].\n",
      "     |  \n",
      "     |  __setattr__(self, name, value)\n",
      "     |      Set a class attribute like obj.attr = value\n",
      "     |  \n",
      "     |  __str__(self)\n",
      "     |      Return str(self).\n",
      "     |  \n",
      "     |  update_bbox(self)\n",
      "     |      Removes any existing stored bbox attribute from the geojson dictionary.\n",
      "     |      This way, until you set the bbox attribute again, the bbox will always\n",
      "     |      be calculated on the fly and be up to date.\n",
      "     |      Useful after making changes to the geometry coordinates.\n",
      "     |  \n",
      "     |  validate(self, fixerrors=True)\n",
      "     |      Validates that the geometry is correctly formatted according to the geometry type. \n",
      "     |      \n",
      "     |      Parameters:\n",
      "     |      \n",
      "     |      - **fixerrors** (optional): Attempts to fix minor errors without raising exceptions (defaults to True)\n",
      "     |      \n",
      "     |      Returns:\n",
      "     |      \n",
      "     |      - True if the geometry is valid.\n",
      "     |      \n",
      "     |      Raises:\n",
      "     |      \n",
      "     |      - An Exception if not valid.\n",
      "     |  \n",
      "     |  ----------------------------------------------------------------------\n",
      "     |  Data descriptors defined here:\n",
      "     |  \n",
      "     |  __dict__\n",
      "     |      dictionary for instance variables (if defined)\n",
      "     |  \n",
      "     |  __geo_interface__\n",
      "     |  \n",
      "     |  __weakref__\n",
      "     |      list of weak references to the object (if defined)\n",
      "     |  \n",
      "     |  bbox\n",
      "     |  \n",
      "     |  coordinates\n",
      "     |  \n",
      "     |  type\n",
      "\n",
      "FUNCTIONS\n",
      "    load(filepath=None, data=None, **kwargs)\n",
      "        Loads a geojson file or dictionary, validates it, and returns a\n",
      "        GeojsonFile instance.\n",
      "        \n",
      "        In order for a geojson dict to be considered a file,\n",
      "        it cannot just be single geometries, so this class always\n",
      "        saves them as the toplevel FeatureCollection type,\n",
      "        and requires the files it loads to be the same.\n",
      "        \n",
      "        To load with a different text encoding use the 'encoding' argument.\n",
      "        \n",
      "        Parameters:\n",
      "        \n",
      "        - **filepath** (optional): The path of a geojson file to load.\n",
      "        - **data** (optional): A complete geojson dictionary to load.\n",
      "        \n",
      "        Returns:\n",
      "        \n",
      "        - A GeojsonFile instance.\n",
      "    \n",
      "    new()\n",
      "        Creates a new empty geojson file instance.\n",
      "        \n",
      "        Returns:\n",
      "        \n",
      "        - An empty GeojsonFile instance.\n",
      "    \n",
      "    validate(data, skiperrors=False, fixerrors=True)\n",
      "        Checks that the geojson data is a feature collection, that it\n",
      "        contains a proper \"features\" attribute, and that all features are valid too.\n",
      "        Returns True if all goes well.\n",
      "        \n",
      "        - skiperrors will throw away any features that fail to validate.\n",
      "        - fixerrors will attempt to auto fix any minor errors without raising exceptions.\n",
      "\n",
      "VERSION\n",
      "    1.0.0\n",
      "\n",
      "FILE\n",
      "    /home/tony/.local/lib/python3.6/site-packages/pygeoj.py\n",
      "\n",
      "\n"
     ]
    }
   ],
   "source": [
    "import pygeoj\n",
    "help(pygeoj)"
   ]
  },
  {
   "cell_type": "code",
   "execution_count": 9,
   "metadata": {},
   "outputs": [
    {
     "data": {
      "image/svg+xml": [
       "<svg xmlns=\"http://www.w3.org/2000/svg\" xmlns:xlink=\"http://www.w3.org/1999/xlink\" width=\"100.0\" height=\"100.0\" viewBox=\"-119.35678710937499 36.81401528637901 0.10975341796874716 0.10920576650917724\" preserveAspectRatio=\"xMinYMin meet\"><g transform=\"matrix(1,0,0,-1,0,73.7372363392672)\"><g><path fill-rule=\"evenodd\" fill=\"#66cc99\" stroke=\"#555555\" stroke-width=\"0.002195068359374943\" opacity=\"0.6\" d=\"M -119.35272216796874,36.81808022778526 L -119.35272216796874,36.91915611148194 L -119.2510986328125,36.91915611148194 L -119.2510986328125,36.81808022778526 L -119.35272216796874,36.81808022778526 z\" /></g></g></svg>"
      ],
      "text/plain": [
       "<shapely.geometry.collection.GeometryCollection at 0x7fddc6843710>"
      ]
     },
     "execution_count": 9,
     "metadata": {},
     "output_type": "execute_result"
    }
   ],
   "source": [
    "# https://medium.com/@pramukta/recipe-importing-geojson-into-shapely-da1edf79f41d\n",
    "import json\n",
    "from shapely.geometry import shape, GeometryCollection\n",
    "\n",
    "#with open(\"geojson_file.geojson\") as f:\n",
    "with open(my_aoi) as f:\n",
    "  features = json.load(f)[\"features\"]\n",
    "\n",
    "# NOTE: buffer(0) is a trick for fixing scenarios where polygons have overlapping coordinates \n",
    "geometry = GeometryCollection([shape(feature[\"geometry\"]).buffer(0) for feature in features])\n",
    "geometry"
   ]
  },
  {
   "cell_type": "code",
   "execution_count": 10,
   "metadata": {},
   "outputs": [
    {
     "data": {
      "image/svg+xml": [
       "<svg xmlns=\"http://www.w3.org/2000/svg\" xmlns:xlink=\"http://www.w3.org/1999/xlink\" width=\"300\" height=\"300\" viewBox=\"-2043617.039012931 1779963.8490981169 12508.719979987247 14217.847029576777\" preserveAspectRatio=\"xMinYMin meet\"><g transform=\"matrix(1,0,0,-1,0,3574145.5452258103)\"><g><path fill-rule=\"evenodd\" fill=\"#66cc99\" stroke=\"#555555\" stroke-width=\"94.78564686384517\" opacity=\"0.6\" d=\"M -2043090.4520859097,1782670.5520639066 L -2040335.5159518847,1793655.1092006722 L -2031634.9059599652,1791477.9328655512 L -2034378.0942100429,1780490.4360251382 L -2043090.4520859097,1782670.5520639066 z\" /></g></g></svg>"
      ],
      "text/plain": [
       "<shapely.geometry.collection.GeometryCollection at 0x7fddc6843470>"
      ]
     },
     "execution_count": 10,
     "metadata": {},
     "output_type": "execute_result"
    }
   ],
   "source": [
    "from functools import partial\n",
    "import shapely.ops\n",
    "import pyproj\n",
    "\n",
    "# Suppose geometry is an instance of shapely.geometry.Geometry\n",
    "tfm = partial(pyproj.transform, \n",
    "              pyproj.Proj(init=\"epsg:4326\"), \n",
    "              pyproj.Proj(init=\"epsg:5072\"))\n",
    "reprojected = shapely.ops.transform(tfm, geometry)\n",
    "\n",
    "reprojected"
   ]
  },
  {
   "cell_type": "code",
   "execution_count": 11,
   "metadata": {},
   "outputs": [
    {
     "data": {
      "image/svg+xml": [
       "<svg xmlns=\"http://www.w3.org/2000/svg\" xmlns:xlink=\"http://www.w3.org/1999/xlink\" width=\"100.0\" height=\"100.0\" viewBox=\"-119.35678710937499 36.81401528637901 0.10975341796874716 0.10920576650917724\" preserveAspectRatio=\"xMinYMin meet\"><g transform=\"matrix(1,0,0,-1,0,73.7372363392672)\"><g><path fill-rule=\"evenodd\" fill=\"#66cc99\" stroke=\"#555555\" stroke-width=\"0.002195068359374943\" opacity=\"0.6\" d=\"M -119.35272216796874,36.81808022778526 L -119.35272216796874,36.91915611148194 L -119.2510986328125,36.91915611148194 L -119.2510986328125,36.81808022778526 L -119.35272216796874,36.81808022778526 z\" /></g></g></svg>"
      ],
      "text/plain": [
       "<shapely.geometry.collection.GeometryCollection at 0x7fddc6843710>"
      ]
     },
     "execution_count": 11,
     "metadata": {},
     "output_type": "execute_result"
    }
   ],
   "source": [
    "geometry"
   ]
  },
  {
   "cell_type": "code",
   "execution_count": 12,
   "metadata": {},
   "outputs": [],
   "source": [
    "mrr = reprojected.minimum_rotated_rectangle"
   ]
  },
  {
   "cell_type": "code",
   "execution_count": 13,
   "metadata": {},
   "outputs": [
    {
     "data": {
      "text/plain": [
       "'POLYGON ((-2043090.4520859094336629 1782670.5520639051683247, -2034378.0942100426182151 1780490.4360251380130649, -2031629.0320179925765842 1791476.4630137281492352, -2040341.3898938593920320 1793656.5790524953044951, -2043090.4520859094336629 1782670.5520639051683247))'"
      ]
     },
     "execution_count": 13,
     "metadata": {},
     "output_type": "execute_result"
    }
   ],
   "source": [
    "mrr.to_wkt()"
   ]
  },
  {
   "cell_type": "code",
   "execution_count": 14,
   "metadata": {},
   "outputs": [
    {
     "data": {
      "image/svg+xml": [
       "<svg xmlns=\"http://www.w3.org/2000/svg\" xmlns:xlink=\"http://www.w3.org/1999/xlink\" width=\"300\" height=\"300\" viewBox=\"-2043617.0978070037 1779963.7903040438 12514.711510105291 14219.434469545726\" preserveAspectRatio=\"xMinYMin meet\"><g transform=\"matrix(1,0,0,-1,0,3574147.0150776333)\"><polyline fill=\"none\" stroke=\"#66cc99\" stroke-width=\"94.7962297969715\" points=\"-2043090.4520859094,1782670.5520639052 -2034378.0942100426,1780490.436025138 -2031629.0320179926,1791476.4630137281 -2040341.3898938594,1793656.5790524953 -2043090.4520859094,1782670.5520639052\" opacity=\"0.8\" /></g></svg>"
      ],
      "text/plain": [
       "<shapely.geometry.linestring.LineString at 0x7fddc6843ac8>"
      ]
     },
     "execution_count": 14,
     "metadata": {},
     "output_type": "execute_result"
    }
   ],
   "source": [
    "mrr.boundary"
   ]
  },
  {
   "cell_type": "code",
   "execution_count": 15,
   "metadata": {},
   "outputs": [
    {
     "data": {
      "text/plain": [
       "'POLYGON ((-2043090.452085909 1782670.552063905, -2034378.094210043 1780490.436025138, -2031629.032017993 1791476.463013728, -2040341.389893859 1793656.579052495, -2043090.452085909 1782670.552063905))'"
      ]
     },
     "execution_count": 15,
     "metadata": {},
     "output_type": "execute_result"
    }
   ],
   "source": [
    "mrr.wkt"
   ]
  },
  {
   "cell_type": "code",
   "execution_count": 16,
   "metadata": {},
   "outputs": [
    {
     "data": {
      "image/svg+xml": [
       "<svg xmlns=\"http://www.w3.org/2000/svg\" xmlns:xlink=\"http://www.w3.org/1999/xlink\" width=\"100.0\" height=\"100.0\" viewBox=\"-119.35686120591375 36.81400979774652 0.10990161104624008 0.10921671486016749\" preserveAspectRatio=\"xMinYMin meet\"><g transform=\"matrix(1,0,0,-1,0,73.73723631035321)\"><path fill-rule=\"evenodd\" fill=\"#66cc99\" stroke=\"#555555\" stroke-width=\"0.0021980322209248014\" opacity=\"0.6\" d=\"M -119.35272216796874,36.81808022778527 L -119.2510986328125,36.81808022778527 L -119.25103002490626,36.91915608256794 L -119.352790775875,36.91915608256791 L -119.35272216796874,36.81808022778527 z\" /></g></svg>"
      ],
      "text/plain": [
       "<shapely.geometry.polygon.Polygon at 0x7fddc684a710>"
      ]
     },
     "execution_count": 16,
     "metadata": {},
     "output_type": "execute_result"
    }
   ],
   "source": [
    "tfm = partial(pyproj.transform, \n",
    "              pyproj.Proj(init=\"epsg:5072\"), \n",
    "              pyproj.Proj(init=\"epsg:4326\"))\n",
    "reprojected = shapely.ops.transform(tfm, mrr)\n",
    "reprojected"
   ]
  },
  {
   "cell_type": "code",
   "execution_count": 17,
   "metadata": {},
   "outputs": [
    {
     "data": {
      "text/plain": [
       "'POLYGON ((-119.3527221679687 36.81808022778527, -119.2510986328125 36.81808022778527, -119.2510300249063 36.91915608256794, -119.352790775875 36.91915608256791, -119.3527221679687 36.81808022778527))'"
      ]
     },
     "execution_count": 17,
     "metadata": {},
     "output_type": "execute_result"
    }
   ],
   "source": [
    "reprojected.wkt"
   ]
  },
  {
   "cell_type": "code",
   "execution_count": 18,
   "metadata": {},
   "outputs": [
    {
     "data": {
      "text/plain": [
       "['__and__',\n",
       " '__array_interface__',\n",
       " '__class__',\n",
       " '__del__',\n",
       " '__delattr__',\n",
       " '__dict__',\n",
       " '__dir__',\n",
       " '__doc__',\n",
       " '__eq__',\n",
       " '__format__',\n",
       " '__ge__',\n",
       " '__geo_interface__',\n",
       " '__geom__',\n",
       " '__getattribute__',\n",
       " '__gt__',\n",
       " '__hash__',\n",
       " '__init__',\n",
       " '__init_subclass__',\n",
       " '__le__',\n",
       " '__lt__',\n",
       " '__module__',\n",
       " '__ne__',\n",
       " '__new__',\n",
       " '__or__',\n",
       " '__p__',\n",
       " '__reduce__',\n",
       " '__reduce_ex__',\n",
       " '__repr__',\n",
       " '__setattr__',\n",
       " '__setstate__',\n",
       " '__sizeof__',\n",
       " '__str__',\n",
       " '__sub__',\n",
       " '__subclasshook__',\n",
       " '__weakref__',\n",
       " '__xor__',\n",
       " '_crs',\n",
       " '_ctypes_data',\n",
       " '_exterior',\n",
       " '_geom',\n",
       " '_get_coords',\n",
       " '_interiors',\n",
       " '_is_empty',\n",
       " '_lgeos',\n",
       " '_ndim',\n",
       " '_other_owned',\n",
       " '_repr_svg_',\n",
       " '_set_coords',\n",
       " 'almost_equals',\n",
       " 'area',\n",
       " 'array_interface_base',\n",
       " 'boundary',\n",
       " 'bounds',\n",
       " 'buffer',\n",
       " 'centroid',\n",
       " 'contains',\n",
       " 'convex_hull',\n",
       " 'coords',\n",
       " 'covers',\n",
       " 'crosses',\n",
       " 'ctypes',\n",
       " 'difference',\n",
       " 'disjoint',\n",
       " 'distance',\n",
       " 'empty',\n",
       " 'envelope',\n",
       " 'equals',\n",
       " 'equals_exact',\n",
       " 'exterior',\n",
       " 'from_bounds',\n",
       " 'geom_type',\n",
       " 'geometryType',\n",
       " 'has_z',\n",
       " 'hausdorff_distance',\n",
       " 'impl',\n",
       " 'interiors',\n",
       " 'interpolate',\n",
       " 'intersection',\n",
       " 'intersects',\n",
       " 'is_closed',\n",
       " 'is_empty',\n",
       " 'is_ring',\n",
       " 'is_simple',\n",
       " 'is_valid',\n",
       " 'length',\n",
       " 'minimum_rotated_rectangle',\n",
       " 'overlaps',\n",
       " 'project',\n",
       " 'relate',\n",
       " 'relate_pattern',\n",
       " 'representative_point',\n",
       " 'simplify',\n",
       " 'svg',\n",
       " 'symmetric_difference',\n",
       " 'to_wkb',\n",
       " 'to_wkt',\n",
       " 'touches',\n",
       " 'type',\n",
       " 'union',\n",
       " 'within',\n",
       " 'wkb',\n",
       " 'wkb_hex',\n",
       " 'wkt',\n",
       " 'xy']"
      ]
     },
     "execution_count": 18,
     "metadata": {},
     "output_type": "execute_result"
    }
   ],
   "source": [
    "dir(mrr)"
   ]
  },
  {
   "cell_type": "code",
   "execution_count": 19,
   "metadata": {},
   "outputs": [
    {
     "data": {
      "text/plain": [
       "'POLYGON ((-119.3527221679687358 36.8180802277852735, -119.2510986328125000 36.8180802277852735, -119.2510300249062567 36.9191560825679375, -119.3527907758749933 36.9191560825679090, -119.3527221679687358 36.8180802277852735))'"
      ]
     },
     "execution_count": 19,
     "metadata": {},
     "output_type": "execute_result"
    }
   ],
   "source": [
    "reprojected.to_wkt()"
   ]
  },
  {
   "cell_type": "code",
   "execution_count": 20,
   "metadata": {},
   "outputs": [],
   "source": [
    "# !find ../ -name \"*.geojson\"\n",
    "my_aoi2 = '../01-index-California-TIF-lsaa-staging-cogs/lake_rumira.geojson'"
   ]
  },
  {
   "cell_type": "code",
   "execution_count": 21,
   "metadata": {},
   "outputs": [
    {
     "data": {
      "image/svg+xml": [
       "<svg xmlns=\"http://www.w3.org/2000/svg\" xmlns:xlink=\"http://www.w3.org/1999/xlink\" width=\"100.0\" height=\"100.0\" viewBox=\"30.20853148682189 -2.22255341535582 0.04550721678590364 0.06743427963704329\" preserveAspectRatio=\"xMinYMin meet\"><g transform=\"matrix(1,0,0,-1,0,-4.377672551074596)\"><g><path fill-rule=\"evenodd\" fill=\"#66cc99\" stroke=\"#555555\" stroke-width=\"0.0013486855927408658\" opacity=\"0.6\" d=\"M 30.211029052734375,-2.220055849443337 L 30.211029052734375,-2.1576167016312597 L 30.25154113769531,-2.1576167016312597 L 30.25154113769531,-2.220055849443337 L 30.211029052734375,-2.220055849443337 z\" /></g></g></svg>"
      ],
      "text/plain": [
       "<shapely.geometry.collection.GeometryCollection at 0x7fddc6843898>"
      ]
     },
     "execution_count": 21,
     "metadata": {},
     "output_type": "execute_result"
    }
   ],
   "source": [
    "# https://medium.com/@pramukta/recipe-importing-geojson-into-shapely-da1edf79f41d\n",
    "import json\n",
    "from shapely.geometry import shape, GeometryCollection\n",
    "\n",
    "#with open(\"geojson_file.geojson\") as f:\n",
    "with open(my_aoi2) as f:\n",
    "  features = json.load(f)[\"features\"]\n",
    "\n",
    "# NOTE: buffer(0) is a trick for fixing scenarios where polygons have overlapping coordinates \n",
    "geometry = GeometryCollection([shape(feature[\"geometry\"]).buffer(0) for feature in features])\n",
    "geometry"
   ]
  },
  {
   "cell_type": "code",
   "execution_count": 22,
   "metadata": {},
   "outputs": [
    {
     "data": {
      "image/svg+xml": [
       "<svg xmlns=\"http://www.w3.org/2000/svg\" xmlns:xlink=\"http://www.w3.org/1999/xlink\" width=\"300\" height=\"300\" viewBox=\"189476.17467069422 -245953.49314477734 5076.194781391416 7471.364690954913\" preserveAspectRatio=\"xMinYMin meet\"><g transform=\"matrix(1,0,0,-1,0,-484435.62159859977)\"><g><path fill-rule=\"evenodd\" fill=\"#66cc99\" stroke=\"#555555\" stroke-width=\"49.80909793969942\" opacity=\"0.6\" d=\"M 189765.7482067835,-245676.77593400123 L 189752.89188147034,-238767.05740281963 L 194262.98339427204,-238758.84566459854 L 194275.65224130952,-245668.32702526293 L 189765.7482067835,-245676.77593400123 z\" /></g></g></svg>"
      ],
      "text/plain": [
       "<shapely.geometry.collection.GeometryCollection at 0x7fddc685c748>"
      ]
     },
     "execution_count": 22,
     "metadata": {},
     "output_type": "execute_result"
    }
   ],
   "source": [
    "tfm = partial(pyproj.transform, \n",
    "              pyproj.Proj(init=\"epsg:4326\"), \n",
    "              pyproj.Proj(init=\"epsg:32636\"))\n",
    "reprojected = shapely.ops.transform(tfm, geometry)\n",
    "\n",
    "reprojected"
   ]
  },
  {
   "cell_type": "code",
   "execution_count": 23,
   "metadata": {},
   "outputs": [],
   "source": [
    "# dir(reprojected)"
   ]
  },
  {
   "cell_type": "code",
   "execution_count": 24,
   "metadata": {},
   "outputs": [],
   "source": [
    "wkt = reprojected.to_wkt()"
   ]
  },
  {
   "cell_type": "code",
   "execution_count": 25,
   "metadata": {},
   "outputs": [
    {
     "data": {
      "text/plain": [
       "'GEOMETRYCOLLECTION (POLYGON ((189765.7482067834935151 -245676.7759340012271423, 189752.8918814703356475 -238767.0574028196278960, 194262.9833942720433697 -238758.8456645985424984, 194275.6522413095226511 -245668.3270252629299648, 189765.7482067834935151 -245676.7759340012271423)))'"
      ]
     },
     "execution_count": 25,
     "metadata": {},
     "output_type": "execute_result"
    }
   ],
   "source": [
    "wkt"
   ]
  },
  {
   "cell_type": "code",
   "execution_count": null,
   "metadata": {},
   "outputs": [],
   "source": []
  },
  {
   "cell_type": "code",
   "execution_count": 26,
   "metadata": {},
   "outputs": [],
   "source": [
    "# dir(reprojected.centroid)"
   ]
  },
  {
   "cell_type": "code",
   "execution_count": 27,
   "metadata": {},
   "outputs": [],
   "source": [
    "# dir(reprojected.centroid.coords)"
   ]
  },
  {
   "cell_type": "code",
   "execution_count": 28,
   "metadata": {},
   "outputs": [],
   "source": [
    "# dir(reprojected.centroid.coords.xy)"
   ]
  },
  {
   "cell_type": "code",
   "execution_count": 29,
   "metadata": {},
   "outputs": [
    {
     "data": {
      "text/plain": [
       "array('d', [192014.30596766845])"
      ]
     },
     "execution_count": 29,
     "metadata": {},
     "output_type": "execute_result"
    }
   ],
   "source": [
    "x = reprojected.centroid.coords.xy[0]\n",
    "x"
   ]
  },
  {
   "cell_type": "code",
   "execution_count": 30,
   "metadata": {},
   "outputs": [
    {
     "data": {
      "text/plain": [
       "192014.30596766845"
      ]
     },
     "execution_count": 30,
     "metadata": {},
     "output_type": "execute_result"
    }
   ],
   "source": [
    "x[0]"
   ]
  },
  {
   "cell_type": "code",
   "execution_count": 31,
   "metadata": {},
   "outputs": [
    {
     "data": {
      "image/svg+xml": [
       "<svg xmlns=\"http://www.w3.org/2000/svg\" xmlns:xlink=\"http://www.w3.org/1999/xlink\" width=\"100.0\" height=\"100.0\" viewBox=\"-119.35678710937499 36.81401528637901 0.10975341796874716 0.10920576650917724\" preserveAspectRatio=\"xMinYMin meet\"><g transform=\"matrix(1,0,0,-1,0,73.7372363392672)\"><g><path fill-rule=\"evenodd\" fill=\"#66cc99\" stroke=\"#555555\" stroke-width=\"0.002195068359374943\" opacity=\"0.6\" d=\"M -119.35272216796874,36.81808022778526 L -119.35272216796874,36.91915611148194 L -119.2510986328125,36.91915611148194 L -119.2510986328125,36.81808022778526 L -119.35272216796874,36.81808022778526 z\" /></g></g></svg>"
      ],
      "text/plain": [
       "<shapely.geometry.collection.GeometryCollection at 0x7fddc6843860>"
      ]
     },
     "execution_count": 31,
     "metadata": {},
     "output_type": "execute_result"
    }
   ],
   "source": [
    "with open(my_aoi) as f:\n",
    "  features = json.load(f)[\"features\"]\n",
    "\n",
    "# NOTE: buffer(0) is a trick for fixing scenarios where polygons have overlapping coordinates \n",
    "geometry = GeometryCollection([shape(feature[\"geometry\"]).buffer(0) for feature in features])\n",
    "geometry"
   ]
  },
  {
   "cell_type": "code",
   "execution_count": 32,
   "metadata": {},
   "outputs": [],
   "source": [
    "my_plot_center = (geometry.centroid.xy[0][0], geometry.centroid.xy[1][0])"
   ]
  },
  {
   "cell_type": "code",
   "execution_count": 33,
   "metadata": {},
   "outputs": [
    {
     "data": {
      "text/plain": [
       "(-119.30191040039062, 36.8686181696336)"
      ]
     },
     "execution_count": 33,
     "metadata": {},
     "output_type": "execute_result"
    }
   ],
   "source": [
    "my_plot_center"
   ]
  },
  {
   "cell_type": "code",
   "execution_count": 34,
   "metadata": {},
   "outputs": [],
   "source": [
    "lat,lon = (36.81808022778526, -119.35272216796874)\n"
   ]
  },
  {
   "cell_type": "code",
   "execution_count": 36,
   "metadata": {},
   "outputs": [
    {
     "data": {
      "text/plain": [
       "36.81808022778526"
      ]
     },
     "execution_count": 36,
     "metadata": {},
     "output_type": "execute_result"
    }
   ],
   "source": [
    "lat"
   ]
  },
  {
   "cell_type": "code",
   "execution_count": 37,
   "metadata": {},
   "outputs": [
    {
     "data": {
      "text/plain": [
       "-119.35272216796874"
      ]
     },
     "execution_count": 37,
     "metadata": {},
     "output_type": "execute_result"
    }
   ],
   "source": [
    "lon"
   ]
  },
  {
   "cell_type": "code",
   "execution_count": 41,
   "metadata": {},
   "outputs": [
    {
     "data": {
      "text/plain": [
       "(-2043090.4520859097, 1782670.5520639066)"
      ]
     },
     "execution_count": 41,
     "metadata": {},
     "output_type": "execute_result"
    }
   ],
   "source": [
    "# http://all-geo.org/volcan01010/2012/11/change-coordinates-with-pyproj/\n",
    "import pyproj\n",
    "\n",
    "p5072 = pyproj.Proj(\"+init=EPSG:5072\")\n",
    "\n",
    "y,x = p5072(lon,lat)\n",
    "\n",
    "y,x"
   ]
  },
  {
   "cell_type": "code",
   "execution_count": 44,
   "metadata": {},
   "outputs": [
    {
     "data": {
      "text/plain": [
       "(1e+30, 1e+30)"
      ]
     },
     "execution_count": 44,
     "metadata": {},
     "output_type": "execute_result"
    }
   ],
   "source": [
    "# NOPE\n",
    "# x,y = p5072(lat,lon)\n",
    "\n",
    "# x,y"
   ]
  },
  {
   "cell_type": "code",
   "execution_count": 39,
   "metadata": {},
   "outputs": [],
   "source": [
    "redfile = 's3://lsaa-staging-cog/L08/2014/042/034/LC08_L2SP_042034_20140131_20171310_01_A1/LC08_L2SP_042034_20140131_20171310_01_A1_sr_band4.TIF'\n"
   ]
  },
  {
   "cell_type": "code",
   "execution_count": null,
   "metadata": {},
   "outputs": [],
   "source": []
  }
 ],
 "metadata": {
  "kernelspec": {
   "display_name": "Python 3",
   "language": "python",
   "name": "python3"
  },
  "language_info": {
   "codemirror_mode": {
    "name": "ipython",
    "version": 3
   },
   "file_extension": ".py",
   "mimetype": "text/x-python",
   "name": "python",
   "nbconvert_exporter": "python",
   "pygments_lexer": "ipython3",
   "version": "3.6.7"
  }
 },
 "nbformat": 4,
 "nbformat_minor": 2
}
