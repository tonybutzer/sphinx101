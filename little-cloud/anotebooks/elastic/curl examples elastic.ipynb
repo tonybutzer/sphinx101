{
 "cells": [
  {
   "cell_type": "markdown",
   "metadata": {},
   "source": [
    "# Curl Examples"
   ]
  },
  {
   "cell_type": "markdown",
   "metadata": {},
   "source": [
    "# get schema mappings"
   ]
  },
  {
   "cell_type": "code",
   "execution_count": 1,
   "metadata": {},
   "outputs": [],
   "source": [
    "! echo '#! /bin/bash -x' > ./cl.sh;\\\n",
    "echo echo hello >> ./cl.sh;\\\n",
    "echo echo hi there >> ./cl.sh"
   ]
  },
  {
   "cell_type": "code",
   "execution_count": 2,
   "metadata": {},
   "outputs": [
    {
     "name": "stdout",
     "output_type": "stream",
     "text": [
      "+ echo hello\r\n",
      "hello\r\n",
      "+ echo hi there\r\n",
      "hi there\r\n"
     ]
    }
   ],
   "source": [
    "!chmod +x ./cl.sh\n",
    "! ./cl.sh hello"
   ]
  },
  {
   "cell_type": "code",
   "execution_count": 3,
   "metadata": {},
   "outputs": [],
   "source": [
    "! echo 'curl --header \"Content-Type: application/json\" -X$1 elastic:9200$2 | python -m json.tool' >>./cl.sh"
   ]
  },
  {
   "cell_type": "code",
   "execution_count": 4,
   "metadata": {},
   "outputs": [
    {
     "name": "stdout",
     "output_type": "stream",
     "text": [
      "+ echo hello\r\n",
      "hello\r\n",
      "+ echo hi there\r\n",
      "hi there\r\n",
      "+ curl --header 'Content-Type: application/json' -XGET elastic:9200/music/_mapping\r\n",
      "+ python -m json.tool\r\n",
      "  % Total    % Received % Xferd  Average Speed   Time    Time     Time  Current\r\n",
      "                                 Dload  Upload   Total   Spent    Left  Speed\r\n",
      "\r",
      "  0     0    0     0    0     0      0      0 --:--:-- --:--:-- --:--:--     0\r",
      "100  1051  100  1051    0     0  40585      0 --:--:-- --:--:-- --:--:-- 42040\r\n",
      "{\r\n",
      "    \"music\": {\r\n",
      "        \"mappings\": {\r\n",
      "            \"song\": {\r\n",
      "                \"properties\": {\r\n",
      "                    \"album\": {\r\n",
      "                        \"fields\": {\r\n",
      "                            \"keyword\": {\r\n",
      "                                \"ignore_above\": 256,\r\n",
      "                                \"type\": \"keyword\"\r\n",
      "                            }\r\n",
      "                        },\r\n",
      "                        \"type\": \"text\"\r\n",
      "                    },\r\n",
      "                    \"artist\": {\r\n",
      "                        \"fields\": {\r\n",
      "                            \"keyword\": {\r\n",
      "                                \"ignore_above\": 256,\r\n",
      "                                \"type\": \"keyword\"\r\n",
      "                            }\r\n",
      "                        },\r\n",
      "                        \"type\": \"text\"\r\n",
      "                    },\r\n",
      "                    \"band\": {\r\n",
      "                        \"fields\": {\r\n",
      "                            \"keyword\": {\r\n",
      "                                \"ignore_above\": 256,\r\n",
      "                                \"type\": \"keyword\"\r\n",
      "                            }\r\n",
      "                        },\r\n",
      "                        \"type\": \"text\"\r\n",
      "                    },\r\n",
      "                    \"composer\": {\r\n",
      "                        \"fields\": {\r\n",
      "                            \"keyword\": {\r\n",
      "                                \"ignore_above\": 256,\r\n",
      "                                \"type\": \"keyword\"\r\n",
      "                            }\r\n",
      "                        },\r\n",
      "                        \"type\": \"text\"\r\n",
      "                    },\r\n",
      "                    \"copyright\": {\r\n",
      "                        \"fields\": {\r\n",
      "                            \"keyword\": {\r\n",
      "                                \"ignore_above\": 256,\r\n",
      "                                \"type\": \"keyword\"\r\n",
      "                            }\r\n",
      "                        },\r\n",
      "                        \"type\": \"text\"\r\n",
      "                    },\r\n",
      "                    \"genre\": {\r\n",
      "                        \"fields\": {\r\n",
      "                            \"keyword\": {\r\n",
      "                                \"ignore_above\": 256,\r\n",
      "                                \"type\": \"keyword\"\r\n",
      "                            }\r\n",
      "                        },\r\n",
      "                        \"type\": \"text\"\r\n",
      "                    },\r\n",
      "                    \"none\": {\r\n",
      "                        \"fields\": {\r\n",
      "                            \"keyword\": {\r\n",
      "                                \"ignore_above\": 256,\r\n",
      "                                \"type\": \"keyword\"\r\n",
      "                            }\r\n",
      "                        },\r\n",
      "                        \"type\": \"text\"\r\n",
      "                    },\r\n",
      "                    \"path\": {\r\n",
      "                        \"fields\": {\r\n",
      "                            \"keyword\": {\r\n",
      "                                \"ignore_above\": 256,\r\n",
      "                                \"type\": \"keyword\"\r\n",
      "                            }\r\n",
      "                        },\r\n",
      "                        \"type\": \"text\"\r\n",
      "                    },\r\n",
      "                    \"publisher\": {\r\n",
      "                        \"fields\": {\r\n",
      "                            \"keyword\": {\r\n",
      "                                \"ignore_above\": 256,\r\n",
      "                                \"type\": \"keyword\"\r\n",
      "                            }\r\n",
      "                        },\r\n",
      "                        \"type\": \"text\"\r\n",
      "                    },\r\n",
      "                    \"song\": {\r\n",
      "                        \"fields\": {\r\n",
      "                            \"keyword\": {\r\n",
      "                                \"ignore_above\": 256,\r\n",
      "                                \"type\": \"keyword\"\r\n",
      "                            }\r\n",
      "                        },\r\n",
      "                        \"type\": \"text\"\r\n",
      "                    },\r\n",
      "                    \"track\": {\r\n",
      "                        \"fields\": {\r\n",
      "                            \"keyword\": {\r\n",
      "                                \"ignore_above\": 256,\r\n",
      "                                \"type\": \"keyword\"\r\n",
      "                            }\r\n",
      "                        },\r\n",
      "                        \"type\": \"text\"\r\n",
      "                    },\r\n",
      "                    \"year\": {\r\n",
      "                        \"fields\": {\r\n",
      "                            \"keyword\": {\r\n",
      "                                \"ignore_above\": 256,\r\n",
      "                                \"type\": \"keyword\"\r\n",
      "                            }\r\n",
      "                        },\r\n",
      "                        \"type\": \"text\"\r\n",
      "                    }\r\n",
      "                }\r\n",
      "            }\r\n",
      "        }\r\n",
      "    }\r\n",
      "}\r\n"
     ]
    }
   ],
   "source": [
    "!./cl.sh GET /music/_mapping"
   ]
  },
  {
   "cell_type": "code",
   "execution_count": 5,
   "metadata": {},
   "outputs": [
    {
     "name": "stdout",
     "output_type": "stream",
     "text": [
      "+ echo hello\r\n",
      "hello\r\n",
      "+ echo hi there\r\n",
      "hi there\r\n",
      "+ curl --header 'Content-Type: application/json' -XGET elastic:9200/music/_settings\r\n",
      "+ python -m json.tool\r\n",
      "  % Total    % Received % Xferd  Average Speed   Time    Time     Time  Current\r\n",
      "                                 Dload  Upload   Total   Spent    Left  Speed\r\n",
      "\r",
      "  0     0    0     0    0     0      0      0 --:--:-- --:--:-- --:--:--     0\r",
      "100   202  100   202    0     0   7023      0 --:--:-- --:--:-- --:--:--  7214\r\n",
      "{\r\n",
      "    \"music\": {\r\n",
      "        \"settings\": {\r\n",
      "            \"index\": {\r\n",
      "                \"creation_date\": \"1545672779248\",\r\n",
      "                \"number_of_replicas\": \"1\",\r\n",
      "                \"number_of_shards\": \"5\",\r\n",
      "                \"provided_name\": \"music\",\r\n",
      "                \"uuid\": \"cVysETwXQZawkhfYHcBV1w\",\r\n",
      "                \"version\": {\r\n",
      "                    \"created\": \"6050499\"\r\n",
      "                }\r\n",
      "            }\r\n",
      "        }\r\n",
      "    }\r\n",
      "}\r\n"
     ]
    }
   ],
   "source": [
    "!./cl.sh GET /music/_settings"
   ]
  },
  {
   "cell_type": "code",
   "execution_count": null,
   "metadata": {},
   "outputs": [],
   "source": []
  },
  {
   "cell_type": "markdown",
   "metadata": {},
   "source": [
    "# Get all indices from elastic"
   ]
  },
  {
   "cell_type": "code",
   "execution_count": 6,
   "metadata": {},
   "outputs": [
    {
     "name": "stdout",
     "output_type": "stream",
     "text": [
      "+ echo hello\n",
      "hello\n",
      "+ echo hi there\n",
      "hi there\n",
      "+ python -m json.tool\n",
      "+ curl --header 'Content-Type: application/json' -XGET 'elastic:9200/_cat/indices?v'\n",
      "  % Total    % Received % Xferd  Average Speed   Time    Time     Time  Current\n",
      "                                 Dload  Upload   Total   Spent    Left  Speed\n",
      "100   540  100   540    0     0   9646      0 --:--:-- --:--:-- --:--:--  9818\n",
      "No JSON object could be decoded\n"
     ]
    }
   ],
   "source": [
    "!./cl.sh GET '/_cat/indices?v'"
   ]
  },
  {
   "cell_type": "code",
   "execution_count": 8,
   "metadata": {},
   "outputs": [
    {
     "name": "stdout",
     "output_type": "stream",
     "text": [
      "health status index        uuid                   pri rep docs.count docs.deleted store.size pri.store.size\r\n",
      "green  open   .kibana_1    zrEa-AoiRQWxuiHQOIAFZw   1   0         14            3     70.1kb         70.1kb\r\n",
      "yellow open   music        cVysETwXQZawkhfYHcBV1w   5   1       2000            0        1mb            1mb\r\n",
      "yellow open   elastic:9200 ZK3WAA42Rp-DH35jhh13zQ   5   1          1            0      9.2kb          9.2kb\r\n",
      "yellow open   mymusic      AYIZ5xWvRxSWvK8kVLH9KA   5   1          1            0      9.3kb          9.3kb\r\n"
     ]
    }
   ],
   "source": [
    "!curl --header 'Content-Type: application/json' -XGET 'elastic:9200/_cat/indices?v'"
   ]
  },
  {
   "cell_type": "code",
   "execution_count": 9,
   "metadata": {},
   "outputs": [
    {
     "name": "stdout",
     "output_type": "stream",
     "text": [
      "+ echo hello\n",
      "hello\n",
      "+ echo hi there\n",
      "hi there\n",
      "+ curl --header 'Content-Type: application/json' -XDELETE elastic:9200/elastic:9200\n",
      "+ python -m json.tool\n",
      "  % Total    % Received % Xferd  Average Speed   Time    Time     Time  Current\n",
      "                                 Dload  Upload   Total   Spent    Left  Speed\n",
      "100    21  100    21    0     0     23      0 --:--:-- --:--:-- --:--:--    23\n",
      "{\n",
      "    \"acknowledged\": true\n",
      "}\n"
     ]
    }
   ],
   "source": [
    "!./cl.sh DELETE /elastic:9200"
   ]
  },
  {
   "cell_type": "code",
   "execution_count": 10,
   "metadata": {},
   "outputs": [
    {
     "name": "stdout",
     "output_type": "stream",
     "text": [
      "health status index     uuid                   pri rep docs.count docs.deleted store.size pri.store.size\r\n",
      "green  open   .kibana_1 zrEa-AoiRQWxuiHQOIAFZw   1   0         14            3     70.1kb         70.1kb\r\n",
      "yellow open   mymusic   AYIZ5xWvRxSWvK8kVLH9KA   5   1          1            0      9.3kb          9.3kb\r\n",
      "yellow open   music     cVysETwXQZawkhfYHcBV1w   5   1       2000            0        1mb            1mb\r\n"
     ]
    }
   ],
   "source": [
    "!curl --header 'Content-Type: application/json' -XGET 'elastic:9200/_cat/indices?v'"
   ]
  },
  {
   "cell_type": "code",
   "execution_count": 12,
   "metadata": {},
   "outputs": [
    {
     "name": "stdout",
     "output_type": "stream",
     "text": [
      "{\n",
      "    \"_shards\": {\n",
      "        \"failed\": 0,\n",
      "        \"skipped\": 0,\n",
      "        \"successful\": 1,\n",
      "        \"total\": 1\n",
      "    },\n",
      "    \"aggregations\": {\n",
      "        \"distinct_years\": {\n",
      "            \"value\": 17\n",
      "        }\n",
      "    },\n",
      "    \"hits\": {\n",
      "        \"hits\": [],\n",
      "        \"max_score\": 0.0,\n",
      "        \"total\": 240\n",
      "    },\n",
      "    \"timed_out\": false,\n",
      "    \"took\": 6\n",
      "}\n"
     ]
    },
    {
     "name": "stderr",
     "output_type": "stream",
     "text": [
      "  % Total    % Received % Xferd  Average Speed   Time    Time     Time  Current\n",
      "                                 Dload  Upload   Total   Spent    Left  Speed\n",
      "\r",
      "  0     0    0     0    0     0      0      0 --:--:-- --:--:-- --:--:--     0\r",
      "  0     0    0     0    0     0      0      0 --:--:-- --:--:-- --:--:--     0\r",
      "100   306  100   182  100   124   3920   2671 --:--:-- --:--:-- --:--:--  3872\n"
     ]
    }
   ],
   "source": [
    "%%bash\n",
    "curl --header 'Content-Type: application/json' -XGET elastic:9200/prune/_search -d'\n",
    "\n",
    "{\n",
    "  \"size\" : 0,\n",
    "  \"aggs\":{\n",
    "    \"distinct_years\" : {\n",
    "      \"cardinality\" : {\n",
    "        \"field\" : \"year\"\n",
    "      }\n",
    "    }\n",
    "  }\n",
    "}\n",
    "\n",
    "' | python -m json.tool"
   ]
  },
  {
   "cell_type": "code",
   "execution_count": 19,
   "metadata": {},
   "outputs": [
    {
     "name": "stdout",
     "output_type": "stream",
     "text": [
      "{\n",
      "    \"_shards\": {\n",
      "        \"failed\": 0,\n",
      "        \"skipped\": 0,\n",
      "        \"successful\": 1,\n",
      "        \"total\": 1\n",
      "    },\n",
      "    \"count\": 240\n",
      "}\n"
     ]
    },
    {
     "name": "stderr",
     "output_type": "stream",
     "text": [
      "  % Total    % Received % Xferd  Average Speed   Time    Time     Time  Current\n",
      "                                 Dload  Upload   Total   Spent    Left  Speed\n",
      "\r",
      "  0     0    0     0    0     0      0      0 --:--:-- --:--:-- --:--:--     0\r",
      "100    77  100    73  100     4   2929    160 --:--:-- --:--:-- --:--:--  3041\n"
     ]
    }
   ],
   "source": [
    "%%bash\n",
    "curl --header 'Content-Type: application/json' -XGET elastic:9200/prune/_count -d'\n",
    "\n",
    "\n",
    "\n",
    "' | python -m json.tool"
   ]
  },
  {
   "cell_type": "code",
   "execution_count": 20,
   "metadata": {},
   "outputs": [
    {
     "name": "stdout",
     "output_type": "stream",
     "text": [
      "{\n",
      "    \"error\": {\n",
      "        \"caused_by\": {\n",
      "            \"caused_by\": {\n",
      "                \"reason\": \"Fielddata is disabled on text fields by default. Set fielddata=true on [song] in order to load fielddata in memory by uninverting the inverted index. Note that this can however use significant memory. Alternatively use a keyword field instead.\",\n",
      "                \"type\": \"illegal_argument_exception\"\n",
      "            },\n",
      "            \"reason\": \"Fielddata is disabled on text fields by default. Set fielddata=true on [song] in order to load fielddata in memory by uninverting the inverted index. Note that this can however use significant memory. Alternatively use a keyword field instead.\",\n",
      "            \"type\": \"illegal_argument_exception\"\n",
      "        },\n",
      "        \"failed_shards\": [\n",
      "            {\n",
      "                \"index\": \"prune\",\n",
      "                \"node\": \"JF2D7CkTRHuBucYkTiCwGw\",\n",
      "                \"reason\": {\n",
      "                    \"reason\": \"Fielddata is disabled on text fields by default. Set fielddata=true on [song] in order to load fielddata in memory by uninverting the inverted index. Note that this can however use significant memory. Alternatively use a keyword field instead.\",\n",
      "                    \"type\": \"illegal_argument_exception\"\n",
      "                },\n",
      "                \"shard\": 0\n",
      "            }\n",
      "        ],\n",
      "        \"grouped\": true,\n",
      "        \"phase\": \"query\",\n",
      "        \"reason\": \"all shards failed\",\n",
      "        \"root_cause\": [\n",
      "            {\n",
      "                \"reason\": \"Fielddata is disabled on text fields by default. Set fielddata=true on [song] in order to load fielddata in memory by uninverting the inverted index. Note that this can however use significant memory. Alternatively use a keyword field instead.\",\n",
      "                \"type\": \"illegal_argument_exception\"\n",
      "            }\n",
      "        ],\n",
      "        \"type\": \"search_phase_execution_exception\"\n",
      "    },\n",
      "    \"status\": 400\n",
      "}\n"
     ]
    },
    {
     "name": "stderr",
     "output_type": "stream",
     "text": [
      "  % Total    % Received % Xferd  Average Speed   Time    Time     Time  Current\n",
      "                                 Dload  Upload   Total   Spent    Left  Speed\n",
      "\r",
      "  0     0    0     0    0     0      0      0 --:--:-- --:--:-- --:--:--     0\r",
      "100  1548  100  1424  100   124  25349   2207 --:--:-- --:--:-- --:--:-- 25428\n"
     ]
    }
   ],
   "source": [
    "%%bash\n",
    "curl --header 'Content-Type: application/json' -XGET elastic:9200/prune/_search -d'\n",
    "\n",
    "{\n",
    "  \"size\" : 0,\n",
    "  \"aggs\":{\n",
    "    \"distinct_songs\" : {\n",
    "      \"cardinality\" : {\n",
    "        \"field\" : \"song\"\n",
    "      }\n",
    "    }\n",
    "  }\n",
    "}\n",
    "\n",
    "' | python -m json.tool"
   ]
  },
  {
   "cell_type": "code",
   "execution_count": 27,
   "metadata": {},
   "outputs": [
    {
     "name": "stdout",
     "output_type": "stream",
     "text": [
      "{\n",
      "    \"error\": {\n",
      "        \"caused_by\": {\n",
      "            \"caused_by\": {\n",
      "                \"reason\": \"Fielddata is disabled on text fields by default. Set fielddata=true on [genre] in order to load fielddata in memory by uninverting the inverted index. Note that this can however use significant memory. Alternatively use a keyword field instead.\",\n",
      "                \"type\": \"illegal_argument_exception\"\n",
      "            },\n",
      "            \"reason\": \"Fielddata is disabled on text fields by default. Set fielddata=true on [genre] in order to load fielddata in memory by uninverting the inverted index. Note that this can however use significant memory. Alternatively use a keyword field instead.\",\n",
      "            \"type\": \"illegal_argument_exception\"\n",
      "        },\n",
      "        \"failed_shards\": [\n",
      "            {\n",
      "                \"index\": \"music\",\n",
      "                \"node\": \"JF2D7CkTRHuBucYkTiCwGw\",\n",
      "                \"reason\": {\n",
      "                    \"reason\": \"Fielddata is disabled on text fields by default. Set fielddata=true on [genre] in order to load fielddata in memory by uninverting the inverted index. Note that this can however use significant memory. Alternatively use a keyword field instead.\",\n",
      "                    \"type\": \"illegal_argument_exception\"\n",
      "                },\n",
      "                \"shard\": 0\n",
      "            }\n",
      "        ],\n",
      "        \"grouped\": true,\n",
      "        \"phase\": \"query\",\n",
      "        \"reason\": \"all shards failed\",\n",
      "        \"root_cause\": [\n",
      "            {\n",
      "                \"reason\": \"Fielddata is disabled on text fields by default. Set fielddata=true on [genre] in order to load fielddata in memory by uninverting the inverted index. Note that this can however use significant memory. Alternatively use a keyword field instead.\",\n",
      "                \"type\": \"illegal_argument_exception\"\n",
      "            }\n",
      "        ],\n",
      "        \"type\": \"search_phase_execution_exception\"\n",
      "    },\n",
      "    \"status\": 400\n",
      "}\n"
     ]
    },
    {
     "name": "stderr",
     "output_type": "stream",
     "text": [
      "  % Total    % Received % Xferd  Average Speed   Time    Time     Time  Current\n",
      "                                 Dload  Upload   Total   Spent    Left  Speed\n",
      "\r",
      "  0     0    0     0    0     0      0      0 --:--:-- --:--:-- --:--:--     0\r",
      "100  1531  100  1428  100   103  17581   1268 --:--:-- --:--:-- --:--:-- 17629\n"
     ]
    }
   ],
   "source": [
    "%%bash\n",
    "curl --header 'Content-Type: application/json' -XGET elastic:9200/music/_search -d'\n",
    "\n",
    "{\n",
    "    \"aggs\" : {\n",
    "        \"genres\" : {\n",
    "            \"terms\" : { \"field\" : \"genre\" }\n",
    "        }\n",
    "    }\n",
    "}\n",
    "\n",
    "' | python -m json.tool"
   ]
  },
  {
   "cell_type": "code",
   "execution_count": 28,
   "metadata": {},
   "outputs": [
    {
     "name": "stdout",
     "output_type": "stream",
     "text": [
      "{\n",
      "    \"_shards\": {\n",
      "        \"failed\": 0,\n",
      "        \"skipped\": 0,\n",
      "        \"successful\": 1,\n",
      "        \"total\": 1\n",
      "    },\n",
      "    \"aggregations\": {\n",
      "        \"my_years\": {\n",
      "            \"buckets\": [\n",
      "                {\n",
      "                    \"doc_count\": 30,\n",
      "                    \"key\": 820454400000,\n",
      "                    \"key_as_string\": \"1996-01-01\"\n",
      "                },\n",
      "                {\n",
      "                    \"doc_count\": 25,\n",
      "                    \"key\": -2208988800000,\n",
      "                    \"key_as_string\": \"1900-01-01\"\n",
      "                },\n",
      "                {\n",
      "                    \"doc_count\": 24,\n",
      "                    \"key\": 915148800000,\n",
      "                    \"key_as_string\": \"1999-01-01\"\n",
      "                },\n",
      "                {\n",
      "                    \"doc_count\": 18,\n",
      "                    \"key\": 1136073600000,\n",
      "                    \"key_as_string\": \"2006-01-01\"\n",
      "                },\n",
      "                {\n",
      "                    \"doc_count\": 16,\n",
      "                    \"key\": 575769600000,\n",
      "                    \"key_as_string\": \"1988-03-31\"\n",
      "                },\n",
      "                {\n",
      "                    \"doc_count\": 14,\n",
      "                    \"key\": 917308800000,\n",
      "                    \"key_as_string\": \"1999-01-26\"\n",
      "                },\n",
      "                {\n",
      "                    \"doc_count\": 14,\n",
      "                    \"key\": 946684800000,\n",
      "                    \"key_as_string\": \"2000-01-01\"\n",
      "                },\n",
      "                {\n",
      "                    \"doc_count\": 12,\n",
      "                    \"key\": 750902400000,\n",
      "                    \"key_as_string\": \"1993-10-18\"\n",
      "                },\n",
      "                {\n",
      "                    \"doc_count\": 12,\n",
      "                    \"key\": 753840000000,\n",
      "                    \"key_as_string\": \"1993-11-21\"\n",
      "                },\n",
      "                {\n",
      "                    \"doc_count\": 12,\n",
      "                    \"key\": 763689600000,\n",
      "                    \"key_as_string\": \"1994-03-15\"\n",
      "                }\n",
      "            ],\n",
      "            \"doc_count_error_upper_bound\": 0,\n",
      "            \"sum_other_doc_count\": 63\n",
      "        }\n",
      "    },\n",
      "    \"hits\": {\n",
      "        \"hits\": [\n",
      "            {\n",
      "                \"_id\": \"1YXs62cBYbkZq2I2Urh0\",\n",
      "                \"_index\": \"prune\",\n",
      "                \"_score\": 1.0,\n",
      "                \"_source\": {\n",
      "                    \"song\": \"Passage\",\n",
      "                    \"year\": \"1981\"\n",
      "                },\n",
      "                \"_type\": \"members\"\n",
      "            },\n",
      "            {\n",
      "                \"_id\": \"1oXs62cBYbkZq2I2Uria\",\n",
      "                \"_index\": \"prune\",\n",
      "                \"_score\": 1.0,\n",
      "                \"_source\": {\n",
      "                    \"song\": \"The Impending Death of the Vir\",\n",
      "                    \"year\": \"1981\"\n",
      "                },\n",
      "                \"_type\": \"members\"\n",
      "            },\n",
      "            {\n",
      "                \"_id\": \"14Xs62cBYbkZq2I2Uri8\",\n",
      "                \"_index\": \"prune\",\n",
      "                \"_score\": 1.0,\n",
      "                \"_source\": {\n",
      "                    \"song\": \"Pacific\",\n",
      "                    \"year\": \"1981\"\n",
      "                },\n",
      "                \"_type\": \"members\"\n",
      "            },\n",
      "            {\n",
      "                \"_id\": \"2IXs62cBYbkZq2I2Urjc\",\n",
      "                \"_index\": \"prune\",\n",
      "                \"_score\": 1.0,\n",
      "                \"_source\": {\n",
      "                    \"song\": \"Remedios\",\n",
      "                    \"year\": \"1981\"\n",
      "                },\n",
      "                \"_type\": \"members\"\n",
      "            },\n",
      "            {\n",
      "                \"_id\": \"2YXs62cBYbkZq2I2Urj0\",\n",
      "                \"_index\": \"prune\",\n",
      "                \"_score\": 1.0,\n",
      "                \"_source\": {\n",
      "                    \"song\": \"Hawk Circle\",\n",
      "                    \"year\": \"1981\"\n",
      "                },\n",
      "                \"_type\": \"members\"\n",
      "            },\n",
      "            {\n",
      "                \"_id\": \"2oXs62cBYbkZq2I2U7gP\",\n",
      "                \"_index\": \"prune\",\n",
      "                \"_score\": 1.0,\n",
      "                \"_source\": {\n",
      "                    \"song\": \"Anne's Song\",\n",
      "                    \"year\": \"1981\"\n",
      "                },\n",
      "                \"_type\": \"members\"\n",
      "            },\n",
      "            {\n",
      "                \"_id\": \"24Xs62cBYbkZq2I2U7gl\",\n",
      "                \"_index\": \"prune\",\n",
      "                \"_score\": 1.0,\n",
      "                \"_source\": {\n",
      "                    \"song\": \"Processional\",\n",
      "                    \"year\": \"1981\"\n",
      "                },\n",
      "                \"_type\": \"members\"\n",
      "            },\n",
      "            {\n",
      "                \"_id\": \"3IXs62cBYbkZq2I2U7hC\",\n",
      "                \"_index\": \"prune\",\n",
      "                \"_score\": 1.0,\n",
      "                \"_source\": {\n",
      "                    \"song\": \"The Bricklayer's Beautiful Dau\",\n",
      "                    \"year\": \"1981\"\n",
      "                },\n",
      "                \"_type\": \"members\"\n",
      "            },\n",
      "            {\n",
      "                \"_id\": \"3YXs62cBYbkZq2I2U7hX\",\n",
      "                \"_index\": \"prune\",\n",
      "                \"_score\": 1.0,\n",
      "                \"_source\": {\n",
      "                    \"song\": \"Track 20\",\n",
      "                    \"year\": \"1900\"\n",
      "                },\n",
      "                \"_type\": \"members\"\n",
      "            },\n",
      "            {\n",
      "                \"_id\": \"3oXs62cBYbkZq2I2U7hv\",\n",
      "                \"_index\": \"prune\",\n",
      "                \"_score\": 1.0,\n",
      "                \"_source\": {\n",
      "                    \"song\": \"Track 8\",\n",
      "                    \"year\": \"1900\"\n",
      "                },\n",
      "                \"_type\": \"members\"\n",
      "            }\n",
      "        ],\n",
      "        \"max_score\": 1.0,\n",
      "        \"total\": 240\n",
      "    },\n",
      "    \"timed_out\": false,\n",
      "    \"took\": 7\n",
      "}\n"
     ]
    },
    {
     "name": "stderr",
     "output_type": "stream",
     "text": [
      "  % Total    % Received % Xferd  Average Speed   Time    Time     Time  Current\n",
      "                                 Dload  Upload   Total   Spent    Left  Speed\n",
      "\r",
      "  0     0    0     0    0     0      0      0 --:--:-- --:--:-- --:--:--     0\r",
      "100  2301  100  2197  100   104  60322   2855 --:--:-- --:--:-- --:--:-- 61027\n"
     ]
    }
   ],
   "source": [
    "%%bash\n",
    "curl --header 'Content-Type: application/json' -XGET elastic:9200/prune/_search -d'\n",
    "\n",
    "{\n",
    "    \"aggs\" : {\n",
    "        \"my_years\" : {\n",
    "            \"terms\" : { \"field\" : \"year\" }\n",
    "        }\n",
    "    }\n",
    "}\n",
    "\n",
    "' | python -m json.tool"
   ]
  },
  {
   "cell_type": "code",
   "execution_count": null,
   "metadata": {},
   "outputs": [],
   "source": []
  }
 ],
 "metadata": {
  "kernelspec": {
   "display_name": "Python 3",
   "language": "python",
   "name": "python3"
  },
  "language_info": {
   "codemirror_mode": {
    "name": "ipython",
    "version": 3
   },
   "file_extension": ".py",
   "mimetype": "text/x-python",
   "name": "python",
   "nbconvert_exporter": "python",
   "pygments_lexer": "ipython3",
   "version": "3.6.7"
  }
 },
 "nbformat": 4,
 "nbformat_minor": 2
}
