{
 "cells": [
  {
   "cell_type": "code",
   "execution_count": 1,
   "metadata": {},
   "outputs": [
    {
     "name": "stdout",
     "output_type": "stream",
     "text": [
      "{\"year\": \"1983-05-08\\u0000\", \"artist\": \"The Who\\u0000\", \"publisher\": \"MCA Records\\u0000\", \"composer\": \"Pete Townshend\\u0000\", \"band\": \"The Who\\u0000\", \"path\": \"/mnt/nuc/music-best/beets/Rock/ClassicRock/The Who/Who's Greatest Hits/10 The Relay.mp3\", \"genre\": \"Rock/Pop\\u0000\", \"track\": \"10/13\\u0000\", \"album\": \"Who's Greatest Hits\\u0000\", \"song\": \"The Relay\"}\r\n",
      "{\"year\": \"1983-05-08\\u0000\", \"artist\": \"The Who\\u0000\", \"publisher\": \"MCA Records\\u0000\", \"band\": \"The Who\\u0000\", \"path\": \"/mnt/nuc/music-best/beets/Rock/ClassicRock/The Who/Who's Greatest Hits/01 Substitute.mp3\", \"genre\": \"Rock/Pop\\u0000\", \"track\": \"1/13\\u0000\", \"album\": \"Who's Greatest Hits\\u0000\", \"song\": \"Substitute\"}\r\n",
      "{\"year\": \"1983-05-08\\u0000\", \"artist\": \"The Who\\u0000\", \"publisher\": \"MCA Records\\u0000\", \"composer\": \"John Entwistle\\u0000\", \"band\": \"The Who\\u0000\", \"path\": \"/mnt/nuc/music-best/beets/Rock/ClassicRock/The Who/Who's Greatest Hits/08 My Wife.mp3\", \"genre\": \"Rock/Pop\\u0000\", \"track\": \"8/13\\u0000\", \"album\": \"Who's Greatest Hits\\u0000\", \"song\": \"My Wife\"}\r\n",
      "{\"year\": \"1983-05-08\\u0000\", \"artist\": \"The Who\\u0000\", \"publisher\": \"MCA Records\\u0000\", \"composer\": \"Pete Townshend\\u0000\", \"band\": \"The Who\\u0000\", \"path\": \"/mnt/nuc/music-best/beets/Rock/ClassicRock/The Who/Who's Greatest Hits/11 5_15.mp3\", \"genre\": \"Rock/Pop\\u0000\", \"track\": \"11/13\\u0000\", \"album\": \"Who's Greatest Hits\\u0000\", \"song\": \"5:15\"}\r\n",
      "{\"year\": \"1983-05-08\\u0000\", \"artist\": \"The Who\\u0000\", \"publisher\": \"MCA Records\\u0000\", \"composer\": \"John Entwistle/Pete Townshend\\u0000\", \"band\": \"The Who\\u0000\", \"path\": \"/mnt/nuc/music-best/beets/Rock/ClassicRock/The Who/Who's Greatest Hits/03 Magic Bus.mp3\", \"genre\": \"Rock/Pop\\u0000\", \"track\": \"3/13\\u0000\", \"album\": \"Who's Greatest Hits\\u0000\", \"song\": \"Magic Bus\"}\r\n",
      "{\"year\": \"1983-05-08\\u0000\", \"artist\": \"The Who\\u0000\", \"publisher\": \"MCA Records\\u0000\", \"composer\": \"Pete Townshend\\u0000\", \"band\": \"The Who\\u0000\", \"path\": \"/mnt/nuc/music-best/beets/Rock/ClassicRock/The Who/Who's Greatest Hits/04 My Generation.mp3\", \"genre\": \"Rock/Pop\\u0000\", \"track\": \"4/13\\u0000\", \"album\": \"Who's Greatest Hits\\u0000\", \"song\": \"My Generation\"}\r\n",
      "{\"year\": \"1983-05-08\\u0000\", \"artist\": \"The Who\\u0000\", \"publisher\": \"MCA Records\\u0000\", \"composer\": \"Pete Townshend\\u0000\", \"band\": \"The Who\\u0000\", \"path\": \"/mnt/nuc/music-best/beets/Rock/ClassicRock/The Who/Who's Greatest Hits/07 Won't Get Fooled Again.mp3\", \"genre\": \"Rock/Pop\\u0000\", \"track\": \"7/13\\u0000\", \"album\": \"Who's Greatest Hits\\u0000\", \"song\": \"Won't Get Fooled Again\"}\r\n",
      "{\"year\": \"1983-05-08\\u0000\", \"artist\": \"The Who\\u0000\", \"publisher\": \"MCA Records\\u0000\", \"composer\": \"Pete Townshend\\u0000\", \"band\": \"The Who\\u0000\", \"path\": \"/mnt/nuc/music-best/beets/Rock/ClassicRock/The Who/Who's Greatest Hits/02 The Seeker.mp3\", \"genre\": \"Rock/Pop\\u0000\", \"track\": \"2/13\\u0000\", \"album\": \"Who's Greatest Hits\\u0000\", \"song\": \"The Seeker\"}\r\n",
      "{\"year\": \"1983-05-08\\u0000\", \"artist\": \"The Who\\u0000\", \"publisher\": \"MCA Records\\u0000\", \"composer\": \"Pete Townshend\\u0000\", \"band\": \"The Who\\u0000\", \"path\": \"/mnt/nuc/music-best/beets/Rock/ClassicRock/The Who/Who's Greatest Hits/12 Love Reign O'er Me.mp3\", \"genre\": \"Rock/Pop\\u0000\", \"track\": \"12/13\\u0000\", \"album\": \"Who's Greatest Hits\\u0000\", \"song\": \"Love Reign O'er Me\"}\r\n",
      "{\"year\": \"1983-05-08\\u0000\", \"artist\": \"The Who\\u0000\", \"publisher\": \"MCA Records\\u0000\", \"composer\": \"Pete Townshend\\u0000\", \"band\": \"The Who\\u0000\", \"path\": \"/mnt/nuc/music-best/beets/Rock/ClassicRock/The Who/Who's Greatest Hits/09 Squeeze Box.mp3\", \"genre\": \"Rock/Pop\\u0000\", \"track\": \"9/13\\u0000\", \"album\": \"Who's Greatest Hits\\u0000\", \"song\": \"Squeeze Box\"}\r\n",
      "{\"year\": \"1983-05-08\\u0000\", \"artist\": \"The Who\\u0000\", \"publisher\": \"MCA Records\\u0000\", \"composer\": \"Pete Townshend\\u0000\", \"band\": \"The Who\\u0000\", \"path\": \"/mnt/nuc/music-best/beets/Rock/ClassicRock/The Who/Who's Greatest Hits/05 Pinball Wizard.mp3\", \"genre\": \"Rock/Pop\\u0000\", \"track\": \"5/13\\u0000\", \"album\": \"Who's Greatest Hits\\u0000\", \"song\": \"Pinball Wizard\"}\r\n",
      "{\"year\": \"1983-05-08\\u0000\", \"artist\": \"The Who\\u0000\", \"publisher\": \"MCA Records\\u0000\", \"composer\": \"Pete Townshend\\u0000\", \"band\": \"The Who\\u0000\", \"path\": \"/mnt/nuc/music-best/beets/Rock/ClassicRock/The Who/Who's Greatest Hits/06 Happy Jack.mp3\", \"genre\": \"Rock/Pop\\u0000\", \"track\": \"6/13\\u0000\", \"album\": \"Who's Greatest Hits\\u0000\", \"song\": \"Happy Jack\"}\r\n",
      "{\"year\": \"1983-05-08\\u0000\", \"artist\": \"The Who\\u0000\", \"publisher\": \"MCA Records\\u0000\", \"composer\": \"Pete Townshend\\u0000\", \"band\": \"The Who\\u0000\", \"path\": \"/mnt/nuc/music-best/beets/Rock/ClassicRock/The Who/Who's Greatest Hits/13 Who Are You.mp3\", \"genre\": \"Rock/Pop\\u0000\", \"track\": \"13/13\\u0000\", \"album\": \"Who's Greatest Hits\\u0000\", \"song\": \"Who Are You\"}\r\n"
     ]
    }
   ],
   "source": [
    "! grep 'The Who' music_bulk.json"
   ]
  },
  {
   "cell_type": "code",
   "execution_count": 2,
   "metadata": {},
   "outputs": [
    {
     "name": "stdout",
     "output_type": "stream",
     "text": [
      "01 Baby, It's Cold Outside.mp3\r\n",
      "02 Silver Bells.mp3\r\n",
      "03 Let It Snow! Let It Snow! Let It Snow!.mp3\r\n",
      "04 Rudolph, the Red-Nosed Reindeer.mp3\r\n",
      "05 The Christmas Blues.mp3\r\n",
      "06 Winter Wonderland (the Swingin' Yultide mix).mp3\r\n",
      "07 Silent Night.mp3\r\n",
      "08 A Marshmallow World.mp3\r\n",
      "09 I'll Be Home for Christmas.mp3\r\n",
      "10 Jingle Bells.mp3\r\n",
      "11 Blue Christmas.mp3\r\n",
      "12 I've Got My Love to Keep Me Warm.mp3\r\n",
      "13 White Christmas.mp3\r\n",
      "14 Peace on Earth _ Silent Night.mp3\r\n"
     ]
    }
   ],
   "source": [
    "! ls /mnt/nuc/music-best/beets/Christmas/Dean\\ Martin/'My Kind of Christmas'"
   ]
  },
  {
   "cell_type": "code",
   "execution_count": 3,
   "metadata": {},
   "outputs": [],
   "source": [
    "#path_to_mp3 = '/mnt/nuc/music-best/beets/Christmas/Dean Martin/My Kind of Christmas/02 Silver Bells.mp3'\n",
    "# path_to_mp3 = \"/mnt/nuc/music-best/beets/Rock/ClassicRock/Dr. Hook/Greatest Hits (And More)/12 Sexy Eyes.mp3\"\n",
    "path_to_mp3 = \"/mnt/nuc/music-best/beets/Rock/ClassicRock/The Who/Who's Greatest Hits/01 Substitute.mp3\""
   ]
  },
  {
   "cell_type": "code",
   "execution_count": 4,
   "metadata": {},
   "outputs": [],
   "source": [
    "from mp3_tagger import MP3File, VERSION_1, VERSION_2, VERSION_BOTH\n",
    "\n",
    "# Create MP3File instance.\n",
    "mp3 = MP3File(path_to_mp3)\n",
    "\n"
   ]
  },
  {
   "cell_type": "code",
   "execution_count": 5,
   "metadata": {},
   "outputs": [
    {
     "name": "stdout",
     "output_type": "stream",
     "text": [
      "{'ID3TagV2': {'genre': 'Rock/Pop\\x00', 'artist': 'The Who\\x00', 'track': '1/13\\x00', 'comment': 'engiTunNORM\\x00 000003E8 000003E8 000009C4 000009C4 00000000 00000000 00000000 00000000 00000000 00000000\\x00', 'publisher': 'MCA Records\\x00', 'song': 'Substitute', 'band': 'The Who\\x00', 'year': '1983-05-08\\x00', 'album': \"Who's Greatest Hits\\x00\"}, 'ID3TagV1': {'song': 'Substitute', 'genre': None, 'year': '1983', 'artist': 'The Who', 'track': 1, 'comment': None, 'album': \"Who's Greatest Hits\"}}\n"
     ]
    }
   ],
   "source": [
    "# Get all tags.\n",
    "tags = mp3.get_tags()\n",
    "print(tags)"
   ]
  },
  {
   "cell_type": "code",
   "execution_count": 6,
   "metadata": {},
   "outputs": [
    {
     "name": "stdout",
     "output_type": "stream",
     "text": [
      "{'genre': 'Rock/Pop\\x00', 'artist': 'The Who\\x00', 'track': '1/13\\x00', 'comment': 'engiTunNORM\\x00 000003E8 000003E8 000009C4 000009C4 00000000 00000000 00000000 00000000 00000000 00000000\\x00', 'publisher': 'MCA Records\\x00', 'song': 'Substitute', 'band': 'The Who\\x00', 'year': '1983-05-08\\x00', 'album': \"Who's Greatest Hits\\x00\"}\n"
     ]
    }
   ],
   "source": [
    "print(tags['ID3TagV2'])"
   ]
  },
  {
   "cell_type": "code",
   "execution_count": 7,
   "metadata": {},
   "outputs": [],
   "source": [
    "import pprint"
   ]
  },
  {
   "cell_type": "code",
   "execution_count": 8,
   "metadata": {},
   "outputs": [
    {
     "name": "stdout",
     "output_type": "stream",
     "text": [
      "{   'album': \"Who's Greatest Hits\\x00\",\n",
      "    'artist': 'The Who\\x00',\n",
      "    'band': 'The Who\\x00',\n",
      "    'comment': 'engiTunNORM\\x00 000003E8 000003E8 000009C4 000009C4 00000000 '\n",
      "               '00000000 00000000 00000000 00000000 00000000\\x00',\n",
      "    'genre': 'Rock/Pop\\x00',\n",
      "    'publisher': 'MCA Records\\x00',\n",
      "    'song': 'Substitute',\n",
      "    'track': '1/13\\x00',\n",
      "    'year': '1983-05-08\\x00'}\n"
     ]
    }
   ],
   "source": [
    "pp = pprint.PrettyPrinter(indent=4)\n",
    "\n",
    "pp.pprint(tags['ID3TagV2'])"
   ]
  },
  {
   "cell_type": "code",
   "execution_count": 9,
   "metadata": {},
   "outputs": [],
   "source": [
    "del tags['ID3TagV2']['comment']"
   ]
  },
  {
   "cell_type": "code",
   "execution_count": 10,
   "metadata": {},
   "outputs": [
    {
     "name": "stdout",
     "output_type": "stream",
     "text": [
      "{   'album': \"Who's Greatest Hits\\x00\",\n",
      "    'artist': 'The Who\\x00',\n",
      "    'band': 'The Who\\x00',\n",
      "    'genre': 'Rock/Pop\\x00',\n",
      "    'publisher': 'MCA Records\\x00',\n",
      "    'song': 'Substitute',\n",
      "    'track': '1/13\\x00',\n",
      "    'year': '1983-05-08\\x00'}\n"
     ]
    }
   ],
   "source": [
    "pp.pprint(tags['ID3TagV2'])"
   ]
  },
  {
   "cell_type": "code",
   "execution_count": 11,
   "metadata": {},
   "outputs": [],
   "source": [
    "song = tags['ID3TagV2']"
   ]
  },
  {
   "cell_type": "code",
   "execution_count": 12,
   "metadata": {},
   "outputs": [
    {
     "data": {
      "text/plain": [
       "'The Who\\x00'"
      ]
     },
     "execution_count": 12,
     "metadata": {},
     "output_type": "execute_result"
    }
   ],
   "source": [
    "song\n",
    "song['artist']"
   ]
  },
  {
   "cell_type": "code",
   "execution_count": 19,
   "metadata": {},
   "outputs": [
    {
     "data": {
      "text/plain": [
       "'The Who'"
      ]
     },
     "execution_count": 19,
     "metadata": {},
     "output_type": "execute_result"
    }
   ],
   "source": [
    "song['artist'] = song['artist'].replace('\\x00', '')\n",
    "song['artist']"
   ]
  },
  {
   "cell_type": "code",
   "execution_count": 13,
   "metadata": {},
   "outputs": [],
   "source": [
    "import json"
   ]
  },
  {
   "cell_type": "code",
   "execution_count": 14,
   "metadata": {},
   "outputs": [],
   "source": [
    "song_json = json.dumps(song)"
   ]
  },
  {
   "cell_type": "code",
   "execution_count": 15,
   "metadata": {},
   "outputs": [
    {
     "data": {
      "text/plain": [
       "'{\"genre\": \"Rock/Pop\\\\u0000\", \"artist\": \"The Who\\\\u0000\", \"track\": \"1/13\\\\u0000\", \"publisher\": \"MCA Records\\\\u0000\", \"song\": \"Substitute\", \"band\": \"The Who\\\\u0000\", \"year\": \"1983-05-08\\\\u0000\", \"album\": \"Who\\'s Greatest Hits\\\\u0000\"}'"
      ]
     },
     "execution_count": 15,
     "metadata": {},
     "output_type": "execute_result"
    }
   ],
   "source": [
    "song_json"
   ]
  },
  {
   "cell_type": "code",
   "execution_count": null,
   "metadata": {},
   "outputs": [],
   "source": []
  }
 ],
 "metadata": {
  "kernelspec": {
   "display_name": "Python 3",
   "language": "python",
   "name": "python3"
  },
  "language_info": {
   "codemirror_mode": {
    "name": "ipython",
    "version": 3
   },
   "file_extension": ".py",
   "mimetype": "text/x-python",
   "name": "python",
   "nbconvert_exporter": "python",
   "pygments_lexer": "ipython3",
   "version": "3.5.2"
  }
 },
 "nbformat": 4,
 "nbformat_minor": 2
}
