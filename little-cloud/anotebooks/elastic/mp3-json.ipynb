{
 "cells": [
  {
   "cell_type": "code",
   "execution_count": 1,
   "metadata": {},
   "outputs": [
    {
     "name": "stdout",
     "output_type": "stream",
     "text": [
      "01 Baby, It's Cold Outside.mp3\r\n",
      "02 Silver Bells.mp3\r\n",
      "03 Let It Snow! Let It Snow! Let It Snow!.mp3\r\n",
      "04 Rudolph, the Red-Nosed Reindeer.mp3\r\n",
      "05 The Christmas Blues.mp3\r\n",
      "06 Winter Wonderland (the Swingin' Yultide mix).mp3\r\n",
      "07 Silent Night.mp3\r\n",
      "08 A Marshmallow World.mp3\r\n",
      "09 I'll Be Home for Christmas.mp3\r\n",
      "10 Jingle Bells.mp3\r\n",
      "11 Blue Christmas.mp3\r\n",
      "12 I've Got My Love to Keep Me Warm.mp3\r\n",
      "13 White Christmas.mp3\r\n",
      "14 Peace on Earth _ Silent Night.mp3\r\n"
     ]
    }
   ],
   "source": [
    "! ls /mnt/nuc/music-best/beets/Christmas/Dean\\ Martin/'My Kind of Christmas'"
   ]
  },
  {
   "cell_type": "code",
   "execution_count": 2,
   "metadata": {},
   "outputs": [],
   "source": [
    "path_to_mp3 = '/mnt/nuc/music-best/beets/Christmas/Dean Martin/My Kind of Christmas/02 Silver Bells.mp3'"
   ]
  },
  {
   "cell_type": "code",
   "execution_count": 3,
   "metadata": {},
   "outputs": [],
   "source": [
    "from mp3_tagger import MP3File, VERSION_1, VERSION_2, VERSION_BOTH\n",
    "\n",
    "# Create MP3File instance.\n",
    "mp3 = MP3File(path_to_mp3)\n",
    "\n"
   ]
  },
  {
   "cell_type": "code",
   "execution_count": 4,
   "metadata": {},
   "outputs": [
    {
     "name": "stdout",
     "output_type": "stream",
     "text": [
      "{'ID3TagV2': {'composer': 'Jay Livingston; Ray Evans', 'track': '02/14', 'genre': 'Vocal', 'song': 'Silver Bells', 'album': 'My Kind of Christmas', 'band': 'Dean Martin', 'publisher': 'Hip-O Records', 'artist': 'Dean Martin', 'comment': 'eng\\x00000003E8 000003E8 000009C4 000009C4 00000000 00000000 00000000 00000000 00000000 00000000', 'year': '2009-10-06'}, 'ID3TagV1': {'track': 2, 'comment': '000003E8 000003E8 000009C4 0', 'artist': 'Dean Martin', 'song': 'Silver Bells', 'genre': 'Vocal', 'year': '2009', 'album': 'My Kind of Christmas'}}\n"
     ]
    }
   ],
   "source": [
    "# Get all tags.\n",
    "tags = mp3.get_tags()\n",
    "print(tags)"
   ]
  },
  {
   "cell_type": "code",
   "execution_count": 5,
   "metadata": {},
   "outputs": [
    {
     "name": "stdout",
     "output_type": "stream",
     "text": [
      "{'composer': 'Jay Livingston; Ray Evans', 'track': '02/14', 'genre': 'Vocal', 'song': 'Silver Bells', 'album': 'My Kind of Christmas', 'band': 'Dean Martin', 'publisher': 'Hip-O Records', 'artist': 'Dean Martin', 'comment': 'eng\\x00000003E8 000003E8 000009C4 000009C4 00000000 00000000 00000000 00000000 00000000 00000000', 'year': '2009-10-06'}\n"
     ]
    }
   ],
   "source": [
    "print(tags['ID3TagV2'])"
   ]
  },
  {
   "cell_type": "code",
   "execution_count": 6,
   "metadata": {},
   "outputs": [],
   "source": [
    "import pprint"
   ]
  },
  {
   "cell_type": "code",
   "execution_count": 7,
   "metadata": {},
   "outputs": [
    {
     "name": "stdout",
     "output_type": "stream",
     "text": [
      "{   'album': 'My Kind of Christmas',\n",
      "    'artist': 'Dean Martin',\n",
      "    'band': 'Dean Martin',\n",
      "    'comment': 'eng\\x00000003E8 000003E8 000009C4 000009C4 00000000 00000000 '\n",
      "               '00000000 00000000 00000000 00000000',\n",
      "    'composer': 'Jay Livingston; Ray Evans',\n",
      "    'genre': 'Vocal',\n",
      "    'publisher': 'Hip-O Records',\n",
      "    'song': 'Silver Bells',\n",
      "    'track': '02/14',\n",
      "    'year': '2009-10-06'}\n"
     ]
    }
   ],
   "source": [
    "pp = pprint.PrettyPrinter(indent=4)\n",
    "\n",
    "pp.pprint(tags['ID3TagV2'])"
   ]
  },
  {
   "cell_type": "code",
   "execution_count": 8,
   "metadata": {},
   "outputs": [],
   "source": [
    "del tags['ID3TagV2']['comment']"
   ]
  },
  {
   "cell_type": "code",
   "execution_count": 9,
   "metadata": {},
   "outputs": [
    {
     "name": "stdout",
     "output_type": "stream",
     "text": [
      "{   'album': 'My Kind of Christmas',\n",
      "    'artist': 'Dean Martin',\n",
      "    'band': 'Dean Martin',\n",
      "    'composer': 'Jay Livingston; Ray Evans',\n",
      "    'genre': 'Vocal',\n",
      "    'publisher': 'Hip-O Records',\n",
      "    'song': 'Silver Bells',\n",
      "    'track': '02/14',\n",
      "    'year': '2009-10-06'}\n"
     ]
    }
   ],
   "source": [
    "pp.pprint(tags['ID3TagV2'])"
   ]
  },
  {
   "cell_type": "code",
   "execution_count": 10,
   "metadata": {},
   "outputs": [],
   "source": [
    "song = tags['ID3TagV2']"
   ]
  },
  {
   "cell_type": "code",
   "execution_count": 16,
   "metadata": {},
   "outputs": [
    {
     "data": {
      "text/plain": [
       "'Dean Martin'"
      ]
     },
     "execution_count": 16,
     "metadata": {},
     "output_type": "execute_result"
    }
   ],
   "source": [
    "song\n",
    "song['artist']"
   ]
  },
  {
   "cell_type": "code",
   "execution_count": 12,
   "metadata": {},
   "outputs": [],
   "source": [
    "import json"
   ]
  },
  {
   "cell_type": "code",
   "execution_count": 13,
   "metadata": {},
   "outputs": [],
   "source": [
    "song_json = json.dumps(song)"
   ]
  },
  {
   "cell_type": "code",
   "execution_count": 14,
   "metadata": {},
   "outputs": [
    {
     "data": {
      "text/plain": [
       "'{\"composer\": \"Jay Livingston; Ray Evans\", \"track\": \"02/14\", \"genre\": \"Vocal\", \"song\": \"Silver Bells\", \"album\": \"My Kind of Christmas\", \"band\": \"Dean Martin\", \"publisher\": \"Hip-O Records\", \"artist\": \"Dean Martin\", \"year\": \"2009-10-06\"}'"
      ]
     },
     "execution_count": 14,
     "metadata": {},
     "output_type": "execute_result"
    }
   ],
   "source": [
    "song_json"
   ]
  },
  {
   "cell_type": "code",
   "execution_count": null,
   "metadata": {},
   "outputs": [],
   "source": []
  }
 ],
 "metadata": {
  "kernelspec": {
   "display_name": "Python 3",
   "language": "python",
   "name": "python3"
  },
  "language_info": {
   "codemirror_mode": {
    "name": "ipython",
    "version": 3
   },
   "file_extension": ".py",
   "mimetype": "text/x-python",
   "name": "python",
   "nbconvert_exporter": "python",
   "pygments_lexer": "ipython3",
   "version": "3.5.2"
  }
 },
 "nbformat": 4,
 "nbformat_minor": 2
}
