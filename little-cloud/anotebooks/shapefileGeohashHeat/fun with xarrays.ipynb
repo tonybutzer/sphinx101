{
 "cells": [
  {
   "cell_type": "code",
   "execution_count": 5,
   "metadata": {},
   "outputs": [],
   "source": [
    "import xarray as xr\n",
    "import numpy as np"
   ]
  },
  {
   "cell_type": "code",
   "execution_count": 17,
   "metadata": {},
   "outputs": [
    {
     "name": "stdout",
     "output_type": "stream",
     "text": [
      "<xarray.DataArray 'a' (x: 4)>\n",
      "array([10., 20., 30., nan])\n",
      "Coordinates:\n",
      "  * x        (x) int64 1 2 3 4\n"
     ]
    }
   ],
   "source": [
    "ds1 = xr.Dataset({'a': ('x', [10, 20, 30, np.nan])}, {'x': [1, 2, 3, 4]})\n",
    "\n",
    "print(ds1['a'])\n",
    "\n",
    "ds2 = xr.Dataset({'b': ('x', [np.nan, 30, 40, 50])}, {'x': [1, 2, 3, 4]})\n",
    "\n",
    "ds3 = xr.concat([ds1['a'],ds2['b']], 'x')"
   ]
  },
  {
   "cell_type": "code",
   "execution_count": 9,
   "metadata": {},
   "outputs": [
    {
     "data": {
      "text/plain": [
       "<xarray.Dataset>\n",
       "Dimensions:  (x: 4)\n",
       "Coordinates:\n",
       "  * x        (x) int64 1 2 3 4\n",
       "Data variables:\n",
       "    b        (x) float64 nan 30.0 40.0 50.0"
      ]
     },
     "execution_count": 9,
     "metadata": {},
     "output_type": "execute_result"
    }
   ],
   "source": [
    "ds2"
   ]
  },
  {
   "cell_type": "code",
   "execution_count": 18,
   "metadata": {},
   "outputs": [
    {
     "data": {
      "text/plain": [
       "<xarray.DataArray 'a' (x: 8)>\n",
       "array([10., 20., 30., nan, nan, 30., 40., 50.])\n",
       "Coordinates:\n",
       "  * x        (x) int64 1 2 3 4 1 2 3 4"
      ]
     },
     "execution_count": 18,
     "metadata": {},
     "output_type": "execute_result"
    }
   ],
   "source": [
    "ds3"
   ]
  },
  {
   "cell_type": "code",
   "execution_count": 20,
   "metadata": {},
   "outputs": [],
   "source": [
    "ds4 = xr.merge([ds1['a'],ds2['b']])\n"
   ]
  },
  {
   "cell_type": "code",
   "execution_count": 21,
   "metadata": {},
   "outputs": [
    {
     "data": {
      "text/plain": [
       "<xarray.Dataset>\n",
       "Dimensions:  (x: 4)\n",
       "Coordinates:\n",
       "  * x        (x) int64 1 2 3 4\n",
       "Data variables:\n",
       "    a        (x) float64 10.0 20.0 30.0 nan\n",
       "    b        (x) float64 nan 30.0 40.0 50.0"
      ]
     },
     "execution_count": 21,
     "metadata": {},
     "output_type": "execute_result"
    }
   ],
   "source": [
    "ds4\n"
   ]
  },
  {
   "cell_type": "code",
   "execution_count": null,
   "metadata": {},
   "outputs": [],
   "source": []
  }
 ],
 "metadata": {
  "kernelspec": {
   "display_name": "Python 3",
   "language": "python",
   "name": "python3"
  },
  "language_info": {
   "codemirror_mode": {
    "name": "ipython",
    "version": 3
   },
   "file_extension": ".py",
   "mimetype": "text/x-python",
   "name": "python",
   "nbconvert_exporter": "python",
   "pygments_lexer": "ipython3",
   "version": "3.5.2"
  }
 },
 "nbformat": 4,
 "nbformat_minor": 2
}
