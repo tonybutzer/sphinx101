{
 "cells": [
  {
   "cell_type": "code",
   "execution_count": 1,
   "metadata": {},
   "outputs": [],
   "source": [
    "# %%js\n",
    "# var dummy = prompt(\"hello Tony\");"
   ]
  },
  {
   "cell_type": "code",
   "execution_count": 2,
   "metadata": {},
   "outputs": [],
   "source": [
    "str=\"this is my string\"\n",
    "\n"
   ]
  },
  {
   "cell_type": "code",
   "execution_count": 3,
   "metadata": {},
   "outputs": [
    {
     "data": {
      "text/html": [
       "<div id='textid'>Hello from Python to js</div>"
      ],
      "text/plain": [
       "<IPython.core.display.HTML object>"
      ]
     },
     "execution_count": 3,
     "metadata": {},
     "output_type": "execute_result"
    }
   ],
   "source": [
    "# Python\n",
    "from IPython.display import HTML\n",
    "\n",
    "mymessage = \"Hello from Python to js\"\n",
    "HTML(\"<div id='textid'>\" + mymessage + \"</div>\")"
   ]
  },
  {
   "cell_type": "code",
   "execution_count": 9,
   "metadata": {},
   "outputs": [
    {
     "data": {
      "application/javascript": [
       "\n",
       "var thejsmesg = document.getElementById('textid').innerHTML;\n",
       "\n",
       "var guess\n",
       "guess = prompt(thejsmesg);\n",
       "\n",
       "var hey='hey right back at ya python';\n",
       "\n",
       "IPython.notebook.kernel.execute('backat=\"' + hey + '\";');\n",
       "\n",
       "IPython.notebook.kernel.execute('guess=\"' + guess + '\";');\n",
       "\n"
      ],
      "text/plain": [
       "<IPython.core.display.Javascript object>"
      ]
     },
     "metadata": {},
     "output_type": "display_data"
    }
   ],
   "source": [
    "%%javascript\n",
    "\n",
    "var thejsmesg = document.getElementById('textid').innerHTML;\n",
    "\n",
    "var guess\n",
    "guess = prompt(thejsmesg);\n",
    "\n",
    "var hey='hey right back at ya python';\n",
    "\n",
    "IPython.notebook.kernel.execute('backat=\"' + hey + '\";');\n",
    "\n",
    "IPython.notebook.kernel.execute('guess=\"' + guess + '\";');\n",
    "\n"
   ]
  },
  {
   "cell_type": "code",
   "execution_count": 10,
   "metadata": {},
   "outputs": [
    {
     "name": "stdout",
     "output_type": "stream",
     "text": [
      "hello\n"
     ]
    }
   ],
   "source": [
    "print(\"hello\")"
   ]
  },
  {
   "cell_type": "code",
   "execution_count": 11,
   "metadata": {},
   "outputs": [
    {
     "name": "stdout",
     "output_type": "stream",
     "text": [
      "hey right back at ya python\n",
      "whatlllll\n"
     ]
    }
   ],
   "source": [
    "\n",
    "print(backat)\n",
    "print(guess)"
   ]
  },
  {
   "cell_type": "code",
   "execution_count": null,
   "metadata": {},
   "outputs": [],
   "source": []
  }
 ],
 "metadata": {
  "kernelspec": {
   "display_name": "Python 3",
   "language": "python",
   "name": "python3"
  },
  "language_info": {
   "codemirror_mode": {
    "name": "ipython",
    "version": 3
   },
   "file_extension": ".py",
   "mimetype": "text/x-python",
   "name": "python",
   "nbconvert_exporter": "python",
   "pygments_lexer": "ipython3",
   "version": "3.5.2"
  }
 },
 "nbformat": 4,
 "nbformat_minor": 2
}
