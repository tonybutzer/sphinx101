{
 "cells": [
  {
   "cell_type": "markdown",
   "metadata": {},
   "source": [
    "# Geojson Handbook\n",
    "\n",
    "### Ideas\n",
    "\n",
    "1. create aoi_geo.json FILE (from .io web interface)\n",
    "    - to be used as the input to lc.search\n",
    "2. grab the latest map.geojson - for example map(2).geojson by create date - python code"
   ]
  },
  {
   "cell_type": "markdown",
   "metadata": {},
   "source": [
    "## geojson.io lesson\n",
    "\n",
    "http://geojson.io/#map=10/36.8208/-119.3019\n",
    "\n",
    "1. create a bounding box\n",
    "2. save as file geojson\n",
    "3. scp to sleepy\n",
    "4. reinstall bounding box by opening it\n",
    "5. repeat for kml and other popular formats\n",
    "\n",
    "### More than you ever wanted to know about GeoJSON\n",
    "https://macwright.org/2015/03/23/geojson-second-bite.html"
   ]
  },
  {
   "cell_type": "code",
   "execution_count": 1,
   "metadata": {},
   "outputs": [
    {
     "name": "stdout",
     "output_type": "stream",
     "text": [
      "Now grab a box - ~/Downloads/map.geojson\n"
     ]
    }
   ],
   "source": [
    "#!  http://geojson.io/#map=10/36.8208/-119.3019\n",
    "\n",
    "print(\"Now grab a box - ~/Downloads/map.geojson\")\n",
    "\n"
   ]
  },
  {
   "cell_type": "code",
   "execution_count": 2,
   "metadata": {},
   "outputs": [
    {
     "name": "stdout",
     "output_type": "stream",
     "text": [
      "map.geojson                                   100%  324    81.5KB/s   00:00    \n",
      "{\n",
      "    \"type\": \"FeatureCollection\",\n",
      "    \"features\": [\n",
      "        {\n",
      "            \"type\": \"Feature\",\n",
      "            \"properties\": {},\n",
      "            \"geometry\": {\n",
      "                \"type\": \"Polygon\",\n",
      "                \"coordinates\": [\n",
      "                    [\n",
      "                        [\n",
      "                            -119.37057495117189,\n",
      "                            36.81478202406683\n",
      "                        ],\n",
      "                        [\n",
      "                            -119.2510986328125,\n",
      "                            36.81478202406683\n",
      "                        ],\n",
      "                        [\n",
      "                            -119.2510986328125,\n",
      "                            36.925743371044966\n",
      "                        ],\n",
      "                        [\n",
      "                            -119.37057495117189,\n",
      "                            36.925743371044966\n",
      "                        ],\n",
      "                        [\n",
      "                            -119.37057495117189,\n",
      "                            36.81478202406683\n",
      "                        ]\n",
      "                    ]\n",
      "                ]\n",
      "            }\n",
      "        }\n",
      "    ]\n",
      "}\n"
     ]
    }
   ],
   "source": [
    "!scp sleepy:~/Downloads/map.geojson .\n",
    "! cat map.geojson | python3 -m json.tool"
   ]
  },
  {
   "cell_type": "code",
   "execution_count": null,
   "metadata": {},
   "outputs": [],
   "source": []
  }
 ],
 "metadata": {
  "kernelspec": {
   "display_name": "Python 3",
   "language": "python",
   "name": "python3"
  },
  "language_info": {
   "codemirror_mode": {
    "name": "ipython",
    "version": 3
   },
   "file_extension": ".py",
   "mimetype": "text/x-python",
   "name": "python",
   "nbconvert_exporter": "python",
   "pygments_lexer": "ipython3",
   "version": "3.6.7"
  }
 },
 "nbformat": 4,
 "nbformat_minor": 2
}
