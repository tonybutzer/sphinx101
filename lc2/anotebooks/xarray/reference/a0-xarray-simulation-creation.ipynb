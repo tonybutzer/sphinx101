{
 "cells": [
  {
   "cell_type": "markdown",
   "metadata": {},
   "source": [
    "# Build an XArray\n",
    "\n",
    "## what you need\n",
    "\n",
    "1. coords = time array from pandas\n",
    "2. geobox with x and y values\n",
    "3. measurement array of bands\n",
    "4. some numpy data arrays - gathered now or after the fact\n",
    "\n",
    "### And then:\n",
    "\n",
    "### a refactored create_storage function that builds the xarray"
   ]
  },
  {
   "cell_type": "code",
   "execution_count": 1,
   "metadata": {},
   "outputs": [
    {
     "name": "stdout",
     "output_type": "stream",
     "text": [
      "creating Lilcube class\n"
     ]
    }
   ],
   "source": [
    "from datetime import datetime\n",
    "import pandas as pd\n",
    "\n",
    "from noteLib import *\n",
    "\n",
    "from lilcubeLib.lc_api import Lilcube\n",
    "\n",
    "\n",
    "lc = Lilcube()"
   ]
  },
  {
   "cell_type": "code",
   "execution_count": 2,
   "metadata": {},
   "outputs": [],
   "source": [
    "left,bottom,right,top = (30.209661,-2.218817,30.246396,-2.163926)"
   ]
  },
  {
   "cell_type": "code",
   "execution_count": 3,
   "metadata": {},
   "outputs": [
    {
     "name": "stdout",
     "output_type": "stream",
     "text": [
      "(datetime.datetime(2013, 7, 6, 0, 0), datetime.datetime(2013, 7, 7, 0, 0))\n",
      "2013-07-06\n",
      "Yay Connect\n",
      "HIT COUNT = 2\n",
      "##########################################################################################\n",
      "LC08_L1TP band4 172 61 2013-07-06 /mnt/rwanda/LC08/172/061/2013/LC081720612013070601T1-SC20181130015946/LC08_L1TP_172061_20130706_20170503_01_T1_sr_band4.tif\n",
      "LC08_L1TP band4 172 62 2013-07-06 /mnt/rwanda/LC08/172/062/2013/LC081720622013070601T1-SC20181129211703/LC08_L1TP_172062_20130706_20170503_01_T1_sr_band4.tif\n",
      "['product', 'band', 'path', 'row', 'date', 'red']\n"
     ]
    },
    {
     "ename": "NameError",
     "evalue": "name 'xarray' is not defined",
     "output_type": "error",
     "traceback": [
      "\u001b[0;31m---------------------------------------------------------------------------\u001b[0m",
      "\u001b[0;31mNameError\u001b[0m                                 Traceback (most recent call last)",
      "\u001b[0;32m<ipython-input-3-9b2742b4ec55>\u001b[0m in \u001b[0;36m<module>\u001b[0;34m\u001b[0m\n\u001b[1;32m     18\u001b[0m              time = date_range, measurements = ('red', 'green', 'blue','nir') )\n\u001b[1;32m     19\u001b[0m \u001b[0;34m\u001b[0m\u001b[0m\n\u001b[0;32m---> 20\u001b[0;31m \u001b[0msources\u001b[0m \u001b[0;34m=\u001b[0m \u001b[0mxarray\u001b[0m\u001b[0;34m.\u001b[0m\u001b[0mDataArray\u001b[0m\u001b[0;34m(\u001b[0m\u001b[0mdata\u001b[0m\u001b[0;34m,\u001b[0m \u001b[0mdims\u001b[0m\u001b[0;34m=\u001b[0m\u001b[0;34m[\u001b[0m\u001b[0mdimension\u001b[0m\u001b[0;34m]\u001b[0m\u001b[0;34m,\u001b[0m \u001b[0mcoords\u001b[0m\u001b[0;34m=\u001b[0m\u001b[0;34m[\u001b[0m\u001b[0mcoords\u001b[0m\u001b[0;34m]\u001b[0m\u001b[0;34m)\u001b[0m\u001b[0;34m\u001b[0m\u001b[0m\n\u001b[0m",
      "\u001b[0;31mNameError\u001b[0m: name 'xarray' is not defined"
     ]
    }
   ],
   "source": [
    "ul_lat = top\n",
    "ul_lon = left\n",
    "\n",
    "lr_lat = bottom\n",
    "lr_lon = right\n",
    "\n",
    "aoi_ul_geo = (ul_lat, ul_lon)\n",
    "aoi_lr_geo = (lr_lat, lr_lon)\n",
    "\n",
    "date_range = (datetime(2013,7,6), datetime(2013,7,7))\n",
    "# date_range = (datetime(2013,7,6), datetime(2018,7,7))\n",
    "\n",
    "es_index = 'datacube'\n",
    "es_type = 'rwanda'\n",
    "\n",
    "# return a pandas data frame product id creation date and red\n",
    "panda_df = lc.search(es_index, es_type, aoi_ul_geo, aoi_lr_geo,\n",
    "             time = date_range, measurements = ('red', 'green', 'blue','nir') )\n"
   ]
  },
  {
   "cell_type": "code",
   "execution_count": 4,
   "metadata": {},
   "outputs": [
    {
     "data": {
      "text/html": [
       "<div>\n",
       "<style scoped>\n",
       "    .dataframe tbody tr th:only-of-type {\n",
       "        vertical-align: middle;\n",
       "    }\n",
       "\n",
       "    .dataframe tbody tr th {\n",
       "        vertical-align: top;\n",
       "    }\n",
       "\n",
       "    .dataframe thead th {\n",
       "        text-align: right;\n",
       "    }\n",
       "</style>\n",
       "<table border=\"1\" class=\"dataframe\">\n",
       "  <thead>\n",
       "    <tr style=\"text-align: right;\">\n",
       "      <th></th>\n",
       "      <th>product</th>\n",
       "      <th>band</th>\n",
       "      <th>path</th>\n",
       "      <th>row</th>\n",
       "      <th>date</th>\n",
       "      <th>red</th>\n",
       "    </tr>\n",
       "  </thead>\n",
       "  <tbody>\n",
       "    <tr>\n",
       "      <th>0</th>\n",
       "      <td>LC08_L1TP</td>\n",
       "      <td>band4</td>\n",
       "      <td>172</td>\n",
       "      <td>61</td>\n",
       "      <td>2013-07-06</td>\n",
       "      <td>/mnt/rwanda/LC08/172/061/2013/LC08172061201307...</td>\n",
       "    </tr>\n",
       "    <tr>\n",
       "      <th>1</th>\n",
       "      <td>LC08_L1TP</td>\n",
       "      <td>band4</td>\n",
       "      <td>172</td>\n",
       "      <td>62</td>\n",
       "      <td>2013-07-06</td>\n",
       "      <td>/mnt/rwanda/LC08/172/062/2013/LC08172062201307...</td>\n",
       "    </tr>\n",
       "  </tbody>\n",
       "</table>\n",
       "</div>"
      ],
      "text/plain": [
       "     product   band path row        date  \\\n",
       "0  LC08_L1TP  band4  172  61  2013-07-06   \n",
       "1  LC08_L1TP  band4  172  62  2013-07-06   \n",
       "\n",
       "                                                 red  \n",
       "0  /mnt/rwanda/LC08/172/061/2013/LC08172061201307...  \n",
       "1  /mnt/rwanda/LC08/172/062/2013/LC08172062201307...  "
      ]
     },
     "execution_count": 4,
     "metadata": {},
     "output_type": "execute_result"
    }
   ],
   "source": [
    "panda_df.head()"
   ]
  },
  {
   "cell_type": "code",
   "execution_count": 5,
   "metadata": {},
   "outputs": [],
   "source": [
    "df = panda_df\n",
    "\n",
    "coords = df['date'].values"
   ]
  },
  {
   "cell_type": "code",
   "execution_count": 6,
   "metadata": {},
   "outputs": [
    {
     "data": {
      "text/plain": [
       "array(['2013-07-06', '2013-07-06'], dtype=object)"
      ]
     },
     "execution_count": 6,
     "metadata": {},
     "output_type": "execute_result"
    }
   ],
   "source": [
    "coords"
   ]
  },
  {
   "cell_type": "code",
   "execution_count": 7,
   "metadata": {},
   "outputs": [
    {
     "name": "stdout",
     "output_type": "stream",
     "text": [
      "2013-07-06\n",
      "2013-07-06\n"
     ]
    }
   ],
   "source": [
    "for day in coords:\n",
    "    print(day)"
   ]
  },
  {
   "cell_type": "code",
   "execution_count": null,
   "metadata": {},
   "outputs": [],
   "source": [
    "# These coocrdinates need the creation time appendes to be unique or the pathe row"
   ]
  },
  {
   "cell_type": "code",
   "execution_count": 26,
   "metadata": {},
   "outputs": [
    {
     "name": "stdout",
     "output_type": "stream",
     "text": [
      "2013-07-06_172_61\n",
      "2013-07-06_172_62\n"
     ]
    }
   ],
   "source": [
    "time_coords = []\n",
    "for idx, val in df.iterrows():\n",
    "    key = val['date'] + '_' + val['path'] + '_' + val['row']\n",
    "    print (key)\n",
    "    time_coords.append(key)"
   ]
  },
  {
   "cell_type": "code",
   "execution_count": 29,
   "metadata": {},
   "outputs": [],
   "source": [
    "def return_tony_geobox( aoi_ul_geo, aoi_lr_geo, df):\n",
    "    print (aoi_ul_geo, aoi_lr_geo)\n",
    "    bounding_box = geopolygon.boundingbox"
   ]
  },
  {
   "cell_type": "code",
   "execution_count": 30,
   "metadata": {},
   "outputs": [
    {
     "name": "stdout",
     "output_type": "stream",
     "text": [
      "(-2.163926, 30.209661) (-2.218817, 30.246396)\n"
     ]
    }
   ],
   "source": [
    "THE_geobox = return_tony_geobox( aoi_ul_geo, aoi_lr_geo, df)"
   ]
  },
  {
   "cell_type": "code",
   "execution_count": null,
   "metadata": {},
   "outputs": [],
   "source": [
    "geobox = output_geobox(like=like, output_crs=output_crs, resolution=resolution, align=align,\n",
    "                               grid_spec=self.index.products.get_by_name(product).grid_spec,\n",
    "                               datasets=observations, **query)\n"
   ]
  }
 ],
 "metadata": {
  "kernelspec": {
   "display_name": "Python 3",
   "language": "python",
   "name": "python3"
  },
  "language_info": {
   "codemirror_mode": {
    "name": "ipython",
    "version": 3
   },
   "file_extension": ".py",
   "mimetype": "text/x-python",
   "name": "python",
   "nbconvert_exporter": "python",
   "pygments_lexer": "ipython3",
   "version": "3.5.2"
  }
 },
 "nbformat": 4,
 "nbformat_minor": 2
}
