{
 "cells": [
  {
   "cell_type": "code",
   "execution_count": 8,
   "metadata": {},
   "outputs": [],
   "source": [
    "import pprint\n",
    "def create_index():\n",
    "    \"\"\" Example create_index needs to be tuned for datacube metadata \"\"\"\n",
    "\n",
    "    bands = ['red', 'green', 'blue', 'nir', 'pixel_qa']\n",
    "    created = False\n",
    "    # index settings\n",
    "    settings = {\n",
    "        \"settings\": {\n",
    "            \"number_of_shards\": 1,\n",
    "            \"number_of_replicas\": 0\n",
    "        },\n",
    "        \"mappings\": {\n",
    "            \"rwanda\": {\n",
    "                \"dynamic\": \"strict\",\n",
    "                \"properties\": {\n",
    "                    \"footprint\" : {\n",
    "                            \"type\": \"geo_shape\"\n",
    "                    },\n",
    "                    \"ul\" : {\n",
    "                            \"type\": \"geo_point\"\n",
    "                    },\n",
    "                    \"processing_level\": {\n",
    "                        \"type\": \"text\"\n",
    "                    },\n",
    "                    \"creation_dt\": {\n",
    "                        \"type\": \"date\",\n",
    "                        \"format\": \"yyyy-MM-dd||yyyy\"\n",
    "                    },\n",
    "                }\n",
    "            }\n",
    "        }\n",
    "    }\n",
    "\n",
    "    for band in bands:\n",
    "        settings['mappings']['rwanda']['properties'][band] = {'type': 'text'}\n",
    "    \n",
    "    pprint.pprint (settings)\n",
    "  \n",
    "\n",
    "    "
   ]
  },
  {
   "cell_type": "code",
   "execution_count": 9,
   "metadata": {},
   "outputs": [
    {
     "name": "stdout",
     "output_type": "stream",
     "text": [
      "{'mappings': {'rwanda': {'dynamic': 'strict',\n",
      "                         'properties': {'blue': {'type': 'text'},\n",
      "                                        'creation_dt': {'format': 'yyyy-MM-dd||yyyy',\n",
      "                                                        'type': 'date'},\n",
      "                                        'footprint': {'type': 'geo_shape'},\n",
      "                                        'green': {'type': 'text'},\n",
      "                                        'nir': {'type': 'text'},\n",
      "                                        'pixel_qa': {'type': 'text'},\n",
      "                                        'processing_level': {'type': 'text'},\n",
      "                                        'red': {'type': 'text'},\n",
      "                                        'ul': {'type': 'geo_point'}}}},\n",
      " 'settings': {'number_of_replicas': 0, 'number_of_shards': 1}}\n"
     ]
    }
   ],
   "source": [
    "create_index()"
   ]
  },
  {
   "cell_type": "code",
   "execution_count": null,
   "metadata": {},
   "outputs": [],
   "source": []
  }
 ],
 "metadata": {
  "kernelspec": {
   "display_name": "Python 3",
   "language": "python",
   "name": "python3"
  },
  "language_info": {
   "codemirror_mode": {
    "name": "ipython",
    "version": 3
   },
   "file_extension": ".py",
   "mimetype": "text/x-python",
   "name": "python",
   "nbconvert_exporter": "python",
   "pygments_lexer": "ipython3",
   "version": "3.5.2"
  }
 },
 "nbformat": 4,
 "nbformat_minor": 2
}
