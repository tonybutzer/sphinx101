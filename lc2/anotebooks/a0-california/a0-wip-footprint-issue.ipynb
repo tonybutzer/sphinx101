{
 "cells": [
  {
   "cell_type": "code",
   "execution_count": 1,
   "metadata": {},
   "outputs": [
    {
     "name": "stdout",
     "output_type": "stream",
     "text": [
      "Completed 21.2 KiB/21.2 KiB (334.2 KiB/s) with 1 file(s) remaining\r",
      "download: s3://lsaa-test-cog/L8/2014/043/034/LC08_T2AL_043034_20140615_20171012_01_A1/LC08_L1TP_043034_20140615_20170305_01_A1.xml to ../../../../data/LC08_L1TP_043034_20140615_20170305_01_A1.xml\r\n"
     ]
    }
   ],
   "source": [
    "! aws s3 cp s3://lsaa-test-cog/L8/2014/043/034/LC08_T2AL_043034_20140615_20171012_01_A1/LC08_L1TP_043034_20140615_20170305_01_A1.xml /data"
   ]
  },
  {
   "cell_type": "code",
   "execution_count": 2,
   "metadata": {},
   "outputs": [
    {
     "name": "stdout",
     "output_type": "stream",
     "text": [
      "<?xml version=\"1.0\" encoding=\"UTF-8\"?>\r\n",
      "\r\n",
      "<espa_metadata version=\"2.0\"\r\n",
      "xmlns=\"http://espa.cr.usgs.gov/v2\"\r\n",
      "xmlns:xsi=\"http://www.w3.org/2001/XMLSchema-instance\"\r\n",
      "xsi:schemaLocation=\"http://espa.cr.usgs.gov/v2 http://espa.cr.usgs.gov/schema/espa_internal_metadata_v2_0.xsd\">\r\n",
      "\r\n",
      "    <global_metadata>\r\n",
      "        <data_provider>USGS/EROS</data_provider>\r\n",
      "        <satellite>LANDSAT_8</satellite>\r\n",
      "        <instrument>OLI_TIRS</instrument>\r\n",
      "        <acquisition_date>2014-06-15</acquisition_date>\r\n",
      "        <scene_center_time>18:39:36.4523780Z</scene_center_time>\r\n",
      "        <level1_production_date>2017-03-05T02:44:04Z</level1_production_date>\r\n",
      "        <solar_angles zenith=\"22.750229\" azimuth=\"122.556496\" units=\"degrees\"/>\r\n",
      "        <earth_sun_distance>1.015752</earth_sun_distance>\r\n",
      "        <wrs system=\"2\" path=\"43\" row=\"34\"/>\r\n",
      "        <product_id>LC08_L1TP_043034_20140615_20170305_01_A1</product_id>\r\n",
      "        <lpgs_metadata_file>LC08_L1TP_043034_20140615_20170305_01_A1_MTL.txt</lpgs_metadata_file>\r\n",
      "        <corner location=\"UL\" latitude=\"38.305810\" longitude=\"-122.400180\"/>\r\n",
      "        <corner location=\"LR\" latitude=\"36.607440\" longitude=\"-118.761850\"/>\r\n",
      "        <bounding_coordinates>\r\n",
      "            <west>-122.400391</west>\r\n",
      "            <east>-118.761646</east>\r\n",
      "            <north>38.906857</north>\r\n",
      "            <south>36.024220</south>\r\n",
      "        </bounding_coordinates>\r\n",
      "        <projection_information projection=\"ALBERS\" datum=\"WGS84\" units=\"meters\">\r\n",
      "            <corner_point location=\"UL\" x=\"-2257500.000000\" y=\"2012700.000000\"/>\r\n",
      "            <corner_point location=\"LR\" x=\"-1998000.000000\" y=\"1747200.000000\"/>\r\n",
      "            <grid_origin>CENTER</grid_origin>\r\n",
      "            <albers_proj_params>\r\n",
      "                <standard_parallel1>29.500000</standard_parallel1>\r\n",
      "                <standard_parallel2>45.500000</standard_parallel2>\r\n",
      "                <central_meridian>-96.000000</central_meridian>\r\n",
      "                <origin_latitude>23.000000</origin_latitude>\r\n",
      "                <false_easting>0.000000</false_easting>\r\n",
      "                <false_northing>0.000000</false_northing>\r\n",
      "            </albers_proj_params>\r\n",
      "        </projection_information>\r\n",
      "        <orientation_angle>0.000000</orientation_angle>\r\n",
      "    </global_metadata>\r\n",
      "\r\n",
      "    <bands>\r\n",
      "        <band product=\"level2_qa\" source=\"level1\" name=\"pixel_qa\" category=\"qa\" data_type=\"UINT16\" nlines=\"8851\" nsamps=\"8651\" fill_value=\"1\">\r\n",
      "            <short_name>LC08PQA</short_name>\r\n",
      "            <long_name>level-2 pixel quality band</long_name>\r\n",
      "            <file_name>LC08_L1TP_043034_20140615_20170305_01_A1_pixel_qa.tif</file_name>\r\n",
      "            <pixel_size x=\"30\" y=\"30\" units=\"meters\"/>\r\n",
      "            <resample_method>none</resample_method>\r\n",
      "            <data_units>quality/feature classification</data_units>\r\n",
      "            <bitmap_description>\r\n",
      "                <bit num=\"0\">fill</bit>\r\n",
      "                <bit num=\"1\">clear</bit>\r\n",
      "                <bit num=\"2\">water</bit>\r\n",
      "                <bit num=\"3\">cloud shadow</bit>\r\n",
      "                <bit num=\"4\">snow</bit>\r\n",
      "                <bit num=\"5\">cloud</bit>\r\n",
      "                <bit num=\"6\">cloud confidence</bit>\r\n",
      "                <bit num=\"7\">cloud confidence</bit>\r\n",
      "                <bit num=\"8\">cirrus confidence</bit>\r\n",
      "                <bit num=\"9\">cirrus confidence</bit>\r\n",
      "                <bit num=\"10\">terrain occlusion</bit>\r\n",
      "                <bit num=\"11\">unused</bit>\r\n",
      "                <bit num=\"12\">unused</bit>\r\n",
      "                <bit num=\"13\">unused</bit>\r\n",
      "                <bit num=\"14\">unused</bit>\r\n",
      "                <bit num=\"15\">unused</bit>\r\n",
      "            </bitmap_description>\r\n",
      "            <app_version>generate_pixel_qa_1.6.0</app_version>\r\n",
      "            <production_date>2017-10-12T23:21:19Z</production_date>\r\n",
      "        </band>\r\n",
      "        <band product=\"angle_bands\" source=\"level1\" name=\"solar_zenith_band4\" category=\"image\" data_type=\"INT16\" nlines=\"8851\" nsamps=\"8651\" fill_value=\"-32768\" scale_factor=\"0.010000\">\r\n",
      "            <short_name>LC08SOLZEN</short_name>\r\n",
      "            <long_name>band 4 solar zenith angles</long_name>\r\n",
      "            <file_name>LC08_L1TP_043034_20140615_20170305_01_A1_solar_zenith_band4.tif</file_name>\r\n",
      "            <pixel_size x=\"30\" y=\"30\" units=\"meters\"/>\r\n",
      "            <resample_method>none</resample_method>\r\n",
      "            <data_units>degrees</data_units>\r\n",
      "            <app_version>create_l8_angle_bands_1.13.2.b</app_version>\r\n",
      "            <production_date>2017-10-12T23:21:38Z</production_date>\r\n",
      "        </band>\r\n",
      "        <band product=\"angle_bands\" source=\"level1\" name=\"solar_azimuth_band4\" category=\"image\" data_type=\"INT16\" nlines=\"8851\" nsamps=\"8651\" fill_value=\"-32768\" scale_factor=\"0.010000\">\r\n",
      "            <short_name>LC08SOLAZ</short_name>\r\n",
      "            <long_name>band 4 solar azimuth angles</long_name>\r\n",
      "            <file_name>LC08_L1TP_043034_20140615_20170305_01_A1_solar_azimuth_band4.tif</file_name>\r\n",
      "            <pixel_size x=\"30\" y=\"30\" units=\"meters\"/>\r\n",
      "            <resample_method>none</resample_method>\r\n",
      "            <data_units>degrees</data_units>\r\n",
      "            <app_version>create_l8_angle_bands_1.13.2.b</app_version>\r\n",
      "            <production_date>2017-10-12T23:21:38Z</production_date>\r\n",
      "        </band>\r\n",
      "        <band product=\"angle_bands\" source=\"level1\" name=\"sensor_zenith_band4\" category=\"image\" data_type=\"INT16\" nlines=\"8851\" nsamps=\"8651\" fill_value=\"-32768\" scale_factor=\"0.010000\">\r\n",
      "            <short_name>LC08SENZEN</short_name>\r\n",
      "            <long_name>band 4 sensor zenith angles</long_name>\r\n",
      "            <file_name>LC08_L1TP_043034_20140615_20170305_01_A1_sensor_zenith_band4.tif</file_name>\r\n",
      "            <pixel_size x=\"30\" y=\"30\" units=\"meters\"/>\r\n",
      "            <resample_method>none</resample_method>\r\n",
      "            <data_units>degrees</data_units>\r\n",
      "            <app_version>create_l8_angle_bands_1.13.2.b</app_version>\r\n",
      "            <production_date>2017-10-12T23:21:38Z</production_date>\r\n",
      "        </band>\r\n",
      "        <band product=\"angle_bands\" source=\"level1\" name=\"sensor_azimuth_band4\" category=\"image\" data_type=\"INT16\" nlines=\"8851\" nsamps=\"8651\" fill_value=\"-32768\" scale_factor=\"0.010000\">\r\n",
      "            <short_name>LC08SENAZ</short_name>\r\n",
      "            <long_name>band 4 sensor azimuth angles</long_name>\r\n",
      "            <file_name>LC08_L1TP_043034_20140615_20170305_01_A1_sensor_azimuth_band4.tif</file_name>\r\n",
      "            <pixel_size x=\"30\" y=\"30\" units=\"meters\"/>\r\n",
      "            <resample_method>none</resample_method>\r\n",
      "            <data_units>degrees</data_units>\r\n",
      "            <app_version>create_l8_angle_bands_1.13.2.b</app_version>\r\n",
      "            <production_date>2017-10-12T23:21:38Z</production_date>\r\n",
      "        </band>\r\n",
      "        <band product=\"toa_refl\" name=\"toa_band1\" category=\"image\" data_type=\"INT16\" nlines=\"8851\" nsamps=\"8651\" fill_value=\"-9999\" scale_factor=\"0.000100\">\r\n",
      "            <short_name>LC08TOA</short_name>\r\n",
      "            <long_name>band 1 top-of-atmosphere reflectance</long_name>\r\n",
      "            <file_name>LC08_L1TP_043034_20140615_20170305_01_A1_toa_band1.tif</file_name>\r\n",
      "            <pixel_size x=\"30\" y=\"30\" units=\"meters\"/>\r\n",
      "            <resample_method>none</resample_method>\r\n",
      "            <data_units>reflectance</data_units>\r\n",
      "            <valid_range min=\"-2000.000000\" max=\"16000.000000\"/>\r\n",
      "            <app_version>LaSRC_1.3.0</app_version>\r\n",
      "            <production_date>2017-10-12T23:23:38Z</production_date>\r\n",
      "        </band>\r\n",
      "        <band product=\"toa_refl\" name=\"toa_band2\" category=\"image\" data_type=\"INT16\" nlines=\"8851\" nsamps=\"8651\" fill_value=\"-9999\" scale_factor=\"0.000100\">\r\n",
      "            <short_name>LC08TOA</short_name>\r\n",
      "            <long_name>band 2 top-of-atmosphere reflectance</long_name>\r\n",
      "            <file_name>LC08_L1TP_043034_20140615_20170305_01_A1_toa_band2.tif</file_name>\r\n",
      "            <pixel_size x=\"30\" y=\"30\" units=\"meters\"/>\r\n",
      "            <resample_method>none</resample_method>\r\n",
      "            <data_units>reflectance</data_units>\r\n",
      "            <valid_range min=\"-2000.000000\" max=\"16000.000000\"/>\r\n",
      "            <app_version>LaSRC_1.3.0</app_version>\r\n",
      "            <production_date>2017-10-12T23:23:38Z</production_date>\r\n",
      "        </band>\r\n",
      "        <band product=\"toa_refl\" name=\"toa_band3\" category=\"image\" data_type=\"INT16\" nlines=\"8851\" nsamps=\"8651\" fill_value=\"-9999\" scale_factor=\"0.000100\">\r\n",
      "            <short_name>LC08TOA</short_name>\r\n",
      "            <long_name>band 3 top-of-atmosphere reflectance</long_name>\r\n",
      "            <file_name>LC08_L1TP_043034_20140615_20170305_01_A1_toa_band3.tif</file_name>\r\n",
      "            <pixel_size x=\"30\" y=\"30\" units=\"meters\"/>\r\n",
      "            <resample_method>none</resample_method>\r\n",
      "            <data_units>reflectance</data_units>\r\n",
      "            <valid_range min=\"-2000.000000\" max=\"16000.000000\"/>\r\n",
      "            <app_version>LaSRC_1.3.0</app_version>\r\n",
      "            <production_date>2017-10-12T23:23:38Z</production_date>\r\n",
      "        </band>\r\n",
      "        <band product=\"toa_refl\" name=\"toa_band4\" category=\"image\" data_type=\"INT16\" nlines=\"8851\" nsamps=\"8651\" fill_value=\"-9999\" scale_factor=\"0.000100\">\r\n",
      "            <short_name>LC08TOA</short_name>\r\n",
      "            <long_name>band 4 top-of-atmosphere reflectance</long_name>\r\n",
      "            <file_name>LC08_L1TP_043034_20140615_20170305_01_A1_toa_band4.tif</file_name>\r\n",
      "            <pixel_size x=\"30\" y=\"30\" units=\"meters\"/>\r\n",
      "            <resample_method>none</resample_method>\r\n",
      "            <data_units>reflectance</data_units>\r\n",
      "            <valid_range min=\"-2000.000000\" max=\"16000.000000\"/>\r\n",
      "            <app_version>LaSRC_1.3.0</app_version>\r\n",
      "            <production_date>2017-10-12T23:23:38Z</production_date>\r\n",
      "        </band>\r\n",
      "        <band product=\"toa_refl\" name=\"toa_band5\" category=\"image\" data_type=\"INT16\" nlines=\"8851\" nsamps=\"8651\" fill_value=\"-9999\" scale_factor=\"0.000100\">\r\n",
      "            <short_name>LC08TOA</short_name>\r\n",
      "            <long_name>band 5 top-of-atmosphere reflectance</long_name>\r\n",
      "            <file_name>LC08_L1TP_043034_20140615_20170305_01_A1_toa_band5.tif</file_name>\r\n",
      "            <pixel_size x=\"30\" y=\"30\" units=\"meters\"/>\r\n",
      "            <resample_method>none</resample_method>\r\n",
      "            <data_units>reflectance</data_units>\r\n",
      "            <valid_range min=\"-2000.000000\" max=\"16000.000000\"/>\r\n",
      "            <app_version>LaSRC_1.3.0</app_version>\r\n",
      "            <production_date>2017-10-12T23:23:38Z</production_date>\r\n",
      "        </band>\r\n",
      "        <band product=\"toa_refl\" name=\"toa_band6\" category=\"image\" data_type=\"INT16\" nlines=\"8851\" nsamps=\"8651\" fill_value=\"-9999\" scale_factor=\"0.000100\">\r\n",
      "            <short_name>LC08TOA</short_name>\r\n",
      "            <long_name>band 6 top-of-atmosphere reflectance</long_name>\r\n",
      "            <file_name>LC08_L1TP_043034_20140615_20170305_01_A1_toa_band6.tif</file_name>\r\n",
      "            <pixel_size x=\"30\" y=\"30\" units=\"meters\"/>\r\n",
      "            <resample_method>none</resample_method>\r\n",
      "            <data_units>reflectance</data_units>\r\n",
      "            <valid_range min=\"-2000.000000\" max=\"16000.000000\"/>\r\n",
      "            <app_version>LaSRC_1.3.0</app_version>\r\n",
      "            <production_date>2017-10-12T23:23:38Z</production_date>\r\n",
      "        </band>\r\n",
      "        <band product=\"toa_refl\" name=\"toa_band7\" category=\"image\" data_type=\"INT16\" nlines=\"8851\" nsamps=\"8651\" fill_value=\"-9999\" scale_factor=\"0.000100\">\r\n",
      "            <short_name>LC08TOA</short_name>\r\n",
      "            <long_name>band 7 top-of-atmosphere reflectance</long_name>\r\n",
      "            <file_name>LC08_L1TP_043034_20140615_20170305_01_A1_toa_band7.tif</file_name>\r\n",
      "            <pixel_size x=\"30\" y=\"30\" units=\"meters\"/>\r\n",
      "            <resample_method>none</resample_method>\r\n",
      "            <data_units>reflectance</data_units>\r\n",
      "            <valid_range min=\"-2000.000000\" max=\"16000.000000\"/>\r\n",
      "            <app_version>LaSRC_1.3.0</app_version>\r\n",
      "            <production_date>2017-10-12T23:23:38Z</production_date>\r\n",
      "        </band>\r\n",
      "        <band product=\"toa_refl\" name=\"toa_band9\" category=\"image\" data_type=\"INT16\" nlines=\"8851\" nsamps=\"8651\" fill_value=\"-9999\" scale_factor=\"0.000100\">\r\n",
      "            <short_name>LC08TOA</short_name>\r\n",
      "            <long_name>band 9 top-of-atmosphere reflectance</long_name>\r\n",
      "            <file_name>LC08_L1TP_043034_20140615_20170305_01_A1_toa_band9.tif</file_name>\r\n",
      "            <pixel_size x=\"30\" y=\"30\" units=\"meters\"/>\r\n",
      "            <resample_method>none</resample_method>\r\n",
      "            <data_units>reflectance</data_units>\r\n",
      "            <valid_range min=\"-2000.000000\" max=\"16000.000000\"/>\r\n",
      "            <app_version>LaSRC_1.3.0</app_version>\r\n",
      "            <production_date>2017-10-12T23:23:38Z</production_date>\r\n",
      "        </band>\r\n",
      "        <band product=\"toa_bt\" name=\"bt_band10\" category=\"image\" data_type=\"INT16\" nlines=\"8851\" nsamps=\"8651\" fill_value=\"-9999\" scale_factor=\"0.100000\">\r\n",
      "            <short_name>LC08BT</short_name>\r\n",
      "            <long_name>band 10 at-satellite brightness temperature</long_name>\r\n",
      "            <file_name>LC08_L1TP_043034_20140615_20170305_01_A1_bt_band10.tif</file_name>\r\n",
      "            <pixel_size x=\"30\" y=\"30\" units=\"meters\"/>\r\n",
      "            <resample_method>none</resample_method>\r\n",
      "            <data_units>temperature (kelvin)</data_units>\r\n",
      "            <valid_range min=\"1500.000000\" max=\"3500.000000\"/>\r\n",
      "            <app_version>LaSRC_1.3.0</app_version>\r\n",
      "            <production_date>2017-10-12T23:23:38Z</production_date>\r\n",
      "        </band>\r\n",
      "        <band product=\"toa_bt\" name=\"bt_band11\" category=\"image\" data_type=\"INT16\" nlines=\"8851\" nsamps=\"8651\" fill_value=\"-9999\" scale_factor=\"0.100000\">\r\n",
      "            <short_name>LC08BT</short_name>\r\n",
      "            <long_name>band 11 at-satellite brightness temperature</long_name>\r\n",
      "            <file_name>LC08_L1TP_043034_20140615_20170305_01_A1_bt_band11.tif</file_name>\r\n",
      "            <pixel_size x=\"30\" y=\"30\" units=\"meters\"/>\r\n",
      "            <resample_method>none</resample_method>\r\n",
      "            <data_units>temperature (kelvin)</data_units>\r\n",
      "            <valid_range min=\"1500.000000\" max=\"3500.000000\"/>\r\n",
      "            <app_version>LaSRC_1.3.0</app_version>\r\n",
      "            <production_date>2017-10-12T23:23:38Z</production_date>\r\n",
      "        </band>\r\n",
      "        <band product=\"toa_refl\" source=\"level1\" name=\"radsat_qa\" category=\"qa\" data_type=\"UINT16\" nlines=\"8851\" nsamps=\"8651\" fill_value=\"1\">\r\n",
      "            <short_name>LC08RADSAT</short_name>\r\n",
      "            <long_name>saturation mask</long_name>\r\n",
      "            <file_name>LC08_L1TP_043034_20140615_20170305_01_A1_radsat_qa.tif</file_name>\r\n",
      "            <pixel_size x=\"30\" y=\"30\" units=\"meters\"/>\r\n",
      "            <resample_method>none</resample_method>\r\n",
      "            <data_units>bitmap</data_units>\r\n",
      "            <bitmap_description>\r\n",
      "                <bit num=\"0\">Data Fill Flag (0 = valid data, 1 = invalid data)</bit>\r\n",
      "                <bit num=\"1\">Band 1 Data Saturation Flag (0 = valid data, 1 = saturated data)</bit>\r\n",
      "                <bit num=\"2\">Band 2 Data Saturation Flag (0 = valid data, 1 = saturated data)</bit>\r\n",
      "                <bit num=\"3\">Band 3 Data Saturation Flag (0 = valid data, 1 = saturated data)</bit>\r\n",
      "                <bit num=\"4\">Band 4 Data Saturation Flag (0 = valid data, 1 = saturated data)</bit>\r\n",
      "                <bit num=\"5\">Band 5 Data Saturation Flag (0 = valid data, 1 = saturated data)</bit>\r\n",
      "                <bit num=\"6\">Band 6 Data Saturation Flag (0 = valid data, 1 = saturated data)</bit>\r\n",
      "                <bit num=\"7\">Band 7 Data Saturation Flag (0 = valid data, 1 = saturated data)</bit>\r\n",
      "                <bit num=\"8\">N/A</bit>\r\n",
      "                <bit num=\"9\">Band 9 Data Saturation Flag (0 = valid data, 1 = saturated data)</bit>\r\n",
      "                <bit num=\"10\">Band 10 Data Saturation Flag (0 = valid data, 1 = saturated data)</bit>\r\n",
      "                <bit num=\"11\">Band 11 Data Saturation Flag (0 = valid data, 1 = saturated data)</bit>\r\n",
      "            </bitmap_description>\r\n",
      "            <app_version>LaSRC_1.3.0</app_version>\r\n",
      "            <production_date>2017-10-12T23:23:40Z</production_date>\r\n",
      "        </band>\r\n",
      "        <band product=\"sr_refl\" name=\"sr_band1\" category=\"image\" data_type=\"INT16\" nlines=\"8851\" nsamps=\"8651\" fill_value=\"-9999\" scale_factor=\"0.000100\">\r\n",
      "            <short_name>LC08SR</short_name>\r\n",
      "            <long_name>band 1 surface reflectance</long_name>\r\n",
      "            <file_name>LC08_L1TP_043034_20140615_20170305_01_A1_sr_band1.tif</file_name>\r\n",
      "            <pixel_size x=\"30\" y=\"30\" units=\"meters\"/>\r\n",
      "            <resample_method>none</resample_method>\r\n",
      "            <data_units>reflectance</data_units>\r\n",
      "            <valid_range min=\"-2000.000000\" max=\"16000.000000\"/>\r\n",
      "            <app_version>LaSRC_1.3.0</app_version>\r\n",
      "            <production_date>2017-10-12T23:24:44Z</production_date>\r\n",
      "        </band>\r\n",
      "        <band product=\"sr_refl\" name=\"sr_band2\" category=\"image\" data_type=\"INT16\" nlines=\"8851\" nsamps=\"8651\" fill_value=\"-9999\" scale_factor=\"0.000100\">\r\n",
      "            <short_name>LC08SR</short_name>\r\n",
      "            <long_name>band 2 surface reflectance</long_name>\r\n",
      "            <file_name>LC08_L1TP_043034_20140615_20170305_01_A1_sr_band2.tif</file_name>\r\n",
      "            <pixel_size x=\"30\" y=\"30\" units=\"meters\"/>\r\n",
      "            <resample_method>none</resample_method>\r\n",
      "            <data_units>reflectance</data_units>\r\n",
      "            <valid_range min=\"-2000.000000\" max=\"16000.000000\"/>\r\n",
      "            <app_version>LaSRC_1.3.0</app_version>\r\n",
      "            <production_date>2017-10-12T23:24:44Z</production_date>\r\n",
      "        </band>\r\n",
      "        <band product=\"sr_refl\" name=\"sr_band3\" category=\"image\" data_type=\"INT16\" nlines=\"8851\" nsamps=\"8651\" fill_value=\"-9999\" scale_factor=\"0.000100\">\r\n",
      "            <short_name>LC08SR</short_name>\r\n",
      "            <long_name>band 3 surface reflectance</long_name>\r\n",
      "            <file_name>LC08_L1TP_043034_20140615_20170305_01_A1_sr_band3.tif</file_name>\r\n",
      "            <pixel_size x=\"30\" y=\"30\" units=\"meters\"/>\r\n",
      "            <resample_method>none</resample_method>\r\n",
      "            <data_units>reflectance</data_units>\r\n",
      "            <valid_range min=\"-2000.000000\" max=\"16000.000000\"/>\r\n",
      "            <app_version>LaSRC_1.3.0</app_version>\r\n",
      "            <production_date>2017-10-12T23:24:44Z</production_date>\r\n",
      "        </band>\r\n",
      "        <band product=\"sr_refl\" name=\"sr_band4\" category=\"image\" data_type=\"INT16\" nlines=\"8851\" nsamps=\"8651\" fill_value=\"-9999\" scale_factor=\"0.000100\">\r\n",
      "            <short_name>LC08SR</short_name>\r\n",
      "            <long_name>band 4 surface reflectance</long_name>\r\n",
      "            <file_name>LC08_L1TP_043034_20140615_20170305_01_A1_sr_band4.tif</file_name>\r\n",
      "            <pixel_size x=\"30\" y=\"30\" units=\"meters\"/>\r\n",
      "            <resample_method>none</resample_method>\r\n",
      "            <data_units>reflectance</data_units>\r\n",
      "            <valid_range min=\"-2000.000000\" max=\"16000.000000\"/>\r\n",
      "            <app_version>LaSRC_1.3.0</app_version>\r\n",
      "            <production_date>2017-10-12T23:24:44Z</production_date>\r\n",
      "        </band>\r\n",
      "        <band product=\"sr_refl\" name=\"sr_band5\" category=\"image\" data_type=\"INT16\" nlines=\"8851\" nsamps=\"8651\" fill_value=\"-9999\" scale_factor=\"0.000100\">\r\n",
      "            <short_name>LC08SR</short_name>\r\n",
      "            <long_name>band 5 surface reflectance</long_name>\r\n",
      "            <file_name>LC08_L1TP_043034_20140615_20170305_01_A1_sr_band5.tif</file_name>\r\n",
      "            <pixel_size x=\"30\" y=\"30\" units=\"meters\"/>\r\n",
      "            <resample_method>none</resample_method>\r\n",
      "            <data_units>reflectance</data_units>\r\n",
      "            <valid_range min=\"-2000.000000\" max=\"16000.000000\"/>\r\n",
      "            <app_version>LaSRC_1.3.0</app_version>\r\n",
      "            <production_date>2017-10-12T23:24:44Z</production_date>\r\n",
      "        </band>\r\n",
      "        <band product=\"sr_refl\" name=\"sr_band6\" category=\"image\" data_type=\"INT16\" nlines=\"8851\" nsamps=\"8651\" fill_value=\"-9999\" scale_factor=\"0.000100\">\r\n",
      "            <short_name>LC08SR</short_name>\r\n",
      "            <long_name>band 6 surface reflectance</long_name>\r\n",
      "            <file_name>LC08_L1TP_043034_20140615_20170305_01_A1_sr_band6.tif</file_name>\r\n",
      "            <pixel_size x=\"30\" y=\"30\" units=\"meters\"/>\r\n",
      "            <resample_method>none</resample_method>\r\n",
      "            <data_units>reflectance</data_units>\r\n",
      "            <valid_range min=\"-2000.000000\" max=\"16000.000000\"/>\r\n",
      "            <app_version>LaSRC_1.3.0</app_version>\r\n",
      "            <production_date>2017-10-12T23:24:44Z</production_date>\r\n",
      "        </band>\r\n",
      "        <band product=\"sr_refl\" name=\"sr_band7\" category=\"image\" data_type=\"INT16\" nlines=\"8851\" nsamps=\"8651\" fill_value=\"-9999\" scale_factor=\"0.000100\">\r\n",
      "            <short_name>LC08SR</short_name>\r\n",
      "            <long_name>band 7 surface reflectance</long_name>\r\n",
      "            <file_name>LC08_L1TP_043034_20140615_20170305_01_A1_sr_band7.tif</file_name>\r\n",
      "            <pixel_size x=\"30\" y=\"30\" units=\"meters\"/>\r\n",
      "            <resample_method>none</resample_method>\r\n",
      "            <data_units>reflectance</data_units>\r\n",
      "            <valid_range min=\"-2000.000000\" max=\"16000.000000\"/>\r\n",
      "            <app_version>LaSRC_1.3.0</app_version>\r\n",
      "            <production_date>2017-10-12T23:24:44Z</production_date>\r\n",
      "        </band>\r\n",
      "        <band product=\"sr_refl\" name=\"sr_aerosol\" category=\"qa\" data_type=\"UINT8\" nlines=\"8851\" nsamps=\"8651\" fill_value=\"1\">\r\n",
      "            <short_name>LC08AERO</short_name>\r\n",
      "            <long_name>surface reflectance aerosol mask</long_name>\r\n",
      "            <file_name>LC08_L1TP_043034_20140615_20170305_01_A1_sr_aerosol.tif</file_name>\r\n",
      "            <pixel_size x=\"30\" y=\"30\" units=\"meters\"/>\r\n",
      "            <resample_method>none</resample_method>\r\n",
      "            <data_units>quality/feature classification</data_units>\r\n",
      "            <bitmap_description>\r\n",
      "                <bit num=\"0\">fill</bit>\r\n",
      "                <bit num=\"1\">valid aerosol retrieval (center pixel of NxN window)</bit>\r\n",
      "                <bit num=\"2\">water pixel (or water pixel was used in the fill-the-window interpolation)</bit>\r\n",
      "                <bit num=\"3\">cloud or cirrus</bit>\r\n",
      "                <bit num=\"4\">cloud shadow</bit>\r\n",
      "                <bit num=\"5\">non-center window pixel for which aerosol was interpolated from surrounding NxN center pixels</bit>\r\n",
      "                <bit num=\"6\">aerosol level</bit>\r\n",
      "                <bit num=\"7\">aerosol level</bit>\r\n",
      "            </bitmap_description>\r\n",
      "            <app_version>LaSRC_1.3.0</app_version>\r\n",
      "            <production_date>2017-10-12T23:24:44Z</production_date>\r\n",
      "        </band>\r\n",
      "    </bands>\r\n",
      "</espa_metadata>\r\n"
     ]
    }
   ],
   "source": [
    "! cat /data/LC08_L1TP_043034_20140615_20170305_01_A1.xml"
   ]
  },
  {
   "cell_type": "code",
   "execution_count": 3,
   "metadata": {},
   "outputs": [
    {
     "data": {
      "text/html": [
       "<div style=\"width:100%;\"><div style=\"position:relative;width:100%;height:0;padding-bottom:60%;\"><iframe src=\"data:text/html;charset=utf-8;base64,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\" style=\"position:absolute;width:100%;height:100%;left:0;top:0;border:none !important;\" allowfullscreen webkitallowfullscreen mozallowfullscreen></iframe></div></div>"
      ],
      "text/plain": [
       "<folium.folium.Map at 0x7f883061fdd8>"
      ]
     },
     "execution_count": 3,
     "metadata": {},
     "output_type": "execute_result"
    }
   ],
   "source": [
    "from noteLib import *\n",
    "\n",
    "ulx=-2257500.000000\n",
    "uly=2012700.000000\n",
    "\n",
    "lrx=-1998000.000000\n",
    "lry=1747200.000000\n",
    "\n",
    "m = aea_base_map(ulx,uly,lrx,lry)\n",
    "aea_display_map(m,ulx,uly, lrx,lry)"
   ]
  },
  {
   "cell_type": "code",
   "execution_count": 4,
   "metadata": {},
   "outputs": [
    {
     "name": "stderr",
     "output_type": "stream",
     "text": [
      "Failed to resolve driver datacube.plugins.index::s3aio_index\n"
     ]
    }
   ],
   "source": [
    "import datacube\n",
    "dc= datacube.Datacube()\n",
    "\n",
    "x = (ulx,lrx)\n",
    "y = (uly,lry)\n",
    "\n",
    "date_range = (\n",
    "        datetime(2014,6,13),\n",
    "        datetime(2014,6,16))\n",
    "\n",
    "\n",
    "\n",
    "product = 'l8_kline'\n",
    "ds = dc.find_datasets(product=product,\n",
    "             # x = x, y =y,\n",
    "             output_crs = 'epsg:32610', resolution = (-30,30), \n",
    "             time = date_range, measurements = ('red') )"
   ]
  },
  {
   "cell_type": "code",
   "execution_count": 5,
   "metadata": {},
   "outputs": [],
   "source": [
    "myds = ds[0]"
   ]
  },
  {
   "cell_type": "code",
   "execution_count": 6,
   "metadata": {},
   "outputs": [
    {
     "data": {
      "text/plain": [
       "BoundingBox(left=-2257500.0, bottom=1747200.0, right=-1998000.0, top=2012700.0)"
      ]
     },
     "execution_count": 6,
     "metadata": {},
     "output_type": "execute_result"
    }
   ],
   "source": [
    "myds.bounds"
   ]
  },
  {
   "cell_type": "code",
   "execution_count": 7,
   "metadata": {},
   "outputs": [
    {
     "data": {
      "text/html": [
       "<div style=\"width:100%;\"><div style=\"position:relative;width:100%;height:0;padding-bottom:60%;\"><iframe src=\"data:text/html;charset=utf-8;base64,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\" style=\"position:absolute;width:100%;height:100%;left:0;top:0;border:none !important;\" allowfullscreen webkitallowfullscreen mozallowfullscreen></iframe></div></div>"
      ],
      "text/plain": [
       "<folium.folium.Map at 0x7f87c263d1d0>"
      ]
     },
     "execution_count": 7,
     "metadata": {},
     "output_type": "execute_result"
    }
   ],
   "source": [
    "ulX = myds.bounds.left\n",
    "ulY = myds.bounds.top\n",
    "\n",
    "lrX = myds.bounds.right\n",
    "lrY = myds.bounds.bottom\n",
    "\n",
    "m = aea_base_map(ulX,ulY,lrX,lrY)\n",
    "aea_display_map(m,ulX,ulY,lrX,lrY)"
   ]
  },
  {
   "cell_type": "code",
   "execution_count": 8,
   "metadata": {},
   "outputs": [],
   "source": [
    "def return_path_row(file_path):\n",
    "    # print(file_path)\n",
    "    a = file_path.split('_')\n",
    "    # print(a[0])\n",
    "    print(a[2], a[9])\n",
    "    return(a[2])"
   ]
  },
  {
   "cell_type": "code",
   "execution_count": 9,
   "metadata": {},
   "outputs": [
    {
     "name": "stdout",
     "output_type": "stream",
     "text": [
      "043034 20140615\n",
      "043035 20140615\n"
     ]
    }
   ],
   "source": [
    "for t in range(0,len(ds)):\n",
    "    myds = ds[t]\n",
    "    fp = myds.measurements['red']['path']\n",
    "    return_path_row(fp)"
   ]
  },
  {
   "cell_type": "code",
   "execution_count": 10,
   "metadata": {},
   "outputs": [
    {
     "data": {
      "text/plain": [
       "BoundingBox(left=-2334900.0, bottom=1602000.0, right=-2075400.0, top=1867500.0)"
      ]
     },
     "execution_count": 10,
     "metadata": {},
     "output_type": "execute_result"
    }
   ],
   "source": [
    "myds = ds[1]\n",
    "myds.bounds"
   ]
  },
  {
   "cell_type": "code",
   "execution_count": 11,
   "metadata": {},
   "outputs": [
    {
     "data": {
      "text/html": [
       "<div style=\"width:100%;\"><div style=\"position:relative;width:100%;height:0;padding-bottom:60%;\"><iframe src=\"data:text/html;charset=utf-8;base64,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\" style=\"position:absolute;width:100%;height:100%;left:0;top:0;border:none !important;\" allowfullscreen webkitallowfullscreen mozallowfullscreen></iframe></div></div>"
      ],
      "text/plain": [
       "<folium.folium.Map at 0x7f87c253df28>"
      ]
     },
     "execution_count": 11,
     "metadata": {},
     "output_type": "execute_result"
    }
   ],
   "source": [
    "ulX = myds.bounds.left\n",
    "ulY = myds.bounds.top\n",
    "\n",
    "lrX = myds.bounds.right\n",
    "lrY = myds.bounds.bottom\n",
    "\n",
    "m = aea_base_map(ulX,ulY,lrX,lrY)\n",
    "aea_display_map(m,ulX,ulY,lrX,lrY)"
   ]
  },
  {
   "cell_type": "code",
   "execution_count": 12,
   "metadata": {},
   "outputs": [],
   "source": [
    "def display_bound(ds):\n",
    "    \n",
    "    myds = ds[0]\n",
    "\n",
    "    ulX = myds.bounds.left\n",
    "    ulY = myds.bounds.top\n",
    "\n",
    "    lrX = myds.bounds.right\n",
    "    lrY = myds.bounds.bottom\n",
    "    m = aea_base_map(ulX,ulY,lrX,lrY)\n",
    "    \n",
    "    for i in range(0,len(ds)):\n",
    "        myds = ds[i]\n",
    "\n",
    "        ulX = myds.bounds.left\n",
    "        ulY = myds.bounds.top\n",
    "\n",
    "        lrX = myds.bounds.right\n",
    "        lrY = myds.bounds.bottom\n",
    "    \n",
    "        aea_display_map(m,ulX,ulY,lrX,lrY)\n",
    "        \n",
    "    return(m)"
   ]
  },
  {
   "cell_type": "code",
   "execution_count": 13,
   "metadata": {},
   "outputs": [],
   "source": [
    "m1 = display_bound(ds)"
   ]
  },
  {
   "cell_type": "code",
   "execution_count": 14,
   "metadata": {},
   "outputs": [
    {
     "data": {
      "text/html": [
       "<div style=\"width:100%;\"><div style=\"position:relative;width:100%;height:0;padding-bottom:60%;\"><iframe src=\"data:text/html;charset=utf-8;base64,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\" style=\"position:absolute;width:100%;height:100%;left:0;top:0;border:none !important;\" allowfullscreen webkitallowfullscreen mozallowfullscreen></iframe></div></div>"
      ],
      "text/plain": [
       "<folium.folium.Map at 0x7f87c24d8dd8>"
      ]
     },
     "execution_count": 14,
     "metadata": {},
     "output_type": "execute_result"
    }
   ],
   "source": [
    "m1"
   ]
  },
  {
   "cell_type": "code",
   "execution_count": 15,
   "metadata": {},
   "outputs": [],
   "source": [
    "x_lon_extent = (-119.44,-119.18)\n",
    "y_lat_extent = (36.80,36.96)"
   ]
  },
  {
   "cell_type": "code",
   "execution_count": 16,
   "metadata": {},
   "outputs": [],
   "source": [
    "product = 'l8_kline'\n",
    "ds = dc.find_datasets(product=product,\n",
    "             x = x_lon_extent, y =y_lat_extent,\n",
    "             output_crs = 'epsg:32610', resolution = (-30,30), \n",
    "             time = date_range, measurements = ('red') )"
   ]
  },
  {
   "cell_type": "code",
   "execution_count": 17,
   "metadata": {},
   "outputs": [
    {
     "name": "stdout",
     "output_type": "stream",
     "text": [
      "043034 20140615\n"
     ]
    }
   ],
   "source": [
    "for t in range(0,len(ds)):\n",
    "    myds = ds[t]\n",
    "    fp = myds.measurements['red']['path']\n",
    "    return_path_row(fp)"
   ]
  },
  {
   "cell_type": "code",
   "execution_count": 18,
   "metadata": {},
   "outputs": [],
   "source": [
    "m1 = display_bound(ds)"
   ]
  },
  {
   "cell_type": "code",
   "execution_count": 19,
   "metadata": {},
   "outputs": [
    {
     "data": {
      "text/html": [
       "<div style=\"width:100%;\"><div style=\"position:relative;width:100%;height:0;padding-bottom:60%;\"><iframe src=\"data:text/html;charset=utf-8;base64,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\" style=\"position:absolute;width:100%;height:100%;left:0;top:0;border:none !important;\" allowfullscreen webkitallowfullscreen mozallowfullscreen></iframe></div></div>"
      ],
      "text/plain": [
       "<folium.folium.Map at 0x7f87c24eed30>"
      ]
     },
     "execution_count": 19,
     "metadata": {},
     "output_type": "execute_result"
    }
   ],
   "source": [
    "m1"
   ]
  },
  {
   "cell_type": "code",
   "execution_count": 20,
   "metadata": {},
   "outputs": [
    {
     "name": "stderr",
     "output_type": "stream",
     "text": [
      "Failed to resolve driver datacube.plugins.io.read::s3aio\n",
      "Failed to resolve driver datacube.plugins.io.read::s3aio_test\n"
     ]
    }
   ],
   "source": [
    "product = 'l8_kline'\n",
    "myxarray = dc.load(product=product,\n",
    "             x = x_lon_extent, y =y_lat_extent,\n",
    "             output_crs = 'epsg:32610', resolution = (-30,30), \n",
    "             datasets=ds, measurements = ('red', 'green', 'blue') )"
   ]
  },
  {
   "cell_type": "code",
   "execution_count": 21,
   "metadata": {},
   "outputs": [
    {
     "data": {
      "text/plain": [
       "<xarray.Dataset>\n",
       "Dimensions:  (time: 1, x: 797, y: 623)\n",
       "Coordinates:\n",
       "  * time     (time) datetime64[ns] 2014-06-15T18:39:36.452378\n",
       "  * y        (y) float64 4.097e+06 4.097e+06 4.097e+06 ... 4.079e+06 4.079e+06\n",
       "  * x        (x) float64 8.17e+05 8.17e+05 8.17e+05 ... 8.408e+05 8.409e+05\n",
       "Data variables:\n",
       "    red      (time, y, x) int16 -9999 -9999 -9999 -9999 ... -9999 -9999 -9999\n",
       "    green    (time, y, x) int16 -9999 -9999 -9999 -9999 ... -9999 -9999 -9999\n",
       "    blue     (time, y, x) int16 -9999 -9999 -9999 -9999 ... -9999 -9999 -9999\n",
       "Attributes:\n",
       "    crs:      epsg:32610"
      ]
     },
     "execution_count": 21,
     "metadata": {},
     "output_type": "execute_result"
    }
   ],
   "source": [
    "myxarray"
   ]
  },
  {
   "cell_type": "code",
   "execution_count": 22,
   "metadata": {},
   "outputs": [
    {
     "name": "stdout",
     "output_type": "stream",
     "text": [
      "fatal error: An error occurred (404) when calling the HeadObject operation: Key \"L8/2014/043/034/LC08_T2AL_043034_20140615_20171012_01_A1/LC08_L1TP_043034_20140615_20170305_01_A1.mtl\" does not exist\r\n"
     ]
    }
   ],
   "source": [
    "! aws s3 cp s3://lsaa-test-cog/L8/2014/043/034/LC08_T2AL_043034_20140615_20171012_01_A1/LC08_L1TP_043034_20140615_20170305_01_A1.mtl /data"
   ]
  },
  {
   "cell_type": "code",
   "execution_count": 23,
   "metadata": {},
   "outputs": [
    {
     "name": "stdout",
     "output_type": "stream",
     "text": [
      "2018-06-29 03:21:40      21751 LC08_L1TP_043034_20140615_20170305_01_A1.xml\n",
      "2018-06-29 03:21:35     117413 LC08_L1TP_043034_20140615_20170305_01_A1_ANG.txt\n",
      "2018-06-29 03:21:39       8804 LC08_L1TP_043034_20140615_20170305_01_A1_MTL.txt\n",
      "2018-06-29 03:21:36      11776 LC08_L1TP_043034_20140615_20170305_01_A1_bt_band10.IMD\n",
      "2018-06-29 03:21:33   38179675 LC08_L1TP_043034_20140615_20170305_01_A1_bt_band10.TIF\n",
      "2018-06-29 03:21:38    4911719 LC08_L1TP_043034_20140615_20170305_01_A1_bt_band10.TIF.ovr\n",
      "2018-06-29 03:21:34      11776 LC08_L1TP_043034_20140615_20170305_01_A1_bt_band10_c.TIF.IMD\n",
      "2018-06-29 03:21:35      11776 LC08_L1TP_043034_20140615_20170305_01_A1_bt_band11.IMD\n",
      "2018-06-29 03:21:38   36800307 LC08_L1TP_043034_20140615_20170305_01_A1_bt_band11.TIF\n",
      "2018-06-29 03:21:33    4772453 LC08_L1TP_043034_20140615_20170305_01_A1_bt_band11.TIF.ovr\n",
      "2018-06-29 03:21:34      11776 LC08_L1TP_043034_20140615_20170305_01_A1_bt_band11_c.TIF.IMD\n",
      "2018-06-29 03:21:39    1830034 LC08_L1TP_043034_20140615_20170305_01_A1_pixel_qa.TIF\n",
      "2018-06-29 03:21:35     589584 LC08_L1TP_043034_20140615_20170305_01_A1_pixel_qa.TIF.ovr\n",
      "2018-06-29 03:21:38     306917 LC08_L1TP_043034_20140615_20170305_01_A1_radsat_qa.TIF\n",
      "2018-06-29 03:21:33      52223 LC08_L1TP_043034_20140615_20170305_01_A1_radsat_qa.TIF.ovr\n",
      "2018-06-29 03:21:33    7141478 LC08_L1TP_043034_20140615_20170305_01_A1_sensor_azimuth_band4.TIF\n",
      "2018-06-29 03:21:36    1144023 LC08_L1TP_043034_20140615_20170305_01_A1_sensor_azimuth_band4.TIF.ovr\n",
      "2018-06-29 03:21:33    1922231 LC08_L1TP_043034_20140615_20170305_01_A1_sensor_zenith_band4.TIF\n",
      "2018-06-29 03:21:35     366195 LC08_L1TP_043034_20140615_20170305_01_A1_sensor_zenith_band4.TIF.ovr\n",
      "2018-06-29 03:21:39    1819301 LC08_L1TP_043034_20140615_20170305_01_A1_solar_azimuth_band4.TIF\n",
      "2018-06-29 03:21:35     313346 LC08_L1TP_043034_20140615_20170305_01_A1_solar_azimuth_band4.TIF.ovr\n",
      "2018-06-29 03:21:39    1197652 LC08_L1TP_043034_20140615_20170305_01_A1_solar_zenith_band4.TIF\n",
      "2018-06-29 03:21:35     205555 LC08_L1TP_043034_20140615_20170305_01_A1_solar_zenith_band4.TIF.ovr\n",
      "2018-06-29 03:21:35    3792512 LC08_L1TP_043034_20140615_20170305_01_A1_sr_aerosol.TIF\n",
      "2018-06-29 03:21:36    1177881 LC08_L1TP_043034_20140615_20170305_01_A1_sr_aerosol.TIF.ovr\n",
      "2018-06-29 03:21:38   63458374 LC08_L1TP_043034_20140615_20170305_01_A1_sr_band1.TIF\n",
      "2018-06-29 03:21:34    6510888 LC08_L1TP_043034_20140615_20170305_01_A1_sr_band1.TIF.ovr\n",
      "2018-06-29 03:21:36   64796443 LC08_L1TP_043034_20140615_20170305_01_A1_sr_band2.TIF\n",
      "2018-06-29 03:21:33    6632460 LC08_L1TP_043034_20140615_20170305_01_A1_sr_band2.TIF.ovr\n",
      "2018-06-29 03:21:38   66730208 LC08_L1TP_043034_20140615_20170305_01_A1_sr_band3.TIF\n",
      "2018-06-29 03:21:33    6804726 LC08_L1TP_043034_20140615_20170305_01_A1_sr_band3.TIF.ovr\n",
      "2018-06-29 03:21:39   69465081 LC08_L1TP_043034_20140615_20170305_01_A1_sr_band4.TIF\n",
      "2018-06-29 03:21:37    7059459 LC08_L1TP_043034_20140615_20170305_01_A1_sr_band4.TIF.ovr\n",
      "2018-06-29 03:21:36   71128938 LC08_L1TP_043034_20140615_20170305_01_A1_sr_band5.TIF\n",
      "2018-06-29 03:21:39    7193269 LC08_L1TP_043034_20140615_20170305_01_A1_sr_band5.TIF.ovr\n",
      "2018-06-29 03:21:34   72656422 LC08_L1TP_043034_20140615_20170305_01_A1_sr_band6.TIF\n",
      "2018-06-29 03:21:40    7360637 LC08_L1TP_043034_20140615_20170305_01_A1_sr_band6.TIF.ovr\n",
      "2018-06-29 03:21:37   71703617 LC08_L1TP_043034_20140615_20170305_01_A1_sr_band7.TIF\n",
      "2018-06-29 03:21:34    7281470 LC08_L1TP_043034_20140615_20170305_01_A1_sr_band7.TIF.ovr\n",
      "2018-06-29 03:21:33   61350718 LC08_L1TP_043034_20140615_20170305_01_A1_toa_band1.TIF\n",
      "2018-06-29 03:21:33    6318029 LC08_L1TP_043034_20140615_20170305_01_A1_toa_band1.TIF.ovr\n",
      "2018-06-29 03:21:36   63468358 LC08_L1TP_043034_20140615_20170305_01_A1_toa_band2.TIF\n",
      "2018-06-29 03:21:36    6505005 LC08_L1TP_043034_20140615_20170305_01_A1_toa_band2.TIF.ovr\n",
      "2018-06-29 03:21:37   65706837 LC08_L1TP_043034_20140615_20170305_01_A1_toa_band3.TIF\n",
      "2018-06-29 03:21:35    6693560 LC08_L1TP_043034_20140615_20170305_01_A1_toa_band3.TIF.ovr\n",
      "2018-06-29 03:21:33   68799344 LC08_L1TP_043034_20140615_20170305_01_A1_toa_band4.TIF\n",
      "2018-06-29 03:21:35    6989052 LC08_L1TP_043034_20140615_20170305_01_A1_toa_band4.TIF.ovr\n",
      "2018-06-29 03:21:39   71016952 LC08_L1TP_043034_20140615_20170305_01_A1_toa_band5.TIF\n",
      "2018-06-29 03:21:41    7181817 LC08_L1TP_043034_20140615_20170305_01_A1_toa_band5.TIF.ovr\n",
      "2018-06-29 03:21:41   72413119 LC08_L1TP_043034_20140615_20170305_01_A1_toa_band6.TIF\n",
      "2018-06-29 03:21:35    7332752 LC08_L1TP_043034_20140615_20170305_01_A1_toa_band6.TIF.ovr\n",
      "2018-06-29 03:21:41   71299176 LC08_L1TP_043034_20140615_20170305_01_A1_toa_band7.TIF\n",
      "2018-06-29 03:21:39    7228836 LC08_L1TP_043034_20140615_20170305_01_A1_toa_band7.TIF.ovr\n",
      "2018-06-29 03:21:40   32012517 LC08_L1TP_043034_20140615_20170305_01_A1_toa_band9.TIF\n",
      "2018-06-29 03:21:35    2918542 LC08_L1TP_043034_20140615_20170305_01_A1_toa_band9.TIF.ovr\n"
     ]
    }
   ],
   "source": [
    "!aws s3 ls lsaa-test-cog/L8/2014/043/034/LC08_T2AL_043034_20140615_20171012_01_A1/"
   ]
  },
  {
   "cell_type": "code",
   "execution_count": 24,
   "metadata": {},
   "outputs": [
    {
     "name": "stdout",
     "output_type": "stream",
     "text": [
      "Completed 8.6 KiB/8.6 KiB (88.5 KiB/s) with 1 file(s) remaining\r",
      "download: s3://lsaa-test-cog/L8/2014/043/034/LC08_T2AL_043034_20140615_20171012_01_A1/LC08_L1TP_043034_20140615_20170305_01_A1_MTL.txt to ../../../../data/LC08_L1TP_043034_20140615_20170305_01_A1_MTL.txt\r\n"
     ]
    }
   ],
   "source": [
    "! aws s3 cp s3://lsaa-test-cog/L8/2014/043/034/LC08_T2AL_043034_20140615_20171012_01_A1/LC08_L1TP_043034_20140615_20170305_01_A1_MTL.txt /data"
   ]
  },
  {
   "cell_type": "code",
   "execution_count": 25,
   "metadata": {},
   "outputs": [
    {
     "name": "stdout",
     "output_type": "stream",
     "text": [
      "GROUP = L1_METADATA_FILE\r\n",
      "  GROUP = METADATA_FILE_INFO\r\n",
      "    ORIGIN = \"Image courtesy of the U.S. Geological Survey\"\r\n",
      "    REQUEST_ID = \"0701703046872_00018\"\r\n",
      "    LANDSAT_SCENE_ID = \"LC80430342014166LGN01\"\r\n",
      "    LANDSAT_PRODUCT_ID = \"LC08_L1TP_043034_20140615_20170305_01_A1\"\r\n",
      "    COLLECTION_NUMBER = 01\r\n",
      "    FILE_DATE = 2017-03-05T02:44:04Z\r\n",
      "    STATION_ID = \"LGN\"\r\n",
      "    PROCESSING_SOFTWARE_VERSION = \"LPGS_2.7.0\"\r\n",
      "  END_GROUP = METADATA_FILE_INFO\r\n",
      "  GROUP = PRODUCT_METADATA\r\n",
      "    DATA_TYPE = \"L1TP\"\r\n",
      "    COLLECTION_CATEGORY = \"A1\"\r\n",
      "    ELEVATION_SOURCE = \"GLS2000\"\r\n",
      "    OUTPUT_FORMAT = \"GEOTIFF\"\r\n",
      "    SPACECRAFT_ID = \"LANDSAT_8\"\r\n",
      "    SENSOR_ID = \"OLI_TIRS\"\r\n",
      "    WRS_PATH = 43\r\n",
      "    WRS_ROW = 34\r\n",
      "    NADIR_OFFNADIR = \"NADIR\"\r\n",
      "    TARGET_WRS_PATH = 43\r\n",
      "    TARGET_WRS_ROW = 34\r\n",
      "    DATE_ACQUIRED = 2014-06-15\r\n",
      "    SCENE_CENTER_TIME = \"18:39:36.4523780Z\"\r\n",
      "    CORNER_UL_LAT_PRODUCT = 38.30581\r\n",
      "    CORNER_UL_LON_PRODUCT = -122.40018\r\n",
      "    CORNER_UR_LAT_PRODUCT = 38.90669\r\n",
      "    CORNER_UR_LON_PRODUCT = -119.49499\r\n",
      "    CORNER_LL_LAT_PRODUCT = 36.02438\r\n",
      "    CORNER_LL_LON_PRODUCT = -121.58491\r\n",
      "    CORNER_LR_LAT_PRODUCT = 36.60744\r\n",
      "    CORNER_LR_LON_PRODUCT = -118.76185\r\n",
      "    CORNER_UL_PROJECTION_X_PRODUCT = -2257500.000\r\n",
      "    CORNER_UL_PROJECTION_Y_PRODUCT = 2012700.000\r\n",
      "    CORNER_UR_PROJECTION_X_PRODUCT = -1998000.000\r\n",
      "    CORNER_UR_PROJECTION_Y_PRODUCT = 2012700.000\r\n",
      "    CORNER_LL_PROJECTION_X_PRODUCT = -2257500.000\r\n",
      "    CORNER_LL_PROJECTION_Y_PRODUCT = 1747200.000\r\n",
      "    CORNER_LR_PROJECTION_X_PRODUCT = -1998000.000\r\n",
      "    CORNER_LR_PROJECTION_Y_PRODUCT = 1747200.000\r\n",
      "    PANCHROMATIC_LINES = 17701\r\n",
      "    PANCHROMATIC_SAMPLES = 17301\r\n",
      "    REFLECTIVE_LINES = 8851\r\n",
      "    REFLECTIVE_SAMPLES = 8651\r\n",
      "    THERMAL_LINES = 8851\r\n",
      "    THERMAL_SAMPLES = 8651\r\n",
      "    FILE_NAME_BAND_1 = \"LC08_L1TP_043034_20140615_20170305_01_A1_B1.TIF\"\r\n",
      "    FILE_NAME_BAND_2 = \"LC08_L1TP_043034_20140615_20170305_01_A1_B2.TIF\"\r\n",
      "    FILE_NAME_BAND_3 = \"LC08_L1TP_043034_20140615_20170305_01_A1_B3.TIF\"\r\n",
      "    FILE_NAME_BAND_4 = \"LC08_L1TP_043034_20140615_20170305_01_A1_B4.TIF\"\r\n",
      "    FILE_NAME_BAND_5 = \"LC08_L1TP_043034_20140615_20170305_01_A1_B5.TIF\"\r\n",
      "    FILE_NAME_BAND_6 = \"LC08_L1TP_043034_20140615_20170305_01_A1_B6.TIF\"\r\n",
      "    FILE_NAME_BAND_7 = \"LC08_L1TP_043034_20140615_20170305_01_A1_B7.TIF\"\r\n",
      "    FILE_NAME_BAND_8 = \"LC08_L1TP_043034_20140615_20170305_01_A1_B8.TIF\"\r\n",
      "    FILE_NAME_BAND_9 = \"LC08_L1TP_043034_20140615_20170305_01_A1_B9.TIF\"\r\n",
      "    FILE_NAME_BAND_10 = \"LC08_L1TP_043034_20140615_20170305_01_A1_B10.TIF\"\r\n",
      "    FILE_NAME_BAND_11 = \"LC08_L1TP_043034_20140615_20170305_01_A1_B11.TIF\"\r\n",
      "    FILE_NAME_BAND_QUALITY = \"LC08_L1TP_043034_20140615_20170305_01_A1_BQA.TIF\"\r\n",
      "    ANGLE_COEFFICIENT_FILE_NAME = \"LC08_L1TP_043034_20140615_20170305_01_A1_ANG.txt\"\r\n",
      "    METADATA_FILE_NAME = \"LC08_L1TP_043034_20140615_20170305_01_A1_MTL.txt\"\r\n",
      "    CPF_NAME = \"LC08CPF_20140401_20140630_01.01\"\r\n",
      "    BPF_NAME_OLI = \"LO8BPF20140615181532_20140615185716.01\"\r\n",
      "    BPF_NAME_TIRS = \"LT8BPF20140615180604_20140615185809.01\"\r\n",
      "    RLUT_FILE_NAME = \"LC08RLUT_20130211_20150302_01_11.h5\"\r\n",
      "  END_GROUP = PRODUCT_METADATA\r\n",
      "  GROUP = IMAGE_ATTRIBUTES\r\n",
      "    CLOUD_COVER = 6.87\r\n",
      "    CLOUD_COVER_LAND = 6.83\r\n",
      "    IMAGE_QUALITY_OLI = 9\r\n",
      "    IMAGE_QUALITY_TIRS = 9\r\n",
      "    TIRS_SSM_MODEL = \"ACTUAL\"\r\n",
      "    TIRS_SSM_POSITION_STATUS = \"NOMINAL\"\r\n",
      "    TIRS_STRAY_LIGHT_CORRECTION_SOURCE = \"TIRS\"\r\n",
      "    ROLL_ANGLE = -0.000\r\n",
      "    SUN_AZIMUTH = 122.55649873\r\n",
      "    SUN_ELEVATION = 67.24976759\r\n",
      "    EARTH_SUN_DISTANCE = 1.0157523\r\n",
      "    SATURATION_BAND_1 = \"Y\"\r\n",
      "    SATURATION_BAND_2 = \"Y\"\r\n",
      "    SATURATION_BAND_3 = \"Y\"\r\n",
      "    SATURATION_BAND_4 = \"Y\"\r\n",
      "    SATURATION_BAND_5 = \"Y\"\r\n",
      "    SATURATION_BAND_6 = \"Y\"\r\n",
      "    SATURATION_BAND_7 = \"Y\"\r\n",
      "    SATURATION_BAND_8 = \"N\"\r\n",
      "    SATURATION_BAND_9 = \"N\"\r\n",
      "    GROUND_CONTROL_POINTS_VERSION = 4\r\n",
      "    GROUND_CONTROL_POINTS_MODEL = 509\r\n",
      "    GEOMETRIC_RMSE_MODEL = 6.271\r\n",
      "    GEOMETRIC_RMSE_MODEL_Y = 4.338\r\n",
      "    GEOMETRIC_RMSE_MODEL_X = 4.529\r\n",
      "    TRUNCATION_OLI = \"UPPER\"\r\n",
      "  END_GROUP = IMAGE_ATTRIBUTES\r\n",
      "  GROUP = MIN_MAX_RADIANCE\r\n",
      "    RADIANCE_MAXIMUM_BAND_1 = 736.67139\r\n",
      "    RADIANCE_MINIMUM_BAND_1 = -60.83456\r\n",
      "    RADIANCE_MAXIMUM_BAND_2 = 754.36047\r\n",
      "    RADIANCE_MINIMUM_BAND_2 = -62.29533\r\n",
      "    RADIANCE_MAXIMUM_BAND_3 = 695.13672\r\n",
      "    RADIANCE_MINIMUM_BAND_3 = -57.40462\r\n",
      "    RADIANCE_MAXIMUM_BAND_4 = 586.17847\r\n",
      "    RADIANCE_MINIMUM_BAND_4 = -48.40681\r\n",
      "    RADIANCE_MAXIMUM_BAND_5 = 358.71198\r\n",
      "    RADIANCE_MINIMUM_BAND_5 = -29.62255\r\n",
      "    RADIANCE_MAXIMUM_BAND_6 = 89.20840\r\n",
      "    RADIANCE_MINIMUM_BAND_6 = -7.36686\r\n",
      "    RADIANCE_MAXIMUM_BAND_7 = 30.06801\r\n",
      "    RADIANCE_MINIMUM_BAND_7 = -2.48303\r\n",
      "    RADIANCE_MAXIMUM_BAND_8 = 663.39270\r\n",
      "    RADIANCE_MINIMUM_BAND_8 = -54.78318\r\n",
      "    RADIANCE_MAXIMUM_BAND_9 = 140.19276\r\n",
      "    RADIANCE_MINIMUM_BAND_9 = -11.57716\r\n",
      "    RADIANCE_MAXIMUM_BAND_10 = 22.00180\r\n",
      "    RADIANCE_MINIMUM_BAND_10 = 0.10033\r\n",
      "    RADIANCE_MAXIMUM_BAND_11 = 22.00180\r\n",
      "    RADIANCE_MINIMUM_BAND_11 = 0.10033\r\n",
      "  END_GROUP = MIN_MAX_RADIANCE\r\n",
      "  GROUP = MIN_MAX_REFLECTANCE\r\n",
      "    REFLECTANCE_MAXIMUM_BAND_1 = 1.210700\r\n",
      "    REFLECTANCE_MINIMUM_BAND_1 = -0.099980\r\n",
      "    REFLECTANCE_MAXIMUM_BAND_2 = 1.210700\r\n",
      "    REFLECTANCE_MINIMUM_BAND_2 = -0.099980\r\n",
      "    REFLECTANCE_MAXIMUM_BAND_3 = 1.210700\r\n",
      "    REFLECTANCE_MINIMUM_BAND_3 = -0.099980\r\n",
      "    REFLECTANCE_MAXIMUM_BAND_4 = 1.210700\r\n",
      "    REFLECTANCE_MINIMUM_BAND_4 = -0.099980\r\n",
      "    REFLECTANCE_MAXIMUM_BAND_5 = 1.210700\r\n",
      "    REFLECTANCE_MINIMUM_BAND_5 = -0.099980\r\n",
      "    REFLECTANCE_MAXIMUM_BAND_6 = 1.210700\r\n",
      "    REFLECTANCE_MINIMUM_BAND_6 = -0.099980\r\n",
      "    REFLECTANCE_MAXIMUM_BAND_7 = 1.210700\r\n",
      "    REFLECTANCE_MINIMUM_BAND_7 = -0.099980\r\n",
      "    REFLECTANCE_MAXIMUM_BAND_8 = 1.210700\r\n",
      "    REFLECTANCE_MINIMUM_BAND_8 = -0.099980\r\n",
      "    REFLECTANCE_MAXIMUM_BAND_9 = 1.210700\r\n",
      "    REFLECTANCE_MINIMUM_BAND_9 = -0.099980\r\n",
      "  END_GROUP = MIN_MAX_REFLECTANCE\r\n",
      "  GROUP = MIN_MAX_PIXEL_VALUE\r\n",
      "    QUANTIZE_CAL_MAX_BAND_1 = 65535\r\n",
      "    QUANTIZE_CAL_MIN_BAND_1 = 1\r\n",
      "    QUANTIZE_CAL_MAX_BAND_2 = 65535\r\n",
      "    QUANTIZE_CAL_MIN_BAND_2 = 1\r\n",
      "    QUANTIZE_CAL_MAX_BAND_3 = 65535\r\n",
      "    QUANTIZE_CAL_MIN_BAND_3 = 1\r\n",
      "    QUANTIZE_CAL_MAX_BAND_4 = 65535\r\n",
      "    QUANTIZE_CAL_MIN_BAND_4 = 1\r\n",
      "    QUANTIZE_CAL_MAX_BAND_5 = 65535\r\n",
      "    QUANTIZE_CAL_MIN_BAND_5 = 1\r\n",
      "    QUANTIZE_CAL_MAX_BAND_6 = 65535\r\n",
      "    QUANTIZE_CAL_MIN_BAND_6 = 1\r\n",
      "    QUANTIZE_CAL_MAX_BAND_7 = 65535\r\n",
      "    QUANTIZE_CAL_MIN_BAND_7 = 1\r\n",
      "    QUANTIZE_CAL_MAX_BAND_8 = 65535\r\n",
      "    QUANTIZE_CAL_MIN_BAND_8 = 1\r\n",
      "    QUANTIZE_CAL_MAX_BAND_9 = 65535\r\n",
      "    QUANTIZE_CAL_MIN_BAND_9 = 1\r\n",
      "    QUANTIZE_CAL_MAX_BAND_10 = 65535\r\n",
      "    QUANTIZE_CAL_MIN_BAND_10 = 1\r\n",
      "    QUANTIZE_CAL_MAX_BAND_11 = 65535\r\n",
      "    QUANTIZE_CAL_MIN_BAND_11 = 1\r\n",
      "  END_GROUP = MIN_MAX_PIXEL_VALUE\r\n",
      "  GROUP = RADIOMETRIC_RESCALING\r\n",
      "    RADIANCE_MULT_BAND_1 = 1.2169E-02\r\n",
      "    RADIANCE_MULT_BAND_2 = 1.2462E-02\r\n",
      "    RADIANCE_MULT_BAND_3 = 1.1483E-02\r\n",
      "    RADIANCE_MULT_BAND_4 = 9.6833E-03\r\n",
      "    RADIANCE_MULT_BAND_5 = 5.9257E-03\r\n",
      "    RADIANCE_MULT_BAND_6 = 1.4737E-03\r\n",
      "    RADIANCE_MULT_BAND_7 = 4.9670E-04\r\n",
      "    RADIANCE_MULT_BAND_8 = 1.0959E-02\r\n",
      "    RADIANCE_MULT_BAND_9 = 2.3159E-03\r\n",
      "    RADIANCE_MULT_BAND_10 = 3.3420E-04\r\n",
      "    RADIANCE_MULT_BAND_11 = 3.3420E-04\r\n",
      "    RADIANCE_ADD_BAND_1 = -60.84673\r\n",
      "    RADIANCE_ADD_BAND_2 = -62.30779\r\n",
      "    RADIANCE_ADD_BAND_3 = -57.41610\r\n",
      "    RADIANCE_ADD_BAND_4 = -48.41649\r\n",
      "    RADIANCE_ADD_BAND_5 = -29.62848\r\n",
      "    RADIANCE_ADD_BAND_6 = -7.36833\r\n",
      "    RADIANCE_ADD_BAND_7 = -2.48352\r\n",
      "    RADIANCE_ADD_BAND_8 = -54.79414\r\n",
      "    RADIANCE_ADD_BAND_9 = -11.57948\r\n",
      "    RADIANCE_ADD_BAND_10 = 0.10000\r\n",
      "    RADIANCE_ADD_BAND_11 = 0.10000\r\n",
      "    REFLECTANCE_MULT_BAND_1 = 2.0000E-05\r\n",
      "    REFLECTANCE_MULT_BAND_2 = 2.0000E-05\r\n",
      "    REFLECTANCE_MULT_BAND_3 = 2.0000E-05\r\n",
      "    REFLECTANCE_MULT_BAND_4 = 2.0000E-05\r\n",
      "    REFLECTANCE_MULT_BAND_5 = 2.0000E-05\r\n",
      "    REFLECTANCE_MULT_BAND_6 = 2.0000E-05\r\n",
      "    REFLECTANCE_MULT_BAND_7 = 2.0000E-05\r\n",
      "    REFLECTANCE_MULT_BAND_8 = 2.0000E-05\r\n",
      "    REFLECTANCE_MULT_BAND_9 = 2.0000E-05\r\n",
      "    REFLECTANCE_ADD_BAND_1 = -0.100000\r\n",
      "    REFLECTANCE_ADD_BAND_2 = -0.100000\r\n",
      "    REFLECTANCE_ADD_BAND_3 = -0.100000\r\n",
      "    REFLECTANCE_ADD_BAND_4 = -0.100000\r\n",
      "    REFLECTANCE_ADD_BAND_5 = -0.100000\r\n",
      "    REFLECTANCE_ADD_BAND_6 = -0.100000\r\n",
      "    REFLECTANCE_ADD_BAND_7 = -0.100000\r\n",
      "    REFLECTANCE_ADD_BAND_8 = -0.100000\r\n",
      "    REFLECTANCE_ADD_BAND_9 = -0.100000\r\n",
      "  END_GROUP = RADIOMETRIC_RESCALING\r\n",
      "  GROUP = TIRS_THERMAL_CONSTANTS\r\n",
      "    K1_CONSTANT_BAND_10 = 774.8853\r\n",
      "    K2_CONSTANT_BAND_10 = 1321.0789\r\n",
      "    K1_CONSTANT_BAND_11 = 480.8883\r\n",
      "    K2_CONSTANT_BAND_11 = 1201.1442\r\n",
      "  END_GROUP = TIRS_THERMAL_CONSTANTS\r\n",
      "  GROUP = PROJECTION_PARAMETERS\r\n",
      "    MAP_PROJECTION = \"AEA\"\r\n",
      "    DATUM = \"WGS84\"\r\n",
      "    ELLIPSOID = \"WGS84\"\r\n",
      "    ORIGIN_LAT = 23.00000\r\n",
      "    CENTRAL_MERIDIAN_LON = -96.00000\r\n",
      "    STANDARD_PARALLEL_1_LAT = 29.50000\r\n",
      "    STANDARD_PARALLEL_2_LAT = 45.50000\r\n",
      "    FALSE_EASTING = 0\r\n",
      "    FALSE_NORTHING = 0\r\n",
      "    GRID_CELL_SIZE_PANCHROMATIC = 15.00\r\n",
      "    GRID_CELL_SIZE_REFLECTIVE = 30.00\r\n",
      "    GRID_CELL_SIZE_THERMAL = 30.00\r\n",
      "    ORIENTATION = \"NORTH_UP\"\r\n",
      "    RESAMPLING_OPTION = \"CUBIC_CONVOLUTION\"\r\n",
      "  END_GROUP = PROJECTION_PARAMETERS\r\n",
      "END_GROUP = L1_METADATA_FILE\r\n",
      "END\r\n"
     ]
    }
   ],
   "source": [
    "cat /data/LC08_L1TP_043034_20140615_20170305_01_A1_MTL.txt"
   ]
  },
  {
   "cell_type": "markdown",
   "metadata": {},
   "source": [
    "# From the MTL\n",
    "\n",
    "- these do not match the footprint in Earth Explorer \n",
    "- What Gives?"
   ]
  },
  {
   "cell_type": "code",
   "execution_count": 26,
   "metadata": {},
   "outputs": [],
   "source": [
    "CORNER_UL_LAT_PRODUCT = 38.30581\n",
    "CORNER_UL_LON_PRODUCT = -122.40018\n",
    "CORNER_UR_LAT_PRODUCT = 38.90669\n",
    "CORNER_UR_LON_PRODUCT = -119.49499\n",
    "CORNER_LL_LAT_PRODUCT = 36.02438\n",
    "CORNER_LL_LON_PRODUCT = -121.58491\n",
    "CORNER_LR_LAT_PRODUCT = 36.60744\n",
    "CORNER_LR_LON_PRODUCT = -118.76185"
   ]
  },
  {
   "cell_type": "code",
   "execution_count": 27,
   "metadata": {},
   "outputs": [],
   "source": [
    "ulX = myds.bounds.left\n",
    "ulY = myds.bounds.top\n",
    "\n",
    "lrX = myds.bounds.right\n",
    "lrY = myds.bounds.bottom\n",
    "\n",
    "m = aea_base_map(ulX,ulY,lrX,lrY)\n",
    "\n",
    "folium.Marker([CORNER_UL_LAT_PRODUCT,CORNER_UL_LON_PRODUCT ], popup='<i>CORNER_UL</i>').add_to(m)\n",
    "folium.Marker([CORNER_UR_LAT_PRODUCT,CORNER_UR_LON_PRODUCT ], popup='<i>CORNER_UR</i>').add_to(m)\n",
    "folium.Marker([CORNER_LR_LAT_PRODUCT,CORNER_LR_LON_PRODUCT ], popup='<i>CORNER_LR</i>').add_to(m)\n",
    "\n",
    "\n",
    "m = aea_display_map(m,ulX,ulY,lrX,lrY)"
   ]
  },
  {
   "cell_type": "code",
   "execution_count": 28,
   "metadata": {},
   "outputs": [
    {
     "data": {
      "text/html": [
       "<div style=\"width:100%;\"><div style=\"position:relative;width:100%;height:0;padding-bottom:60%;\"><iframe src=\"data:text/html;charset=utf-8;base64,PCFET0NUWVBFIGh0bWw+CjxoZWFkPiAgICAKICAgIDxtZXRhIGh0dHAtZXF1aXY9ImNvbnRlbnQtdHlwZSIgY29udGVudD0idGV4dC9odG1sOyBjaGFyc2V0PVVURi04IiAvPgogICAgPHNjcmlwdD5MX1BSRUZFUl9DQU5WQVM9ZmFsc2U7IExfTk9fVE9VQ0g9ZmFsc2U7IExfRElTQUJMRV8zRD1mYWxzZTs8L3NjcmlwdD4KICAgIDxzY3JpcHQgc3JjPSJodHRwczovL2Nkbi5qc2RlbGl2ci5uZXQvbnBtL2xlYWZsZXRAMS4zLjQvZGlzdC9sZWFmbGV0LmpzIj48L3NjcmlwdD4KICAgIDxzY3JpcHQgc3JjPSJodHRwczovL2FqYXguZ29vZ2xlYXBpcy5jb20vYWpheC9saWJzL2pxdWVyeS8xLjExLjEvanF1ZXJ5Lm1pbi5qcyI+PC9zY3JpcHQ+CiAgICA8c2NyaXB0IHNyYz0iaHR0cHM6Ly9tYXhjZG4uYm9vdHN0cmFwY2RuLmNvbS9ib290c3RyYXAvMy4yLjAvanMvYm9vdHN0cmFwLm1pbi5qcyI+PC9zY3JpcHQ+CiAgICA8c2NyaXB0IHNyYz0iaHR0cHM6Ly9jZG5qcy5jbG91ZGZsYXJlLmNvbS9hamF4L2xpYnMvTGVhZmxldC5hd2Vzb21lLW1hcmtlcnMvMi4wLjIvbGVhZmxldC5hd2Vzb21lLW1hcmtlcnMuanMiPjwvc2NyaXB0PgogICAgPGxpbmsgcmVsPSJzdHlsZXNoZWV0IiBocmVmPSJodHRwczovL2Nkbi5qc2RlbGl2ci5uZXQvbnBtL2xlYWZsZXRAMS4zLjQvZGlzdC9sZWFmbGV0LmNzcyIvPgogICAgPGxpbmsgcmVsPSJzdHlsZXNoZWV0IiBocmVmPSJodHRwczovL21heGNkbi5ib290c3RyYXBjZG4uY29tL2Jvb3RzdHJhcC8zLjIuMC9jc3MvYm9vdHN0cmFwLm1pbi5jc3MiLz4KICAgIDxsaW5rIHJlbD0ic3R5bGVzaGVldCIgaHJlZj0iaHR0cHM6Ly9tYXhjZG4uYm9vdHN0cmFwY2RuLmNvbS9ib290c3RyYXAvMy4yLjAvY3NzL2Jvb3RzdHJhcC10aGVtZS5taW4uY3NzIi8+CiAgICA8bGluayByZWw9InN0eWxlc2hlZXQiIGhyZWY9Imh0dHBzOi8vbWF4Y2RuLmJvb3RzdHJhcGNkbi5jb20vZm9udC1hd2Vzb21lLzQuNi4zL2Nzcy9mb250LWF3ZXNvbWUubWluLmNzcyIvPgogICAgPGxpbmsgcmVsPSJzdHlsZXNoZWV0IiBocmVmPSJodHRwczovL2NkbmpzLmNsb3VkZmxhcmUuY29tL2FqYXgvbGlicy9MZWFmbGV0LmF3ZXNvbWUtbWFya2Vycy8yLjAuMi9sZWFmbGV0LmF3ZXNvbWUtbWFya2Vycy5jc3MiLz4KICAgIDxsaW5rIHJlbD0ic3R5bGVzaGVldCIgaHJlZj0iaHR0cHM6Ly9yYXdjZG4uZ2l0aGFjay5jb20vcHl0aG9uLXZpc3VhbGl6YXRpb24vZm9saXVtL21hc3Rlci9mb2xpdW0vdGVtcGxhdGVzL2xlYWZsZXQuYXdlc29tZS5yb3RhdGUuY3NzIi8+CiAgICA8c3R5bGU+aHRtbCwgYm9keSB7d2lkdGg6IDEwMCU7aGVpZ2h0OiAxMDAlO21hcmdpbjogMDtwYWRkaW5nOiAwO308L3N0eWxlPgogICAgPHN0eWxlPiNtYXAge3Bvc2l0aW9uOmFic29sdXRlO3RvcDowO2JvdHRvbTowO3JpZ2h0OjA7bGVmdDowO308L3N0eWxlPgogICAgCiAgICA8bWV0YSBuYW1lPSJ2aWV3cG9ydCIgY29udGVudD0id2lkdGg9ZGV2aWNlLXdpZHRoLAogICAgICAgIGluaXRpYWwtc2NhbGU9MS4wLCBtYXhpbXVtLXNjYWxlPTEuMCwgdXNlci1zY2FsYWJsZT1ubyIgLz4KICAgIDxzdHlsZT4jbWFwX2QxZjRlYzJmMjJhNjQ1NDg4NjljZmU2N2JkNDNlNDk1IHsKICAgICAgICBwb3NpdGlvbjogcmVsYXRpdmU7CiAgICAgICAgd2lkdGg6IDEwMC4wJTsKICAgICAgICBoZWlnaHQ6IDEwMC4wJTsKICAgICAgICBsZWZ0OiAwLjAlOwogICAgICAgIHRvcDogMC4wJTsKICAgICAgICB9CiAgICA8L3N0eWxlPgo8L2hlYWQ+Cjxib2R5PiAgICAKICAgIAogICAgPGRpdiBjbGFzcz0iZm9saXVtLW1hcCIgaWQ9Im1hcF9kMWY0ZWMyZjIyYTY0NTQ4ODY5Y2ZlNjdiZDQzZTQ5NSIgPjwvZGl2Pgo8L2JvZHk+CjxzY3JpcHQ+ICAgIAogICAgCiAgICAKICAgICAgICB2YXIgYm91bmRzID0gbnVsbDsKICAgIAoKICAgIHZhciBtYXBfZDFmNGVjMmYyMmE2NDU0ODg2OWNmZTY3YmQ0M2U0OTUgPSBMLm1hcCgKICAgICAgICAnbWFwX2QxZjRlYzJmMjJhNjQ1NDg4NjljZmU2N2JkNDNlNDk1JywgewogICAgICAgIGNlbnRlcjogWzM3LjQ3MDM0OTM5MjQxMTM3LCAtMTIwLjU2MDIyMDMwMzI2NjMzXSwKICAgICAgICB6b29tOiA3LAogICAgICAgIG1heEJvdW5kczogYm91bmRzLAogICAgICAgIGxheWVyczogW10sCiAgICAgICAgd29ybGRDb3B5SnVtcDogZmFsc2UsCiAgICAgICAgY3JzOiBMLkNSUy5FUFNHMzg1NywKICAgICAgICB6b29tQ29udHJvbDogdHJ1ZSwKICAgICAgICB9KTsKCiAgICAKICAgIAogICAgdmFyIHRpbGVfbGF5ZXJfNDEyMjlmMzIxMjcyNGJjMDk5OTg2NTdmMWRjMjhiODcgPSBMLnRpbGVMYXllcigKICAgICAgICAnIGh0dHA6Ly9tdDEuZ29vZ2xlLmNvbS92dC9seXJzPXkmej17en0meD17eH0meT17eX0nLAogICAgICAgIHsKICAgICAgICAiYXR0cmlidXRpb24iOiAiR29vZ2xlIiwKICAgICAgICAiZGV0ZWN0UmV0aW5hIjogZmFsc2UsCiAgICAgICAgIm1heE5hdGl2ZVpvb20iOiAxOCwKICAgICAgICAibWF4Wm9vbSI6IDE4LAogICAgICAgICJtaW5ab29tIjogMCwKICAgICAgICAibm9XcmFwIjogZmFsc2UsCiAgICAgICAgIm9wYWNpdHkiOiAxLAogICAgICAgICJzdWJkb21haW5zIjogImFiYyIsCiAgICAgICAgInRtcyI6IGZhbHNlCn0pLmFkZFRvKG1hcF9kMWY0ZWMyZjIyYTY0NTQ4ODY5Y2ZlNjdiZDQzZTQ5NSk7CiAgICAKICAgICAgICAgICAgICAgIHZhciBsYXRfbG5nX3BvcHVwXzE4MzgzZTAzMDk0MDQ4Mzg4NmFmMjgwMmYwNTYwY2I5ID0gTC5wb3B1cCgpOwogICAgICAgICAgICAgICAgZnVuY3Rpb24gbGF0TG5nUG9wKGUpIHsKICAgICAgICAgICAgICAgICAgICBsYXRfbG5nX3BvcHVwXzE4MzgzZTAzMDk0MDQ4Mzg4NmFmMjgwMmYwNTYwY2I5CiAgICAgICAgICAgICAgICAgICAgICAgIC5zZXRMYXRMbmcoZS5sYXRsbmcpCiAgICAgICAgICAgICAgICAgICAgICAgIC5zZXRDb250ZW50KCJMYXRpdHVkZTogIiArIGUubGF0bG5nLmxhdC50b0ZpeGVkKDQpICsKICAgICAgICAgICAgICAgICAgICAgICAgICAgICAgICAgICAgIjxicj5Mb25naXR1ZGU6ICIgKyBlLmxhdGxuZy5sbmcudG9GaXhlZCg0KSkKICAgICAgICAgICAgICAgICAgICAgICAgLm9wZW5PbihtYXBfZDFmNGVjMmYyMmE2NDU0ODg2OWNmZTY3YmQ0M2U0OTUpOwogICAgICAgICAgICAgICAgICAgIH0KICAgICAgICAgICAgICAgIG1hcF9kMWY0ZWMyZjIyYTY0NTQ4ODY5Y2ZlNjdiZDQzZTQ5NS5vbignY2xpY2snLCBsYXRMbmdQb3ApOwogICAgICAgICAgICAKICAgIAogICAgICAgIHZhciBtYXJrZXJfNTExNTY5ZTQwMjNlNGIwMmFlMmY2MmE1NTg0NjUyZTUgPSBMLm1hcmtlcigKICAgICAgICAgICAgWzM4LjMwNTgxLCAtMTIyLjQwMDE4XSwKICAgICAgICAgICAgewogICAgICAgICAgICAgICAgaWNvbjogbmV3IEwuSWNvbi5EZWZhdWx0KCkKICAgICAgICAgICAgICAgIH0KICAgICAgICAgICAgKS5hZGRUbyhtYXBfZDFmNGVjMmYyMmE2NDU0ODg2OWNmZTY3YmQ0M2U0OTUpOwogICAgICAgIAogICAgCiAgICAgICAgICAgIHZhciBwb3B1cF8xYjU5OWYyZDMzMWM0OWMyOTQyYzk0MTEyMDUwZGFhNSA9IEwucG9wdXAoe21heFdpZHRoOiAnMzAwJwogICAgICAgICAgICAKICAgICAgICAgICAgfSk7CgogICAgICAgICAgICAKICAgICAgICAgICAgICAgIHZhciBodG1sXzk5N2Y5YmU2OTc5ZTQyYjM5M2RjMjFhMTgwZDM5YWEyID0gJChgPGRpdiBpZD0iaHRtbF85OTdmOWJlNjk3OWU0MmIzOTNkYzIxYTE4MGQzOWFhMiIgc3R5bGU9IndpZHRoOiAxMDAuMCU7IGhlaWdodDogMTAwLjAlOyI+PGk+Q09STkVSX1VMPC9pPjwvZGl2PmApWzBdOwogICAgICAgICAgICAgICAgcG9wdXBfMWI1OTlmMmQzMzFjNDljMjk0MmM5NDExMjA1MGRhYTUuc2V0Q29udGVudChodG1sXzk5N2Y5YmU2OTc5ZTQyYjM5M2RjMjFhMTgwZDM5YWEyKTsKICAgICAgICAgICAgCgogICAgICAgICAgICBtYXJrZXJfNTExNTY5ZTQwMjNlNGIwMmFlMmY2MmE1NTg0NjUyZTUuYmluZFBvcHVwKHBvcHVwXzFiNTk5ZjJkMzMxYzQ5YzI5NDJjOTQxMTIwNTBkYWE1KQogICAgICAgICAgICA7CgogICAgICAgICAgICAKICAgICAgICAKICAgIAogICAgICAgIHZhciBtYXJrZXJfNDU0ZTdlNTZlNzlmNDc3ZDgwYzk3ZTM4MTQzZThmNTUgPSBMLm1hcmtlcigKICAgICAgICAgICAgWzM4LjkwNjY5LCAtMTE5LjQ5NDk5XSwKICAgICAgICAgICAgewogICAgICAgICAgICAgICAgaWNvbjogbmV3IEwuSWNvbi5EZWZhdWx0KCkKICAgICAgICAgICAgICAgIH0KICAgICAgICAgICAgKS5hZGRUbyhtYXBfZDFmNGVjMmYyMmE2NDU0ODg2OWNmZTY3YmQ0M2U0OTUpOwogICAgICAgIAogICAgCiAgICAgICAgICAgIHZhciBwb3B1cF8zZDllZmFhNmI2Y2E0NGQwOTQyYjMyZDMzOTMwNGFhYyA9IEwucG9wdXAoe21heFdpZHRoOiAnMzAwJwogICAgICAgICAgICAKICAgICAgICAgICAgfSk7CgogICAgICAgICAgICAKICAgICAgICAgICAgICAgIHZhciBodG1sXzkzMmY4YjZmODgyNjQ5MTI4ZDIwNzM2ZjE2YjMyMjFjID0gJChgPGRpdiBpZD0iaHRtbF85MzJmOGI2Zjg4MjY0OTEyOGQyMDczNmYxNmIzMjIxYyIgc3R5bGU9IndpZHRoOiAxMDAuMCU7IGhlaWdodDogMTAwLjAlOyI+PGk+Q09STkVSX1VSPC9pPjwvZGl2PmApWzBdOwogICAgICAgICAgICAgICAgcG9wdXBfM2Q5ZWZhYTZiNmNhNDRkMDk0MmIzMmQzMzkzMDRhYWMuc2V0Q29udGVudChodG1sXzkzMmY4YjZmODgyNjQ5MTI4ZDIwNzM2ZjE2YjMyMjFjKTsKICAgICAgICAgICAgCgogICAgICAgICAgICBtYXJrZXJfNDU0ZTdlNTZlNzlmNDc3ZDgwYzk3ZTM4MTQzZThmNTUuYmluZFBvcHVwKHBvcHVwXzNkOWVmYWE2YjZjYTQ0ZDA5NDJiMzJkMzM5MzA0YWFjKQogICAgICAgICAgICA7CgogICAgICAgICAgICAKICAgICAgICAKICAgIAogICAgICAgIHZhciBtYXJrZXJfYTUwMzBhMDE1ZWU0NDcxYWFhOWRjNDJkOGE0ZWQ0OTQgPSBMLm1hcmtlcigKICAgICAgICAgICAgWzM2LjYwNzQ0LCAtMTE4Ljc2MTg1XSwKICAgICAgICAgICAgewogICAgICAgICAgICAgICAgaWNvbjogbmV3IEwuSWNvbi5EZWZhdWx0KCkKICAgICAgICAgICAgICAgIH0KICAgICAgICAgICAgKS5hZGRUbyhtYXBfZDFmNGVjMmYyMmE2NDU0ODg2OWNmZTY3YmQ0M2U0OTUpOwogICAgICAgIAogICAgCiAgICAgICAgICAgIHZhciBwb3B1cF8zNWI2MjU1YjA3Mjg0ZTczODUzMThlNmIzMjA0MTllNSA9IEwucG9wdXAoe21heFdpZHRoOiAnMzAwJwogICAgICAgICAgICAKICAgICAgICAgICAgfSk7CgogICAgICAgICAgICAKICAgICAgICAgICAgICAgIHZhciBodG1sXzM4M2VlNjU0YjdmMTQzMGZhNmY5MjljMzgyYzJhMGE0ID0gJChgPGRpdiBpZD0iaHRtbF8zODNlZTY1NGI3ZjE0MzBmYTZmOTI5YzM4MmMyYTBhNCIgc3R5bGU9IndpZHRoOiAxMDAuMCU7IGhlaWdodDogMTAwLjAlOyI+PGk+Q09STkVSX0xSPC9pPjwvZGl2PmApWzBdOwogICAgICAgICAgICAgICAgcG9wdXBfMzViNjI1NWIwNzI4NGU3Mzg1MzE4ZTZiMzIwNDE5ZTUuc2V0Q29udGVudChodG1sXzM4M2VlNjU0YjdmMTQzMGZhNmY5MjljMzgyYzJhMGE0KTsKICAgICAgICAgICAgCgogICAgICAgICAgICBtYXJrZXJfYTUwMzBhMDE1ZWU0NDcxYWFhOWRjNDJkOGE0ZWQ0OTQuYmluZFBvcHVwKHBvcHVwXzM1YjYyNTViMDcyODRlNzM4NTMxOGU2YjMyMDQxOWU1KQogICAgICAgICAgICA7CgogICAgICAgICAgICAKICAgICAgICAKICAgIAogICAgICAgICAgICAgICAgdmFyIHBvbHlfbGluZV80ZDU4Njg3OWE0YmU0NzI1OGExZDQxMjM1ZDk5NjcwMSA9IEwucG9seWxpbmUoCiAgICAgICAgICAgICAgICAgICAgW1szOC4zMDU4MTE3NjA0ODY1MSwgLTEyMi40MDAxNzUyNDYyODMxN10sIFszOC45MDY2OTQ4ODEwMDMxMSwgLTExOS40OTQ5OTA5Njg5NTAyNV0sIFszNi42MDc0MzkzMDY5NTE1NTUsIC0xMTguNzYxODUwMzg4ODE0NTVdLCBbMzYuMDI0Mzg0MjcwMjE3Mzk2LCAtMTIxLjU4NDkxMTU2NjQ3MzE1XSwgWzM4LjMwNTgxMTc2MDQ4NjUxLCAtMTIyLjQwMDE3NTI0NjI4MzE3XV0sCiAgICAgICAgICAgICAgICAgICAgewogICJidWJibGluZ01vdXNlRXZlbnRzIjogdHJ1ZSwKICAiY29sb3IiOiAicmVkIiwKICAiZGFzaEFycmF5IjogbnVsbCwKICAiZGFzaE9mZnNldCI6IG51bGwsCiAgImZpbGwiOiBmYWxzZSwKICAiZmlsbENvbG9yIjogInJlZCIsCiAgImZpbGxPcGFjaXR5IjogMC4yLAogICJmaWxsUnVsZSI6ICJldmVub2RkIiwKICAibGluZUNhcCI6ICJyb3VuZCIsCiAgImxpbmVKb2luIjogInJvdW5kIiwKICAibm9DbGlwIjogZmFsc2UsCiAgIm9wYWNpdHkiOiAwLjgsCiAgInNtb290aEZhY3RvciI6IDEuMCwKICAic3Ryb2tlIjogdHJ1ZSwKICAid2VpZ2h0IjogMwp9CiAgICAgICAgICAgICAgICAgICAgKQogICAgICAgICAgICAgICAgICAgIC5hZGRUbyhtYXBfZDFmNGVjMmYyMmE2NDU0ODg2OWNmZTY3YmQ0M2U0OTUpOwogICAgICAgICAgICAKICAgIAogICAgICAgICAgICAgICAgdmFyIGxhdF9sbmdfcG9wdXBfZGQ0Y2M2NjM3NjY1NDU3MGEzYzgwYTAzZTkxNTEyODggPSBMLnBvcHVwKCk7CiAgICAgICAgICAgICAgICBmdW5jdGlvbiBsYXRMbmdQb3AoZSkgewogICAgICAgICAgICAgICAgICAgIGxhdF9sbmdfcG9wdXBfZGQ0Y2M2NjM3NjY1NDU3MGEzYzgwYTAzZTkxNTEyODgKICAgICAgICAgICAgICAgICAgICAgICAgLnNldExhdExuZyhlLmxhdGxuZykKICAgICAgICAgICAgICAgICAgICAgICAgLnNldENvbnRlbnQoIkxhdGl0dWRlOiAiICsgZS5sYXRsbmcubGF0LnRvRml4ZWQoNCkgKwogICAgICAgICAgICAgICAgICAgICAgICAgICAgICAgICAgICAiPGJyPkxvbmdpdHVkZTogIiArIGUubGF0bG5nLmxuZy50b0ZpeGVkKDQpKQogICAgICAgICAgICAgICAgICAgICAgICAub3Blbk9uKG1hcF9kMWY0ZWMyZjIyYTY0NTQ4ODY5Y2ZlNjdiZDQzZTQ5NSk7CiAgICAgICAgICAgICAgICAgICAgfQogICAgICAgICAgICAgICAgbWFwX2QxZjRlYzJmMjJhNjQ1NDg4NjljZmU2N2JkNDNlNDk1Lm9uKCdjbGljaycsIGxhdExuZ1BvcCk7CiAgICAgICAgICAgIAo8L3NjcmlwdD4=\" style=\"position:absolute;width:100%;height:100%;left:0;top:0;border:none !important;\" allowfullscreen webkitallowfullscreen mozallowfullscreen></iframe></div></div>"
      ],
      "text/plain": [
       "<folium.folium.Map at 0x7f87c21935f8>"
      ]
     },
     "execution_count": 28,
     "metadata": {},
     "output_type": "execute_result"
    }
   ],
   "source": [
    "m"
   ]
  },
  {
   "cell_type": "code",
   "execution_count": 29,
   "metadata": {},
   "outputs": [],
   "source": [
    "# From EarthExploreer cut and paste "
   ]
  },
  {
   "cell_type": "code",
   "execution_count": 30,
   "metadata": {},
   "outputs": [],
   "source": [
    "UL_Corner_Lat  = 38.52658\n",
    "UL_Corner_Long  = -121.36464\n",
    "UR_Corner_Lat  = 38.12722\n",
    "UR_Corner_Long  = -119.2449\n",
    "LL_Corner_Lat  = 36.80638\n",
    "LL_Corner_Long  = -121.85497\n",
    "LR_Corner_Lat  = 36.4083\n",
    "LR_Corner_Long  = -119.78328"
   ]
  },
  {
   "cell_type": "code",
   "execution_count": 31,
   "metadata": {},
   "outputs": [],
   "source": [
    "ulX = myds.bounds.left\n",
    "ulY = myds.bounds.top\n",
    "\n",
    "lrX = myds.bounds.right\n",
    "lrY = myds.bounds.bottom\n",
    "\n",
    "m = aea_base_map(ulX,ulY,lrX,lrY)\n",
    "\n",
    "folium.Marker([UL_Corner_Lat,UL_Corner_Long ], popup='<i>EE CORNER_UL</i>').add_to(m)\n",
    "folium.Marker([CORNER_UL_LAT_PRODUCT,CORNER_UL_LON_PRODUCT ], popup='<i>CORNER_UL</i>').add_to(m)\n",
    "\n",
    "folium.Marker([UR_Corner_Lat,UR_Corner_Long ], popup='<i>EE CORNER_UR</i>').add_to(m)\n",
    "folium.Marker([CORNER_UR_LAT_PRODUCT,CORNER_UR_LON_PRODUCT ], popup='<i>CORNER_UR</i>').add_to(m)\n",
    "\n",
    "folium.Marker([LR_Corner_Lat,LR_Corner_Long ], popup='<i>EE CORNER_LR</i>').add_to(m)\n",
    "folium.Marker([CORNER_LR_LAT_PRODUCT,CORNER_LR_LON_PRODUCT ], popup='<i>CORNER_LR</i>').add_to(m)\n",
    "\n",
    "\n",
    "m = aea_display_map(m,ulX,ulY,lrX,lrY)"
   ]
  },
  {
   "cell_type": "code",
   "execution_count": 32,
   "metadata": {},
   "outputs": [
    {
     "data": {
      "text/html": [
       "<div style=\"width:100%;\"><div style=\"position:relative;width:100%;height:0;padding-bottom:60%;\"><iframe src=\"data:text/html;charset=utf-8;base64,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\" style=\"position:absolute;width:100%;height:100%;left:0;top:0;border:none !important;\" allowfullscreen webkitallowfullscreen mozallowfullscreen></iframe></div></div>"
      ],
      "text/plain": [
       "<folium.folium.Map at 0x7f87c0f66828>"
      ]
     },
     "execution_count": 32,
     "metadata": {},
     "output_type": "execute_result"
    }
   ],
   "source": [
    "m"
   ]
  },
  {
   "cell_type": "code",
   "execution_count": null,
   "metadata": {},
   "outputs": [],
   "source": []
  }
 ],
 "metadata": {
  "kernelspec": {
   "display_name": "Python 3",
   "language": "python",
   "name": "python3"
  },
  "language_info": {
   "codemirror_mode": {
    "name": "ipython",
    "version": 3
   },
   "file_extension": ".py",
   "mimetype": "text/x-python",
   "name": "python",
   "nbconvert_exporter": "python",
   "pygments_lexer": "ipython3",
   "version": "3.6.7"
  }
 },
 "nbformat": 4,
 "nbformat_minor": 2
}
